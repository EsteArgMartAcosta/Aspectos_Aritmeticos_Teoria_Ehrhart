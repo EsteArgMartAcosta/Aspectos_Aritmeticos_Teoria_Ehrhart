{
  "nbformat": 4,
  "nbformat_minor": 0,
  "metadata": {
    "colab": {
      "provenance": [],
      "authorship_tag": "ABX9TyNkWWuJ0K02MrL2uvHAZhvg",
      "include_colab_link": true
    },
    "kernelspec": {
      "name": "python3",
      "display_name": "Python 3"
    },
    "language_info": {
      "name": "python"
    }
  },
  "cells": [
    {
      "cell_type": "markdown",
      "metadata": {
        "id": "view-in-github",
        "colab_type": "text"
      },
      "source": [
        "<a href=\"https://colab.research.google.com/github/EsteArgen/Aspectos_Aritmeticos_Teoria_Ehrhart/blob/main/Teor%C3%ADa_de_Ehrhart_en_SageMath_3.ipynb\" target=\"_parent\"><img src=\"https://colab.research.google.com/assets/colab-badge.svg\" alt=\"Open In Colab\"/></a>"
      ]
    },
    {
      "cell_type": "markdown",
      "source": [
        "<center>\n",
        "\n",
        "**Aspectos Aritméticos de la Teoría de Ehrhart**\n",
        "\n",
        "</center>"
      ],
      "metadata": {
        "id": "LTwpyjSWyR4m"
      }
    },
    {
      "cell_type": "markdown",
      "source": [
        "<p align=\"center\">\n",
        "    <img src=\"https://logowik.com/content/uploads/images/escudo-de-la-universidad-nacional-de-colombia-20163327.logowik.com.webp\" width=\"400\">\n",
        "</p>\n"
      ],
      "metadata": {
        "id": "2TjbHiEGyS7-"
      }
    },
    {
      "cell_type": "markdown",
      "source": [
        "<center>"
      ],
      "metadata": {
        "id": "XheuEo-myV0o"
      }
    },
    {
      "cell_type": "markdown",
      "source": [
        "<div align=\"justify\">\n",
        "\n",
        "> **Nota de agradecimiento:**\n",
        ">\n",
        "> La elaboración de este material contó con la valiosa colaboración de Sophia Elia, quien proporcionó recursos de referencia y contribuciones conceptuales significativas. Su apoyo fue fundamental para el desarrollo y estructuración de los contenidos presentados. Más información sobre su trabajo puede encontrarse en [https://sophiasage.github.io/](https://sophiasage.github.io/).\n",
        "\n",
        "</div>"
      ],
      "metadata": {
        "id": "5MOJKGcuQWJZ"
      }
    },
    {
      "cell_type": "markdown",
      "source": [
        "# **Polinomios de Ehrhart**\n"
      ],
      "metadata": {
        "id": "pulykckmzQNW"
      }
    },
    {
      "cell_type": "markdown",
      "source": [
        "<center>"
      ],
      "metadata": {
        "id": "3hEANHZ1zdfA"
      }
    },
    {
      "cell_type": "markdown",
      "source": [
        "---"
      ],
      "metadata": {
        "id": "oS6pCuc51iQP"
      }
    },
    {
      "cell_type": "markdown",
      "source": [
        "<div align=\"justify\">\n",
        "\n",
        "Sea $P \\subseteq \\mathbb{R}^n$ un politopo $d$-dimensional, podemos asumir que la red es $\\mathbb{Z}^n$ y que todos los vértices de $P$ tienen coordenadas enteras.  \n",
        "\n",
        "La función de conteo de Ehrhart $\\text{ehr}_P(k)$, evaluada en un entero positivo $k$, es igual al número de puntos con coordenadas enteras en la $k$-ésima dilatación de $P$:\n",
        "\n",
        "$$\\text{ehr}_P(k) = \\left| kP \\cap \\mathbb{Z}^n \\right|$$\n",
        "\n",
        "En 1962, Eugène Ehrhart demostró que la función de conteo de Ehrhart está dada por un polinomio racional en $k$, de grado igual a la dimensión del politopo $P$, es decir $d$:\n",
        "\n",
        "$$\\text{ehr}_P(k) = c_d \\, k^d + c_{d-1} \\, k^{d-1} + \\cdots + c_1 \\, k + c_0$$\n",
        "\n",
        "Los coeficientes del polinomio de Ehrhart tienen significado geométrico en relación con el politopo.  \n",
        "El coeficiente principal $c_d$ es igual al volumen de $P$ con respecto a su casco afín.  \n",
        "\n",
        "Por ejemplo, el coeficiente líder del polinomio de Ehrhart del tetraedro con vértices $\\{0, e_i\\}$ es $\\frac{1}{6}$.\n",
        "\n",
        "\n",
        "</div>"
      ],
      "metadata": {
        "id": "uQJSyYv2zZ3-"
      }
    },
    {
      "cell_type": "markdown",
      "source": [
        "---"
      ],
      "metadata": {
        "id": "-GbVbM6I1jLW"
      }
    },
    {
      "cell_type": "markdown",
      "source": [
        "**👨‍💻Implementación👩‍💻**"
      ],
      "metadata": {
        "id": "52E3Fy_Z2Wsh"
      }
    },
    {
      "cell_type": "code",
      "execution_count": null,
      "metadata": {
        "id": "xB982j2NyNhi"
      },
      "outputs": [],
      "source": [
        "\n",
        "P = Polyhedron(vertices = [[0,0,0],[1,0,0],[0,1,0],[0,0,1]])"
      ]
    },
    {
      "cell_type": "markdown",
      "source": [
        "**👨‍💻Implementación👩‍💻**"
      ],
      "metadata": {
        "id": "eeYdUW5p2YYk"
      }
    },
    {
      "cell_type": "code",
      "source": [
        "\n",
        "poly = P.ehrhart_polynomial()\n",
        "poly"
      ],
      "metadata": {
        "id": "vrKcUDg-1p0d"
      },
      "execution_count": null,
      "outputs": []
    },
    {
      "cell_type": "markdown",
      "source": [
        "1/6*t^3 + t^2 + 11/6*t + 1"
      ],
      "metadata": {
        "id": "W-r5T8Wf1zxS"
      }
    },
    {
      "cell_type": "markdown",
      "source": [
        "**👨‍💻Implementación👩‍💻**"
      ],
      "metadata": {
        "id": "CGMeFoo740FE"
      }
    },
    {
      "cell_type": "code",
      "source": [
        "\n",
        "points=len(P.integral_points())\n",
        "points"
      ],
      "metadata": {
        "id": "Shp-H5YR4Gd7"
      },
      "execution_count": null,
      "outputs": []
    },
    {
      "cell_type": "markdown",
      "source": [
        "4"
      ],
      "metadata": {
        "id": "J8hs0qhd4Ji5"
      }
    },
    {
      "cell_type": "markdown",
      "source": [
        "**👨‍💻Implementación👩‍💻**"
      ],
      "metadata": {
        "id": "l4_T6aMF40yA"
      }
    },
    {
      "cell_type": "code",
      "source": [
        "\n",
        "dou_points = len((2*P).integral_points())\n",
        "dou_points"
      ],
      "metadata": {
        "id": "G2fjNRA54wK4"
      },
      "execution_count": null,
      "outputs": []
    },
    {
      "cell_type": "markdown",
      "source": [
        "10"
      ],
      "metadata": {
        "id": "ubG3NEz24x9j"
      }
    },
    {
      "cell_type": "markdown",
      "source": [
        "**👨‍💻Implementación👩‍💻**"
      ],
      "metadata": {
        "id": "hTQc-O1_5Mdj"
      }
    },
    {
      "cell_type": "code",
      "source": [
        "\n",
        "P.affine_hull().volume()"
      ],
      "metadata": {
        "id": "mWD_ZToh5NND"
      },
      "execution_count": null,
      "outputs": []
    },
    {
      "cell_type": "markdown",
      "source": [
        "1/6"
      ],
      "metadata": {
        "id": "3wBRdt-P5tpT"
      }
    },
    {
      "cell_type": "markdown",
      "source": [
        "---"
      ],
      "metadata": {
        "id": "eDtNIgtk6bc7"
      }
    },
    {
      "cell_type": "markdown",
      "source": [
        "<div align=\"justify\">\n",
        "\n",
        "El segundo coeficiente es igual a la mitad del área superficial del politopo, respecto a la subred en las facetas de $P$. El coeficiente constante es uno.  \n",
        "\n",
        "</div>"
      ],
      "metadata": {
        "id": "ovkHaQlaze62"
      }
    },
    {
      "cell_type": "markdown",
      "source": [
        "**👨‍💻Implementación👩‍💻**"
      ],
      "metadata": {
        "id": "1BIozt7b6kMb"
      }
    },
    {
      "cell_type": "code",
      "source": [
        "\n",
        "surf_area = 0\n",
        "for facet in P.faces(2):\n",
        "     facet = facet.as_polyhedron()\n",
        "     surf_area += facet.affine_hull().volume()\n",
        "surf_area"
      ],
      "metadata": {
        "id": "EITboUUh6kwj"
      },
      "execution_count": null,
      "outputs": []
    },
    {
      "cell_type": "markdown",
      "source": [
        "2"
      ],
      "metadata": {
        "id": "48Q2qAa98Wj6"
      }
    },
    {
      "cell_type": "markdown",
      "source": [
        "---"
      ],
      "metadata": {
        "id": "A-zAvpSm939R"
      }
    },
    {
      "cell_type": "markdown",
      "source": [
        "<div align=\"justify\">\n",
        "\n",
        "La función `ehrhart_polynomial` admite dos argumentos: `engine` y `variable`.  \n",
        "La opción `engine` permite elegir el motor que se usará para calcular el polinomio de Ehrhart.  \n",
        "Las opciones disponibles son `'latte'` y `'normaliz'`.  \n",
        "\n",
        "Para calcular el polinomio de Ehrhart utilizando **Normaliz**, el backend del politopo debe ser `'normaliz'`.  \n",
        "El argumento `variable` puede establecerse como una cadena distinta si se desea que el polinomio esté definido en otra variable simbólica.\n",
        "\n",
        "Como ejemplo inicial, se calcula el polinomio de Ehrhart de un **símplex tridimensional**, primero usando `engine='latte'`.  \n",
        "Si no se especifica el motor, el valor por defecto será `latte`.\n",
        "\n",
        "\n",
        "</div>"
      ],
      "metadata": {
        "id": "hyq_D8xCzfgL"
      }
    },
    {
      "cell_type": "markdown",
      "source": [
        "---"
      ],
      "metadata": {
        "id": "vhUIxWD595SB"
      }
    },
    {
      "cell_type": "markdown",
      "source": [
        "**👨‍💻Implementación👩‍💻**"
      ],
      "metadata": {
        "id": "vKgot8fc-DnV"
      }
    },
    {
      "cell_type": "code",
      "source": [
        "\n",
        "simplex = Polyhedron(vertices=[(0,0,0),(3,3,3),(-3,2,1),(1,-1,-2)])\n",
        "poly = simplex.ehrhart_polynomial(engine = 'latte')\n",
        "poly"
      ],
      "metadata": {
        "id": "5dVBpHb_-DUX"
      },
      "execution_count": null,
      "outputs": []
    },
    {
      "cell_type": "markdown",
      "source": [
        "7/2*t^3 + 2*t^2 - 1/2*t + 1"
      ],
      "metadata": {
        "id": "hMqeIP1I-TuK"
      }
    },
    {
      "cell_type": "markdown",
      "source": [
        "**👨‍💻Implementación👩‍💻**"
      ],
      "metadata": {
        "id": "HN_8tlew-buX"
      }
    },
    {
      "cell_type": "code",
      "source": [
        "\n",
        "poly(1)"
      ],
      "metadata": {
        "id": "3tsgernP-K-b"
      },
      "execution_count": null,
      "outputs": []
    },
    {
      "cell_type": "markdown",
      "source": [
        "6"
      ],
      "metadata": {
        "id": "8x7LFPBw-qYi"
      }
    },
    {
      "cell_type": "markdown",
      "source": [
        "**👨‍💻Implementación👩‍💻**"
      ],
      "metadata": {
        "id": "u-47DHbT-cpq"
      }
    },
    {
      "cell_type": "code",
      "source": [
        "\n",
        "len(simplex.integral_points())"
      ],
      "metadata": {
        "id": "TG6WTuM_-rNY"
      },
      "execution_count": null,
      "outputs": []
    },
    {
      "cell_type": "markdown",
      "source": [
        "6"
      ],
      "metadata": {
        "id": "ZHa5EiJJ_dRC"
      }
    },
    {
      "cell_type": "markdown",
      "source": [
        "**👨‍💻Implementación👩‍💻**"
      ],
      "metadata": {
        "id": "29JRQQ-T-dNO"
      }
    },
    {
      "cell_type": "code",
      "source": [
        "\n",
        "poly(2)"
      ],
      "metadata": {
        "id": "ot7ybrZf_fZq"
      },
      "execution_count": null,
      "outputs": []
    },
    {
      "cell_type": "markdown",
      "source": [
        "36"
      ],
      "metadata": {
        "id": "lAXlNsSv_jYk"
      }
    },
    {
      "cell_type": "markdown",
      "source": [
        "**👨‍💻Implementación👩‍💻**"
      ],
      "metadata": {
        "id": "ECBEF-oE_l9F"
      }
    },
    {
      "cell_type": "code",
      "source": [
        "\n",
        "en((2*simplex).integral_points())"
      ],
      "metadata": {
        "id": "sJUX2Nvf_mjf"
      },
      "execution_count": null,
      "outputs": []
    },
    {
      "cell_type": "markdown",
      "source": [
        "36"
      ],
      "metadata": {
        "id": "1ROb6vYR_q0i"
      }
    },
    {
      "cell_type": "markdown",
      "source": [
        "---"
      ],
      "metadata": {
        "id": "ACT0xdNZ_8Ta"
      }
    },
    {
      "cell_type": "markdown",
      "source": [
        "<div align=\"justify\">\n",
        "\n",
        "Ahora calculamos el mismo polinomio de Ehrhart, esta vez utilizando `engine='normaliz'`. Para poder usar el motor **Normaliz**, el símplex debe ser definido con `backend='normaliz'`.\n",
        "\n",
        "\n",
        "</div>"
      ],
      "metadata": {
        "id": "mCZAMnoTzf36"
      }
    },
    {
      "cell_type": "markdown",
      "source": [
        "---"
      ],
      "metadata": {
        "id": "szOZvUDs_-es"
      }
    },
    {
      "cell_type": "markdown",
      "source": [
        "**👨‍💻Implementación👩‍💻**"
      ],
      "metadata": {
        "id": "85QyDEvDAZ2o"
      }
    },
    {
      "cell_type": "code",
      "source": [
        "\n",
        "simplex = Polyhedron(vertices=[(0,0,0),(3,3,3),(-3,2,1),(1,-1,-2)], backend='normaliz')\n",
        "poly = simplex.ehrhart_polynomial(engine = 'normaliz')\n",
        "poly"
      ],
      "metadata": {
        "id": "ji0dwueMAaw_"
      },
      "execution_count": null,
      "outputs": []
    },
    {
      "cell_type": "markdown",
      "source": [
        "7/2*t^3 + 2*t^2 - 1/2*t + 1"
      ],
      "metadata": {
        "id": "5VFa05zaAsVc"
      }
    },
    {
      "cell_type": "markdown",
      "source": [
        "---"
      ],
      "metadata": {
        "id": "oSHPOv9XA8Ab"
      }
    },
    {
      "cell_type": "markdown",
      "source": [
        "<div align=\"justify\">\n",
        "\n",
        "\n",
        "Si se utiliza `engine='normaliz'`, entonces el `backend` también debe ser `'normaliz'`; de lo contrario, se generará un error.\n",
        "\n",
        "</div>"
      ],
      "metadata": {
        "id": "91b7GYhKzghQ"
      }
    },
    {
      "cell_type": "markdown",
      "source": [
        "---"
      ],
      "metadata": {
        "id": "DcmWDs4VA9Lp"
      }
    },
    {
      "cell_type": "markdown",
      "source": [
        "**👨‍💻Implementación👩‍💻**"
      ],
      "metadata": {
        "id": "kcT39_ydBE9T"
      }
    },
    {
      "cell_type": "code",
      "source": [
        "\n",
        "sage: simplex = Polyhedron(vertices=[(0,0,0),(3,3,3),(-3,2,1),(1,-1,-2)])\n",
        "sage: simplex.ehrhart_polynomial(engine='normaliz')"
      ],
      "metadata": {
        "id": "eZXlBrjKBFg7"
      },
      "execution_count": null,
      "outputs": []
    },
    {
      "cell_type": "markdown",
      "source": [
        "Traceback (most recent call last):\n",
        "\n",
        "...\n",
        "\n",
        "TypeError: The polyhedron's backend should be 'normaliz'"
      ],
      "metadata": {
        "id": "ztiCk95rBOuo"
      }
    },
    {
      "cell_type": "markdown",
      "source": [
        "---"
      ],
      "metadata": {
        "id": "OJAi-tWqBhWE"
      }
    },
    {
      "cell_type": "markdown",
      "source": [
        "<div align=\"justify\">\n",
        "\n",
        "Ahora calculamos los polinomios de Ehrhart de los hipercubos unidad de dimensiones tres a seis. Estos se obtienen primero con `engine='latte'` y luego con `engine='normaliz'`. El grado del polinomio de Ehrhart coincide con la dimensión del hipercubo, y el coeficiente del monomio principal es igual al volumen del hipercubo unidad:\n",
        "\n",
        "\n",
        "</div>"
      ],
      "metadata": {
        "id": "4A2ltRN3BmtV"
      }
    },
    {
      "cell_type": "markdown",
      "source": [
        "---"
      ],
      "metadata": {
        "id": "BCml1m5QBirt"
      }
    },
    {
      "cell_type": "markdown",
      "source": [
        "**👨‍💻Implementación👩‍💻**"
      ],
      "metadata": {
        "id": "DpABY7I9B6Oq"
      }
    },
    {
      "cell_type": "code",
      "source": [
        "\n",
        "from itertools import product\n",
        "\n",
        "def hypercube(d):\n",
        "    return Polyhedron(vertices=list(product([0,1],repeat=d)))"
      ],
      "metadata": {
        "id": "OFlQzMEUB644"
      },
      "execution_count": null,
      "outputs": []
    },
    {
      "cell_type": "markdown",
      "source": [
        "**👨‍💻Implementación👩‍💻**"
      ],
      "metadata": {
        "id": "bXoKFkl4EYJg"
      }
    },
    {
      "cell_type": "code",
      "source": [
        "\n",
        "def hypercube(d):\n",
        "     return Polyhedron(vertices=list(product([0,1],repeat=d)),backend='normaliz') # optional - pynormaliz"
      ],
      "metadata": {
        "id": "S2ZEFlF5D_-h"
      },
      "execution_count": null,
      "outputs": []
    },
    {
      "cell_type": "markdown",
      "source": [
        "**👨‍💻Implementación👩‍💻**"
      ],
      "metadata": {
        "id": "9GccJAs5EY4a"
      }
    },
    {
      "cell_type": "code",
      "source": [
        "\n",
        "hypercube(3).ehrhart_polynomial()"
      ],
      "metadata": {
        "id": "gtHq35GNDtdx"
      },
      "execution_count": null,
      "outputs": []
    },
    {
      "cell_type": "markdown",
      "source": [
        "t^3 + 3*t^2 + 3*t + 1"
      ],
      "metadata": {
        "id": "qRRKBZKUDtyF"
      }
    },
    {
      "cell_type": "markdown",
      "source": [
        "**👨‍💻Implementación👩‍💻**"
      ],
      "metadata": {
        "id": "8tNGm27NEgUy"
      }
    },
    {
      "cell_type": "code",
      "source": [
        "\n",
        "hypercube(4).ehrhart_polynomial()"
      ],
      "metadata": {
        "id": "cqYvOqQxDzYX"
      },
      "execution_count": null,
      "outputs": []
    },
    {
      "cell_type": "markdown",
      "source": [
        "t^4 + 4*t^3 + 6*t^2 + 4*t + 1"
      ],
      "metadata": {
        "id": "kUkVbkXCD2PW"
      }
    },
    {
      "cell_type": "markdown",
      "source": [
        "**👨‍💻Implementación👩‍💻**"
      ],
      "metadata": {
        "id": "pk5Lmat0EhXb"
      }
    },
    {
      "cell_type": "code",
      "source": [
        "\n",
        "hypercube(5).ehrhart_polynomial()"
      ],
      "metadata": {
        "id": "guYzhp0KD3Rg"
      },
      "execution_count": null,
      "outputs": []
    },
    {
      "cell_type": "markdown",
      "source": [
        "t^5 + 5*t^4 + 10*t^3 + 10*t^2 + 5*t + 1"
      ],
      "metadata": {
        "id": "tFM7HW6VD6iG"
      }
    },
    {
      "cell_type": "markdown",
      "source": [
        "**👨‍💻Implementación👩‍💻**"
      ],
      "metadata": {
        "id": "LYkmyoiQEisY"
      }
    },
    {
      "cell_type": "code",
      "source": [
        "\n",
        "hypercube(6).ehrhart_polynomial()"
      ],
      "metadata": {
        "id": "hgmA8w6uDehi"
      },
      "execution_count": null,
      "outputs": []
    },
    {
      "cell_type": "markdown",
      "source": [
        "t^6 + 6*t^5 + 15*t^4 + 20*t^3 + 15*t^2 + 6*t + 1"
      ],
      "metadata": {
        "id": "jL9AHxGvD9gs"
      }
    },
    {
      "cell_type": "markdown",
      "source": [
        "**👨‍💻Implementación👩‍💻**"
      ],
      "metadata": {
        "id": "sVImR0M4EkOj"
      }
    },
    {
      "cell_type": "code",
      "source": [
        "\n",
        "hypercube(3).ehrhart_polynomial(engine='normaliz')"
      ],
      "metadata": {
        "id": "bGDD_wNXEEnA"
      },
      "execution_count": null,
      "outputs": []
    },
    {
      "cell_type": "markdown",
      "source": [
        "t^3 + 3*t^2 + 3*t + 1"
      ],
      "metadata": {
        "id": "v_Ov_ZA_EHj7"
      }
    },
    {
      "cell_type": "markdown",
      "source": [
        "**👨‍💻Implementación👩‍💻**"
      ],
      "metadata": {
        "id": "-sKDsj4bElTZ"
      }
    },
    {
      "cell_type": "code",
      "source": [
        "\n",
        "hypercube(4).ehrhart_polynomial(engine='normaliz')"
      ],
      "metadata": {
        "id": "GcNeVus4EITx"
      },
      "execution_count": null,
      "outputs": []
    },
    {
      "cell_type": "markdown",
      "source": [
        "t^4 + 4*t^3 + 6*t^2 + 4*t + 1"
      ],
      "metadata": {
        "id": "WM7CCYqbEMPt"
      }
    },
    {
      "cell_type": "markdown",
      "source": [
        "**👨‍💻Implementación👩‍💻**"
      ],
      "metadata": {
        "id": "ahtH1y-0Em27"
      }
    },
    {
      "cell_type": "code",
      "source": [
        "\n",
        "hypercube(5).ehrhart_polynomial(engine='normaliz')"
      ],
      "metadata": {
        "id": "mJMIcWO8EObn"
      },
      "execution_count": null,
      "outputs": []
    },
    {
      "cell_type": "markdown",
      "source": [
        "t^5 + 5*t^4 + 10*t^3 + 10*t^2 + 5*t + 1"
      ],
      "metadata": {
        "id": "lq6XTzD3EPG5"
      }
    },
    {
      "cell_type": "markdown",
      "source": [
        "**👨‍💻Implementación👩‍💻**"
      ],
      "metadata": {
        "id": "OXCrJSpsEnvk"
      }
    },
    {
      "cell_type": "code",
      "source": [
        "\n",
        "hypercube(6).ehrhart_polynomial(engine='normaliz')"
      ],
      "metadata": {
        "id": "o8gsl6JWDk4i"
      },
      "execution_count": null,
      "outputs": []
    },
    {
      "cell_type": "markdown",
      "source": [
        "t^6 + 6*t^5 + 15*t^4 + 20*t^3 + 15*t^2 + 6*t + 1"
      ],
      "metadata": {
        "id": "xPx2vS1gET_y"
      }
    },
    {
      "cell_type": "markdown",
      "source": [
        "---"
      ],
      "metadata": {
        "id": "8OgJoJRsE405"
      }
    },
    {
      "cell_type": "markdown",
      "source": [
        "<div align=\"justify\">\n",
        "\n",
        "Un politopo vacío:\n",
        "\n",
        "\n",
        "</div>"
      ],
      "metadata": {
        "id": "ZyeEMi9VBqgc"
      }
    },
    {
      "cell_type": "markdown",
      "source": [
        "---"
      ],
      "metadata": {
        "id": "lYZxpIGHE5-W"
      }
    },
    {
      "cell_type": "markdown",
      "source": [
        "**👨‍💻Implementación👩‍💻**"
      ],
      "metadata": {
        "id": "FWSrQt0pFDhK"
      }
    },
    {
      "cell_type": "code",
      "source": [
        "\n",
        "P = Polyhedron(ambient_dim=3, vertices=[])\n",
        "P.ehrhart_polynomial()"
      ],
      "metadata": {
        "id": "RpP873ArFBbp"
      },
      "execution_count": null,
      "outputs": []
    },
    {
      "cell_type": "markdown",
      "source": [
        "0"
      ],
      "metadata": {
        "id": "_4kDS_frFMjV"
      }
    },
    {
      "cell_type": "markdown",
      "source": [
        "**👨‍💻Implementación👩‍💻**"
      ],
      "metadata": {
        "id": "ZjCaYqBxFVu7"
      }
    },
    {
      "cell_type": "code",
      "source": [
        "\n",
        "parent(_)"
      ],
      "metadata": {
        "id": "1nhJuRGbFQJH"
      },
      "execution_count": null,
      "outputs": []
    },
    {
      "cell_type": "markdown",
      "source": [
        "Univariate Polynomial Ring in t over Rational Field"
      ],
      "metadata": {
        "id": "LY1wimGjFTcC"
      }
    },
    {
      "cell_type": "markdown",
      "source": [
        "# **Series de Ehrhart**"
      ],
      "metadata": {
        "id": "02GzMHwFFf9Y"
      }
    },
    {
      "cell_type": "markdown",
      "source": [
        "<center>"
      ],
      "metadata": {
        "id": "jXdV4jG6Fp6W"
      }
    },
    {
      "cell_type": "markdown",
      "source": [
        "---"
      ],
      "metadata": {
        "id": "dKDR_sKFF45d"
      }
    },
    {
      "cell_type": "markdown",
      "source": [
        "<div align=\"justify\">\n",
        "\n",
        "La serie de Ehrhart de un politopo $d$-dimensional $P$ está dada por la siguiente función generadora:\n",
        "\n",
        "$$\\mathrm{Ehr}_P(t) = 1 + \\sum_{k \\geq 1} \\mathrm{ehr}_P(k) \\, t^k.$$\n",
        "\n",
        "En la serie de Ehrhart, el coeficiente de $t^k$ es igual al valor del polinomio de Ehrhart evaluado en $k$; es decir, representa el número de puntos del retículo en la $k$-ésima dilatación de $P$.  \n",
        "\n",
        "Si $P$ es un politopo de retículo, la serie de Ehrhart puede expresarse como una función racional:\n",
        "\n",
        "$$\\mathrm{Ehr}_P(t) = \\dfrac{h^*(t)}{(1 - t)^{d+1}},$$\n",
        "\n",
        "donde la expresión $h^*(t)$ en el numerador corresponde al **polinomio-$h^*$** de $P$.\n",
        "\n",
        "Podemos calcular la serie de Ehrhart de un politopo de retículo en Sage.  \n",
        "En este ejemplo, se calcula la serie de Ehrhart del octaedro.  \n",
        "\n",
        ">Nótese que el denominador es igual a $(1 - t)^4$, ya que el octaedro es un politopo de retículo de dimensión tres. Además, el numerador coincide con el vector-$h$ del octaedro, ya que este es un politopo simplicial que admite una triangulación unimodular.\n",
        "\n",
        "\n",
        "\n",
        "</div>"
      ],
      "metadata": {
        "id": "wNRVxRRVBrDT"
      }
    },
    {
      "cell_type": "markdown",
      "source": [
        "---"
      ],
      "metadata": {
        "id": "W-khz-MzF63N"
      }
    },
    {
      "cell_type": "markdown",
      "source": [
        "**👨‍💻Implementación👩‍💻**"
      ],
      "metadata": {
        "id": "vN4qucXbGy1E"
      }
    },
    {
      "cell_type": "code",
      "source": [
        "\n",
        "Oct = polytopes.octahedron(backend='normaliz')\n",
        "Oct"
      ],
      "metadata": {
        "id": "bxs3nEIeGzik"
      },
      "execution_count": null,
      "outputs": []
    },
    {
      "cell_type": "markdown",
      "source": [
        "A 3-dimensional polyhedron in ZZ^3 defined as the convex hull of 6 vertices"
      ],
      "metadata": {
        "id": "y9Y3CEZhHBnt"
      }
    },
    {
      "cell_type": "markdown",
      "source": [
        "**👨‍💻Implementación👩‍💻**"
      ],
      "metadata": {
        "id": "Y69xGCE4HrEt"
      }
    },
    {
      "cell_type": "code",
      "source": [
        "\n",
        "ehr_ser = Oct.ehrhart_series()\n",
        "ehr_ser"
      ],
      "metadata": {
        "id": "F_snbCsRG8bD"
      },
      "execution_count": null,
      "outputs": []
    },
    {
      "cell_type": "markdown",
      "source": [
        "(t^3 + 3*t^2 + 3*t + 1)/(t^4 - 4*t^3 + 6*t^2 - 4*t + 1)"
      ],
      "metadata": {
        "id": "Ob-uZ_xHHGZa"
      }
    },
    {
      "cell_type": "markdown",
      "source": [
        "---"
      ],
      "metadata": {
        "id": "62eHNyt5HurU"
      }
    },
    {
      "cell_type": "markdown",
      "source": [
        "<div align=\"justify\">\n",
        "\n",
        "La serie de Ehrhart es una herramienta especialmente útil y puede emplearse para demostrar la polinomialidad de la función de conteo de Ehrhart. Al trabajar con politopos racionales, a menudo resulta más conveniente utilizar la serie de Ehrhart, ya que se evita tener que manipular múltiples polinomios.\n",
        "\n",
        "En el caso de politopos racionales, el denominador ya no posee una expresión tan sencilla:  \n",
        "es un producto de términos de la forma $(1 - t^i)$, donde $i$ es un número entero.\n",
        "\n",
        "Como ejemplo, consideremos la serie de Ehrhart del segmento de recta $[0, \\, 1/2]$.\n",
        "\n",
        "\n",
        "\n",
        "</div>"
      ],
      "metadata": {
        "id": "SJS6efFuBrdr"
      }
    },
    {
      "cell_type": "markdown",
      "source": [
        "---"
      ],
      "metadata": {
        "id": "2MwRNhlPHv8Z"
      }
    },
    {
      "cell_type": "markdown",
      "source": [
        "**👨‍💻Implementación👩‍💻**"
      ],
      "metadata": {
        "id": "k5T7N3VjIW2R"
      }
    },
    {
      "cell_type": "code",
      "source": [
        "\n",
        "LS = Polyhedron(vertices = [[0],[1/2]],backend = 'normaliz')\n",
        "LS"
      ],
      "metadata": {
        "id": "6Yl7J26HIZvX"
      },
      "execution_count": null,
      "outputs": []
    },
    {
      "cell_type": "markdown",
      "source": [
        "A 1-dimensional polyhedron in QQ^1 defined as the convex hull of 2 vertices"
      ],
      "metadata": {
        "id": "ewA256CbIkqn"
      }
    },
    {
      "cell_type": "markdown",
      "source": [
        "**👨‍💻Implementación👩‍💻**"
      ],
      "metadata": {
        "id": "g7y7YMcaI7Ll"
      }
    },
    {
      "cell_type": "code",
      "source": [
        "\n",
        "ehr_LS = LS.ehrhart_series()\n",
        "ehr_LS"
      ],
      "metadata": {
        "id": "hskQO1i0IoXA"
      },
      "execution_count": null,
      "outputs": []
    },
    {
      "cell_type": "markdown",
      "source": [
        "\n",
        "1/(t^3 - t^2 - t + 1)"
      ],
      "metadata": {
        "id": "06PrD-vMIqZv"
      }
    },
    {
      "cell_type": "markdown",
      "source": [
        "**👨‍💻Implementación👩‍💻**"
      ],
      "metadata": {
        "id": "Cravc2PUI771"
      }
    },
    {
      "cell_type": "code",
      "source": [
        "\n",
        "hr_LS.denominator().factor()"
      ],
      "metadata": {
        "id": "r8vPFSOyIuxM"
      },
      "execution_count": null,
      "outputs": []
    },
    {
      "cell_type": "markdown",
      "source": [
        "(t + 1) * (t - 1)^2"
      ],
      "metadata": {
        "id": "3Joqk7flIyHv"
      }
    },
    {
      "cell_type": "markdown",
      "source": [
        "---"
      ],
      "metadata": {
        "id": "iCWf5BMmJNSR"
      }
    },
    {
      "cell_type": "markdown",
      "source": [
        "<div align=\"justify\">\n",
        "\n",
        "El polinomio-$h^*$ es el numerador de la expresión racional de la serie de Ehrhart de un politopo de retículo $d$-dimensional $P$.  \n",
        "Este polinomio cumple con las siguientes propiedades notables:\n",
        "\n",
        "- $\\mathrm{ehr}_P(k) = \\sum_{i=0}^{d} h^*_i \\binom{k + d - i}{d}$  \n",
        "\n",
        "- $\\sum_{i=1}^{d} h^*_i = \\dfrac{\\mathrm{Vol}(P)}{d!}$  \n",
        "\n",
        "- $h^*_0 = 1$  \n",
        "\n",
        "- $h^*_d = \\mathrm{ehr}_P(-1) = \\left| \\mathrm{int}(P) \\cap \\mathbb{Z}^d \\right|$\n",
        "\n",
        "\n",
        "</div>"
      ],
      "metadata": {
        "id": "uAAVZgYfBry6"
      }
    },
    {
      "cell_type": "markdown",
      "source": [
        "---"
      ],
      "metadata": {
        "id": "Cve_lukuJPUj"
      }
    },
    {
      "cell_type": "markdown",
      "source": [
        "**👨‍💻Implementación👩‍💻**"
      ],
      "metadata": {
        "id": "wfC0OH10LGl7"
      }
    },
    {
      "cell_type": "code",
      "source": [
        "\n",
        "cyclicp = polytopes.cyclic_polytope(3,6, backend = 'normaliz')\n",
        "cyclicp"
      ],
      "metadata": {
        "id": "F9X3VYLkKISp"
      },
      "execution_count": null,
      "outputs": []
    },
    {
      "cell_type": "markdown",
      "source": [
        "A 3-dimensional polyhedron in QQ^3 defined as the convex hull of 6 vertices"
      ],
      "metadata": {
        "id": "5MfssTRMKjFW"
      }
    },
    {
      "cell_type": "markdown",
      "source": [
        "**👨‍💻Implementación👩‍💻**"
      ],
      "metadata": {
        "id": "6M364UonLHXr"
      }
    },
    {
      "cell_type": "code",
      "source": [
        "\n",
        "h = cyclicp.ehrhart_series().numerator()\n",
        "h"
      ],
      "metadata": {
        "id": "f3OlgeUNKkAh"
      },
      "execution_count": null,
      "outputs": []
    },
    {
      "cell_type": "markdown",
      "source": [
        "54*t^3 + 273*t^2 + 92*t + 1"
      ],
      "metadata": {
        "id": "-jbFJG3SKpBf"
      }
    },
    {
      "cell_type": "markdown",
      "source": [
        "**👨‍💻Implementación👩‍💻**"
      ],
      "metadata": {
        "id": "f-syZKNfLIeF"
      }
    },
    {
      "cell_type": "code",
      "source": [
        "\n",
        "h(1)/6"
      ],
      "metadata": {
        "id": "Dim5X81nKsf4"
      },
      "execution_count": null,
      "outputs": []
    },
    {
      "cell_type": "markdown",
      "source": [
        "70"
      ],
      "metadata": {
        "id": "FCafVv9SKwkh"
      }
    },
    {
      "cell_type": "markdown",
      "source": [
        "**👨‍💻Implementación👩‍💻**"
      ],
      "metadata": {
        "id": "r_jgWq_rLJqv"
      }
    },
    {
      "cell_type": "code",
      "source": [
        "\n",
        "cyclicp.volume()"
      ],
      "metadata": {
        "id": "UjLJg-H_KupA"
      },
      "execution_count": null,
      "outputs": []
    },
    {
      "cell_type": "markdown",
      "source": [
        "70"
      ],
      "metadata": {
        "id": "BGPO1Z0wKx2o"
      }
    },
    {
      "cell_type": "markdown",
      "source": [
        "# **Referencias Bibliográficas**"
      ],
      "metadata": {
        "id": "vxRE7z85MHbv"
      }
    },
    {
      "cell_type": "markdown",
      "source": [
        "**Referencias Bibliográficas**\n",
        "\n",
        "- Beck, M., & Robins, S. (2015). *Computing the Continuous Discretely* (2nd ed.). Springer. Undergraduate Texts in Mathematics. https://link.springer.com/book/10.1007/978-1-4939-2969-6"
      ],
      "metadata": {
        "id": "1zybVXo5BsWX"
      }
    },
    {
      "cell_type": "markdown",
      "source": [
        "<div align=\"justify\">\n",
        "\n",
        "\n",
        "\n",
        "</div>"
      ],
      "metadata": {
        "id": "qks5byy-Bsqj"
      }
    },
    {
      "cell_type": "markdown",
      "source": [
        "<div align=\"justify\">\n",
        "\n",
        "\n",
        "\n",
        "</div>"
      ],
      "metadata": {
        "id": "EbZwY1GzBtCh"
      }
    },
    {
      "cell_type": "markdown",
      "source": [
        "<div align=\"justify\">\n",
        "\n",
        "\n",
        "\n",
        "</div>"
      ],
      "metadata": {
        "id": "GT7l-jrXBten"
      }
    },
    {
      "cell_type": "markdown",
      "source": [
        "<div align=\"justify\">\n",
        "\n",
        "\n",
        "\n",
        "</div>"
      ],
      "metadata": {
        "id": "TBctCNA-Btzs"
      }
    },
    {
      "cell_type": "markdown",
      "source": [
        "<div align=\"justify\">\n",
        "\n",
        "\n",
        "\n",
        "</div>"
      ],
      "metadata": {
        "id": "Qd8Z5N7RBuJ6"
      }
    },
    {
      "cell_type": "markdown",
      "source": [
        "<div align=\"justify\">\n",
        "\n",
        "\n",
        "\n",
        "</div>"
      ],
      "metadata": {
        "id": "Qn5bYjzIBuvK"
      }
    },
    {
      "cell_type": "markdown",
      "source": [
        "<div align=\"justify\">\n",
        "\n",
        "\n",
        "\n",
        "</div>"
      ],
      "metadata": {
        "id": "oGMoQ-JIBvCM"
      }
    },
    {
      "cell_type": "markdown",
      "source": [
        "<div align=\"justify\">\n",
        "\n",
        "\n",
        "\n",
        "</div>"
      ],
      "metadata": {
        "id": "Bnt4csfUBvWr"
      }
    },
    {
      "cell_type": "markdown",
      "source": [
        "<div align=\"justify\">\n",
        "\n",
        "\n",
        "\n",
        "</div>"
      ],
      "metadata": {
        "id": "rXNA1RR_Bvy0"
      }
    },
    {
      "cell_type": "markdown",
      "source": [
        "<div align=\"justify\">\n",
        "\n",
        "\n",
        "\n",
        "</div>"
      ],
      "metadata": {
        "id": "p_DPjq8LBwS0"
      }
    },
    {
      "cell_type": "markdown",
      "source": [
        "<div align=\"justify\">\n",
        "\n",
        "\n",
        "\n",
        "</div>"
      ],
      "metadata": {
        "id": "LuJ8rIpIBwnX"
      }
    },
    {
      "cell_type": "markdown",
      "source": [
        "<div align=\"justify\">\n",
        "\n",
        "\n",
        "\n",
        "</div>"
      ],
      "metadata": {
        "id": "kkS_UsDHBw_2"
      }
    },
    {
      "cell_type": "markdown",
      "source": [
        "<div align=\"justify\">\n",
        "\n",
        "\n",
        "\n",
        "</div>"
      ],
      "metadata": {
        "id": "9vCbLmwMBxTz"
      }
    },
    {
      "cell_type": "markdown",
      "source": [
        "<div align=\"justify\">\n",
        "\n",
        "\n",
        "\n",
        "</div>"
      ],
      "metadata": {
        "id": "2u14S8hiBxx0"
      }
    },
    {
      "cell_type": "markdown",
      "source": [
        "<div align=\"justify\">\n",
        "\n",
        "\n",
        "\n",
        "</div>"
      ],
      "metadata": {
        "id": "M00T54toByEF"
      }
    }
  ]
}