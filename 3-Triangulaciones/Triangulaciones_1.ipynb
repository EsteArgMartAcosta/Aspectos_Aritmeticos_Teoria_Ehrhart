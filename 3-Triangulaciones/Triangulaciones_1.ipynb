{
  "cells": [
    {
      "cell_type": "markdown",
      "metadata": {
        "id": "view-in-github"
      },
      "source": [
        "<a href=\"https://colab.research.google.com/github/EsteArgen/Aspectos_Aritmeticos_Teoria_Ehrhart/blob/main/Triangulaciones.ipynb\" target=\"_parent\"><img src=\"https://colab.research.google.com/assets/colab-badge.svg\" alt=\"Open In Colab\"/></a>"
      ]
    },
    {
      "cell_type": "markdown",
      "metadata": {
        "id": "_1ozD24U-K4Q"
      },
      "source": [
        "<center>\n",
        "\n",
        "**Aspectos Aritméticos de la Teoría de Ehrhart**\n",
        "\n",
        "</center>"
      ]
    },
    {
      "cell_type": "markdown",
      "metadata": {
        "id": "0IRW1QdS-MVE"
      },
      "source": [
        "<p align=\"center\">\n",
        "    <img src=\"https://logowik.com/content/uploads/images/escudo-de-la-universidad-nacional-de-colombia-20163327.logowik.com.webp\" width=\"400\">\n",
        "</p>\n"
      ]
    },
    {
      "cell_type": "markdown",
      "metadata": {
        "id": "yWLCRdKi-Ph2"
      },
      "source": [
        "<center>"
      ]
    },
    {
      "cell_type": "markdown",
      "metadata": {
        "id": "iwZqKMtDPvhh"
      },
      "source": [
        "# **Preparación de los archivos**"
      ]
    },
    {
      "cell_type": "markdown",
      "metadata": {
        "id": "iqv0DTYc-w-_"
      },
      "source": [
        "**🧠Instalación paquetes🫀**"
      ]
    },
    {
      "cell_type": "code",
      "execution_count": null,
      "metadata": {
        "colab": {
          "base_uri": "https://localhost:8080/"
        },
        "id": "6jymY20QQN5E",
        "outputId": "8cd06835-4681-4ba0-9d57-94ce1812b9bf"
      },
      "outputs": [
        {
          "output_type": "stream",
          "name": "stdout",
          "text": [
            "Collecting trimesh\n",
            "  Downloading trimesh-4.6.10-py3-none-any.whl.metadata (18 kB)\n",
            "Requirement already satisfied: plotly in /usr/local/lib/python3.11/dist-packages (5.24.1)\n",
            "Collecting mapbox_earcut\n",
            "  Downloading mapbox_earcut-1.0.3-cp311-cp311-manylinux_2_17_x86_64.manylinux2014_x86_64.whl.metadata (2.2 kB)\n",
            "Requirement already satisfied: scipy in /usr/local/lib/python3.11/dist-packages (1.15.3)\n",
            "Collecting pyvista\n",
            "  Downloading pyvista-0.45.2-py3-none-any.whl.metadata (15 kB)\n",
            "Requirement already satisfied: numpy>=1.20 in /usr/local/lib/python3.11/dist-packages (from trimesh) (2.0.2)\n",
            "Requirement already satisfied: tenacity>=6.2.0 in /usr/local/lib/python3.11/dist-packages (from plotly) (9.1.2)\n",
            "Requirement already satisfied: packaging in /usr/local/lib/python3.11/dist-packages (from plotly) (25.0)\n",
            "Requirement already satisfied: matplotlib>=3.0.1 in /usr/local/lib/python3.11/dist-packages (from pyvista) (3.10.0)\n",
            "Requirement already satisfied: pillow in /usr/local/lib/python3.11/dist-packages (from pyvista) (11.2.1)\n",
            "Requirement already satisfied: pooch in /usr/local/lib/python3.11/dist-packages (from pyvista) (1.8.2)\n",
            "Collecting scooby>=0.5.1 (from pyvista)\n",
            "  Downloading scooby-0.10.1-py3-none-any.whl.metadata (15 kB)\n",
            "Requirement already satisfied: typing-extensions in /usr/local/lib/python3.11/dist-packages (from pyvista) (4.13.2)\n",
            "Collecting vtk!=9.4.0 (from pyvista)\n",
            "  Downloading vtk-9.4.2-cp311-cp311-manylinux_2_17_x86_64.manylinux2014_x86_64.whl.metadata (5.5 kB)\n",
            "Requirement already satisfied: contourpy>=1.0.1 in /usr/local/lib/python3.11/dist-packages (from matplotlib>=3.0.1->pyvista) (1.3.2)\n",
            "Requirement already satisfied: cycler>=0.10 in /usr/local/lib/python3.11/dist-packages (from matplotlib>=3.0.1->pyvista) (0.12.1)\n",
            "Requirement already satisfied: fonttools>=4.22.0 in /usr/local/lib/python3.11/dist-packages (from matplotlib>=3.0.1->pyvista) (4.58.0)\n",
            "Requirement already satisfied: kiwisolver>=1.3.1 in /usr/local/lib/python3.11/dist-packages (from matplotlib>=3.0.1->pyvista) (1.4.8)\n",
            "Requirement already satisfied: pyparsing>=2.3.1 in /usr/local/lib/python3.11/dist-packages (from matplotlib>=3.0.1->pyvista) (3.2.3)\n",
            "Requirement already satisfied: python-dateutil>=2.7 in /usr/local/lib/python3.11/dist-packages (from matplotlib>=3.0.1->pyvista) (2.9.0.post0)\n",
            "Requirement already satisfied: platformdirs>=2.5.0 in /usr/local/lib/python3.11/dist-packages (from pooch->pyvista) (4.3.8)\n",
            "Requirement already satisfied: requests>=2.19.0 in /usr/local/lib/python3.11/dist-packages (from pooch->pyvista) (2.32.3)\n",
            "Requirement already satisfied: six>=1.5 in /usr/local/lib/python3.11/dist-packages (from python-dateutil>=2.7->matplotlib>=3.0.1->pyvista) (1.17.0)\n",
            "Requirement already satisfied: charset-normalizer<4,>=2 in /usr/local/lib/python3.11/dist-packages (from requests>=2.19.0->pooch->pyvista) (3.4.2)\n",
            "Requirement already satisfied: idna<4,>=2.5 in /usr/local/lib/python3.11/dist-packages (from requests>=2.19.0->pooch->pyvista) (3.10)\n",
            "Requirement already satisfied: urllib3<3,>=1.21.1 in /usr/local/lib/python3.11/dist-packages (from requests>=2.19.0->pooch->pyvista) (2.4.0)\n",
            "Requirement already satisfied: certifi>=2017.4.17 in /usr/local/lib/python3.11/dist-packages (from requests>=2.19.0->pooch->pyvista) (2025.4.26)\n",
            "Downloading trimesh-4.6.10-py3-none-any.whl (711 kB)\n",
            "\u001b[2K   \u001b[90m━━━━━━━━━━━━━━━━━━━━━━━━━━━━━━━━━━━━━━━━\u001b[0m \u001b[32m711.2/711.2 kB\u001b[0m \u001b[31m11.1 MB/s\u001b[0m eta \u001b[36m0:00:00\u001b[0m\n",
            "\u001b[?25hDownloading mapbox_earcut-1.0.3-cp311-cp311-manylinux_2_17_x86_64.manylinux2014_x86_64.whl (96 kB)\n",
            "\u001b[2K   \u001b[90m━━━━━━━━━━━━━━━━━━━━━━━━━━━━━━━━━━━━━━━━\u001b[0m \u001b[32m97.0/97.0 kB\u001b[0m \u001b[31m5.9 MB/s\u001b[0m eta \u001b[36m0:00:00\u001b[0m\n",
            "\u001b[?25hDownloading pyvista-0.45.2-py3-none-any.whl (2.4 MB)\n",
            "\u001b[2K   \u001b[90m━━━━━━━━━━━━━━━━━━━━━━━━━━━━━━━━━━━━━━━━\u001b[0m \u001b[32m2.4/2.4 MB\u001b[0m \u001b[31m60.8 MB/s\u001b[0m eta \u001b[36m0:00:00\u001b[0m\n",
            "\u001b[?25hDownloading scooby-0.10.1-py3-none-any.whl (18 kB)\n",
            "Downloading vtk-9.4.2-cp311-cp311-manylinux_2_17_x86_64.manylinux2014_x86_64.whl (105.0 MB)\n",
            "\u001b[2K   \u001b[90m━━━━━━━━━━━━━━━━━━━━━━━━━━━━━━━━━━━━━━━━\u001b[0m \u001b[32m105.0/105.0 MB\u001b[0m \u001b[31m10.4 MB/s\u001b[0m eta \u001b[36m0:00:00\u001b[0m\n",
            "\u001b[?25hInstalling collected packages: trimesh, scooby, mapbox_earcut, vtk, pyvista\n",
            "Successfully installed mapbox_earcut-1.0.3 pyvista-0.45.2 scooby-0.10.1 trimesh-4.6.10 vtk-9.4.2\n"
          ]
        }
      ],
      "source": [
        "\n",
        "!pip install trimesh plotly mapbox_earcut scipy pyvista"
      ]
    },
    {
      "cell_type": "markdown",
      "metadata": {
        "id": "7lWa8xM2_DBV"
      },
      "source": [
        "**🖇️Conectar con Google Drive🔌**"
      ]
    },
    {
      "cell_type": "code",
      "execution_count": null,
      "metadata": {
        "colab": {
          "base_uri": "https://localhost:8080/"
        },
        "id": "vyAEM8twd0yA",
        "outputId": "4f55f79b-541c-4b51-d164-4091ee6224b2"
      },
      "outputs": [
        {
          "output_type": "stream",
          "name": "stdout",
          "text": [
            "Mounted at /content/drive\n"
          ]
        }
      ],
      "source": [
        "\n",
        "from google.colab import drive\n",
        "drive.mount('/content/drive')"
      ]
    },
    {
      "cell_type": "markdown",
      "metadata": {
        "id": "lcXYsPGN_GOo"
      },
      "source": [
        "**🛤️Ruta de los archivos .obj🛣️**"
      ]
    },
    {
      "cell_type": "code",
      "execution_count": null,
      "metadata": {
        "id": "2G_cRmBZfByT"
      },
      "outputs": [],
      "source": [
        "\n",
        "ruta_obj = \"/content/drive/Shared drives/POLYTOPES/TRIANGULATIONS/dodecahedron.obj\""
      ]
    },
    {
      "cell_type": "markdown",
      "metadata": {
        "id": "UoxBSdZ2_p4i"
      },
      "source": [
        "**🗂️Módulos para convertir el archivo .obj🗳️**"
      ]
    },
    {
      "cell_type": "code",
      "execution_count": null,
      "metadata": {
        "id": "2e9Bslsu_y9o"
      },
      "outputs": [],
      "source": [
        "\n",
        "import os\n",
        "import trimesh"
      ]
    },
    {
      "cell_type": "markdown",
      "metadata": {
        "id": "5QZvAPMLAMVG"
      },
      "source": [
        "**😎Verificar existencia del archivo .obj🥸**"
      ]
    },
    {
      "cell_type": "code",
      "execution_count": null,
      "metadata": {
        "id": "27BuyKFgAR7T",
        "colab": {
          "base_uri": "https://localhost:8080/"
        },
        "outputId": "422abd83-ce79-4ca5-b97f-369a5ab7cd36"
      },
      "outputs": [
        {
          "output_type": "stream",
          "name": "stdout",
          "text": [
            "¿Archivo encontrado? True\n"
          ]
        }
      ],
      "source": [
        "\n",
        "print(\"¿Archivo encontrado?\", os.path.exists(ruta_obj))"
      ]
    },
    {
      "cell_type": "markdown",
      "metadata": {
        "id": "nGxG8D0eAagx"
      },
      "source": [
        "**🪫Cargar malla del .obj🔋**"
      ]
    },
    {
      "cell_type": "code",
      "execution_count": null,
      "metadata": {
        "id": "vGyHdt4jAeoJ",
        "colab": {
          "base_uri": "https://localhost:8080/"
        },
        "outputId": "3a254d3a-092f-4521-900a-38f56ae0c1e6"
      },
      "outputs": [
        {
          "output_type": "stream",
          "name": "stdout",
          "text": [
            "<trimesh.Trimesh(vertices.shape=(20, 3), faces.shape=(36, 3))>\n"
          ]
        }
      ],
      "source": [
        "\n",
        "mesh = trimesh.load(ruta_obj)\n",
        "print(mesh)"
      ]
    },
    {
      "cell_type": "markdown",
      "metadata": {
        "id": "9kPOWIrvQY23"
      },
      "source": [
        "# **Procesamiento del poliedro**"
      ]
    },
    {
      "cell_type": "markdown",
      "metadata": {
        "id": "vzudu8WqEiCh"
      },
      "source": [
        "**📥Importaciones📦**"
      ]
    },
    {
      "cell_type": "code",
      "execution_count": null,
      "metadata": {
        "id": "e6VOge2xQfYq"
      },
      "outputs": [],
      "source": [
        "\n",
        "import plotly.graph_objects as go\n",
        "import pyvista as pv\n",
        "import numpy as np\n",
        "import trimesh\n",
        "from trimesh import Trimesh"
      ]
    },
    {
      "cell_type": "markdown",
      "source": [
        "**👨‍💻Implementación👩‍💻**"
      ],
      "metadata": {
        "id": "HrH51ap6hSD1"
      }
    },
    {
      "cell_type": "code",
      "execution_count": null,
      "metadata": {
        "id": "kcnBTBrvQcac"
      },
      "outputs": [],
      "source": [
        "\n",
        "def mostrar_malla(mesh, titulo=\"Triangulación\"):\n",
        "    v = mesh.vertices\n",
        "    f = mesh.faces\n",
        "    fig = go.Figure(data=[go.Mesh3d(\n",
        "        x=v[:,0], y=v[:,1], z=v[:,2],\n",
        "        i=f[:,0], j=f[:,1], k=f[:,2],\n",
        "        opacity=0.5, color='lightblue'\n",
        "    )])\n",
        "    fig.update_layout(title=titulo, scene=dict(aspectmode='data'))\n",
        "    fig.show()"
      ]
    },
    {
      "cell_type": "markdown",
      "source": [
        "**👨‍💻Implementación👩‍💻**"
      ],
      "metadata": {
        "id": "KMa_0xlvhTKI"
      }
    },
    {
      "cell_type": "code",
      "execution_count": null,
      "metadata": {
        "id": "PNail6trElmH"
      },
      "outputs": [],
      "source": [
        "\n",
        "def visualizar_coloreado(mesh, titulo=\"Malla Triangulada\"):\n",
        "    v = mesh.vertices\n",
        "    f = mesh.faces\n",
        "\n",
        "    fig = go.Figure()\n",
        "\n",
        "    colores = np.random.rand(len(f), 3)\n",
        "\n",
        "    for i, tri in enumerate(f):\n",
        "        tri_vertices = v[tri]\n",
        "        fig.add_trace(go.Mesh3d(\n",
        "            x=tri_vertices[:, 0],\n",
        "            y=tri_vertices[:, 1],\n",
        "            z=tri_vertices[:, 2],\n",
        "            i=[0], j=[1], k=[2],\n",
        "            color=f'rgb({colores[i][0]*255:.0f}, {colores[i][1]*255:.0f}, {colores[i][2]*255:.0f})',\n",
        "            opacity=1.0,\n",
        "            name=f\"Face {i}\"\n",
        "        ))\n",
        "\n",
        "    fig.update_layout(title=titulo, scene=dict(aspectmode='data'), margin=dict(l=0, r=0, b=0, t=30))\n",
        "    fig.show()"
      ]
    },
    {
      "cell_type": "markdown",
      "source": [
        "**👨‍💻Implementación👩‍💻**"
      ],
      "metadata": {
        "id": "LovWQYrWhUYN"
      }
    },
    {
      "cell_type": "code",
      "execution_count": null,
      "metadata": {
        "id": "SFXETwUAEsMl"
      },
      "outputs": [],
      "source": [
        "\n",
        "def visualizar_transparente_con_bordes(mesh, titulo=\"Interior visible\"):\n",
        "\n",
        "    v = mesh.vertices\n",
        "    f = mesh.faces\n",
        "\n",
        "    fig = go.Figure(data=[go.Mesh3d(\n",
        "        x=v[:,0], y=v[:,1], z=v[:,2],\n",
        "        i=f[:,0], j=f[:,1], k=f[:,2],\n",
        "        color='lightblue', opacity=0.3,\n",
        "        name=\"Poliedro\"\n",
        "    )])\n",
        "\n",
        "    for face in f:\n",
        "        puntos = v[face]\n",
        "        edges = [(0,1), (1,2), (2,0)]\n",
        "        for a,b in edges:\n",
        "            fig.add_trace(go.Scatter3d(\n",
        "                x=[puntos[a][0], puntos[b][0]],\n",
        "                y=[puntos[a][1], puntos[b][1]],\n",
        "                z=[puntos[a][2], puntos[b][2]],\n",
        "                mode='lines',\n",
        "                line=dict(color='black', width=2),\n",
        "                showlegend=False\n",
        "            ))\n",
        "\n",
        "    fig.update_layout(title=titulo, scene=dict(aspectmode='data'), margin=dict(l=0, r=0, b=0, t=30))\n",
        "    fig.show()\n"
      ]
    },
    {
      "cell_type": "markdown",
      "source": [
        "**👨‍💻Implementación👩‍💻**"
      ],
      "metadata": {
        "id": "0ZMBbF5ehVms"
      }
    },
    {
      "cell_type": "code",
      "execution_count": null,
      "metadata": {
        "id": "vinjtbfTE3iR"
      },
      "outputs": [],
      "source": [
        "\n",
        "def tetrahedralizar_y_extraer_superficie(mesh):\n",
        "\n",
        "    faces_pv = np.hstack([[3, *face] for face in mesh.faces])\n",
        "    pv_mesh = pv.PolyData(mesh.vertices, faces_pv)\n",
        "\n",
        "    volumen = pv_mesh.delaunay_3d()\n",
        "\n",
        "    superficie = volumen.extract_surface()\n",
        "    v = np.array(superficie.points)\n",
        "    f = np.array(superficie.faces).reshape((-1, 4))[:, 1:]\n",
        "\n",
        "    return Trimesh(vertices=v, faces=f)"
      ]
    },
    {
      "cell_type": "markdown",
      "metadata": {
        "id": "_tI2l4EDResd"
      },
      "source": [
        "# **Vista principal**"
      ]
    },
    {
      "cell_type": "markdown",
      "metadata": {
        "id": "qcq2KWxpFZW5"
      },
      "source": [
        "**👨‍💻Implementación👩‍💻**"
      ]
    },
    {
      "cell_type": "code",
      "execution_count": null,
      "metadata": {
        "colab": {
          "base_uri": "https://localhost:8080/",
          "height": 542
        },
        "id": "0luBvNqTRxLI",
        "outputId": "690319a7-24af-4061-fbd9-3689fd7eb28e"
      },
      "outputs": [
        {
          "output_type": "display_data",
          "data": {
            "text/html": [
              "<html>\n",
              "<head><meta charset=\"utf-8\" /></head>\n",
              "<body>\n",
              "    <div>            <script src=\"https://cdnjs.cloudflare.com/ajax/libs/mathjax/2.7.5/MathJax.js?config=TeX-AMS-MML_SVG\"></script><script type=\"text/javascript\">if (window.MathJax && window.MathJax.Hub && window.MathJax.Hub.Config) {window.MathJax.Hub.Config({SVG: {font: \"STIX-Web\"}});}</script>                <script type=\"text/javascript\">window.PlotlyConfig = {MathJaxConfig: 'local'};</script>\n",
              "        <script charset=\"utf-8\" src=\"https://cdn.plot.ly/plotly-2.35.2.min.js\"></script>                <div id=\"4f7d3b8a-aad8-41f6-aa79-86cd1c931302\" class=\"plotly-graph-div\" style=\"height:525px; width:100%;\"></div>            <script type=\"text/javascript\">                                    window.PLOTLYENV=window.PLOTLYENV || {};                                    if (document.getElementById(\"4f7d3b8a-aad8-41f6-aa79-86cd1c931302\")) {                    Plotly.newPlot(                        \"4f7d3b8a-aad8-41f6-aa79-86cd1c931302\",                        [{\"color\":\"rgb(99, 139, 56)\",\"i\":[0],\"j\":[1],\"k\":[2],\"name\":\"Face 0\",\"opacity\":1.0,\"x\":[0.0,0.7136442,0.7978784],\"y\":[0.0,0.0,0.618034],\"z\":[1.070466,0.7978784,0.3568221],\"type\":\"mesh3d\"},{\"color\":\"rgb(22, 62, 29)\",\"i\":[0],\"j\":[1],\"k\":[2],\"name\":\"Face 1\",\"opacity\":1.0,\"x\":[0.0,0.7978784,0.1362939],\"y\":[0.0,0.618034,1.0],\"z\":[1.070466,0.3568221,0.3568221],\"type\":\"mesh3d\"},{\"color\":\"rgb(13, 142, 22)\",\"i\":[0],\"j\":[1],\"k\":[2],\"name\":\"Face 2\",\"opacity\":1.0,\"x\":[0.0,0.1362939,-0.3568221],\"y\":[0.0,1.0,0.618034],\"z\":[1.070466,0.3568221,0.7978784],\"type\":\"mesh3d\"},{\"color\":\"rgb(135, 217, 240)\",\"i\":[0],\"j\":[1],\"k\":[2],\"name\":\"Face 3\",\"opacity\":1.0,\"x\":[0.0,-0.3568221,-0.9341724],\"y\":[0.0,0.618034,0.381966],\"z\":[1.070466,0.7978784,0.3568221],\"type\":\"mesh3d\"},{\"color\":\"rgb(224, 188, 50)\",\"i\":[0],\"j\":[1],\"k\":[2],\"name\":\"Face 4\",\"opacity\":1.0,\"x\":[0.0,-0.9341724,-0.9341724],\"y\":[0.0,0.381966,-0.381966],\"z\":[1.070466,0.3568221,0.3568221],\"type\":\"mesh3d\"},{\"color\":\"rgb(159, 118, 13)\",\"i\":[0],\"j\":[1],\"k\":[2],\"name\":\"Face 5\",\"opacity\":1.0,\"x\":[0.0,-0.9341724,-0.3568221],\"y\":[0.0,-0.381966,-0.618034],\"z\":[1.070466,0.3568221,0.7978784],\"type\":\"mesh3d\"},{\"color\":\"rgb(145, 36, 79)\",\"i\":[0],\"j\":[1],\"k\":[2],\"name\":\"Face 6\",\"opacity\":1.0,\"x\":[0.0,-0.3568221,0.1362939],\"y\":[0.0,-0.618034,-1.0],\"z\":[1.070466,0.7978784,0.3568221],\"type\":\"mesh3d\"},{\"color\":\"rgb(64, 4, 167)\",\"i\":[0],\"j\":[1],\"k\":[2],\"name\":\"Face 7\",\"opacity\":1.0,\"x\":[0.0,0.1362939,0.7978784],\"y\":[0.0,-1.0,-0.618034],\"z\":[1.070466,0.3568221,0.3568221],\"type\":\"mesh3d\"},{\"color\":\"rgb(127, 121, 247)\",\"i\":[0],\"j\":[1],\"k\":[2],\"name\":\"Face 8\",\"opacity\":1.0,\"x\":[0.0,0.7978784,0.7136442],\"y\":[0.0,-0.618034,0.0],\"z\":[1.070466,0.3568221,0.7978784],\"type\":\"mesh3d\"},{\"color\":\"rgb(81, 38, 225)\",\"i\":[0],\"j\":[1],\"k\":[2],\"name\":\"Face 9\",\"opacity\":1.0,\"x\":[0.7136442,0.7978784,0.9341724],\"y\":[0.0,-0.618034,-0.381966],\"z\":[0.7978784,0.3568221,-0.3568221],\"type\":\"mesh3d\"},{\"color\":\"rgb(229, 99, 236)\",\"i\":[0],\"j\":[1],\"k\":[2],\"name\":\"Face 10\",\"opacity\":1.0,\"x\":[0.7136442,0.9341724,0.9341724],\"y\":[0.0,-0.381966,0.381966],\"z\":[0.7978784,-0.3568221,-0.3568221],\"type\":\"mesh3d\"},{\"color\":\"rgb(149, 34, 162)\",\"i\":[0],\"j\":[1],\"k\":[2],\"name\":\"Face 11\",\"opacity\":1.0,\"x\":[0.7136442,0.9341724,0.7978784],\"y\":[0.0,0.381966,0.618034],\"z\":[0.7978784,-0.3568221,0.3568221],\"type\":\"mesh3d\"},{\"color\":\"rgb(61, 22, 147)\",\"i\":[0],\"j\":[1],\"k\":[2],\"name\":\"Face 12\",\"opacity\":1.0,\"x\":[-0.3568221,0.1362939,-0.1362939],\"y\":[0.618034,1.0,1.0],\"z\":[0.7978784,0.3568221,-0.3568221],\"type\":\"mesh3d\"},{\"color\":\"rgb(150, 110, 169)\",\"i\":[0],\"j\":[1],\"k\":[2],\"name\":\"Face 13\",\"opacity\":1.0,\"x\":[-0.3568221,-0.1362939,-0.7978784],\"y\":[0.618034,1.0,0.618034],\"z\":[0.7978784,-0.3568221,-0.3568221],\"type\":\"mesh3d\"},{\"color\":\"rgb(200, 165, 116)\",\"i\":[0],\"j\":[1],\"k\":[2],\"name\":\"Face 14\",\"opacity\":1.0,\"x\":[-0.3568221,-0.7978784,-0.9341724],\"y\":[0.618034,0.618034,0.381966],\"z\":[0.7978784,-0.3568221,0.3568221],\"type\":\"mesh3d\"},{\"color\":\"rgb(182, 253, 213)\",\"i\":[0],\"j\":[1],\"k\":[2],\"name\":\"Face 15\",\"opacity\":1.0,\"x\":[-0.3568221,-0.9341724,-0.7978784],\"y\":[-0.618034,-0.381966,-0.618034],\"z\":[0.7978784,0.3568221,-0.3568221],\"type\":\"mesh3d\"},{\"color\":\"rgb(98, 144, 211)\",\"i\":[0],\"j\":[1],\"k\":[2],\"name\":\"Face 16\",\"opacity\":1.0,\"x\":[-0.3568221,-0.7978784,-0.1362939],\"y\":[-0.618034,-0.618034,-1.0],\"z\":[0.7978784,-0.3568221,-0.3568221],\"type\":\"mesh3d\"},{\"color\":\"rgb(190, 36, 190)\",\"i\":[0],\"j\":[1],\"k\":[2],\"name\":\"Face 17\",\"opacity\":1.0,\"x\":[-0.3568221,-0.1362939,0.1362939],\"y\":[-0.618034,-1.0,-1.0],\"z\":[0.7978784,-0.3568221,0.3568221],\"type\":\"mesh3d\"},{\"color\":\"rgb(94, 213, 8)\",\"i\":[0],\"j\":[1],\"k\":[2],\"name\":\"Face 18\",\"opacity\":1.0,\"x\":[0.7978784,0.9341724,0.3568221],\"y\":[0.618034,0.381966,0.618034],\"z\":[0.3568221,-0.3568221,-0.7978784],\"type\":\"mesh3d\"},{\"color\":\"rgb(31, 11, 224)\",\"i\":[0],\"j\":[1],\"k\":[2],\"name\":\"Face 19\",\"opacity\":1.0,\"x\":[0.7978784,0.3568221,-0.1362939],\"y\":[0.618034,0.618034,1.0],\"z\":[0.3568221,-0.7978784,-0.3568221],\"type\":\"mesh3d\"},{\"color\":\"rgb(29, 109, 134)\",\"i\":[0],\"j\":[1],\"k\":[2],\"name\":\"Face 20\",\"opacity\":1.0,\"x\":[0.7978784,-0.1362939,0.1362939],\"y\":[0.618034,1.0,1.0],\"z\":[0.3568221,-0.3568221,0.3568221],\"type\":\"mesh3d\"},{\"color\":\"rgb(248, 247, 16)\",\"i\":[0],\"j\":[1],\"k\":[2],\"name\":\"Face 21\",\"opacity\":1.0,\"x\":[0.7978784,0.1362939,-0.1362939],\"y\":[-0.618034,-1.0,-1.0],\"z\":[0.3568221,0.3568221,-0.3568221],\"type\":\"mesh3d\"},{\"color\":\"rgb(192, 112, 134)\",\"i\":[0],\"j\":[1],\"k\":[2],\"name\":\"Face 22\",\"opacity\":1.0,\"x\":[0.7978784,-0.1362939,0.3568221],\"y\":[-0.618034,-1.0,-0.618034],\"z\":[0.3568221,-0.3568221,-0.7978784],\"type\":\"mesh3d\"},{\"color\":\"rgb(133, 242, 62)\",\"i\":[0],\"j\":[1],\"k\":[2],\"name\":\"Face 23\",\"opacity\":1.0,\"x\":[0.7978784,0.3568221,0.9341724],\"y\":[-0.618034,-0.618034,-0.381966],\"z\":[0.3568221,-0.7978784,-0.3568221],\"type\":\"mesh3d\"},{\"color\":\"rgb(15, 75, 28)\",\"i\":[0],\"j\":[1],\"k\":[2],\"name\":\"Face 24\",\"opacity\":1.0,\"x\":[-0.9341724,-0.7978784,-0.7136442],\"y\":[0.381966,0.618034,0.0],\"z\":[0.3568221,-0.3568221,-0.7978784],\"type\":\"mesh3d\"},{\"color\":\"rgb(252, 13, 115)\",\"i\":[0],\"j\":[1],\"k\":[2],\"name\":\"Face 25\",\"opacity\":1.0,\"x\":[-0.9341724,-0.7136442,-0.7978784],\"y\":[0.381966,0.0,-0.618034],\"z\":[0.3568221,-0.7978784,-0.3568221],\"type\":\"mesh3d\"},{\"color\":\"rgb(71, 249, 254)\",\"i\":[0],\"j\":[1],\"k\":[2],\"name\":\"Face 26\",\"opacity\":1.0,\"x\":[-0.9341724,-0.7978784,-0.9341724],\"y\":[0.381966,-0.618034,-0.381966],\"z\":[0.3568221,-0.3568221,0.3568221],\"type\":\"mesh3d\"},{\"color\":\"rgb(106, 107, 202)\",\"i\":[0],\"j\":[1],\"k\":[2],\"name\":\"Face 27\",\"opacity\":1.0,\"x\":[0.9341724,0.9341724,0.3568221],\"y\":[0.381966,-0.381966,-0.618034],\"z\":[-0.3568221,-0.3568221,-0.7978784],\"type\":\"mesh3d\"},{\"color\":\"rgb(64, 28, 37)\",\"i\":[0],\"j\":[1],\"k\":[2],\"name\":\"Face 28\",\"opacity\":1.0,\"x\":[0.9341724,0.3568221,0.0],\"y\":[0.381966,-0.618034,0.0],\"z\":[-0.3568221,-0.7978784,-1.070466],\"type\":\"mesh3d\"},{\"color\":\"rgb(219, 36, 247)\",\"i\":[0],\"j\":[1],\"k\":[2],\"name\":\"Face 29\",\"opacity\":1.0,\"x\":[0.9341724,0.0,0.3568221],\"y\":[0.381966,0.0,0.618034],\"z\":[-0.3568221,-1.070466,-0.7978784],\"type\":\"mesh3d\"},{\"color\":\"rgb(23, 170, 166)\",\"i\":[0],\"j\":[1],\"k\":[2],\"name\":\"Face 30\",\"opacity\":1.0,\"x\":[-0.7978784,-0.1362939,0.3568221],\"y\":[0.618034,1.0,0.618034],\"z\":[-0.3568221,-0.3568221,-0.7978784],\"type\":\"mesh3d\"},{\"color\":\"rgb(2, 176, 247)\",\"i\":[0],\"j\":[1],\"k\":[2],\"name\":\"Face 31\",\"opacity\":1.0,\"x\":[-0.7978784,0.3568221,0.0],\"y\":[0.618034,0.618034,0.0],\"z\":[-0.3568221,-0.7978784,-1.070466],\"type\":\"mesh3d\"},{\"color\":\"rgb(105, 141, 241)\",\"i\":[0],\"j\":[1],\"k\":[2],\"name\":\"Face 32\",\"opacity\":1.0,\"x\":[-0.7978784,0.0,-0.7136442],\"y\":[0.618034,0.0,0.0],\"z\":[-0.3568221,-1.070466,-0.7978784],\"type\":\"mesh3d\"},{\"color\":\"rgb(36, 61, 1)\",\"i\":[0],\"j\":[1],\"k\":[2],\"name\":\"Face 33\",\"opacity\":1.0,\"x\":[-0.1362939,-0.7978784,-0.7136442],\"y\":[-1.0,-0.618034,0.0],\"z\":[-0.3568221,-0.3568221,-0.7978784],\"type\":\"mesh3d\"},{\"color\":\"rgb(28, 93, 122)\",\"i\":[0],\"j\":[1],\"k\":[2],\"name\":\"Face 34\",\"opacity\":1.0,\"x\":[-0.1362939,-0.7136442,0.0],\"y\":[-1.0,0.0,0.0],\"z\":[-0.3568221,-0.7978784,-1.070466],\"type\":\"mesh3d\"},{\"color\":\"rgb(122, 124, 134)\",\"i\":[0],\"j\":[1],\"k\":[2],\"name\":\"Face 35\",\"opacity\":1.0,\"x\":[-0.1362939,0.0,0.3568221],\"y\":[-1.0,0.0,-0.618034],\"z\":[-0.3568221,-1.070466,-0.7978784],\"type\":\"mesh3d\"}],                        {\"template\":{\"data\":{\"histogram2dcontour\":[{\"type\":\"histogram2dcontour\",\"colorbar\":{\"outlinewidth\":0,\"ticks\":\"\"},\"colorscale\":[[0.0,\"#0d0887\"],[0.1111111111111111,\"#46039f\"],[0.2222222222222222,\"#7201a8\"],[0.3333333333333333,\"#9c179e\"],[0.4444444444444444,\"#bd3786\"],[0.5555555555555556,\"#d8576b\"],[0.6666666666666666,\"#ed7953\"],[0.7777777777777778,\"#fb9f3a\"],[0.8888888888888888,\"#fdca26\"],[1.0,\"#f0f921\"]]}],\"choropleth\":[{\"type\":\"choropleth\",\"colorbar\":{\"outlinewidth\":0,\"ticks\":\"\"}}],\"histogram2d\":[{\"type\":\"histogram2d\",\"colorbar\":{\"outlinewidth\":0,\"ticks\":\"\"},\"colorscale\":[[0.0,\"#0d0887\"],[0.1111111111111111,\"#46039f\"],[0.2222222222222222,\"#7201a8\"],[0.3333333333333333,\"#9c179e\"],[0.4444444444444444,\"#bd3786\"],[0.5555555555555556,\"#d8576b\"],[0.6666666666666666,\"#ed7953\"],[0.7777777777777778,\"#fb9f3a\"],[0.8888888888888888,\"#fdca26\"],[1.0,\"#f0f921\"]]}],\"heatmap\":[{\"type\":\"heatmap\",\"colorbar\":{\"outlinewidth\":0,\"ticks\":\"\"},\"colorscale\":[[0.0,\"#0d0887\"],[0.1111111111111111,\"#46039f\"],[0.2222222222222222,\"#7201a8\"],[0.3333333333333333,\"#9c179e\"],[0.4444444444444444,\"#bd3786\"],[0.5555555555555556,\"#d8576b\"],[0.6666666666666666,\"#ed7953\"],[0.7777777777777778,\"#fb9f3a\"],[0.8888888888888888,\"#fdca26\"],[1.0,\"#f0f921\"]]}],\"heatmapgl\":[{\"type\":\"heatmapgl\",\"colorbar\":{\"outlinewidth\":0,\"ticks\":\"\"},\"colorscale\":[[0.0,\"#0d0887\"],[0.1111111111111111,\"#46039f\"],[0.2222222222222222,\"#7201a8\"],[0.3333333333333333,\"#9c179e\"],[0.4444444444444444,\"#bd3786\"],[0.5555555555555556,\"#d8576b\"],[0.6666666666666666,\"#ed7953\"],[0.7777777777777778,\"#fb9f3a\"],[0.8888888888888888,\"#fdca26\"],[1.0,\"#f0f921\"]]}],\"contourcarpet\":[{\"type\":\"contourcarpet\",\"colorbar\":{\"outlinewidth\":0,\"ticks\":\"\"}}],\"contour\":[{\"type\":\"contour\",\"colorbar\":{\"outlinewidth\":0,\"ticks\":\"\"},\"colorscale\":[[0.0,\"#0d0887\"],[0.1111111111111111,\"#46039f\"],[0.2222222222222222,\"#7201a8\"],[0.3333333333333333,\"#9c179e\"],[0.4444444444444444,\"#bd3786\"],[0.5555555555555556,\"#d8576b\"],[0.6666666666666666,\"#ed7953\"],[0.7777777777777778,\"#fb9f3a\"],[0.8888888888888888,\"#fdca26\"],[1.0,\"#f0f921\"]]}],\"surface\":[{\"type\":\"surface\",\"colorbar\":{\"outlinewidth\":0,\"ticks\":\"\"},\"colorscale\":[[0.0,\"#0d0887\"],[0.1111111111111111,\"#46039f\"],[0.2222222222222222,\"#7201a8\"],[0.3333333333333333,\"#9c179e\"],[0.4444444444444444,\"#bd3786\"],[0.5555555555555556,\"#d8576b\"],[0.6666666666666666,\"#ed7953\"],[0.7777777777777778,\"#fb9f3a\"],[0.8888888888888888,\"#fdca26\"],[1.0,\"#f0f921\"]]}],\"mesh3d\":[{\"type\":\"mesh3d\",\"colorbar\":{\"outlinewidth\":0,\"ticks\":\"\"}}],\"scatter\":[{\"fillpattern\":{\"fillmode\":\"overlay\",\"size\":10,\"solidity\":0.2},\"type\":\"scatter\"}],\"parcoords\":[{\"type\":\"parcoords\",\"line\":{\"colorbar\":{\"outlinewidth\":0,\"ticks\":\"\"}}}],\"scatterpolargl\":[{\"type\":\"scatterpolargl\",\"marker\":{\"colorbar\":{\"outlinewidth\":0,\"ticks\":\"\"}}}],\"bar\":[{\"error_x\":{\"color\":\"#2a3f5f\"},\"error_y\":{\"color\":\"#2a3f5f\"},\"marker\":{\"line\":{\"color\":\"#E5ECF6\",\"width\":0.5},\"pattern\":{\"fillmode\":\"overlay\",\"size\":10,\"solidity\":0.2}},\"type\":\"bar\"}],\"scattergeo\":[{\"type\":\"scattergeo\",\"marker\":{\"colorbar\":{\"outlinewidth\":0,\"ticks\":\"\"}}}],\"scatterpolar\":[{\"type\":\"scatterpolar\",\"marker\":{\"colorbar\":{\"outlinewidth\":0,\"ticks\":\"\"}}}],\"histogram\":[{\"marker\":{\"pattern\":{\"fillmode\":\"overlay\",\"size\":10,\"solidity\":0.2}},\"type\":\"histogram\"}],\"scattergl\":[{\"type\":\"scattergl\",\"marker\":{\"colorbar\":{\"outlinewidth\":0,\"ticks\":\"\"}}}],\"scatter3d\":[{\"type\":\"scatter3d\",\"line\":{\"colorbar\":{\"outlinewidth\":0,\"ticks\":\"\"}},\"marker\":{\"colorbar\":{\"outlinewidth\":0,\"ticks\":\"\"}}}],\"scattermapbox\":[{\"type\":\"scattermapbox\",\"marker\":{\"colorbar\":{\"outlinewidth\":0,\"ticks\":\"\"}}}],\"scatterternary\":[{\"type\":\"scatterternary\",\"marker\":{\"colorbar\":{\"outlinewidth\":0,\"ticks\":\"\"}}}],\"scattercarpet\":[{\"type\":\"scattercarpet\",\"marker\":{\"colorbar\":{\"outlinewidth\":0,\"ticks\":\"\"}}}],\"carpet\":[{\"aaxis\":{\"endlinecolor\":\"#2a3f5f\",\"gridcolor\":\"white\",\"linecolor\":\"white\",\"minorgridcolor\":\"white\",\"startlinecolor\":\"#2a3f5f\"},\"baxis\":{\"endlinecolor\":\"#2a3f5f\",\"gridcolor\":\"white\",\"linecolor\":\"white\",\"minorgridcolor\":\"white\",\"startlinecolor\":\"#2a3f5f\"},\"type\":\"carpet\"}],\"table\":[{\"cells\":{\"fill\":{\"color\":\"#EBF0F8\"},\"line\":{\"color\":\"white\"}},\"header\":{\"fill\":{\"color\":\"#C8D4E3\"},\"line\":{\"color\":\"white\"}},\"type\":\"table\"}],\"barpolar\":[{\"marker\":{\"line\":{\"color\":\"#E5ECF6\",\"width\":0.5},\"pattern\":{\"fillmode\":\"overlay\",\"size\":10,\"solidity\":0.2}},\"type\":\"barpolar\"}],\"pie\":[{\"automargin\":true,\"type\":\"pie\"}]},\"layout\":{\"autotypenumbers\":\"strict\",\"colorway\":[\"#636efa\",\"#EF553B\",\"#00cc96\",\"#ab63fa\",\"#FFA15A\",\"#19d3f3\",\"#FF6692\",\"#B6E880\",\"#FF97FF\",\"#FECB52\"],\"font\":{\"color\":\"#2a3f5f\"},\"hovermode\":\"closest\",\"hoverlabel\":{\"align\":\"left\"},\"paper_bgcolor\":\"white\",\"plot_bgcolor\":\"#E5ECF6\",\"polar\":{\"bgcolor\":\"#E5ECF6\",\"angularaxis\":{\"gridcolor\":\"white\",\"linecolor\":\"white\",\"ticks\":\"\"},\"radialaxis\":{\"gridcolor\":\"white\",\"linecolor\":\"white\",\"ticks\":\"\"}},\"ternary\":{\"bgcolor\":\"#E5ECF6\",\"aaxis\":{\"gridcolor\":\"white\",\"linecolor\":\"white\",\"ticks\":\"\"},\"baxis\":{\"gridcolor\":\"white\",\"linecolor\":\"white\",\"ticks\":\"\"},\"caxis\":{\"gridcolor\":\"white\",\"linecolor\":\"white\",\"ticks\":\"\"}},\"coloraxis\":{\"colorbar\":{\"outlinewidth\":0,\"ticks\":\"\"}},\"colorscale\":{\"sequential\":[[0.0,\"#0d0887\"],[0.1111111111111111,\"#46039f\"],[0.2222222222222222,\"#7201a8\"],[0.3333333333333333,\"#9c179e\"],[0.4444444444444444,\"#bd3786\"],[0.5555555555555556,\"#d8576b\"],[0.6666666666666666,\"#ed7953\"],[0.7777777777777778,\"#fb9f3a\"],[0.8888888888888888,\"#fdca26\"],[1.0,\"#f0f921\"]],\"sequentialminus\":[[0.0,\"#0d0887\"],[0.1111111111111111,\"#46039f\"],[0.2222222222222222,\"#7201a8\"],[0.3333333333333333,\"#9c179e\"],[0.4444444444444444,\"#bd3786\"],[0.5555555555555556,\"#d8576b\"],[0.6666666666666666,\"#ed7953\"],[0.7777777777777778,\"#fb9f3a\"],[0.8888888888888888,\"#fdca26\"],[1.0,\"#f0f921\"]],\"diverging\":[[0,\"#8e0152\"],[0.1,\"#c51b7d\"],[0.2,\"#de77ae\"],[0.3,\"#f1b6da\"],[0.4,\"#fde0ef\"],[0.5,\"#f7f7f7\"],[0.6,\"#e6f5d0\"],[0.7,\"#b8e186\"],[0.8,\"#7fbc41\"],[0.9,\"#4d9221\"],[1,\"#276419\"]]},\"xaxis\":{\"gridcolor\":\"white\",\"linecolor\":\"white\",\"ticks\":\"\",\"title\":{\"standoff\":15},\"zerolinecolor\":\"white\",\"automargin\":true,\"zerolinewidth\":2},\"yaxis\":{\"gridcolor\":\"white\",\"linecolor\":\"white\",\"ticks\":\"\",\"title\":{\"standoff\":15},\"zerolinecolor\":\"white\",\"automargin\":true,\"zerolinewidth\":2},\"scene\":{\"xaxis\":{\"backgroundcolor\":\"#E5ECF6\",\"gridcolor\":\"white\",\"linecolor\":\"white\",\"showbackground\":true,\"ticks\":\"\",\"zerolinecolor\":\"white\",\"gridwidth\":2},\"yaxis\":{\"backgroundcolor\":\"#E5ECF6\",\"gridcolor\":\"white\",\"linecolor\":\"white\",\"showbackground\":true,\"ticks\":\"\",\"zerolinecolor\":\"white\",\"gridwidth\":2},\"zaxis\":{\"backgroundcolor\":\"#E5ECF6\",\"gridcolor\":\"white\",\"linecolor\":\"white\",\"showbackground\":true,\"ticks\":\"\",\"zerolinecolor\":\"white\",\"gridwidth\":2}},\"shapedefaults\":{\"line\":{\"color\":\"#2a3f5f\"}},\"annotationdefaults\":{\"arrowcolor\":\"#2a3f5f\",\"arrowhead\":0,\"arrowwidth\":1},\"geo\":{\"bgcolor\":\"white\",\"landcolor\":\"#E5ECF6\",\"subunitcolor\":\"white\",\"showland\":true,\"showlakes\":true,\"lakecolor\":\"white\"},\"title\":{\"x\":0.05},\"mapbox\":{\"style\":\"light\"}}},\"scene\":{\"aspectmode\":\"data\"},\"margin\":{\"l\":0,\"r\":0,\"b\":0,\"t\":30},\"title\":{\"text\":\"Original\"}},                        {\"responsive\": true}                    ).then(function(){\n",
              "                            \n",
              "var gd = document.getElementById('4f7d3b8a-aad8-41f6-aa79-86cd1c931302');\n",
              "var x = new MutationObserver(function (mutations, observer) {{\n",
              "        var display = window.getComputedStyle(gd).display;\n",
              "        if (!display || display === 'none') {{\n",
              "            console.log([gd, 'removed!']);\n",
              "            Plotly.purge(gd);\n",
              "            observer.disconnect();\n",
              "        }}\n",
              "}});\n",
              "\n",
              "// Listen for the removal of the full notebook cells\n",
              "var notebookContainer = gd.closest('#notebook-container');\n",
              "if (notebookContainer) {{\n",
              "    x.observe(notebookContainer, {childList: true});\n",
              "}}\n",
              "\n",
              "// Listen for the clearing of the current output cell\n",
              "var outputEl = gd.closest('.output');\n",
              "if (outputEl) {{\n",
              "    x.observe(outputEl, {childList: true});\n",
              "}}\n",
              "\n",
              "                        })                };                            </script>        </div>\n",
              "</body>\n",
              "</html>"
            ]
          },
          "metadata": {}
        }
      ],
      "source": [
        "\n",
        "visualizar_coloreado(mesh, \"Original\")"
      ]
    },
    {
      "cell_type": "markdown",
      "metadata": {
        "id": "po55MBerFgq3"
      },
      "source": [
        "**Vista interior del poliedro**"
      ]
    },
    {
      "cell_type": "markdown",
      "source": [
        "**👨‍💻Implementación👩‍💻**"
      ],
      "metadata": {
        "id": "8UuXYD9Ghar8"
      }
    },
    {
      "cell_type": "code",
      "execution_count": null,
      "metadata": {
        "colab": {
          "base_uri": "https://localhost:8080/",
          "height": 542
        },
        "id": "JMHnMLk3T6Jo",
        "outputId": "318d1350-6279-4d06-d098-e54bca1e53d8"
      },
      "outputs": [
        {
          "output_type": "display_data",
          "data": {
            "text/html": [
              "<html>\n",
              "<head><meta charset=\"utf-8\" /></head>\n",
              "<body>\n",
              "    <div>            <script src=\"https://cdnjs.cloudflare.com/ajax/libs/mathjax/2.7.5/MathJax.js?config=TeX-AMS-MML_SVG\"></script><script type=\"text/javascript\">if (window.MathJax && window.MathJax.Hub && window.MathJax.Hub.Config) {window.MathJax.Hub.Config({SVG: {font: \"STIX-Web\"}});}</script>                <script type=\"text/javascript\">window.PlotlyConfig = {MathJaxConfig: 'local'};</script>\n",
              "        <script charset=\"utf-8\" src=\"https://cdn.plot.ly/plotly-2.35.2.min.js\"></script>                <div id=\"641e3660-2f81-4be1-ade3-d4cd0bd32964\" class=\"plotly-graph-div\" style=\"height:525px; width:100%;\"></div>            <script type=\"text/javascript\">                                    window.PLOTLYENV=window.PLOTLYENV || {};                                    if (document.getElementById(\"641e3660-2f81-4be1-ade3-d4cd0bd32964\")) {                    Plotly.newPlot(                        \"641e3660-2f81-4be1-ade3-d4cd0bd32964\",                        [{\"color\":\"lightblue\",\"i\":[0,0,0,0,0,0,0,0,0,1,1,1,2,2,2,3,3,3,4,4,4,5,5,5,6,6,6,10,10,10,12,12,12,14,14,14],\"j\":[1,4,7,2,6,9,3,8,5,5,11,10,7,13,12,9,15,14,10,16,13,8,14,17,12,18,15,11,17,19,13,16,19,15,18,19],\"k\":[4,7,2,6,9,3,8,5,1,11,10,4,13,12,6,15,14,8,16,13,7,14,17,11,18,15,9,17,19,16,16,19,18,18,19,17],\"name\":\"Poliedro\",\"opacity\":0.3,\"x\":[0.0,0.7136442,-0.3568221,-0.3568221,0.7978784,0.7978784,-0.9341724,0.1362939,0.1362939,-0.9341724,0.9341724,0.9341724,-0.7978784,-0.1362939,-0.1362939,-0.7978784,0.3568221,0.3568221,-0.7136442,0.0],\"y\":[0.0,0.0,0.618034,-0.618034,0.618034,-0.618034,0.381966,1.0,-1.0,-0.381966,0.381966,-0.381966,0.618034,1.0,-1.0,-0.618034,0.618034,-0.618034,0.0,0.0],\"z\":[1.070466,0.7978784,0.7978784,0.7978784,0.3568221,0.3568221,0.3568221,0.3568221,0.3568221,0.3568221,-0.3568221,-0.3568221,-0.3568221,-0.3568221,-0.3568221,-0.3568221,-0.7978784,-0.7978784,-0.7978784,-1.070466],\"type\":\"mesh3d\"},{\"line\":{\"color\":\"black\",\"width\":2},\"mode\":\"lines\",\"showlegend\":false,\"x\":[0.0,0.7136442],\"y\":[0.0,0.0],\"z\":[1.070466,0.7978784],\"type\":\"scatter3d\"},{\"line\":{\"color\":\"black\",\"width\":2},\"mode\":\"lines\",\"showlegend\":false,\"x\":[0.7136442,0.7978784],\"y\":[0.0,0.618034],\"z\":[0.7978784,0.3568221],\"type\":\"scatter3d\"},{\"line\":{\"color\":\"black\",\"width\":2},\"mode\":\"lines\",\"showlegend\":false,\"x\":[0.7978784,0.0],\"y\":[0.618034,0.0],\"z\":[0.3568221,1.070466],\"type\":\"scatter3d\"},{\"line\":{\"color\":\"black\",\"width\":2},\"mode\":\"lines\",\"showlegend\":false,\"x\":[0.0,0.7978784],\"y\":[0.0,0.618034],\"z\":[1.070466,0.3568221],\"type\":\"scatter3d\"},{\"line\":{\"color\":\"black\",\"width\":2},\"mode\":\"lines\",\"showlegend\":false,\"x\":[0.7978784,0.1362939],\"y\":[0.618034,1.0],\"z\":[0.3568221,0.3568221],\"type\":\"scatter3d\"},{\"line\":{\"color\":\"black\",\"width\":2},\"mode\":\"lines\",\"showlegend\":false,\"x\":[0.1362939,0.0],\"y\":[1.0,0.0],\"z\":[0.3568221,1.070466],\"type\":\"scatter3d\"},{\"line\":{\"color\":\"black\",\"width\":2},\"mode\":\"lines\",\"showlegend\":false,\"x\":[0.0,0.1362939],\"y\":[0.0,1.0],\"z\":[1.070466,0.3568221],\"type\":\"scatter3d\"},{\"line\":{\"color\":\"black\",\"width\":2},\"mode\":\"lines\",\"showlegend\":false,\"x\":[0.1362939,-0.3568221],\"y\":[1.0,0.618034],\"z\":[0.3568221,0.7978784],\"type\":\"scatter3d\"},{\"line\":{\"color\":\"black\",\"width\":2},\"mode\":\"lines\",\"showlegend\":false,\"x\":[-0.3568221,0.0],\"y\":[0.618034,0.0],\"z\":[0.7978784,1.070466],\"type\":\"scatter3d\"},{\"line\":{\"color\":\"black\",\"width\":2},\"mode\":\"lines\",\"showlegend\":false,\"x\":[0.0,-0.3568221],\"y\":[0.0,0.618034],\"z\":[1.070466,0.7978784],\"type\":\"scatter3d\"},{\"line\":{\"color\":\"black\",\"width\":2},\"mode\":\"lines\",\"showlegend\":false,\"x\":[-0.3568221,-0.9341724],\"y\":[0.618034,0.381966],\"z\":[0.7978784,0.3568221],\"type\":\"scatter3d\"},{\"line\":{\"color\":\"black\",\"width\":2},\"mode\":\"lines\",\"showlegend\":false,\"x\":[-0.9341724,0.0],\"y\":[0.381966,0.0],\"z\":[0.3568221,1.070466],\"type\":\"scatter3d\"},{\"line\":{\"color\":\"black\",\"width\":2},\"mode\":\"lines\",\"showlegend\":false,\"x\":[0.0,-0.9341724],\"y\":[0.0,0.381966],\"z\":[1.070466,0.3568221],\"type\":\"scatter3d\"},{\"line\":{\"color\":\"black\",\"width\":2},\"mode\":\"lines\",\"showlegend\":false,\"x\":[-0.9341724,-0.9341724],\"y\":[0.381966,-0.381966],\"z\":[0.3568221,0.3568221],\"type\":\"scatter3d\"},{\"line\":{\"color\":\"black\",\"width\":2},\"mode\":\"lines\",\"showlegend\":false,\"x\":[-0.9341724,0.0],\"y\":[-0.381966,0.0],\"z\":[0.3568221,1.070466],\"type\":\"scatter3d\"},{\"line\":{\"color\":\"black\",\"width\":2},\"mode\":\"lines\",\"showlegend\":false,\"x\":[0.0,-0.9341724],\"y\":[0.0,-0.381966],\"z\":[1.070466,0.3568221],\"type\":\"scatter3d\"},{\"line\":{\"color\":\"black\",\"width\":2},\"mode\":\"lines\",\"showlegend\":false,\"x\":[-0.9341724,-0.3568221],\"y\":[-0.381966,-0.618034],\"z\":[0.3568221,0.7978784],\"type\":\"scatter3d\"},{\"line\":{\"color\":\"black\",\"width\":2},\"mode\":\"lines\",\"showlegend\":false,\"x\":[-0.3568221,0.0],\"y\":[-0.618034,0.0],\"z\":[0.7978784,1.070466],\"type\":\"scatter3d\"},{\"line\":{\"color\":\"black\",\"width\":2},\"mode\":\"lines\",\"showlegend\":false,\"x\":[0.0,-0.3568221],\"y\":[0.0,-0.618034],\"z\":[1.070466,0.7978784],\"type\":\"scatter3d\"},{\"line\":{\"color\":\"black\",\"width\":2},\"mode\":\"lines\",\"showlegend\":false,\"x\":[-0.3568221,0.1362939],\"y\":[-0.618034,-1.0],\"z\":[0.7978784,0.3568221],\"type\":\"scatter3d\"},{\"line\":{\"color\":\"black\",\"width\":2},\"mode\":\"lines\",\"showlegend\":false,\"x\":[0.1362939,0.0],\"y\":[-1.0,0.0],\"z\":[0.3568221,1.070466],\"type\":\"scatter3d\"},{\"line\":{\"color\":\"black\",\"width\":2},\"mode\":\"lines\",\"showlegend\":false,\"x\":[0.0,0.1362939],\"y\":[0.0,-1.0],\"z\":[1.070466,0.3568221],\"type\":\"scatter3d\"},{\"line\":{\"color\":\"black\",\"width\":2},\"mode\":\"lines\",\"showlegend\":false,\"x\":[0.1362939,0.7978784],\"y\":[-1.0,-0.618034],\"z\":[0.3568221,0.3568221],\"type\":\"scatter3d\"},{\"line\":{\"color\":\"black\",\"width\":2},\"mode\":\"lines\",\"showlegend\":false,\"x\":[0.7978784,0.0],\"y\":[-0.618034,0.0],\"z\":[0.3568221,1.070466],\"type\":\"scatter3d\"},{\"line\":{\"color\":\"black\",\"width\":2},\"mode\":\"lines\",\"showlegend\":false,\"x\":[0.0,0.7978784],\"y\":[0.0,-0.618034],\"z\":[1.070466,0.3568221],\"type\":\"scatter3d\"},{\"line\":{\"color\":\"black\",\"width\":2},\"mode\":\"lines\",\"showlegend\":false,\"x\":[0.7978784,0.7136442],\"y\":[-0.618034,0.0],\"z\":[0.3568221,0.7978784],\"type\":\"scatter3d\"},{\"line\":{\"color\":\"black\",\"width\":2},\"mode\":\"lines\",\"showlegend\":false,\"x\":[0.7136442,0.0],\"y\":[0.0,0.0],\"z\":[0.7978784,1.070466],\"type\":\"scatter3d\"},{\"line\":{\"color\":\"black\",\"width\":2},\"mode\":\"lines\",\"showlegend\":false,\"x\":[0.7136442,0.7978784],\"y\":[0.0,-0.618034],\"z\":[0.7978784,0.3568221],\"type\":\"scatter3d\"},{\"line\":{\"color\":\"black\",\"width\":2},\"mode\":\"lines\",\"showlegend\":false,\"x\":[0.7978784,0.9341724],\"y\":[-0.618034,-0.381966],\"z\":[0.3568221,-0.3568221],\"type\":\"scatter3d\"},{\"line\":{\"color\":\"black\",\"width\":2},\"mode\":\"lines\",\"showlegend\":false,\"x\":[0.9341724,0.7136442],\"y\":[-0.381966,0.0],\"z\":[-0.3568221,0.7978784],\"type\":\"scatter3d\"},{\"line\":{\"color\":\"black\",\"width\":2},\"mode\":\"lines\",\"showlegend\":false,\"x\":[0.7136442,0.9341724],\"y\":[0.0,-0.381966],\"z\":[0.7978784,-0.3568221],\"type\":\"scatter3d\"},{\"line\":{\"color\":\"black\",\"width\":2},\"mode\":\"lines\",\"showlegend\":false,\"x\":[0.9341724,0.9341724],\"y\":[-0.381966,0.381966],\"z\":[-0.3568221,-0.3568221],\"type\":\"scatter3d\"},{\"line\":{\"color\":\"black\",\"width\":2},\"mode\":\"lines\",\"showlegend\":false,\"x\":[0.9341724,0.7136442],\"y\":[0.381966,0.0],\"z\":[-0.3568221,0.7978784],\"type\":\"scatter3d\"},{\"line\":{\"color\":\"black\",\"width\":2},\"mode\":\"lines\",\"showlegend\":false,\"x\":[0.7136442,0.9341724],\"y\":[0.0,0.381966],\"z\":[0.7978784,-0.3568221],\"type\":\"scatter3d\"},{\"line\":{\"color\":\"black\",\"width\":2},\"mode\":\"lines\",\"showlegend\":false,\"x\":[0.9341724,0.7978784],\"y\":[0.381966,0.618034],\"z\":[-0.3568221,0.3568221],\"type\":\"scatter3d\"},{\"line\":{\"color\":\"black\",\"width\":2},\"mode\":\"lines\",\"showlegend\":false,\"x\":[0.7978784,0.7136442],\"y\":[0.618034,0.0],\"z\":[0.3568221,0.7978784],\"type\":\"scatter3d\"},{\"line\":{\"color\":\"black\",\"width\":2},\"mode\":\"lines\",\"showlegend\":false,\"x\":[-0.3568221,0.1362939],\"y\":[0.618034,1.0],\"z\":[0.7978784,0.3568221],\"type\":\"scatter3d\"},{\"line\":{\"color\":\"black\",\"width\":2},\"mode\":\"lines\",\"showlegend\":false,\"x\":[0.1362939,-0.1362939],\"y\":[1.0,1.0],\"z\":[0.3568221,-0.3568221],\"type\":\"scatter3d\"},{\"line\":{\"color\":\"black\",\"width\":2},\"mode\":\"lines\",\"showlegend\":false,\"x\":[-0.1362939,-0.3568221],\"y\":[1.0,0.618034],\"z\":[-0.3568221,0.7978784],\"type\":\"scatter3d\"},{\"line\":{\"color\":\"black\",\"width\":2},\"mode\":\"lines\",\"showlegend\":false,\"x\":[-0.3568221,-0.1362939],\"y\":[0.618034,1.0],\"z\":[0.7978784,-0.3568221],\"type\":\"scatter3d\"},{\"line\":{\"color\":\"black\",\"width\":2},\"mode\":\"lines\",\"showlegend\":false,\"x\":[-0.1362939,-0.7978784],\"y\":[1.0,0.618034],\"z\":[-0.3568221,-0.3568221],\"type\":\"scatter3d\"},{\"line\":{\"color\":\"black\",\"width\":2},\"mode\":\"lines\",\"showlegend\":false,\"x\":[-0.7978784,-0.3568221],\"y\":[0.618034,0.618034],\"z\":[-0.3568221,0.7978784],\"type\":\"scatter3d\"},{\"line\":{\"color\":\"black\",\"width\":2},\"mode\":\"lines\",\"showlegend\":false,\"x\":[-0.3568221,-0.7978784],\"y\":[0.618034,0.618034],\"z\":[0.7978784,-0.3568221],\"type\":\"scatter3d\"},{\"line\":{\"color\":\"black\",\"width\":2},\"mode\":\"lines\",\"showlegend\":false,\"x\":[-0.7978784,-0.9341724],\"y\":[0.618034,0.381966],\"z\":[-0.3568221,0.3568221],\"type\":\"scatter3d\"},{\"line\":{\"color\":\"black\",\"width\":2},\"mode\":\"lines\",\"showlegend\":false,\"x\":[-0.9341724,-0.3568221],\"y\":[0.381966,0.618034],\"z\":[0.3568221,0.7978784],\"type\":\"scatter3d\"},{\"line\":{\"color\":\"black\",\"width\":2},\"mode\":\"lines\",\"showlegend\":false,\"x\":[-0.3568221,-0.9341724],\"y\":[-0.618034,-0.381966],\"z\":[0.7978784,0.3568221],\"type\":\"scatter3d\"},{\"line\":{\"color\":\"black\",\"width\":2},\"mode\":\"lines\",\"showlegend\":false,\"x\":[-0.9341724,-0.7978784],\"y\":[-0.381966,-0.618034],\"z\":[0.3568221,-0.3568221],\"type\":\"scatter3d\"},{\"line\":{\"color\":\"black\",\"width\":2},\"mode\":\"lines\",\"showlegend\":false,\"x\":[-0.7978784,-0.3568221],\"y\":[-0.618034,-0.618034],\"z\":[-0.3568221,0.7978784],\"type\":\"scatter3d\"},{\"line\":{\"color\":\"black\",\"width\":2},\"mode\":\"lines\",\"showlegend\":false,\"x\":[-0.3568221,-0.7978784],\"y\":[-0.618034,-0.618034],\"z\":[0.7978784,-0.3568221],\"type\":\"scatter3d\"},{\"line\":{\"color\":\"black\",\"width\":2},\"mode\":\"lines\",\"showlegend\":false,\"x\":[-0.7978784,-0.1362939],\"y\":[-0.618034,-1.0],\"z\":[-0.3568221,-0.3568221],\"type\":\"scatter3d\"},{\"line\":{\"color\":\"black\",\"width\":2},\"mode\":\"lines\",\"showlegend\":false,\"x\":[-0.1362939,-0.3568221],\"y\":[-1.0,-0.618034],\"z\":[-0.3568221,0.7978784],\"type\":\"scatter3d\"},{\"line\":{\"color\":\"black\",\"width\":2},\"mode\":\"lines\",\"showlegend\":false,\"x\":[-0.3568221,-0.1362939],\"y\":[-0.618034,-1.0],\"z\":[0.7978784,-0.3568221],\"type\":\"scatter3d\"},{\"line\":{\"color\":\"black\",\"width\":2},\"mode\":\"lines\",\"showlegend\":false,\"x\":[-0.1362939,0.1362939],\"y\":[-1.0,-1.0],\"z\":[-0.3568221,0.3568221],\"type\":\"scatter3d\"},{\"line\":{\"color\":\"black\",\"width\":2},\"mode\":\"lines\",\"showlegend\":false,\"x\":[0.1362939,-0.3568221],\"y\":[-1.0,-0.618034],\"z\":[0.3568221,0.7978784],\"type\":\"scatter3d\"},{\"line\":{\"color\":\"black\",\"width\":2},\"mode\":\"lines\",\"showlegend\":false,\"x\":[0.7978784,0.9341724],\"y\":[0.618034,0.381966],\"z\":[0.3568221,-0.3568221],\"type\":\"scatter3d\"},{\"line\":{\"color\":\"black\",\"width\":2},\"mode\":\"lines\",\"showlegend\":false,\"x\":[0.9341724,0.3568221],\"y\":[0.381966,0.618034],\"z\":[-0.3568221,-0.7978784],\"type\":\"scatter3d\"},{\"line\":{\"color\":\"black\",\"width\":2},\"mode\":\"lines\",\"showlegend\":false,\"x\":[0.3568221,0.7978784],\"y\":[0.618034,0.618034],\"z\":[-0.7978784,0.3568221],\"type\":\"scatter3d\"},{\"line\":{\"color\":\"black\",\"width\":2},\"mode\":\"lines\",\"showlegend\":false,\"x\":[0.7978784,0.3568221],\"y\":[0.618034,0.618034],\"z\":[0.3568221,-0.7978784],\"type\":\"scatter3d\"},{\"line\":{\"color\":\"black\",\"width\":2},\"mode\":\"lines\",\"showlegend\":false,\"x\":[0.3568221,-0.1362939],\"y\":[0.618034,1.0],\"z\":[-0.7978784,-0.3568221],\"type\":\"scatter3d\"},{\"line\":{\"color\":\"black\",\"width\":2},\"mode\":\"lines\",\"showlegend\":false,\"x\":[-0.1362939,0.7978784],\"y\":[1.0,0.618034],\"z\":[-0.3568221,0.3568221],\"type\":\"scatter3d\"},{\"line\":{\"color\":\"black\",\"width\":2},\"mode\":\"lines\",\"showlegend\":false,\"x\":[0.7978784,-0.1362939],\"y\":[0.618034,1.0],\"z\":[0.3568221,-0.3568221],\"type\":\"scatter3d\"},{\"line\":{\"color\":\"black\",\"width\":2},\"mode\":\"lines\",\"showlegend\":false,\"x\":[-0.1362939,0.1362939],\"y\":[1.0,1.0],\"z\":[-0.3568221,0.3568221],\"type\":\"scatter3d\"},{\"line\":{\"color\":\"black\",\"width\":2},\"mode\":\"lines\",\"showlegend\":false,\"x\":[0.1362939,0.7978784],\"y\":[1.0,0.618034],\"z\":[0.3568221,0.3568221],\"type\":\"scatter3d\"},{\"line\":{\"color\":\"black\",\"width\":2},\"mode\":\"lines\",\"showlegend\":false,\"x\":[0.7978784,0.1362939],\"y\":[-0.618034,-1.0],\"z\":[0.3568221,0.3568221],\"type\":\"scatter3d\"},{\"line\":{\"color\":\"black\",\"width\":2},\"mode\":\"lines\",\"showlegend\":false,\"x\":[0.1362939,-0.1362939],\"y\":[-1.0,-1.0],\"z\":[0.3568221,-0.3568221],\"type\":\"scatter3d\"},{\"line\":{\"color\":\"black\",\"width\":2},\"mode\":\"lines\",\"showlegend\":false,\"x\":[-0.1362939,0.7978784],\"y\":[-1.0,-0.618034],\"z\":[-0.3568221,0.3568221],\"type\":\"scatter3d\"},{\"line\":{\"color\":\"black\",\"width\":2},\"mode\":\"lines\",\"showlegend\":false,\"x\":[0.7978784,-0.1362939],\"y\":[-0.618034,-1.0],\"z\":[0.3568221,-0.3568221],\"type\":\"scatter3d\"},{\"line\":{\"color\":\"black\",\"width\":2},\"mode\":\"lines\",\"showlegend\":false,\"x\":[-0.1362939,0.3568221],\"y\":[-1.0,-0.618034],\"z\":[-0.3568221,-0.7978784],\"type\":\"scatter3d\"},{\"line\":{\"color\":\"black\",\"width\":2},\"mode\":\"lines\",\"showlegend\":false,\"x\":[0.3568221,0.7978784],\"y\":[-0.618034,-0.618034],\"z\":[-0.7978784,0.3568221],\"type\":\"scatter3d\"},{\"line\":{\"color\":\"black\",\"width\":2},\"mode\":\"lines\",\"showlegend\":false,\"x\":[0.7978784,0.3568221],\"y\":[-0.618034,-0.618034],\"z\":[0.3568221,-0.7978784],\"type\":\"scatter3d\"},{\"line\":{\"color\":\"black\",\"width\":2},\"mode\":\"lines\",\"showlegend\":false,\"x\":[0.3568221,0.9341724],\"y\":[-0.618034,-0.381966],\"z\":[-0.7978784,-0.3568221],\"type\":\"scatter3d\"},{\"line\":{\"color\":\"black\",\"width\":2},\"mode\":\"lines\",\"showlegend\":false,\"x\":[0.9341724,0.7978784],\"y\":[-0.381966,-0.618034],\"z\":[-0.3568221,0.3568221],\"type\":\"scatter3d\"},{\"line\":{\"color\":\"black\",\"width\":2},\"mode\":\"lines\",\"showlegend\":false,\"x\":[-0.9341724,-0.7978784],\"y\":[0.381966,0.618034],\"z\":[0.3568221,-0.3568221],\"type\":\"scatter3d\"},{\"line\":{\"color\":\"black\",\"width\":2},\"mode\":\"lines\",\"showlegend\":false,\"x\":[-0.7978784,-0.7136442],\"y\":[0.618034,0.0],\"z\":[-0.3568221,-0.7978784],\"type\":\"scatter3d\"},{\"line\":{\"color\":\"black\",\"width\":2},\"mode\":\"lines\",\"showlegend\":false,\"x\":[-0.7136442,-0.9341724],\"y\":[0.0,0.381966],\"z\":[-0.7978784,0.3568221],\"type\":\"scatter3d\"},{\"line\":{\"color\":\"black\",\"width\":2},\"mode\":\"lines\",\"showlegend\":false,\"x\":[-0.9341724,-0.7136442],\"y\":[0.381966,0.0],\"z\":[0.3568221,-0.7978784],\"type\":\"scatter3d\"},{\"line\":{\"color\":\"black\",\"width\":2},\"mode\":\"lines\",\"showlegend\":false,\"x\":[-0.7136442,-0.7978784],\"y\":[0.0,-0.618034],\"z\":[-0.7978784,-0.3568221],\"type\":\"scatter3d\"},{\"line\":{\"color\":\"black\",\"width\":2},\"mode\":\"lines\",\"showlegend\":false,\"x\":[-0.7978784,-0.9341724],\"y\":[-0.618034,0.381966],\"z\":[-0.3568221,0.3568221],\"type\":\"scatter3d\"},{\"line\":{\"color\":\"black\",\"width\":2},\"mode\":\"lines\",\"showlegend\":false,\"x\":[-0.9341724,-0.7978784],\"y\":[0.381966,-0.618034],\"z\":[0.3568221,-0.3568221],\"type\":\"scatter3d\"},{\"line\":{\"color\":\"black\",\"width\":2},\"mode\":\"lines\",\"showlegend\":false,\"x\":[-0.7978784,-0.9341724],\"y\":[-0.618034,-0.381966],\"z\":[-0.3568221,0.3568221],\"type\":\"scatter3d\"},{\"line\":{\"color\":\"black\",\"width\":2},\"mode\":\"lines\",\"showlegend\":false,\"x\":[-0.9341724,-0.9341724],\"y\":[-0.381966,0.381966],\"z\":[0.3568221,0.3568221],\"type\":\"scatter3d\"},{\"line\":{\"color\":\"black\",\"width\":2},\"mode\":\"lines\",\"showlegend\":false,\"x\":[0.9341724,0.9341724],\"y\":[0.381966,-0.381966],\"z\":[-0.3568221,-0.3568221],\"type\":\"scatter3d\"},{\"line\":{\"color\":\"black\",\"width\":2},\"mode\":\"lines\",\"showlegend\":false,\"x\":[0.9341724,0.3568221],\"y\":[-0.381966,-0.618034],\"z\":[-0.3568221,-0.7978784],\"type\":\"scatter3d\"},{\"line\":{\"color\":\"black\",\"width\":2},\"mode\":\"lines\",\"showlegend\":false,\"x\":[0.3568221,0.9341724],\"y\":[-0.618034,0.381966],\"z\":[-0.7978784,-0.3568221],\"type\":\"scatter3d\"},{\"line\":{\"color\":\"black\",\"width\":2},\"mode\":\"lines\",\"showlegend\":false,\"x\":[0.9341724,0.3568221],\"y\":[0.381966,-0.618034],\"z\":[-0.3568221,-0.7978784],\"type\":\"scatter3d\"},{\"line\":{\"color\":\"black\",\"width\":2},\"mode\":\"lines\",\"showlegend\":false,\"x\":[0.3568221,0.0],\"y\":[-0.618034,0.0],\"z\":[-0.7978784,-1.070466],\"type\":\"scatter3d\"},{\"line\":{\"color\":\"black\",\"width\":2},\"mode\":\"lines\",\"showlegend\":false,\"x\":[0.0,0.9341724],\"y\":[0.0,0.381966],\"z\":[-1.070466,-0.3568221],\"type\":\"scatter3d\"},{\"line\":{\"color\":\"black\",\"width\":2},\"mode\":\"lines\",\"showlegend\":false,\"x\":[0.9341724,0.0],\"y\":[0.381966,0.0],\"z\":[-0.3568221,-1.070466],\"type\":\"scatter3d\"},{\"line\":{\"color\":\"black\",\"width\":2},\"mode\":\"lines\",\"showlegend\":false,\"x\":[0.0,0.3568221],\"y\":[0.0,0.618034],\"z\":[-1.070466,-0.7978784],\"type\":\"scatter3d\"},{\"line\":{\"color\":\"black\",\"width\":2},\"mode\":\"lines\",\"showlegend\":false,\"x\":[0.3568221,0.9341724],\"y\":[0.618034,0.381966],\"z\":[-0.7978784,-0.3568221],\"type\":\"scatter3d\"},{\"line\":{\"color\":\"black\",\"width\":2},\"mode\":\"lines\",\"showlegend\":false,\"x\":[-0.7978784,-0.1362939],\"y\":[0.618034,1.0],\"z\":[-0.3568221,-0.3568221],\"type\":\"scatter3d\"},{\"line\":{\"color\":\"black\",\"width\":2},\"mode\":\"lines\",\"showlegend\":false,\"x\":[-0.1362939,0.3568221],\"y\":[1.0,0.618034],\"z\":[-0.3568221,-0.7978784],\"type\":\"scatter3d\"},{\"line\":{\"color\":\"black\",\"width\":2},\"mode\":\"lines\",\"showlegend\":false,\"x\":[0.3568221,-0.7978784],\"y\":[0.618034,0.618034],\"z\":[-0.7978784,-0.3568221],\"type\":\"scatter3d\"},{\"line\":{\"color\":\"black\",\"width\":2},\"mode\":\"lines\",\"showlegend\":false,\"x\":[-0.7978784,0.3568221],\"y\":[0.618034,0.618034],\"z\":[-0.3568221,-0.7978784],\"type\":\"scatter3d\"},{\"line\":{\"color\":\"black\",\"width\":2},\"mode\":\"lines\",\"showlegend\":false,\"x\":[0.3568221,0.0],\"y\":[0.618034,0.0],\"z\":[-0.7978784,-1.070466],\"type\":\"scatter3d\"},{\"line\":{\"color\":\"black\",\"width\":2},\"mode\":\"lines\",\"showlegend\":false,\"x\":[0.0,-0.7978784],\"y\":[0.0,0.618034],\"z\":[-1.070466,-0.3568221],\"type\":\"scatter3d\"},{\"line\":{\"color\":\"black\",\"width\":2},\"mode\":\"lines\",\"showlegend\":false,\"x\":[-0.7978784,0.0],\"y\":[0.618034,0.0],\"z\":[-0.3568221,-1.070466],\"type\":\"scatter3d\"},{\"line\":{\"color\":\"black\",\"width\":2},\"mode\":\"lines\",\"showlegend\":false,\"x\":[0.0,-0.7136442],\"y\":[0.0,0.0],\"z\":[-1.070466,-0.7978784],\"type\":\"scatter3d\"},{\"line\":{\"color\":\"black\",\"width\":2},\"mode\":\"lines\",\"showlegend\":false,\"x\":[-0.7136442,-0.7978784],\"y\":[0.0,0.618034],\"z\":[-0.7978784,-0.3568221],\"type\":\"scatter3d\"},{\"line\":{\"color\":\"black\",\"width\":2},\"mode\":\"lines\",\"showlegend\":false,\"x\":[-0.1362939,-0.7978784],\"y\":[-1.0,-0.618034],\"z\":[-0.3568221,-0.3568221],\"type\":\"scatter3d\"},{\"line\":{\"color\":\"black\",\"width\":2},\"mode\":\"lines\",\"showlegend\":false,\"x\":[-0.7978784,-0.7136442],\"y\":[-0.618034,0.0],\"z\":[-0.3568221,-0.7978784],\"type\":\"scatter3d\"},{\"line\":{\"color\":\"black\",\"width\":2},\"mode\":\"lines\",\"showlegend\":false,\"x\":[-0.7136442,-0.1362939],\"y\":[0.0,-1.0],\"z\":[-0.7978784,-0.3568221],\"type\":\"scatter3d\"},{\"line\":{\"color\":\"black\",\"width\":2},\"mode\":\"lines\",\"showlegend\":false,\"x\":[-0.1362939,-0.7136442],\"y\":[-1.0,0.0],\"z\":[-0.3568221,-0.7978784],\"type\":\"scatter3d\"},{\"line\":{\"color\":\"black\",\"width\":2},\"mode\":\"lines\",\"showlegend\":false,\"x\":[-0.7136442,0.0],\"y\":[0.0,0.0],\"z\":[-0.7978784,-1.070466],\"type\":\"scatter3d\"},{\"line\":{\"color\":\"black\",\"width\":2},\"mode\":\"lines\",\"showlegend\":false,\"x\":[0.0,-0.1362939],\"y\":[0.0,-1.0],\"z\":[-1.070466,-0.3568221],\"type\":\"scatter3d\"},{\"line\":{\"color\":\"black\",\"width\":2},\"mode\":\"lines\",\"showlegend\":false,\"x\":[-0.1362939,0.0],\"y\":[-1.0,0.0],\"z\":[-0.3568221,-1.070466],\"type\":\"scatter3d\"},{\"line\":{\"color\":\"black\",\"width\":2},\"mode\":\"lines\",\"showlegend\":false,\"x\":[0.0,0.3568221],\"y\":[0.0,-0.618034],\"z\":[-1.070466,-0.7978784],\"type\":\"scatter3d\"},{\"line\":{\"color\":\"black\",\"width\":2},\"mode\":\"lines\",\"showlegend\":false,\"x\":[0.3568221,-0.1362939],\"y\":[-0.618034,-1.0],\"z\":[-0.7978784,-0.3568221],\"type\":\"scatter3d\"}],                        {\"template\":{\"data\":{\"histogram2dcontour\":[{\"type\":\"histogram2dcontour\",\"colorbar\":{\"outlinewidth\":0,\"ticks\":\"\"},\"colorscale\":[[0.0,\"#0d0887\"],[0.1111111111111111,\"#46039f\"],[0.2222222222222222,\"#7201a8\"],[0.3333333333333333,\"#9c179e\"],[0.4444444444444444,\"#bd3786\"],[0.5555555555555556,\"#d8576b\"],[0.6666666666666666,\"#ed7953\"],[0.7777777777777778,\"#fb9f3a\"],[0.8888888888888888,\"#fdca26\"],[1.0,\"#f0f921\"]]}],\"choropleth\":[{\"type\":\"choropleth\",\"colorbar\":{\"outlinewidth\":0,\"ticks\":\"\"}}],\"histogram2d\":[{\"type\":\"histogram2d\",\"colorbar\":{\"outlinewidth\":0,\"ticks\":\"\"},\"colorscale\":[[0.0,\"#0d0887\"],[0.1111111111111111,\"#46039f\"],[0.2222222222222222,\"#7201a8\"],[0.3333333333333333,\"#9c179e\"],[0.4444444444444444,\"#bd3786\"],[0.5555555555555556,\"#d8576b\"],[0.6666666666666666,\"#ed7953\"],[0.7777777777777778,\"#fb9f3a\"],[0.8888888888888888,\"#fdca26\"],[1.0,\"#f0f921\"]]}],\"heatmap\":[{\"type\":\"heatmap\",\"colorbar\":{\"outlinewidth\":0,\"ticks\":\"\"},\"colorscale\":[[0.0,\"#0d0887\"],[0.1111111111111111,\"#46039f\"],[0.2222222222222222,\"#7201a8\"],[0.3333333333333333,\"#9c179e\"],[0.4444444444444444,\"#bd3786\"],[0.5555555555555556,\"#d8576b\"],[0.6666666666666666,\"#ed7953\"],[0.7777777777777778,\"#fb9f3a\"],[0.8888888888888888,\"#fdca26\"],[1.0,\"#f0f921\"]]}],\"heatmapgl\":[{\"type\":\"heatmapgl\",\"colorbar\":{\"outlinewidth\":0,\"ticks\":\"\"},\"colorscale\":[[0.0,\"#0d0887\"],[0.1111111111111111,\"#46039f\"],[0.2222222222222222,\"#7201a8\"],[0.3333333333333333,\"#9c179e\"],[0.4444444444444444,\"#bd3786\"],[0.5555555555555556,\"#d8576b\"],[0.6666666666666666,\"#ed7953\"],[0.7777777777777778,\"#fb9f3a\"],[0.8888888888888888,\"#fdca26\"],[1.0,\"#f0f921\"]]}],\"contourcarpet\":[{\"type\":\"contourcarpet\",\"colorbar\":{\"outlinewidth\":0,\"ticks\":\"\"}}],\"contour\":[{\"type\":\"contour\",\"colorbar\":{\"outlinewidth\":0,\"ticks\":\"\"},\"colorscale\":[[0.0,\"#0d0887\"],[0.1111111111111111,\"#46039f\"],[0.2222222222222222,\"#7201a8\"],[0.3333333333333333,\"#9c179e\"],[0.4444444444444444,\"#bd3786\"],[0.5555555555555556,\"#d8576b\"],[0.6666666666666666,\"#ed7953\"],[0.7777777777777778,\"#fb9f3a\"],[0.8888888888888888,\"#fdca26\"],[1.0,\"#f0f921\"]]}],\"surface\":[{\"type\":\"surface\",\"colorbar\":{\"outlinewidth\":0,\"ticks\":\"\"},\"colorscale\":[[0.0,\"#0d0887\"],[0.1111111111111111,\"#46039f\"],[0.2222222222222222,\"#7201a8\"],[0.3333333333333333,\"#9c179e\"],[0.4444444444444444,\"#bd3786\"],[0.5555555555555556,\"#d8576b\"],[0.6666666666666666,\"#ed7953\"],[0.7777777777777778,\"#fb9f3a\"],[0.8888888888888888,\"#fdca26\"],[1.0,\"#f0f921\"]]}],\"mesh3d\":[{\"type\":\"mesh3d\",\"colorbar\":{\"outlinewidth\":0,\"ticks\":\"\"}}],\"scatter\":[{\"fillpattern\":{\"fillmode\":\"overlay\",\"size\":10,\"solidity\":0.2},\"type\":\"scatter\"}],\"parcoords\":[{\"type\":\"parcoords\",\"line\":{\"colorbar\":{\"outlinewidth\":0,\"ticks\":\"\"}}}],\"scatterpolargl\":[{\"type\":\"scatterpolargl\",\"marker\":{\"colorbar\":{\"outlinewidth\":0,\"ticks\":\"\"}}}],\"bar\":[{\"error_x\":{\"color\":\"#2a3f5f\"},\"error_y\":{\"color\":\"#2a3f5f\"},\"marker\":{\"line\":{\"color\":\"#E5ECF6\",\"width\":0.5},\"pattern\":{\"fillmode\":\"overlay\",\"size\":10,\"solidity\":0.2}},\"type\":\"bar\"}],\"scattergeo\":[{\"type\":\"scattergeo\",\"marker\":{\"colorbar\":{\"outlinewidth\":0,\"ticks\":\"\"}}}],\"scatterpolar\":[{\"type\":\"scatterpolar\",\"marker\":{\"colorbar\":{\"outlinewidth\":0,\"ticks\":\"\"}}}],\"histogram\":[{\"marker\":{\"pattern\":{\"fillmode\":\"overlay\",\"size\":10,\"solidity\":0.2}},\"type\":\"histogram\"}],\"scattergl\":[{\"type\":\"scattergl\",\"marker\":{\"colorbar\":{\"outlinewidth\":0,\"ticks\":\"\"}}}],\"scatter3d\":[{\"type\":\"scatter3d\",\"line\":{\"colorbar\":{\"outlinewidth\":0,\"ticks\":\"\"}},\"marker\":{\"colorbar\":{\"outlinewidth\":0,\"ticks\":\"\"}}}],\"scattermapbox\":[{\"type\":\"scattermapbox\",\"marker\":{\"colorbar\":{\"outlinewidth\":0,\"ticks\":\"\"}}}],\"scatterternary\":[{\"type\":\"scatterternary\",\"marker\":{\"colorbar\":{\"outlinewidth\":0,\"ticks\":\"\"}}}],\"scattercarpet\":[{\"type\":\"scattercarpet\",\"marker\":{\"colorbar\":{\"outlinewidth\":0,\"ticks\":\"\"}}}],\"carpet\":[{\"aaxis\":{\"endlinecolor\":\"#2a3f5f\",\"gridcolor\":\"white\",\"linecolor\":\"white\",\"minorgridcolor\":\"white\",\"startlinecolor\":\"#2a3f5f\"},\"baxis\":{\"endlinecolor\":\"#2a3f5f\",\"gridcolor\":\"white\",\"linecolor\":\"white\",\"minorgridcolor\":\"white\",\"startlinecolor\":\"#2a3f5f\"},\"type\":\"carpet\"}],\"table\":[{\"cells\":{\"fill\":{\"color\":\"#EBF0F8\"},\"line\":{\"color\":\"white\"}},\"header\":{\"fill\":{\"color\":\"#C8D4E3\"},\"line\":{\"color\":\"white\"}},\"type\":\"table\"}],\"barpolar\":[{\"marker\":{\"line\":{\"color\":\"#E5ECF6\",\"width\":0.5},\"pattern\":{\"fillmode\":\"overlay\",\"size\":10,\"solidity\":0.2}},\"type\":\"barpolar\"}],\"pie\":[{\"automargin\":true,\"type\":\"pie\"}]},\"layout\":{\"autotypenumbers\":\"strict\",\"colorway\":[\"#636efa\",\"#EF553B\",\"#00cc96\",\"#ab63fa\",\"#FFA15A\",\"#19d3f3\",\"#FF6692\",\"#B6E880\",\"#FF97FF\",\"#FECB52\"],\"font\":{\"color\":\"#2a3f5f\"},\"hovermode\":\"closest\",\"hoverlabel\":{\"align\":\"left\"},\"paper_bgcolor\":\"white\",\"plot_bgcolor\":\"#E5ECF6\",\"polar\":{\"bgcolor\":\"#E5ECF6\",\"angularaxis\":{\"gridcolor\":\"white\",\"linecolor\":\"white\",\"ticks\":\"\"},\"radialaxis\":{\"gridcolor\":\"white\",\"linecolor\":\"white\",\"ticks\":\"\"}},\"ternary\":{\"bgcolor\":\"#E5ECF6\",\"aaxis\":{\"gridcolor\":\"white\",\"linecolor\":\"white\",\"ticks\":\"\"},\"baxis\":{\"gridcolor\":\"white\",\"linecolor\":\"white\",\"ticks\":\"\"},\"caxis\":{\"gridcolor\":\"white\",\"linecolor\":\"white\",\"ticks\":\"\"}},\"coloraxis\":{\"colorbar\":{\"outlinewidth\":0,\"ticks\":\"\"}},\"colorscale\":{\"sequential\":[[0.0,\"#0d0887\"],[0.1111111111111111,\"#46039f\"],[0.2222222222222222,\"#7201a8\"],[0.3333333333333333,\"#9c179e\"],[0.4444444444444444,\"#bd3786\"],[0.5555555555555556,\"#d8576b\"],[0.6666666666666666,\"#ed7953\"],[0.7777777777777778,\"#fb9f3a\"],[0.8888888888888888,\"#fdca26\"],[1.0,\"#f0f921\"]],\"sequentialminus\":[[0.0,\"#0d0887\"],[0.1111111111111111,\"#46039f\"],[0.2222222222222222,\"#7201a8\"],[0.3333333333333333,\"#9c179e\"],[0.4444444444444444,\"#bd3786\"],[0.5555555555555556,\"#d8576b\"],[0.6666666666666666,\"#ed7953\"],[0.7777777777777778,\"#fb9f3a\"],[0.8888888888888888,\"#fdca26\"],[1.0,\"#f0f921\"]],\"diverging\":[[0,\"#8e0152\"],[0.1,\"#c51b7d\"],[0.2,\"#de77ae\"],[0.3,\"#f1b6da\"],[0.4,\"#fde0ef\"],[0.5,\"#f7f7f7\"],[0.6,\"#e6f5d0\"],[0.7,\"#b8e186\"],[0.8,\"#7fbc41\"],[0.9,\"#4d9221\"],[1,\"#276419\"]]},\"xaxis\":{\"gridcolor\":\"white\",\"linecolor\":\"white\",\"ticks\":\"\",\"title\":{\"standoff\":15},\"zerolinecolor\":\"white\",\"automargin\":true,\"zerolinewidth\":2},\"yaxis\":{\"gridcolor\":\"white\",\"linecolor\":\"white\",\"ticks\":\"\",\"title\":{\"standoff\":15},\"zerolinecolor\":\"white\",\"automargin\":true,\"zerolinewidth\":2},\"scene\":{\"xaxis\":{\"backgroundcolor\":\"#E5ECF6\",\"gridcolor\":\"white\",\"linecolor\":\"white\",\"showbackground\":true,\"ticks\":\"\",\"zerolinecolor\":\"white\",\"gridwidth\":2},\"yaxis\":{\"backgroundcolor\":\"#E5ECF6\",\"gridcolor\":\"white\",\"linecolor\":\"white\",\"showbackground\":true,\"ticks\":\"\",\"zerolinecolor\":\"white\",\"gridwidth\":2},\"zaxis\":{\"backgroundcolor\":\"#E5ECF6\",\"gridcolor\":\"white\",\"linecolor\":\"white\",\"showbackground\":true,\"ticks\":\"\",\"zerolinecolor\":\"white\",\"gridwidth\":2}},\"shapedefaults\":{\"line\":{\"color\":\"#2a3f5f\"}},\"annotationdefaults\":{\"arrowcolor\":\"#2a3f5f\",\"arrowhead\":0,\"arrowwidth\":1},\"geo\":{\"bgcolor\":\"white\",\"landcolor\":\"#E5ECF6\",\"subunitcolor\":\"white\",\"showland\":true,\"showlakes\":true,\"lakecolor\":\"white\"},\"title\":{\"x\":0.05},\"mapbox\":{\"style\":\"light\"}}},\"scene\":{\"aspectmode\":\"data\"},\"margin\":{\"l\":0,\"r\":0,\"b\":0,\"t\":30},\"title\":{\"text\":\"Interior del Poliedro\"}},                        {\"responsive\": true}                    ).then(function(){\n",
              "                            \n",
              "var gd = document.getElementById('641e3660-2f81-4be1-ade3-d4cd0bd32964');\n",
              "var x = new MutationObserver(function (mutations, observer) {{\n",
              "        var display = window.getComputedStyle(gd).display;\n",
              "        if (!display || display === 'none') {{\n",
              "            console.log([gd, 'removed!']);\n",
              "            Plotly.purge(gd);\n",
              "            observer.disconnect();\n",
              "        }}\n",
              "}});\n",
              "\n",
              "// Listen for the removal of the full notebook cells\n",
              "var notebookContainer = gd.closest('#notebook-container');\n",
              "if (notebookContainer) {{\n",
              "    x.observe(notebookContainer, {childList: true});\n",
              "}}\n",
              "\n",
              "// Listen for the clearing of the current output cell\n",
              "var outputEl = gd.closest('.output');\n",
              "if (outputEl) {{\n",
              "    x.observe(outputEl, {childList: true});\n",
              "}}\n",
              "\n",
              "                        })                };                            </script>        </div>\n",
              "</body>\n",
              "</html>"
            ]
          },
          "metadata": {}
        }
      ],
      "source": [
        "visualizar_transparente_con_bordes(mesh, \"Interior del Poliedro\")"
      ]
    },
    {
      "cell_type": "markdown",
      "source": [
        "**👨‍💻Implementación👩‍💻**"
      ],
      "metadata": {
        "id": "nUEwCYN9hfjH"
      }
    },
    {
      "cell_type": "code",
      "execution_count": null,
      "metadata": {
        "colab": {
          "base_uri": "https://localhost:8080/",
          "height": 542
        },
        "id": "oY9sracyUUWi",
        "outputId": "dc8c687b-2a7d-48b9-9575-a1677dd40a06"
      },
      "outputs": [
        {
          "output_type": "display_data",
          "data": {
            "text/html": [
              "<html>\n",
              "<head><meta charset=\"utf-8\" /></head>\n",
              "<body>\n",
              "    <div>            <script src=\"https://cdnjs.cloudflare.com/ajax/libs/mathjax/2.7.5/MathJax.js?config=TeX-AMS-MML_SVG\"></script><script type=\"text/javascript\">if (window.MathJax && window.MathJax.Hub && window.MathJax.Hub.Config) {window.MathJax.Hub.Config({SVG: {font: \"STIX-Web\"}});}</script>                <script type=\"text/javascript\">window.PlotlyConfig = {MathJaxConfig: 'local'};</script>\n",
              "        <script charset=\"utf-8\" src=\"https://cdn.plot.ly/plotly-2.35.2.min.js\"></script>                <div id=\"a428d259-8479-4390-88db-f675b1c76aec\" class=\"plotly-graph-div\" style=\"height:525px; width:100%;\"></div>            <script type=\"text/javascript\">                                    window.PLOTLYENV=window.PLOTLYENV || {};                                    if (document.getElementById(\"a428d259-8479-4390-88db-f675b1c76aec\")) {                    Plotly.newPlot(                        \"a428d259-8479-4390-88db-f675b1c76aec\",                        [{\"color\":\"lightblue\",\"i\":[0,0,0,1,1,1,1,1,1,1,2,2,3,3,7,4,10,10,10,10,8,9,9,11,11,6,6,5,5,13,12,15,15,17,17,18],\"j\":[1,3,2,4,5,6,7,8,9,3,10,8,10,11,6,9,12,8,13,14,6,15,11,16,14,17,5,15,18,12,17,14,16,19,18,14],\"k\":[2,1,3,5,6,7,8,2,4,9,3,10,11,9,8,5,13,12,14,11,12,5,15,15,16,12,17,18,17,14,14,18,14,14,19,19],\"name\":\"Poliedro\",\"opacity\":0.3,\"x\":[0.0,0.7136442,-0.3568221,-0.3568221,0.7978784,0.9341724,0.9341724,0.7978784,0.1362939,0.1362939,-0.9341724,-0.9341724,-0.1362939,-0.7978784,-0.7136442,-0.1362939,-0.7978784,0.3568221,0.3568221,0.0],\"y\":[0.0,0.0,0.618034,-0.618034,-0.618034,-0.381966,0.381966,0.618034,1.0,-1.0,0.381966,-0.381966,1.0,0.618034,0.0,-1.0,-0.618034,0.618034,-0.618034,0.0],\"z\":[1.070466,0.7978784,0.7978784,0.7978784,0.3568221,-0.3568221,-0.3568221,0.3568221,0.3568221,0.3568221,0.3568221,0.3568221,-0.3568221,-0.3568221,-0.7978784,-0.3568221,-0.3568221,-0.7978784,-0.7978784,-1.070466],\"type\":\"mesh3d\"},{\"line\":{\"color\":\"black\",\"width\":2},\"mode\":\"lines\",\"showlegend\":false,\"x\":[0.0,0.7136442],\"y\":[0.0,0.0],\"z\":[1.070466,0.7978784],\"type\":\"scatter3d\"},{\"line\":{\"color\":\"black\",\"width\":2},\"mode\":\"lines\",\"showlegend\":false,\"x\":[0.7136442,-0.3568221],\"y\":[0.0,0.618034],\"z\":[0.7978784,0.7978784],\"type\":\"scatter3d\"},{\"line\":{\"color\":\"black\",\"width\":2},\"mode\":\"lines\",\"showlegend\":false,\"x\":[-0.3568221,0.0],\"y\":[0.618034,0.0],\"z\":[0.7978784,1.070466],\"type\":\"scatter3d\"},{\"line\":{\"color\":\"black\",\"width\":2},\"mode\":\"lines\",\"showlegend\":false,\"x\":[0.0,-0.3568221],\"y\":[0.0,-0.618034],\"z\":[1.070466,0.7978784],\"type\":\"scatter3d\"},{\"line\":{\"color\":\"black\",\"width\":2},\"mode\":\"lines\",\"showlegend\":false,\"x\":[-0.3568221,0.7136442],\"y\":[-0.618034,0.0],\"z\":[0.7978784,0.7978784],\"type\":\"scatter3d\"},{\"line\":{\"color\":\"black\",\"width\":2},\"mode\":\"lines\",\"showlegend\":false,\"x\":[0.7136442,0.0],\"y\":[0.0,0.0],\"z\":[0.7978784,1.070466],\"type\":\"scatter3d\"},{\"line\":{\"color\":\"black\",\"width\":2},\"mode\":\"lines\",\"showlegend\":false,\"x\":[0.0,-0.3568221],\"y\":[0.0,0.618034],\"z\":[1.070466,0.7978784],\"type\":\"scatter3d\"},{\"line\":{\"color\":\"black\",\"width\":2},\"mode\":\"lines\",\"showlegend\":false,\"x\":[-0.3568221,-0.3568221],\"y\":[0.618034,-0.618034],\"z\":[0.7978784,0.7978784],\"type\":\"scatter3d\"},{\"line\":{\"color\":\"black\",\"width\":2},\"mode\":\"lines\",\"showlegend\":false,\"x\":[-0.3568221,0.0],\"y\":[-0.618034,0.0],\"z\":[0.7978784,1.070466],\"type\":\"scatter3d\"},{\"line\":{\"color\":\"black\",\"width\":2},\"mode\":\"lines\",\"showlegend\":false,\"x\":[0.7136442,0.7978784],\"y\":[0.0,-0.618034],\"z\":[0.7978784,0.3568221],\"type\":\"scatter3d\"},{\"line\":{\"color\":\"black\",\"width\":2},\"mode\":\"lines\",\"showlegend\":false,\"x\":[0.7978784,0.9341724],\"y\":[-0.618034,-0.381966],\"z\":[0.3568221,-0.3568221],\"type\":\"scatter3d\"},{\"line\":{\"color\":\"black\",\"width\":2},\"mode\":\"lines\",\"showlegend\":false,\"x\":[0.9341724,0.7136442],\"y\":[-0.381966,0.0],\"z\":[-0.3568221,0.7978784],\"type\":\"scatter3d\"},{\"line\":{\"color\":\"black\",\"width\":2},\"mode\":\"lines\",\"showlegend\":false,\"x\":[0.7136442,0.9341724],\"y\":[0.0,-0.381966],\"z\":[0.7978784,-0.3568221],\"type\":\"scatter3d\"},{\"line\":{\"color\":\"black\",\"width\":2},\"mode\":\"lines\",\"showlegend\":false,\"x\":[0.9341724,0.9341724],\"y\":[-0.381966,0.381966],\"z\":[-0.3568221,-0.3568221],\"type\":\"scatter3d\"},{\"line\":{\"color\":\"black\",\"width\":2},\"mode\":\"lines\",\"showlegend\":false,\"x\":[0.9341724,0.7136442],\"y\":[0.381966,0.0],\"z\":[-0.3568221,0.7978784],\"type\":\"scatter3d\"},{\"line\":{\"color\":\"black\",\"width\":2},\"mode\":\"lines\",\"showlegend\":false,\"x\":[0.7136442,0.9341724],\"y\":[0.0,0.381966],\"z\":[0.7978784,-0.3568221],\"type\":\"scatter3d\"},{\"line\":{\"color\":\"black\",\"width\":2},\"mode\":\"lines\",\"showlegend\":false,\"x\":[0.9341724,0.7978784],\"y\":[0.381966,0.618034],\"z\":[-0.3568221,0.3568221],\"type\":\"scatter3d\"},{\"line\":{\"color\":\"black\",\"width\":2},\"mode\":\"lines\",\"showlegend\":false,\"x\":[0.7978784,0.7136442],\"y\":[0.618034,0.0],\"z\":[0.3568221,0.7978784],\"type\":\"scatter3d\"},{\"line\":{\"color\":\"black\",\"width\":2},\"mode\":\"lines\",\"showlegend\":false,\"x\":[0.7136442,0.7978784],\"y\":[0.0,0.618034],\"z\":[0.7978784,0.3568221],\"type\":\"scatter3d\"},{\"line\":{\"color\":\"black\",\"width\":2},\"mode\":\"lines\",\"showlegend\":false,\"x\":[0.7978784,0.1362939],\"y\":[0.618034,1.0],\"z\":[0.3568221,0.3568221],\"type\":\"scatter3d\"},{\"line\":{\"color\":\"black\",\"width\":2},\"mode\":\"lines\",\"showlegend\":false,\"x\":[0.1362939,0.7136442],\"y\":[1.0,0.0],\"z\":[0.3568221,0.7978784],\"type\":\"scatter3d\"},{\"line\":{\"color\":\"black\",\"width\":2},\"mode\":\"lines\",\"showlegend\":false,\"x\":[0.7136442,0.1362939],\"y\":[0.0,1.0],\"z\":[0.7978784,0.3568221],\"type\":\"scatter3d\"},{\"line\":{\"color\":\"black\",\"width\":2},\"mode\":\"lines\",\"showlegend\":false,\"x\":[0.1362939,-0.3568221],\"y\":[1.0,0.618034],\"z\":[0.3568221,0.7978784],\"type\":\"scatter3d\"},{\"line\":{\"color\":\"black\",\"width\":2},\"mode\":\"lines\",\"showlegend\":false,\"x\":[-0.3568221,0.7136442],\"y\":[0.618034,0.0],\"z\":[0.7978784,0.7978784],\"type\":\"scatter3d\"},{\"line\":{\"color\":\"black\",\"width\":2},\"mode\":\"lines\",\"showlegend\":false,\"x\":[0.7136442,0.1362939],\"y\":[0.0,-1.0],\"z\":[0.7978784,0.3568221],\"type\":\"scatter3d\"},{\"line\":{\"color\":\"black\",\"width\":2},\"mode\":\"lines\",\"showlegend\":false,\"x\":[0.1362939,0.7978784],\"y\":[-1.0,-0.618034],\"z\":[0.3568221,0.3568221],\"type\":\"scatter3d\"},{\"line\":{\"color\":\"black\",\"width\":2},\"mode\":\"lines\",\"showlegend\":false,\"x\":[0.7978784,0.7136442],\"y\":[-0.618034,0.0],\"z\":[0.3568221,0.7978784],\"type\":\"scatter3d\"},{\"line\":{\"color\":\"black\",\"width\":2},\"mode\":\"lines\",\"showlegend\":false,\"x\":[0.7136442,-0.3568221],\"y\":[0.0,-0.618034],\"z\":[0.7978784,0.7978784],\"type\":\"scatter3d\"},{\"line\":{\"color\":\"black\",\"width\":2},\"mode\":\"lines\",\"showlegend\":false,\"x\":[-0.3568221,0.1362939],\"y\":[-0.618034,-1.0],\"z\":[0.7978784,0.3568221],\"type\":\"scatter3d\"},{\"line\":{\"color\":\"black\",\"width\":2},\"mode\":\"lines\",\"showlegend\":false,\"x\":[0.1362939,0.7136442],\"y\":[-1.0,0.0],\"z\":[0.3568221,0.7978784],\"type\":\"scatter3d\"},{\"line\":{\"color\":\"black\",\"width\":2},\"mode\":\"lines\",\"showlegend\":false,\"x\":[-0.3568221,-0.9341724],\"y\":[0.618034,0.381966],\"z\":[0.7978784,0.3568221],\"type\":\"scatter3d\"},{\"line\":{\"color\":\"black\",\"width\":2},\"mode\":\"lines\",\"showlegend\":false,\"x\":[-0.9341724,-0.3568221],\"y\":[0.381966,-0.618034],\"z\":[0.3568221,0.7978784],\"type\":\"scatter3d\"},{\"line\":{\"color\":\"black\",\"width\":2},\"mode\":\"lines\",\"showlegend\":false,\"x\":[-0.3568221,-0.3568221],\"y\":[-0.618034,0.618034],\"z\":[0.7978784,0.7978784],\"type\":\"scatter3d\"},{\"line\":{\"color\":\"black\",\"width\":2},\"mode\":\"lines\",\"showlegend\":false,\"x\":[-0.3568221,0.1362939],\"y\":[0.618034,1.0],\"z\":[0.7978784,0.3568221],\"type\":\"scatter3d\"},{\"line\":{\"color\":\"black\",\"width\":2},\"mode\":\"lines\",\"showlegend\":false,\"x\":[0.1362939,-0.9341724],\"y\":[1.0,0.381966],\"z\":[0.3568221,0.3568221],\"type\":\"scatter3d\"},{\"line\":{\"color\":\"black\",\"width\":2},\"mode\":\"lines\",\"showlegend\":false,\"x\":[-0.9341724,-0.3568221],\"y\":[0.381966,0.618034],\"z\":[0.3568221,0.7978784],\"type\":\"scatter3d\"},{\"line\":{\"color\":\"black\",\"width\":2},\"mode\":\"lines\",\"showlegend\":false,\"x\":[-0.3568221,-0.9341724],\"y\":[-0.618034,0.381966],\"z\":[0.7978784,0.3568221],\"type\":\"scatter3d\"},{\"line\":{\"color\":\"black\",\"width\":2},\"mode\":\"lines\",\"showlegend\":false,\"x\":[-0.9341724,-0.9341724],\"y\":[0.381966,-0.381966],\"z\":[0.3568221,0.3568221],\"type\":\"scatter3d\"},{\"line\":{\"color\":\"black\",\"width\":2},\"mode\":\"lines\",\"showlegend\":false,\"x\":[-0.9341724,-0.3568221],\"y\":[-0.381966,-0.618034],\"z\":[0.3568221,0.7978784],\"type\":\"scatter3d\"},{\"line\":{\"color\":\"black\",\"width\":2},\"mode\":\"lines\",\"showlegend\":false,\"x\":[-0.3568221,-0.9341724],\"y\":[-0.618034,-0.381966],\"z\":[0.7978784,0.3568221],\"type\":\"scatter3d\"},{\"line\":{\"color\":\"black\",\"width\":2},\"mode\":\"lines\",\"showlegend\":false,\"x\":[-0.9341724,0.1362939],\"y\":[-0.381966,-1.0],\"z\":[0.3568221,0.3568221],\"type\":\"scatter3d\"},{\"line\":{\"color\":\"black\",\"width\":2},\"mode\":\"lines\",\"showlegend\":false,\"x\":[0.1362939,-0.3568221],\"y\":[-1.0,-0.618034],\"z\":[0.3568221,0.7978784],\"type\":\"scatter3d\"},{\"line\":{\"color\":\"black\",\"width\":2},\"mode\":\"lines\",\"showlegend\":false,\"x\":[0.7978784,0.9341724],\"y\":[0.618034,0.381966],\"z\":[0.3568221,-0.3568221],\"type\":\"scatter3d\"},{\"line\":{\"color\":\"black\",\"width\":2},\"mode\":\"lines\",\"showlegend\":false,\"x\":[0.9341724,0.1362939],\"y\":[0.381966,1.0],\"z\":[-0.3568221,0.3568221],\"type\":\"scatter3d\"},{\"line\":{\"color\":\"black\",\"width\":2},\"mode\":\"lines\",\"showlegend\":false,\"x\":[0.1362939,0.7978784],\"y\":[1.0,0.618034],\"z\":[0.3568221,0.3568221],\"type\":\"scatter3d\"},{\"line\":{\"color\":\"black\",\"width\":2},\"mode\":\"lines\",\"showlegend\":false,\"x\":[0.7978784,0.1362939],\"y\":[-0.618034,-1.0],\"z\":[0.3568221,0.3568221],\"type\":\"scatter3d\"},{\"line\":{\"color\":\"black\",\"width\":2},\"mode\":\"lines\",\"showlegend\":false,\"x\":[0.1362939,0.9341724],\"y\":[-1.0,-0.381966],\"z\":[0.3568221,-0.3568221],\"type\":\"scatter3d\"},{\"line\":{\"color\":\"black\",\"width\":2},\"mode\":\"lines\",\"showlegend\":false,\"x\":[0.9341724,0.7978784],\"y\":[-0.381966,-0.618034],\"z\":[-0.3568221,0.3568221],\"type\":\"scatter3d\"},{\"line\":{\"color\":\"black\",\"width\":2},\"mode\":\"lines\",\"showlegend\":false,\"x\":[-0.9341724,-0.1362939],\"y\":[0.381966,1.0],\"z\":[0.3568221,-0.3568221],\"type\":\"scatter3d\"},{\"line\":{\"color\":\"black\",\"width\":2},\"mode\":\"lines\",\"showlegend\":false,\"x\":[-0.1362939,-0.7978784],\"y\":[1.0,0.618034],\"z\":[-0.3568221,-0.3568221],\"type\":\"scatter3d\"},{\"line\":{\"color\":\"black\",\"width\":2},\"mode\":\"lines\",\"showlegend\":false,\"x\":[-0.7978784,-0.9341724],\"y\":[0.618034,0.381966],\"z\":[-0.3568221,0.3568221],\"type\":\"scatter3d\"},{\"line\":{\"color\":\"black\",\"width\":2},\"mode\":\"lines\",\"showlegend\":false,\"x\":[-0.9341724,0.1362939],\"y\":[0.381966,1.0],\"z\":[0.3568221,0.3568221],\"type\":\"scatter3d\"},{\"line\":{\"color\":\"black\",\"width\":2},\"mode\":\"lines\",\"showlegend\":false,\"x\":[0.1362939,-0.1362939],\"y\":[1.0,1.0],\"z\":[0.3568221,-0.3568221],\"type\":\"scatter3d\"},{\"line\":{\"color\":\"black\",\"width\":2},\"mode\":\"lines\",\"showlegend\":false,\"x\":[-0.1362939,-0.9341724],\"y\":[1.0,0.381966],\"z\":[-0.3568221,0.3568221],\"type\":\"scatter3d\"},{\"line\":{\"color\":\"black\",\"width\":2},\"mode\":\"lines\",\"showlegend\":false,\"x\":[-0.9341724,-0.7978784],\"y\":[0.381966,0.618034],\"z\":[0.3568221,-0.3568221],\"type\":\"scatter3d\"},{\"line\":{\"color\":\"black\",\"width\":2},\"mode\":\"lines\",\"showlegend\":false,\"x\":[-0.7978784,-0.7136442],\"y\":[0.618034,0.0],\"z\":[-0.3568221,-0.7978784],\"type\":\"scatter3d\"},{\"line\":{\"color\":\"black\",\"width\":2},\"mode\":\"lines\",\"showlegend\":false,\"x\":[-0.7136442,-0.9341724],\"y\":[0.0,0.381966],\"z\":[-0.7978784,0.3568221],\"type\":\"scatter3d\"},{\"line\":{\"color\":\"black\",\"width\":2},\"mode\":\"lines\",\"showlegend\":false,\"x\":[-0.9341724,-0.7136442],\"y\":[0.381966,0.0],\"z\":[0.3568221,-0.7978784],\"type\":\"scatter3d\"},{\"line\":{\"color\":\"black\",\"width\":2},\"mode\":\"lines\",\"showlegend\":false,\"x\":[-0.7136442,-0.9341724],\"y\":[0.0,-0.381966],\"z\":[-0.7978784,0.3568221],\"type\":\"scatter3d\"},{\"line\":{\"color\":\"black\",\"width\":2},\"mode\":\"lines\",\"showlegend\":false,\"x\":[-0.9341724,-0.9341724],\"y\":[-0.381966,0.381966],\"z\":[0.3568221,0.3568221],\"type\":\"scatter3d\"},{\"line\":{\"color\":\"black\",\"width\":2},\"mode\":\"lines\",\"showlegend\":false,\"x\":[0.1362939,0.9341724],\"y\":[1.0,0.381966],\"z\":[0.3568221,-0.3568221],\"type\":\"scatter3d\"},{\"line\":{\"color\":\"black\",\"width\":2},\"mode\":\"lines\",\"showlegend\":false,\"x\":[0.9341724,-0.1362939],\"y\":[0.381966,1.0],\"z\":[-0.3568221,-0.3568221],\"type\":\"scatter3d\"},{\"line\":{\"color\":\"black\",\"width\":2},\"mode\":\"lines\",\"showlegend\":false,\"x\":[-0.1362939,0.1362939],\"y\":[1.0,1.0],\"z\":[-0.3568221,0.3568221],\"type\":\"scatter3d\"},{\"line\":{\"color\":\"black\",\"width\":2},\"mode\":\"lines\",\"showlegend\":false,\"x\":[0.1362939,-0.1362939],\"y\":[-1.0,-1.0],\"z\":[0.3568221,-0.3568221],\"type\":\"scatter3d\"},{\"line\":{\"color\":\"black\",\"width\":2},\"mode\":\"lines\",\"showlegend\":false,\"x\":[-0.1362939,0.9341724],\"y\":[-1.0,-0.381966],\"z\":[-0.3568221,-0.3568221],\"type\":\"scatter3d\"},{\"line\":{\"color\":\"black\",\"width\":2},\"mode\":\"lines\",\"showlegend\":false,\"x\":[0.9341724,0.1362939],\"y\":[-0.381966,-1.0],\"z\":[-0.3568221,0.3568221],\"type\":\"scatter3d\"},{\"line\":{\"color\":\"black\",\"width\":2},\"mode\":\"lines\",\"showlegend\":false,\"x\":[0.1362939,-0.9341724],\"y\":[-1.0,-0.381966],\"z\":[0.3568221,0.3568221],\"type\":\"scatter3d\"},{\"line\":{\"color\":\"black\",\"width\":2},\"mode\":\"lines\",\"showlegend\":false,\"x\":[-0.9341724,-0.1362939],\"y\":[-0.381966,-1.0],\"z\":[0.3568221,-0.3568221],\"type\":\"scatter3d\"},{\"line\":{\"color\":\"black\",\"width\":2},\"mode\":\"lines\",\"showlegend\":false,\"x\":[-0.1362939,0.1362939],\"y\":[-1.0,-1.0],\"z\":[-0.3568221,0.3568221],\"type\":\"scatter3d\"},{\"line\":{\"color\":\"black\",\"width\":2},\"mode\":\"lines\",\"showlegend\":false,\"x\":[-0.9341724,-0.7978784],\"y\":[-0.381966,-0.618034],\"z\":[0.3568221,-0.3568221],\"type\":\"scatter3d\"},{\"line\":{\"color\":\"black\",\"width\":2},\"mode\":\"lines\",\"showlegend\":false,\"x\":[-0.7978784,-0.1362939],\"y\":[-0.618034,-1.0],\"z\":[-0.3568221,-0.3568221],\"type\":\"scatter3d\"},{\"line\":{\"color\":\"black\",\"width\":2},\"mode\":\"lines\",\"showlegend\":false,\"x\":[-0.1362939,-0.9341724],\"y\":[-1.0,-0.381966],\"z\":[-0.3568221,0.3568221],\"type\":\"scatter3d\"},{\"line\":{\"color\":\"black\",\"width\":2},\"mode\":\"lines\",\"showlegend\":false,\"x\":[-0.9341724,-0.7136442],\"y\":[-0.381966,0.0],\"z\":[0.3568221,-0.7978784],\"type\":\"scatter3d\"},{\"line\":{\"color\":\"black\",\"width\":2},\"mode\":\"lines\",\"showlegend\":false,\"x\":[-0.7136442,-0.7978784],\"y\":[0.0,-0.618034],\"z\":[-0.7978784,-0.3568221],\"type\":\"scatter3d\"},{\"line\":{\"color\":\"black\",\"width\":2},\"mode\":\"lines\",\"showlegend\":false,\"x\":[-0.7978784,-0.9341724],\"y\":[-0.618034,-0.381966],\"z\":[-0.3568221,0.3568221],\"type\":\"scatter3d\"},{\"line\":{\"color\":\"black\",\"width\":2},\"mode\":\"lines\",\"showlegend\":false,\"x\":[0.9341724,0.3568221],\"y\":[0.381966,0.618034],\"z\":[-0.3568221,-0.7978784],\"type\":\"scatter3d\"},{\"line\":{\"color\":\"black\",\"width\":2},\"mode\":\"lines\",\"showlegend\":false,\"x\":[0.3568221,-0.1362939],\"y\":[0.618034,1.0],\"z\":[-0.7978784,-0.3568221],\"type\":\"scatter3d\"},{\"line\":{\"color\":\"black\",\"width\":2},\"mode\":\"lines\",\"showlegend\":false,\"x\":[-0.1362939,0.9341724],\"y\":[1.0,0.381966],\"z\":[-0.3568221,-0.3568221],\"type\":\"scatter3d\"},{\"line\":{\"color\":\"black\",\"width\":2},\"mode\":\"lines\",\"showlegend\":false,\"x\":[0.9341724,0.9341724],\"y\":[0.381966,-0.381966],\"z\":[-0.3568221,-0.3568221],\"type\":\"scatter3d\"},{\"line\":{\"color\":\"black\",\"width\":2},\"mode\":\"lines\",\"showlegend\":false,\"x\":[0.9341724,0.3568221],\"y\":[-0.381966,0.618034],\"z\":[-0.3568221,-0.7978784],\"type\":\"scatter3d\"},{\"line\":{\"color\":\"black\",\"width\":2},\"mode\":\"lines\",\"showlegend\":false,\"x\":[0.3568221,0.9341724],\"y\":[0.618034,0.381966],\"z\":[-0.7978784,-0.3568221],\"type\":\"scatter3d\"},{\"line\":{\"color\":\"black\",\"width\":2},\"mode\":\"lines\",\"showlegend\":false,\"x\":[0.9341724,-0.1362939],\"y\":[-0.381966,-1.0],\"z\":[-0.3568221,-0.3568221],\"type\":\"scatter3d\"},{\"line\":{\"color\":\"black\",\"width\":2},\"mode\":\"lines\",\"showlegend\":false,\"x\":[-0.1362939,0.3568221],\"y\":[-1.0,-0.618034],\"z\":[-0.3568221,-0.7978784],\"type\":\"scatter3d\"},{\"line\":{\"color\":\"black\",\"width\":2},\"mode\":\"lines\",\"showlegend\":false,\"x\":[0.3568221,0.9341724],\"y\":[-0.618034,-0.381966],\"z\":[-0.7978784,-0.3568221],\"type\":\"scatter3d\"},{\"line\":{\"color\":\"black\",\"width\":2},\"mode\":\"lines\",\"showlegend\":false,\"x\":[0.9341724,0.3568221],\"y\":[-0.381966,-0.618034],\"z\":[-0.3568221,-0.7978784],\"type\":\"scatter3d\"},{\"line\":{\"color\":\"black\",\"width\":2},\"mode\":\"lines\",\"showlegend\":false,\"x\":[0.3568221,0.3568221],\"y\":[-0.618034,0.618034],\"z\":[-0.7978784,-0.7978784],\"type\":\"scatter3d\"},{\"line\":{\"color\":\"black\",\"width\":2},\"mode\":\"lines\",\"showlegend\":false,\"x\":[0.3568221,0.9341724],\"y\":[0.618034,-0.381966],\"z\":[-0.7978784,-0.3568221],\"type\":\"scatter3d\"},{\"line\":{\"color\":\"black\",\"width\":2},\"mode\":\"lines\",\"showlegend\":false,\"x\":[-0.7978784,-0.1362939],\"y\":[0.618034,1.0],\"z\":[-0.3568221,-0.3568221],\"type\":\"scatter3d\"},{\"line\":{\"color\":\"black\",\"width\":2},\"mode\":\"lines\",\"showlegend\":false,\"x\":[-0.1362939,-0.7136442],\"y\":[1.0,0.0],\"z\":[-0.3568221,-0.7978784],\"type\":\"scatter3d\"},{\"line\":{\"color\":\"black\",\"width\":2},\"mode\":\"lines\",\"showlegend\":false,\"x\":[-0.7136442,-0.7978784],\"y\":[0.0,0.618034],\"z\":[-0.7978784,-0.3568221],\"type\":\"scatter3d\"},{\"line\":{\"color\":\"black\",\"width\":2},\"mode\":\"lines\",\"showlegend\":false,\"x\":[-0.1362939,0.3568221],\"y\":[1.0,0.618034],\"z\":[-0.3568221,-0.7978784],\"type\":\"scatter3d\"},{\"line\":{\"color\":\"black\",\"width\":2},\"mode\":\"lines\",\"showlegend\":false,\"x\":[0.3568221,-0.7136442],\"y\":[0.618034,0.0],\"z\":[-0.7978784,-0.7978784],\"type\":\"scatter3d\"},{\"line\":{\"color\":\"black\",\"width\":2},\"mode\":\"lines\",\"showlegend\":false,\"x\":[-0.7136442,-0.1362939],\"y\":[0.0,1.0],\"z\":[-0.7978784,-0.3568221],\"type\":\"scatter3d\"},{\"line\":{\"color\":\"black\",\"width\":2},\"mode\":\"lines\",\"showlegend\":false,\"x\":[-0.1362939,-0.7136442],\"y\":[-1.0,0.0],\"z\":[-0.3568221,-0.7978784],\"type\":\"scatter3d\"},{\"line\":{\"color\":\"black\",\"width\":2},\"mode\":\"lines\",\"showlegend\":false,\"x\":[-0.7136442,0.3568221],\"y\":[0.0,-0.618034],\"z\":[-0.7978784,-0.7978784],\"type\":\"scatter3d\"},{\"line\":{\"color\":\"black\",\"width\":2},\"mode\":\"lines\",\"showlegend\":false,\"x\":[0.3568221,-0.1362939],\"y\":[-0.618034,-1.0],\"z\":[-0.7978784,-0.3568221],\"type\":\"scatter3d\"},{\"line\":{\"color\":\"black\",\"width\":2},\"mode\":\"lines\",\"showlegend\":false,\"x\":[-0.1362939,-0.7978784],\"y\":[-1.0,-0.618034],\"z\":[-0.3568221,-0.3568221],\"type\":\"scatter3d\"},{\"line\":{\"color\":\"black\",\"width\":2},\"mode\":\"lines\",\"showlegend\":false,\"x\":[-0.7978784,-0.7136442],\"y\":[-0.618034,0.0],\"z\":[-0.3568221,-0.7978784],\"type\":\"scatter3d\"},{\"line\":{\"color\":\"black\",\"width\":2},\"mode\":\"lines\",\"showlegend\":false,\"x\":[-0.7136442,-0.1362939],\"y\":[0.0,-1.0],\"z\":[-0.7978784,-0.3568221],\"type\":\"scatter3d\"},{\"line\":{\"color\":\"black\",\"width\":2},\"mode\":\"lines\",\"showlegend\":false,\"x\":[0.3568221,0.0],\"y\":[0.618034,0.0],\"z\":[-0.7978784,-1.070466],\"type\":\"scatter3d\"},{\"line\":{\"color\":\"black\",\"width\":2},\"mode\":\"lines\",\"showlegend\":false,\"x\":[0.0,-0.7136442],\"y\":[0.0,0.0],\"z\":[-1.070466,-0.7978784],\"type\":\"scatter3d\"},{\"line\":{\"color\":\"black\",\"width\":2},\"mode\":\"lines\",\"showlegend\":false,\"x\":[-0.7136442,0.3568221],\"y\":[0.0,0.618034],\"z\":[-0.7978784,-0.7978784],\"type\":\"scatter3d\"},{\"line\":{\"color\":\"black\",\"width\":2},\"mode\":\"lines\",\"showlegend\":false,\"x\":[0.3568221,0.3568221],\"y\":[0.618034,-0.618034],\"z\":[-0.7978784,-0.7978784],\"type\":\"scatter3d\"},{\"line\":{\"color\":\"black\",\"width\":2},\"mode\":\"lines\",\"showlegend\":false,\"x\":[0.3568221,0.0],\"y\":[-0.618034,0.0],\"z\":[-0.7978784,-1.070466],\"type\":\"scatter3d\"},{\"line\":{\"color\":\"black\",\"width\":2},\"mode\":\"lines\",\"showlegend\":false,\"x\":[0.0,0.3568221],\"y\":[0.0,0.618034],\"z\":[-1.070466,-0.7978784],\"type\":\"scatter3d\"},{\"line\":{\"color\":\"black\",\"width\":2},\"mode\":\"lines\",\"showlegend\":false,\"x\":[0.3568221,-0.7136442],\"y\":[-0.618034,0.0],\"z\":[-0.7978784,-0.7978784],\"type\":\"scatter3d\"},{\"line\":{\"color\":\"black\",\"width\":2},\"mode\":\"lines\",\"showlegend\":false,\"x\":[-0.7136442,0.0],\"y\":[0.0,0.0],\"z\":[-0.7978784,-1.070466],\"type\":\"scatter3d\"},{\"line\":{\"color\":\"black\",\"width\":2},\"mode\":\"lines\",\"showlegend\":false,\"x\":[0.0,0.3568221],\"y\":[0.0,-0.618034],\"z\":[-1.070466,-0.7978784],\"type\":\"scatter3d\"}],                        {\"template\":{\"data\":{\"histogram2dcontour\":[{\"type\":\"histogram2dcontour\",\"colorbar\":{\"outlinewidth\":0,\"ticks\":\"\"},\"colorscale\":[[0.0,\"#0d0887\"],[0.1111111111111111,\"#46039f\"],[0.2222222222222222,\"#7201a8\"],[0.3333333333333333,\"#9c179e\"],[0.4444444444444444,\"#bd3786\"],[0.5555555555555556,\"#d8576b\"],[0.6666666666666666,\"#ed7953\"],[0.7777777777777778,\"#fb9f3a\"],[0.8888888888888888,\"#fdca26\"],[1.0,\"#f0f921\"]]}],\"choropleth\":[{\"type\":\"choropleth\",\"colorbar\":{\"outlinewidth\":0,\"ticks\":\"\"}}],\"histogram2d\":[{\"type\":\"histogram2d\",\"colorbar\":{\"outlinewidth\":0,\"ticks\":\"\"},\"colorscale\":[[0.0,\"#0d0887\"],[0.1111111111111111,\"#46039f\"],[0.2222222222222222,\"#7201a8\"],[0.3333333333333333,\"#9c179e\"],[0.4444444444444444,\"#bd3786\"],[0.5555555555555556,\"#d8576b\"],[0.6666666666666666,\"#ed7953\"],[0.7777777777777778,\"#fb9f3a\"],[0.8888888888888888,\"#fdca26\"],[1.0,\"#f0f921\"]]}],\"heatmap\":[{\"type\":\"heatmap\",\"colorbar\":{\"outlinewidth\":0,\"ticks\":\"\"},\"colorscale\":[[0.0,\"#0d0887\"],[0.1111111111111111,\"#46039f\"],[0.2222222222222222,\"#7201a8\"],[0.3333333333333333,\"#9c179e\"],[0.4444444444444444,\"#bd3786\"],[0.5555555555555556,\"#d8576b\"],[0.6666666666666666,\"#ed7953\"],[0.7777777777777778,\"#fb9f3a\"],[0.8888888888888888,\"#fdca26\"],[1.0,\"#f0f921\"]]}],\"heatmapgl\":[{\"type\":\"heatmapgl\",\"colorbar\":{\"outlinewidth\":0,\"ticks\":\"\"},\"colorscale\":[[0.0,\"#0d0887\"],[0.1111111111111111,\"#46039f\"],[0.2222222222222222,\"#7201a8\"],[0.3333333333333333,\"#9c179e\"],[0.4444444444444444,\"#bd3786\"],[0.5555555555555556,\"#d8576b\"],[0.6666666666666666,\"#ed7953\"],[0.7777777777777778,\"#fb9f3a\"],[0.8888888888888888,\"#fdca26\"],[1.0,\"#f0f921\"]]}],\"contourcarpet\":[{\"type\":\"contourcarpet\",\"colorbar\":{\"outlinewidth\":0,\"ticks\":\"\"}}],\"contour\":[{\"type\":\"contour\",\"colorbar\":{\"outlinewidth\":0,\"ticks\":\"\"},\"colorscale\":[[0.0,\"#0d0887\"],[0.1111111111111111,\"#46039f\"],[0.2222222222222222,\"#7201a8\"],[0.3333333333333333,\"#9c179e\"],[0.4444444444444444,\"#bd3786\"],[0.5555555555555556,\"#d8576b\"],[0.6666666666666666,\"#ed7953\"],[0.7777777777777778,\"#fb9f3a\"],[0.8888888888888888,\"#fdca26\"],[1.0,\"#f0f921\"]]}],\"surface\":[{\"type\":\"surface\",\"colorbar\":{\"outlinewidth\":0,\"ticks\":\"\"},\"colorscale\":[[0.0,\"#0d0887\"],[0.1111111111111111,\"#46039f\"],[0.2222222222222222,\"#7201a8\"],[0.3333333333333333,\"#9c179e\"],[0.4444444444444444,\"#bd3786\"],[0.5555555555555556,\"#d8576b\"],[0.6666666666666666,\"#ed7953\"],[0.7777777777777778,\"#fb9f3a\"],[0.8888888888888888,\"#fdca26\"],[1.0,\"#f0f921\"]]}],\"mesh3d\":[{\"type\":\"mesh3d\",\"colorbar\":{\"outlinewidth\":0,\"ticks\":\"\"}}],\"scatter\":[{\"fillpattern\":{\"fillmode\":\"overlay\",\"size\":10,\"solidity\":0.2},\"type\":\"scatter\"}],\"parcoords\":[{\"type\":\"parcoords\",\"line\":{\"colorbar\":{\"outlinewidth\":0,\"ticks\":\"\"}}}],\"scatterpolargl\":[{\"type\":\"scatterpolargl\",\"marker\":{\"colorbar\":{\"outlinewidth\":0,\"ticks\":\"\"}}}],\"bar\":[{\"error_x\":{\"color\":\"#2a3f5f\"},\"error_y\":{\"color\":\"#2a3f5f\"},\"marker\":{\"line\":{\"color\":\"#E5ECF6\",\"width\":0.5},\"pattern\":{\"fillmode\":\"overlay\",\"size\":10,\"solidity\":0.2}},\"type\":\"bar\"}],\"scattergeo\":[{\"type\":\"scattergeo\",\"marker\":{\"colorbar\":{\"outlinewidth\":0,\"ticks\":\"\"}}}],\"scatterpolar\":[{\"type\":\"scatterpolar\",\"marker\":{\"colorbar\":{\"outlinewidth\":0,\"ticks\":\"\"}}}],\"histogram\":[{\"marker\":{\"pattern\":{\"fillmode\":\"overlay\",\"size\":10,\"solidity\":0.2}},\"type\":\"histogram\"}],\"scattergl\":[{\"type\":\"scattergl\",\"marker\":{\"colorbar\":{\"outlinewidth\":0,\"ticks\":\"\"}}}],\"scatter3d\":[{\"type\":\"scatter3d\",\"line\":{\"colorbar\":{\"outlinewidth\":0,\"ticks\":\"\"}},\"marker\":{\"colorbar\":{\"outlinewidth\":0,\"ticks\":\"\"}}}],\"scattermapbox\":[{\"type\":\"scattermapbox\",\"marker\":{\"colorbar\":{\"outlinewidth\":0,\"ticks\":\"\"}}}],\"scatterternary\":[{\"type\":\"scatterternary\",\"marker\":{\"colorbar\":{\"outlinewidth\":0,\"ticks\":\"\"}}}],\"scattercarpet\":[{\"type\":\"scattercarpet\",\"marker\":{\"colorbar\":{\"outlinewidth\":0,\"ticks\":\"\"}}}],\"carpet\":[{\"aaxis\":{\"endlinecolor\":\"#2a3f5f\",\"gridcolor\":\"white\",\"linecolor\":\"white\",\"minorgridcolor\":\"white\",\"startlinecolor\":\"#2a3f5f\"},\"baxis\":{\"endlinecolor\":\"#2a3f5f\",\"gridcolor\":\"white\",\"linecolor\":\"white\",\"minorgridcolor\":\"white\",\"startlinecolor\":\"#2a3f5f\"},\"type\":\"carpet\"}],\"table\":[{\"cells\":{\"fill\":{\"color\":\"#EBF0F8\"},\"line\":{\"color\":\"white\"}},\"header\":{\"fill\":{\"color\":\"#C8D4E3\"},\"line\":{\"color\":\"white\"}},\"type\":\"table\"}],\"barpolar\":[{\"marker\":{\"line\":{\"color\":\"#E5ECF6\",\"width\":0.5},\"pattern\":{\"fillmode\":\"overlay\",\"size\":10,\"solidity\":0.2}},\"type\":\"barpolar\"}],\"pie\":[{\"automargin\":true,\"type\":\"pie\"}]},\"layout\":{\"autotypenumbers\":\"strict\",\"colorway\":[\"#636efa\",\"#EF553B\",\"#00cc96\",\"#ab63fa\",\"#FFA15A\",\"#19d3f3\",\"#FF6692\",\"#B6E880\",\"#FF97FF\",\"#FECB52\"],\"font\":{\"color\":\"#2a3f5f\"},\"hovermode\":\"closest\",\"hoverlabel\":{\"align\":\"left\"},\"paper_bgcolor\":\"white\",\"plot_bgcolor\":\"#E5ECF6\",\"polar\":{\"bgcolor\":\"#E5ECF6\",\"angularaxis\":{\"gridcolor\":\"white\",\"linecolor\":\"white\",\"ticks\":\"\"},\"radialaxis\":{\"gridcolor\":\"white\",\"linecolor\":\"white\",\"ticks\":\"\"}},\"ternary\":{\"bgcolor\":\"#E5ECF6\",\"aaxis\":{\"gridcolor\":\"white\",\"linecolor\":\"white\",\"ticks\":\"\"},\"baxis\":{\"gridcolor\":\"white\",\"linecolor\":\"white\",\"ticks\":\"\"},\"caxis\":{\"gridcolor\":\"white\",\"linecolor\":\"white\",\"ticks\":\"\"}},\"coloraxis\":{\"colorbar\":{\"outlinewidth\":0,\"ticks\":\"\"}},\"colorscale\":{\"sequential\":[[0.0,\"#0d0887\"],[0.1111111111111111,\"#46039f\"],[0.2222222222222222,\"#7201a8\"],[0.3333333333333333,\"#9c179e\"],[0.4444444444444444,\"#bd3786\"],[0.5555555555555556,\"#d8576b\"],[0.6666666666666666,\"#ed7953\"],[0.7777777777777778,\"#fb9f3a\"],[0.8888888888888888,\"#fdca26\"],[1.0,\"#f0f921\"]],\"sequentialminus\":[[0.0,\"#0d0887\"],[0.1111111111111111,\"#46039f\"],[0.2222222222222222,\"#7201a8\"],[0.3333333333333333,\"#9c179e\"],[0.4444444444444444,\"#bd3786\"],[0.5555555555555556,\"#d8576b\"],[0.6666666666666666,\"#ed7953\"],[0.7777777777777778,\"#fb9f3a\"],[0.8888888888888888,\"#fdca26\"],[1.0,\"#f0f921\"]],\"diverging\":[[0,\"#8e0152\"],[0.1,\"#c51b7d\"],[0.2,\"#de77ae\"],[0.3,\"#f1b6da\"],[0.4,\"#fde0ef\"],[0.5,\"#f7f7f7\"],[0.6,\"#e6f5d0\"],[0.7,\"#b8e186\"],[0.8,\"#7fbc41\"],[0.9,\"#4d9221\"],[1,\"#276419\"]]},\"xaxis\":{\"gridcolor\":\"white\",\"linecolor\":\"white\",\"ticks\":\"\",\"title\":{\"standoff\":15},\"zerolinecolor\":\"white\",\"automargin\":true,\"zerolinewidth\":2},\"yaxis\":{\"gridcolor\":\"white\",\"linecolor\":\"white\",\"ticks\":\"\",\"title\":{\"standoff\":15},\"zerolinecolor\":\"white\",\"automargin\":true,\"zerolinewidth\":2},\"scene\":{\"xaxis\":{\"backgroundcolor\":\"#E5ECF6\",\"gridcolor\":\"white\",\"linecolor\":\"white\",\"showbackground\":true,\"ticks\":\"\",\"zerolinecolor\":\"white\",\"gridwidth\":2},\"yaxis\":{\"backgroundcolor\":\"#E5ECF6\",\"gridcolor\":\"white\",\"linecolor\":\"white\",\"showbackground\":true,\"ticks\":\"\",\"zerolinecolor\":\"white\",\"gridwidth\":2},\"zaxis\":{\"backgroundcolor\":\"#E5ECF6\",\"gridcolor\":\"white\",\"linecolor\":\"white\",\"showbackground\":true,\"ticks\":\"\",\"zerolinecolor\":\"white\",\"gridwidth\":2}},\"shapedefaults\":{\"line\":{\"color\":\"#2a3f5f\"}},\"annotationdefaults\":{\"arrowcolor\":\"#2a3f5f\",\"arrowhead\":0,\"arrowwidth\":1},\"geo\":{\"bgcolor\":\"white\",\"landcolor\":\"#E5ECF6\",\"subunitcolor\":\"white\",\"showland\":true,\"showlakes\":true,\"lakecolor\":\"white\"},\"title\":{\"x\":0.05},\"mapbox\":{\"style\":\"light\"}}},\"scene\":{\"aspectmode\":\"data\"},\"margin\":{\"l\":0,\"r\":0,\"b\":0,\"t\":30},\"title\":{\"text\":\"Tetrahedralizaci\\u00f3n (volumen interno)\"}},                        {\"responsive\": true}                    ).then(function(){\n",
              "                            \n",
              "var gd = document.getElementById('a428d259-8479-4390-88db-f675b1c76aec');\n",
              "var x = new MutationObserver(function (mutations, observer) {{\n",
              "        var display = window.getComputedStyle(gd).display;\n",
              "        if (!display || display === 'none') {{\n",
              "            console.log([gd, 'removed!']);\n",
              "            Plotly.purge(gd);\n",
              "            observer.disconnect();\n",
              "        }}\n",
              "}});\n",
              "\n",
              "// Listen for the removal of the full notebook cells\n",
              "var notebookContainer = gd.closest('#notebook-container');\n",
              "if (notebookContainer) {{\n",
              "    x.observe(notebookContainer, {childList: true});\n",
              "}}\n",
              "\n",
              "// Listen for the clearing of the current output cell\n",
              "var outputEl = gd.closest('.output');\n",
              "if (outputEl) {{\n",
              "    x.observe(outputEl, {childList: true});\n",
              "}}\n",
              "\n",
              "                        })                };                            </script>        </div>\n",
              "</body>\n",
              "</html>"
            ]
          },
          "metadata": {}
        }
      ],
      "source": [
        "\n",
        "faces_pv = np.hstack([[3, *face] for face in mesh.faces])\n",
        "pv_mesh = pv.PolyData(mesh.vertices, faces_pv)\n",
        "volumen = pv_mesh.delaunay_3d()\n",
        "superficie = volumen.extract_surface()\n",
        "v = np.array(superficie.points)\n",
        "f = np.array(superficie.faces).reshape((-1, 4))[:, 1:]\n",
        "\n",
        "mesh_tetra = trimesh.Trimesh(vertices=v, faces=f)\n",
        "visualizar_transparente_con_bordes(mesh_tetra, \"Tetrahedralización (volumen interno)\")"
      ]
    },
    {
      "cell_type": "markdown",
      "metadata": {
        "id": "xOzTvwljVfD6"
      },
      "source": [
        "# **Diferentes triangulaciones**"
      ]
    },
    {
      "cell_type": "markdown",
      "metadata": {
        "id": "_YVifVflJe-w"
      },
      "source": [
        "## **1-Triangulación de las caras**"
      ]
    },
    {
      "cell_type": "markdown",
      "source": [
        "**👨‍💻Implementación👩‍💻**"
      ],
      "metadata": {
        "id": "67sgbLqBhhs9"
      }
    },
    {
      "cell_type": "code",
      "execution_count": null,
      "metadata": {
        "id": "1cqtKaFfJjvl"
      },
      "outputs": [],
      "source": [
        "\n",
        "triang_1 = mesh.subdivide()"
      ]
    },
    {
      "cell_type": "markdown",
      "metadata": {
        "id": "Ur7diyE1Jm3K"
      },
      "source": [
        "**Número de triángulos de la triangulación**"
      ]
    },
    {
      "cell_type": "markdown",
      "source": [
        "**👨‍💻Implementación👩‍💻**"
      ],
      "metadata": {
        "id": "oXoi5qXtiBsE"
      }
    },
    {
      "cell_type": "code",
      "execution_count": null,
      "metadata": {
        "id": "sZB2inI8JtZG",
        "colab": {
          "base_uri": "https://localhost:8080/"
        },
        "outputId": "d677ddbb-9536-482b-a7ae-f694950184cf"
      },
      "outputs": [
        {
          "output_type": "stream",
          "name": "stdout",
          "text": [
            "Triangulación 1 : 144 triángulos\n"
          ]
        }
      ],
      "source": [
        "\n",
        "print(\"Triangulación 1 :\", len(triang_1.faces), \"triángulos\")"
      ]
    },
    {
      "cell_type": "markdown",
      "source": [
        "**🥸Ver triangulación coloreada🤓**"
      ],
      "metadata": {
        "id": "KnIjcDb6jifG"
      }
    },
    {
      "cell_type": "markdown",
      "source": [
        "**👨‍💻Implementación👩‍💻**"
      ],
      "metadata": {
        "id": "LQBuyGJii3oS"
      }
    },
    {
      "cell_type": "code",
      "source": [
        "\n",
        "visualizar_coloreado(triang_1, \"Triangulación 1\")"
      ],
      "metadata": {
        "colab": {
          "base_uri": "https://localhost:8080/",
          "height": 542
        },
        "id": "pFquVR6IizRb",
        "outputId": "97eee933-63dd-4ff8-f042-bc0d496869f3"
      },
      "execution_count": null,
      "outputs": [
        {
          "output_type": "display_data",
          "data": {
            "text/html": [
              "<html>\n",
              "<head><meta charset=\"utf-8\" /></head>\n",
              "<body>\n",
              "    <div>            <script src=\"https://cdnjs.cloudflare.com/ajax/libs/mathjax/2.7.5/MathJax.js?config=TeX-AMS-MML_SVG\"></script><script type=\"text/javascript\">if (window.MathJax && window.MathJax.Hub && window.MathJax.Hub.Config) {window.MathJax.Hub.Config({SVG: {font: \"STIX-Web\"}});}</script>                <script type=\"text/javascript\">window.PlotlyConfig = {MathJaxConfig: 'local'};</script>\n",
              "        <script charset=\"utf-8\" src=\"https://cdn.plot.ly/plotly-2.35.2.min.js\"></script>                <div id=\"37c294f9-0b37-444e-9705-44beecb22044\" class=\"plotly-graph-div\" style=\"height:525px; width:100%;\"></div>            <script type=\"text/javascript\">                                    window.PLOTLYENV=window.PLOTLYENV || {};                                    if (document.getElementById(\"37c294f9-0b37-444e-9705-44beecb22044\")) {                    Plotly.newPlot(                        \"37c294f9-0b37-444e-9705-44beecb22044\",                        [{\"color\":\"rgb(113, 172, 106)\",\"i\":[0],\"j\":[1],\"k\":[2],\"name\":\"Face 0\",\"opacity\":1.0,\"x\":[0.0,0.3568221,0.3989392],\"y\":[0.0,0.0,0.309017],\"z\":[1.070466,0.9341721999999999,0.71364405],\"type\":\"mesh3d\"},{\"color\":\"rgb(153, 246, 18)\",\"i\":[0],\"j\":[1],\"k\":[2],\"name\":\"Face 1\",\"opacity\":1.0,\"x\":[0.3568221,0.7136442,0.7557613],\"y\":[0.0,0.0,0.309017],\"z\":[0.9341721999999999,0.7978784,0.57735025],\"type\":\"mesh3d\"},{\"color\":\"rgb(231, 139, 63)\",\"i\":[0],\"j\":[1],\"k\":[2],\"name\":\"Face 2\",\"opacity\":1.0,\"x\":[0.3989392,0.7557613,0.7978784],\"y\":[0.309017,0.309017,0.618034],\"z\":[0.71364405,0.57735025,0.3568221],\"type\":\"mesh3d\"},{\"color\":\"rgb(175, 169, 104)\",\"i\":[0],\"j\":[1],\"k\":[2],\"name\":\"Face 3\",\"opacity\":1.0,\"x\":[0.3568221,0.7557613,0.3989392],\"y\":[0.0,0.309017,0.309017],\"z\":[0.9341721999999999,0.57735025,0.71364405],\"type\":\"mesh3d\"},{\"color\":\"rgb(129, 117, 121)\",\"i\":[0],\"j\":[1],\"k\":[2],\"name\":\"Face 4\",\"opacity\":1.0,\"x\":[0.0,0.3989392,0.06814695],\"y\":[0.0,0.309017,0.5],\"z\":[1.070466,0.71364405,0.71364405],\"type\":\"mesh3d\"},{\"color\":\"rgb(81, 203, 112)\",\"i\":[0],\"j\":[1],\"k\":[2],\"name\":\"Face 5\",\"opacity\":1.0,\"x\":[0.3989392,0.7978784,0.46708615],\"y\":[0.309017,0.618034,0.809017],\"z\":[0.71364405,0.3568221,0.3568221],\"type\":\"mesh3d\"},{\"color\":\"rgb(146, 127, 33)\",\"i\":[0],\"j\":[1],\"k\":[2],\"name\":\"Face 6\",\"opacity\":1.0,\"x\":[0.06814695,0.46708615,0.1362939],\"y\":[0.5,0.809017,1.0],\"z\":[0.71364405,0.3568221,0.3568221],\"type\":\"mesh3d\"},{\"color\":\"rgb(112, 149, 223)\",\"i\":[0],\"j\":[1],\"k\":[2],\"name\":\"Face 7\",\"opacity\":1.0,\"x\":[0.3989392,0.46708615,0.06814695],\"y\":[0.309017,0.809017,0.5],\"z\":[0.71364405,0.3568221,0.71364405],\"type\":\"mesh3d\"},{\"color\":\"rgb(208, 255, 24)\",\"i\":[0],\"j\":[1],\"k\":[2],\"name\":\"Face 8\",\"opacity\":1.0,\"x\":[0.0,0.06814695,-0.17841105],\"y\":[0.0,0.5,0.309017],\"z\":[1.070466,0.71364405,0.9341721999999999],\"type\":\"mesh3d\"},{\"color\":\"rgb(124, 131, 120)\",\"i\":[0],\"j\":[1],\"k\":[2],\"name\":\"Face 9\",\"opacity\":1.0,\"x\":[0.06814695,0.1362939,-0.11026409999999999],\"y\":[0.5,1.0,0.809017],\"z\":[0.71364405,0.3568221,0.57735025],\"type\":\"mesh3d\"},{\"color\":\"rgb(248, 206, 232)\",\"i\":[0],\"j\":[1],\"k\":[2],\"name\":\"Face 10\",\"opacity\":1.0,\"x\":[-0.17841105,-0.11026409999999999,-0.3568221],\"y\":[0.309017,0.809017,0.618034],\"z\":[0.9341721999999999,0.57735025,0.7978784],\"type\":\"mesh3d\"},{\"color\":\"rgb(221, 8, 192)\",\"i\":[0],\"j\":[1],\"k\":[2],\"name\":\"Face 11\",\"opacity\":1.0,\"x\":[0.06814695,-0.11026409999999999,-0.17841105],\"y\":[0.5,0.809017,0.309017],\"z\":[0.71364405,0.57735025,0.9341721999999999],\"type\":\"mesh3d\"},{\"color\":\"rgb(172, 145, 128)\",\"i\":[0],\"j\":[1],\"k\":[2],\"name\":\"Face 12\",\"opacity\":1.0,\"x\":[0.0,-0.17841105,-0.4670862],\"y\":[0.0,0.309017,0.190983],\"z\":[1.070466,0.9341721999999999,0.71364405],\"type\":\"mesh3d\"},{\"color\":\"rgb(17, 160, 93)\",\"i\":[0],\"j\":[1],\"k\":[2],\"name\":\"Face 13\",\"opacity\":1.0,\"x\":[-0.17841105,-0.3568221,-0.64549725],\"y\":[0.309017,0.618034,0.5],\"z\":[0.9341721999999999,0.7978784,0.57735025],\"type\":\"mesh3d\"},{\"color\":\"rgb(81, 203, 241)\",\"i\":[0],\"j\":[1],\"k\":[2],\"name\":\"Face 14\",\"opacity\":1.0,\"x\":[-0.4670862,-0.64549725,-0.9341724],\"y\":[0.190983,0.5,0.381966],\"z\":[0.71364405,0.57735025,0.3568221],\"type\":\"mesh3d\"},{\"color\":\"rgb(183, 69, 86)\",\"i\":[0],\"j\":[1],\"k\":[2],\"name\":\"Face 15\",\"opacity\":1.0,\"x\":[-0.17841105,-0.64549725,-0.4670862],\"y\":[0.309017,0.5,0.190983],\"z\":[0.9341721999999999,0.57735025,0.71364405],\"type\":\"mesh3d\"},{\"color\":\"rgb(119, 255, 211)\",\"i\":[0],\"j\":[1],\"k\":[2],\"name\":\"Face 16\",\"opacity\":1.0,\"x\":[0.0,-0.4670862,-0.4670862],\"y\":[0.0,0.190983,-0.190983],\"z\":[1.070466,0.71364405,0.71364405],\"type\":\"mesh3d\"},{\"color\":\"rgb(142, 131, 178)\",\"i\":[0],\"j\":[1],\"k\":[2],\"name\":\"Face 17\",\"opacity\":1.0,\"x\":[-0.4670862,-0.9341724,-0.9341724],\"y\":[0.190983,0.381966,0.0],\"z\":[0.71364405,0.3568221,0.3568221],\"type\":\"mesh3d\"},{\"color\":\"rgb(21, 88, 181)\",\"i\":[0],\"j\":[1],\"k\":[2],\"name\":\"Face 18\",\"opacity\":1.0,\"x\":[-0.4670862,-0.9341724,-0.9341724],\"y\":[-0.190983,0.0,-0.381966],\"z\":[0.71364405,0.3568221,0.3568221],\"type\":\"mesh3d\"},{\"color\":\"rgb(118, 168, 124)\",\"i\":[0],\"j\":[1],\"k\":[2],\"name\":\"Face 19\",\"opacity\":1.0,\"x\":[-0.4670862,-0.9341724,-0.4670862],\"y\":[0.190983,0.0,-0.190983],\"z\":[0.71364405,0.3568221,0.71364405],\"type\":\"mesh3d\"},{\"color\":\"rgb(147, 193, 23)\",\"i\":[0],\"j\":[1],\"k\":[2],\"name\":\"Face 20\",\"opacity\":1.0,\"x\":[0.0,-0.4670862,-0.17841105],\"y\":[0.0,-0.190983,-0.309017],\"z\":[1.070466,0.71364405,0.9341721999999999],\"type\":\"mesh3d\"},{\"color\":\"rgb(75, 184, 242)\",\"i\":[0],\"j\":[1],\"k\":[2],\"name\":\"Face 21\",\"opacity\":1.0,\"x\":[-0.4670862,-0.9341724,-0.64549725],\"y\":[-0.190983,-0.381966,-0.5],\"z\":[0.71364405,0.3568221,0.57735025],\"type\":\"mesh3d\"},{\"color\":\"rgb(80, 56, 209)\",\"i\":[0],\"j\":[1],\"k\":[2],\"name\":\"Face 22\",\"opacity\":1.0,\"x\":[-0.17841105,-0.64549725,-0.3568221],\"y\":[-0.309017,-0.5,-0.618034],\"z\":[0.9341721999999999,0.57735025,0.7978784],\"type\":\"mesh3d\"},{\"color\":\"rgb(109, 230, 95)\",\"i\":[0],\"j\":[1],\"k\":[2],\"name\":\"Face 23\",\"opacity\":1.0,\"x\":[-0.4670862,-0.64549725,-0.17841105],\"y\":[-0.190983,-0.5,-0.309017],\"z\":[0.71364405,0.57735025,0.9341721999999999],\"type\":\"mesh3d\"},{\"color\":\"rgb(7, 175, 56)\",\"i\":[0],\"j\":[1],\"k\":[2],\"name\":\"Face 24\",\"opacity\":1.0,\"x\":[0.0,-0.17841105,0.06814695],\"y\":[0.0,-0.309017,-0.5],\"z\":[1.070466,0.9341721999999999,0.71364405],\"type\":\"mesh3d\"},{\"color\":\"rgb(145, 183, 163)\",\"i\":[0],\"j\":[1],\"k\":[2],\"name\":\"Face 25\",\"opacity\":1.0,\"x\":[-0.17841105,-0.3568221,-0.11026409999999999],\"y\":[-0.309017,-0.618034,-0.809017],\"z\":[0.9341721999999999,0.7978784,0.57735025],\"type\":\"mesh3d\"},{\"color\":\"rgb(170, 50, 114)\",\"i\":[0],\"j\":[1],\"k\":[2],\"name\":\"Face 26\",\"opacity\":1.0,\"x\":[0.06814695,-0.11026409999999999,0.1362939],\"y\":[-0.5,-0.809017,-1.0],\"z\":[0.71364405,0.57735025,0.3568221],\"type\":\"mesh3d\"},{\"color\":\"rgb(159, 230, 142)\",\"i\":[0],\"j\":[1],\"k\":[2],\"name\":\"Face 27\",\"opacity\":1.0,\"x\":[-0.17841105,-0.11026409999999999,0.06814695],\"y\":[-0.309017,-0.809017,-0.5],\"z\":[0.9341721999999999,0.57735025,0.71364405],\"type\":\"mesh3d\"},{\"color\":\"rgb(110, 216, 249)\",\"i\":[0],\"j\":[1],\"k\":[2],\"name\":\"Face 28\",\"opacity\":1.0,\"x\":[0.0,0.06814695,0.3989392],\"y\":[0.0,-0.5,-0.309017],\"z\":[1.070466,0.71364405,0.71364405],\"type\":\"mesh3d\"},{\"color\":\"rgb(192, 255, 196)\",\"i\":[0],\"j\":[1],\"k\":[2],\"name\":\"Face 29\",\"opacity\":1.0,\"x\":[0.06814695,0.1362939,0.46708615],\"y\":[-0.5,-1.0,-0.809017],\"z\":[0.71364405,0.3568221,0.3568221],\"type\":\"mesh3d\"},{\"color\":\"rgb(83, 172, 99)\",\"i\":[0],\"j\":[1],\"k\":[2],\"name\":\"Face 30\",\"opacity\":1.0,\"x\":[0.3989392,0.46708615,0.7978784],\"y\":[-0.309017,-0.809017,-0.618034],\"z\":[0.71364405,0.3568221,0.3568221],\"type\":\"mesh3d\"},{\"color\":\"rgb(171, 157, 218)\",\"i\":[0],\"j\":[1],\"k\":[2],\"name\":\"Face 31\",\"opacity\":1.0,\"x\":[0.06814695,0.46708615,0.3989392],\"y\":[-0.5,-0.809017,-0.309017],\"z\":[0.71364405,0.3568221,0.71364405],\"type\":\"mesh3d\"},{\"color\":\"rgb(200, 152, 36)\",\"i\":[0],\"j\":[1],\"k\":[2],\"name\":\"Face 32\",\"opacity\":1.0,\"x\":[0.0,0.3989392,0.3568221],\"y\":[0.0,-0.309017,0.0],\"z\":[1.070466,0.71364405,0.9341721999999999],\"type\":\"mesh3d\"},{\"color\":\"rgb(97, 238, 163)\",\"i\":[0],\"j\":[1],\"k\":[2],\"name\":\"Face 33\",\"opacity\":1.0,\"x\":[0.3989392,0.7978784,0.7557613],\"y\":[-0.309017,-0.618034,-0.309017],\"z\":[0.71364405,0.3568221,0.57735025],\"type\":\"mesh3d\"},{\"color\":\"rgb(147, 13, 181)\",\"i\":[0],\"j\":[1],\"k\":[2],\"name\":\"Face 34\",\"opacity\":1.0,\"x\":[0.3568221,0.7557613,0.7136442],\"y\":[0.0,-0.309017,0.0],\"z\":[0.9341721999999999,0.57735025,0.7978784],\"type\":\"mesh3d\"},{\"color\":\"rgb(117, 54, 143)\",\"i\":[0],\"j\":[1],\"k\":[2],\"name\":\"Face 35\",\"opacity\":1.0,\"x\":[0.3989392,0.7557613,0.3568221],\"y\":[-0.309017,-0.309017,0.0],\"z\":[0.71364405,0.57735025,0.9341721999999999],\"type\":\"mesh3d\"},{\"color\":\"rgb(170, 186, 211)\",\"i\":[0],\"j\":[1],\"k\":[2],\"name\":\"Face 36\",\"opacity\":1.0,\"x\":[0.7136442,0.7557613,0.8239083],\"y\":[0.0,-0.309017,-0.190983],\"z\":[0.7978784,0.57735025,0.22052815],\"type\":\"mesh3d\"},{\"color\":\"rgb(70, 173, 30)\",\"i\":[0],\"j\":[1],\"k\":[2],\"name\":\"Face 37\",\"opacity\":1.0,\"x\":[0.7557613,0.7978784,0.8660254000000001],\"y\":[-0.309017,-0.618034,-0.5],\"z\":[0.57735025,0.3568221,0.0],\"type\":\"mesh3d\"},{\"color\":\"rgb(213, 112, 77)\",\"i\":[0],\"j\":[1],\"k\":[2],\"name\":\"Face 38\",\"opacity\":1.0,\"x\":[0.8239083,0.8660254000000001,0.9341724],\"y\":[-0.190983,-0.5,-0.381966],\"z\":[0.22052815,0.0,-0.3568221],\"type\":\"mesh3d\"},{\"color\":\"rgb(45, 190, 195)\",\"i\":[0],\"j\":[1],\"k\":[2],\"name\":\"Face 39\",\"opacity\":1.0,\"x\":[0.7557613,0.8660254000000001,0.8239083],\"y\":[-0.309017,-0.5,-0.190983],\"z\":[0.57735025,0.0,0.22052815],\"type\":\"mesh3d\"},{\"color\":\"rgb(184, 172, 129)\",\"i\":[0],\"j\":[1],\"k\":[2],\"name\":\"Face 40\",\"opacity\":1.0,\"x\":[0.7136442,0.8239083,0.8239083],\"y\":[0.0,-0.190983,0.190983],\"z\":[0.7978784,0.22052815,0.22052815],\"type\":\"mesh3d\"},{\"color\":\"rgb(231, 198, 28)\",\"i\":[0],\"j\":[1],\"k\":[2],\"name\":\"Face 41\",\"opacity\":1.0,\"x\":[0.8239083,0.9341724,0.9341724],\"y\":[-0.190983,-0.381966,0.0],\"z\":[0.22052815,-0.3568221,-0.3568221],\"type\":\"mesh3d\"},{\"color\":\"rgb(154, 109, 59)\",\"i\":[0],\"j\":[1],\"k\":[2],\"name\":\"Face 42\",\"opacity\":1.0,\"x\":[0.8239083,0.9341724,0.9341724],\"y\":[0.190983,0.0,0.381966],\"z\":[0.22052815,-0.3568221,-0.3568221],\"type\":\"mesh3d\"},{\"color\":\"rgb(183, 122, 179)\",\"i\":[0],\"j\":[1],\"k\":[2],\"name\":\"Face 43\",\"opacity\":1.0,\"x\":[0.8239083,0.9341724,0.8239083],\"y\":[-0.190983,0.0,0.190983],\"z\":[0.22052815,-0.3568221,0.22052815],\"type\":\"mesh3d\"},{\"color\":\"rgb(211, 165, 143)\",\"i\":[0],\"j\":[1],\"k\":[2],\"name\":\"Face 44\",\"opacity\":1.0,\"x\":[0.7136442,0.8239083,0.7557613],\"y\":[0.0,0.190983,0.309017],\"z\":[0.7978784,0.22052815,0.57735025],\"type\":\"mesh3d\"},{\"color\":\"rgb(106, 172, 71)\",\"i\":[0],\"j\":[1],\"k\":[2],\"name\":\"Face 45\",\"opacity\":1.0,\"x\":[0.8239083,0.9341724,0.8660254000000001],\"y\":[0.190983,0.381966,0.5],\"z\":[0.22052815,-0.3568221,0.0],\"type\":\"mesh3d\"},{\"color\":\"rgb(246, 191, 66)\",\"i\":[0],\"j\":[1],\"k\":[2],\"name\":\"Face 46\",\"opacity\":1.0,\"x\":[0.7557613,0.8660254000000001,0.7978784],\"y\":[0.309017,0.5,0.618034],\"z\":[0.57735025,0.0,0.3568221],\"type\":\"mesh3d\"},{\"color\":\"rgb(221, 253, 185)\",\"i\":[0],\"j\":[1],\"k\":[2],\"name\":\"Face 47\",\"opacity\":1.0,\"x\":[0.8239083,0.8660254000000001,0.7557613],\"y\":[0.190983,0.5,0.309017],\"z\":[0.22052815,0.0,0.57735025],\"type\":\"mesh3d\"},{\"color\":\"rgb(110, 236, 116)\",\"i\":[0],\"j\":[1],\"k\":[2],\"name\":\"Face 48\",\"opacity\":1.0,\"x\":[-0.3568221,-0.11026409999999999,-0.246558],\"y\":[0.618034,0.809017,0.809017],\"z\":[0.7978784,0.57735025,0.22052815],\"type\":\"mesh3d\"},{\"color\":\"rgb(53, 31, 29)\",\"i\":[0],\"j\":[1],\"k\":[2],\"name\":\"Face 49\",\"opacity\":1.0,\"x\":[-0.11026409999999999,0.1362939,0.0],\"y\":[0.809017,1.0,1.0],\"z\":[0.57735025,0.3568221,0.0],\"type\":\"mesh3d\"},{\"color\":\"rgb(209, 30, 18)\",\"i\":[0],\"j\":[1],\"k\":[2],\"name\":\"Face 50\",\"opacity\":1.0,\"x\":[-0.246558,0.0,-0.1362939],\"y\":[0.809017,1.0,1.0],\"z\":[0.22052815,0.0,-0.3568221],\"type\":\"mesh3d\"},{\"color\":\"rgb(128, 128, 133)\",\"i\":[0],\"j\":[1],\"k\":[2],\"name\":\"Face 51\",\"opacity\":1.0,\"x\":[-0.11026409999999999,0.0,-0.246558],\"y\":[0.809017,1.0,0.809017],\"z\":[0.57735025,0.0,0.22052815],\"type\":\"mesh3d\"},{\"color\":\"rgb(170, 87, 121)\",\"i\":[0],\"j\":[1],\"k\":[2],\"name\":\"Face 52\",\"opacity\":1.0,\"x\":[-0.3568221,-0.246558,-0.57735025],\"y\":[0.618034,0.809017,0.618034],\"z\":[0.7978784,0.22052815,0.22052815],\"type\":\"mesh3d\"},{\"color\":\"rgb(149, 30, 84)\",\"i\":[0],\"j\":[1],\"k\":[2],\"name\":\"Face 53\",\"opacity\":1.0,\"x\":[-0.246558,-0.1362939,-0.46708615],\"y\":[0.809017,1.0,0.809017],\"z\":[0.22052815,-0.3568221,-0.3568221],\"type\":\"mesh3d\"},{\"color\":\"rgb(45, 5, 232)\",\"i\":[0],\"j\":[1],\"k\":[2],\"name\":\"Face 54\",\"opacity\":1.0,\"x\":[-0.57735025,-0.46708615,-0.7978784],\"y\":[0.618034,0.809017,0.618034],\"z\":[0.22052815,-0.3568221,-0.3568221],\"type\":\"mesh3d\"},{\"color\":\"rgb(96, 213, 151)\",\"i\":[0],\"j\":[1],\"k\":[2],\"name\":\"Face 55\",\"opacity\":1.0,\"x\":[-0.246558,-0.46708615,-0.57735025],\"y\":[0.809017,0.809017,0.618034],\"z\":[0.22052815,-0.3568221,0.22052815],\"type\":\"mesh3d\"},{\"color\":\"rgb(231, 251, 158)\",\"i\":[0],\"j\":[1],\"k\":[2],\"name\":\"Face 56\",\"opacity\":1.0,\"x\":[-0.3568221,-0.57735025,-0.64549725],\"y\":[0.618034,0.618034,0.5],\"z\":[0.7978784,0.22052815,0.57735025],\"type\":\"mesh3d\"},{\"color\":\"rgb(220, 69, 130)\",\"i\":[0],\"j\":[1],\"k\":[2],\"name\":\"Face 57\",\"opacity\":1.0,\"x\":[-0.57735025,-0.7978784,-0.8660254000000001],\"y\":[0.618034,0.618034,0.5],\"z\":[0.22052815,-0.3568221,0.0],\"type\":\"mesh3d\"},{\"color\":\"rgb(83, 57, 237)\",\"i\":[0],\"j\":[1],\"k\":[2],\"name\":\"Face 58\",\"opacity\":1.0,\"x\":[-0.64549725,-0.8660254000000001,-0.9341724],\"y\":[0.5,0.5,0.381966],\"z\":[0.57735025,0.0,0.3568221],\"type\":\"mesh3d\"},{\"color\":\"rgb(209, 32, 87)\",\"i\":[0],\"j\":[1],\"k\":[2],\"name\":\"Face 59\",\"opacity\":1.0,\"x\":[-0.57735025,-0.8660254000000001,-0.64549725],\"y\":[0.618034,0.5,0.5],\"z\":[0.22052815,0.0,0.57735025],\"type\":\"mesh3d\"},{\"color\":\"rgb(241, 4, 31)\",\"i\":[0],\"j\":[1],\"k\":[2],\"name\":\"Face 60\",\"opacity\":1.0,\"x\":[-0.3568221,-0.64549725,-0.57735025],\"y\":[-0.618034,-0.5,-0.618034],\"z\":[0.7978784,0.57735025,0.22052815],\"type\":\"mesh3d\"},{\"color\":\"rgb(175, 194, 46)\",\"i\":[0],\"j\":[1],\"k\":[2],\"name\":\"Face 61\",\"opacity\":1.0,\"x\":[-0.64549725,-0.9341724,-0.8660254000000001],\"y\":[-0.5,-0.381966,-0.5],\"z\":[0.57735025,0.3568221,0.0],\"type\":\"mesh3d\"},{\"color\":\"rgb(51, 137, 177)\",\"i\":[0],\"j\":[1],\"k\":[2],\"name\":\"Face 62\",\"opacity\":1.0,\"x\":[-0.57735025,-0.8660254000000001,-0.7978784],\"y\":[-0.618034,-0.5,-0.618034],\"z\":[0.22052815,0.0,-0.3568221],\"type\":\"mesh3d\"},{\"color\":\"rgb(247, 194, 31)\",\"i\":[0],\"j\":[1],\"k\":[2],\"name\":\"Face 63\",\"opacity\":1.0,\"x\":[-0.64549725,-0.8660254000000001,-0.57735025],\"y\":[-0.5,-0.5,-0.618034],\"z\":[0.57735025,0.0,0.22052815],\"type\":\"mesh3d\"},{\"color\":\"rgb(66, 46, 196)\",\"i\":[0],\"j\":[1],\"k\":[2],\"name\":\"Face 64\",\"opacity\":1.0,\"x\":[-0.3568221,-0.57735025,-0.246558],\"y\":[-0.618034,-0.618034,-0.809017],\"z\":[0.7978784,0.22052815,0.22052815],\"type\":\"mesh3d\"},{\"color\":\"rgb(32, 164, 126)\",\"i\":[0],\"j\":[1],\"k\":[2],\"name\":\"Face 65\",\"opacity\":1.0,\"x\":[-0.57735025,-0.7978784,-0.46708615],\"y\":[-0.618034,-0.618034,-0.809017],\"z\":[0.22052815,-0.3568221,-0.3568221],\"type\":\"mesh3d\"},{\"color\":\"rgb(123, 103, 218)\",\"i\":[0],\"j\":[1],\"k\":[2],\"name\":\"Face 66\",\"opacity\":1.0,\"x\":[-0.246558,-0.46708615,-0.1362939],\"y\":[-0.809017,-0.809017,-1.0],\"z\":[0.22052815,-0.3568221,-0.3568221],\"type\":\"mesh3d\"},{\"color\":\"rgb(59, 185, 187)\",\"i\":[0],\"j\":[1],\"k\":[2],\"name\":\"Face 67\",\"opacity\":1.0,\"x\":[-0.57735025,-0.46708615,-0.246558],\"y\":[-0.618034,-0.809017,-0.809017],\"z\":[0.22052815,-0.3568221,0.22052815],\"type\":\"mesh3d\"},{\"color\":\"rgb(116, 114, 86)\",\"i\":[0],\"j\":[1],\"k\":[2],\"name\":\"Face 68\",\"opacity\":1.0,\"x\":[-0.3568221,-0.246558,-0.11026409999999999],\"y\":[-0.618034,-0.809017,-0.809017],\"z\":[0.7978784,0.22052815,0.57735025],\"type\":\"mesh3d\"},{\"color\":\"rgb(201, 55, 35)\",\"i\":[0],\"j\":[1],\"k\":[2],\"name\":\"Face 69\",\"opacity\":1.0,\"x\":[-0.246558,-0.1362939,0.0],\"y\":[-0.809017,-1.0,-1.0],\"z\":[0.22052815,-0.3568221,0.0],\"type\":\"mesh3d\"},{\"color\":\"rgb(182, 27, 199)\",\"i\":[0],\"j\":[1],\"k\":[2],\"name\":\"Face 70\",\"opacity\":1.0,\"x\":[-0.11026409999999999,0.0,0.1362939],\"y\":[-0.809017,-1.0,-1.0],\"z\":[0.57735025,0.0,0.3568221],\"type\":\"mesh3d\"},{\"color\":\"rgb(99, 110, 207)\",\"i\":[0],\"j\":[1],\"k\":[2],\"name\":\"Face 71\",\"opacity\":1.0,\"x\":[-0.246558,0.0,-0.11026409999999999],\"y\":[-0.809017,-1.0,-0.809017],\"z\":[0.22052815,0.0,0.57735025],\"type\":\"mesh3d\"},{\"color\":\"rgb(13, 91, 157)\",\"i\":[0],\"j\":[1],\"k\":[2],\"name\":\"Face 72\",\"opacity\":1.0,\"x\":[0.7978784,0.8660254000000001,0.57735025],\"y\":[0.618034,0.5,0.618034],\"z\":[0.3568221,0.0,-0.22052815],\"type\":\"mesh3d\"},{\"color\":\"rgb(122, 46, 33)\",\"i\":[0],\"j\":[1],\"k\":[2],\"name\":\"Face 73\",\"opacity\":1.0,\"x\":[0.8660254000000001,0.9341724,0.64549725],\"y\":[0.5,0.381966,0.5],\"z\":[0.0,-0.3568221,-0.57735025],\"type\":\"mesh3d\"},{\"color\":\"rgb(146, 81, 234)\",\"i\":[0],\"j\":[1],\"k\":[2],\"name\":\"Face 74\",\"opacity\":1.0,\"x\":[0.57735025,0.64549725,0.3568221],\"y\":[0.618034,0.5,0.618034],\"z\":[-0.22052815,-0.57735025,-0.7978784],\"type\":\"mesh3d\"},{\"color\":\"rgb(230, 16, 97)\",\"i\":[0],\"j\":[1],\"k\":[2],\"name\":\"Face 75\",\"opacity\":1.0,\"x\":[0.8660254000000001,0.64549725,0.57735025],\"y\":[0.5,0.5,0.618034],\"z\":[0.0,-0.57735025,-0.22052815],\"type\":\"mesh3d\"},{\"color\":\"rgb(42, 175, 32)\",\"i\":[0],\"j\":[1],\"k\":[2],\"name\":\"Face 76\",\"opacity\":1.0,\"x\":[0.7978784,0.57735025,0.33079225],\"y\":[0.618034,0.618034,0.809017],\"z\":[0.3568221,-0.22052815,0.0],\"type\":\"mesh3d\"},{\"color\":\"rgb(54, 130, 85)\",\"i\":[0],\"j\":[1],\"k\":[2],\"name\":\"Face 77\",\"opacity\":1.0,\"x\":[0.57735025,0.3568221,0.11026409999999999],\"y\":[0.618034,0.618034,0.809017],\"z\":[-0.22052815,-0.7978784,-0.57735025],\"type\":\"mesh3d\"},{\"color\":\"rgb(148, 231, 180)\",\"i\":[0],\"j\":[1],\"k\":[2],\"name\":\"Face 78\",\"opacity\":1.0,\"x\":[0.33079225,0.11026409999999999,-0.1362939],\"y\":[0.809017,0.809017,1.0],\"z\":[0.0,-0.57735025,-0.3568221],\"type\":\"mesh3d\"},{\"color\":\"rgb(125, 125, 23)\",\"i\":[0],\"j\":[1],\"k\":[2],\"name\":\"Face 79\",\"opacity\":1.0,\"x\":[0.57735025,0.11026409999999999,0.33079225],\"y\":[0.618034,0.809017,0.809017],\"z\":[-0.22052815,-0.57735025,0.0],\"type\":\"mesh3d\"},{\"color\":\"rgb(34, 62, 181)\",\"i\":[0],\"j\":[1],\"k\":[2],\"name\":\"Face 80\",\"opacity\":1.0,\"x\":[0.7978784,0.33079225,0.46708615],\"y\":[0.618034,0.809017,0.809017],\"z\":[0.3568221,0.0,0.3568221],\"type\":\"mesh3d\"},{\"color\":\"rgb(232, 141, 16)\",\"i\":[0],\"j\":[1],\"k\":[2],\"name\":\"Face 81\",\"opacity\":1.0,\"x\":[0.33079225,-0.1362939,0.0],\"y\":[0.809017,1.0,1.0],\"z\":[0.0,-0.3568221,0.0],\"type\":\"mesh3d\"},{\"color\":\"rgb(132, 108, 183)\",\"i\":[0],\"j\":[1],\"k\":[2],\"name\":\"Face 82\",\"opacity\":1.0,\"x\":[0.46708615,0.0,0.1362939],\"y\":[0.809017,1.0,1.0],\"z\":[0.3568221,0.0,0.3568221],\"type\":\"mesh3d\"},{\"color\":\"rgb(5, 161, 193)\",\"i\":[0],\"j\":[1],\"k\":[2],\"name\":\"Face 83\",\"opacity\":1.0,\"x\":[0.33079225,0.0,0.46708615],\"y\":[0.809017,1.0,0.809017],\"z\":[0.0,0.0,0.3568221],\"type\":\"mesh3d\"},{\"color\":\"rgb(38, 208, 36)\",\"i\":[0],\"j\":[1],\"k\":[2],\"name\":\"Face 84\",\"opacity\":1.0,\"x\":[0.7978784,0.46708615,0.33079225],\"y\":[-0.618034,-0.809017,-0.809017],\"z\":[0.3568221,0.3568221,0.0],\"type\":\"mesh3d\"},{\"color\":\"rgb(254, 144, 178)\",\"i\":[0],\"j\":[1],\"k\":[2],\"name\":\"Face 85\",\"opacity\":1.0,\"x\":[0.46708615,0.1362939,0.0],\"y\":[-0.809017,-1.0,-1.0],\"z\":[0.3568221,0.3568221,0.0],\"type\":\"mesh3d\"},{\"color\":\"rgb(254, 247, 211)\",\"i\":[0],\"j\":[1],\"k\":[2],\"name\":\"Face 86\",\"opacity\":1.0,\"x\":[0.33079225,0.0,-0.1362939],\"y\":[-0.809017,-1.0,-1.0],\"z\":[0.0,0.0,-0.3568221],\"type\":\"mesh3d\"},{\"color\":\"rgb(252, 170, 127)\",\"i\":[0],\"j\":[1],\"k\":[2],\"name\":\"Face 87\",\"opacity\":1.0,\"x\":[0.46708615,0.0,0.33079225],\"y\":[-0.809017,-1.0,-0.809017],\"z\":[0.3568221,0.0,0.0],\"type\":\"mesh3d\"},{\"color\":\"rgb(154, 67, 214)\",\"i\":[0],\"j\":[1],\"k\":[2],\"name\":\"Face 88\",\"opacity\":1.0,\"x\":[0.7978784,0.33079225,0.57735025],\"y\":[-0.618034,-0.809017,-0.618034],\"z\":[0.3568221,0.0,-0.22052815],\"type\":\"mesh3d\"},{\"color\":\"rgb(79, 34, 176)\",\"i\":[0],\"j\":[1],\"k\":[2],\"name\":\"Face 89\",\"opacity\":1.0,\"x\":[0.33079225,-0.1362939,0.11026409999999999],\"y\":[-0.809017,-1.0,-0.809017],\"z\":[0.0,-0.3568221,-0.57735025],\"type\":\"mesh3d\"},{\"color\":\"rgb(119, 204, 109)\",\"i\":[0],\"j\":[1],\"k\":[2],\"name\":\"Face 90\",\"opacity\":1.0,\"x\":[0.57735025,0.11026409999999999,0.3568221],\"y\":[-0.618034,-0.809017,-0.618034],\"z\":[-0.22052815,-0.57735025,-0.7978784],\"type\":\"mesh3d\"},{\"color\":\"rgb(21, 6, 90)\",\"i\":[0],\"j\":[1],\"k\":[2],\"name\":\"Face 91\",\"opacity\":1.0,\"x\":[0.33079225,0.11026409999999999,0.57735025],\"y\":[-0.809017,-0.809017,-0.618034],\"z\":[0.0,-0.57735025,-0.22052815],\"type\":\"mesh3d\"},{\"color\":\"rgb(8, 26, 220)\",\"i\":[0],\"j\":[1],\"k\":[2],\"name\":\"Face 92\",\"opacity\":1.0,\"x\":[0.7978784,0.57735025,0.8660254000000001],\"y\":[-0.618034,-0.618034,-0.5],\"z\":[0.3568221,-0.22052815,0.0],\"type\":\"mesh3d\"},{\"color\":\"rgb(88, 32, 92)\",\"i\":[0],\"j\":[1],\"k\":[2],\"name\":\"Face 93\",\"opacity\":1.0,\"x\":[0.57735025,0.3568221,0.64549725],\"y\":[-0.618034,-0.618034,-0.5],\"z\":[-0.22052815,-0.7978784,-0.57735025],\"type\":\"mesh3d\"},{\"color\":\"rgb(20, 106, 253)\",\"i\":[0],\"j\":[1],\"k\":[2],\"name\":\"Face 94\",\"opacity\":1.0,\"x\":[0.8660254000000001,0.64549725,0.9341724],\"y\":[-0.5,-0.5,-0.381966],\"z\":[0.0,-0.57735025,-0.3568221],\"type\":\"mesh3d\"},{\"color\":\"rgb(17, 84, 169)\",\"i\":[0],\"j\":[1],\"k\":[2],\"name\":\"Face 95\",\"opacity\":1.0,\"x\":[0.57735025,0.64549725,0.8660254000000001],\"y\":[-0.618034,-0.5,-0.5],\"z\":[-0.22052815,-0.57735025,0.0],\"type\":\"mesh3d\"},{\"color\":\"rgb(228, 49, 235)\",\"i\":[0],\"j\":[1],\"k\":[2],\"name\":\"Face 96\",\"opacity\":1.0,\"x\":[-0.9341724,-0.8660254000000001,-0.8239083],\"y\":[0.381966,0.5,0.190983],\"z\":[0.3568221,0.0,-0.22052815],\"type\":\"mesh3d\"},{\"color\":\"rgb(36, 200, 168)\",\"i\":[0],\"j\":[1],\"k\":[2],\"name\":\"Face 97\",\"opacity\":1.0,\"x\":[-0.8660254000000001,-0.7978784,-0.7557613],\"y\":[0.5,0.618034,0.309017],\"z\":[0.0,-0.3568221,-0.57735025],\"type\":\"mesh3d\"},{\"color\":\"rgb(54, 104, 159)\",\"i\":[0],\"j\":[1],\"k\":[2],\"name\":\"Face 98\",\"opacity\":1.0,\"x\":[-0.8239083,-0.7557613,-0.7136442],\"y\":[0.190983,0.309017,0.0],\"z\":[-0.22052815,-0.57735025,-0.7978784],\"type\":\"mesh3d\"},{\"color\":\"rgb(78, 8, 170)\",\"i\":[0],\"j\":[1],\"k\":[2],\"name\":\"Face 99\",\"opacity\":1.0,\"x\":[-0.8660254000000001,-0.7557613,-0.8239083],\"y\":[0.5,0.309017,0.190983],\"z\":[0.0,-0.57735025,-0.22052815],\"type\":\"mesh3d\"},{\"color\":\"rgb(15, 74, 208)\",\"i\":[0],\"j\":[1],\"k\":[2],\"name\":\"Face 100\",\"opacity\":1.0,\"x\":[-0.9341724,-0.8239083,-0.8660254000000001],\"y\":[0.381966,0.190983,-0.11803399999999997],\"z\":[0.3568221,-0.22052815,0.0],\"type\":\"mesh3d\"},{\"color\":\"rgb(105, 56, 105)\",\"i\":[0],\"j\":[1],\"k\":[2],\"name\":\"Face 101\",\"opacity\":1.0,\"x\":[-0.8239083,-0.7136442,-0.7557613],\"y\":[0.190983,0.0,-0.309017],\"z\":[-0.22052815,-0.7978784,-0.57735025],\"type\":\"mesh3d\"},{\"color\":\"rgb(255, 202, 199)\",\"i\":[0],\"j\":[1],\"k\":[2],\"name\":\"Face 102\",\"opacity\":1.0,\"x\":[-0.8660254000000001,-0.7557613,-0.7978784],\"y\":[-0.11803399999999997,-0.309017,-0.618034],\"z\":[0.0,-0.57735025,-0.3568221],\"type\":\"mesh3d\"},{\"color\":\"rgb(214, 194, 246)\",\"i\":[0],\"j\":[1],\"k\":[2],\"name\":\"Face 103\",\"opacity\":1.0,\"x\":[-0.8239083,-0.7557613,-0.8660254000000001],\"y\":[0.190983,-0.309017,-0.11803399999999997],\"z\":[-0.22052815,-0.57735025,0.0],\"type\":\"mesh3d\"},{\"color\":\"rgb(113, 11, 182)\",\"i\":[0],\"j\":[1],\"k\":[2],\"name\":\"Face 104\",\"opacity\":1.0,\"x\":[-0.9341724,-0.8660254000000001,-0.9341724],\"y\":[0.381966,-0.11803399999999997,0.0],\"z\":[0.3568221,0.0,0.3568221],\"type\":\"mesh3d\"},{\"color\":\"rgb(199, 86, 154)\",\"i\":[0],\"j\":[1],\"k\":[2],\"name\":\"Face 105\",\"opacity\":1.0,\"x\":[-0.8660254000000001,-0.7978784,-0.8660254000000001],\"y\":[-0.11803399999999997,-0.618034,-0.5],\"z\":[0.0,-0.3568221,0.0],\"type\":\"mesh3d\"},{\"color\":\"rgb(118, 103, 246)\",\"i\":[0],\"j\":[1],\"k\":[2],\"name\":\"Face 106\",\"opacity\":1.0,\"x\":[-0.9341724,-0.8660254000000001,-0.9341724],\"y\":[0.0,-0.5,-0.381966],\"z\":[0.3568221,0.0,0.3568221],\"type\":\"mesh3d\"},{\"color\":\"rgb(41, 221, 204)\",\"i\":[0],\"j\":[1],\"k\":[2],\"name\":\"Face 107\",\"opacity\":1.0,\"x\":[-0.8660254000000001,-0.8660254000000001,-0.9341724],\"y\":[-0.11803399999999997,-0.5,0.0],\"z\":[0.0,0.0,0.3568221],\"type\":\"mesh3d\"},{\"color\":\"rgb(19, 162, 59)\",\"i\":[0],\"j\":[1],\"k\":[2],\"name\":\"Face 108\",\"opacity\":1.0,\"x\":[0.9341724,0.9341724,0.64549725],\"y\":[0.381966,0.0,-0.11803399999999997],\"z\":[-0.3568221,-0.3568221,-0.57735025],\"type\":\"mesh3d\"},{\"color\":\"rgb(207, 65, 66)\",\"i\":[0],\"j\":[1],\"k\":[2],\"name\":\"Face 109\",\"opacity\":1.0,\"x\":[0.9341724,0.9341724,0.64549725],\"y\":[0.0,-0.381966,-0.5],\"z\":[-0.3568221,-0.3568221,-0.57735025],\"type\":\"mesh3d\"},{\"color\":\"rgb(27, 224, 28)\",\"i\":[0],\"j\":[1],\"k\":[2],\"name\":\"Face 110\",\"opacity\":1.0,\"x\":[0.64549725,0.64549725,0.3568221],\"y\":[-0.11803399999999997,-0.5,-0.618034],\"z\":[-0.57735025,-0.57735025,-0.7978784],\"type\":\"mesh3d\"},{\"color\":\"rgb(198, 224, 183)\",\"i\":[0],\"j\":[1],\"k\":[2],\"name\":\"Face 111\",\"opacity\":1.0,\"x\":[0.9341724,0.64549725,0.64549725],\"y\":[0.0,-0.5,-0.11803399999999997],\"z\":[-0.3568221,-0.57735025,-0.57735025],\"type\":\"mesh3d\"},{\"color\":\"rgb(133, 205, 79)\",\"i\":[0],\"j\":[1],\"k\":[2],\"name\":\"Face 112\",\"opacity\":1.0,\"x\":[0.9341724,0.64549725,0.4670862],\"y\":[0.381966,-0.11803399999999997,0.190983],\"z\":[-0.3568221,-0.57735025,-0.71364405],\"type\":\"mesh3d\"},{\"color\":\"rgb(159, 239, 251)\",\"i\":[0],\"j\":[1],\"k\":[2],\"name\":\"Face 113\",\"opacity\":1.0,\"x\":[0.64549725,0.3568221,0.17841105],\"y\":[-0.11803399999999997,-0.618034,-0.309017],\"z\":[-0.57735025,-0.7978784,-0.9341721999999999],\"type\":\"mesh3d\"},{\"color\":\"rgb(94, 51, 89)\",\"i\":[0],\"j\":[1],\"k\":[2],\"name\":\"Face 114\",\"opacity\":1.0,\"x\":[0.4670862,0.17841105,0.0],\"y\":[0.190983,-0.309017,0.0],\"z\":[-0.71364405,-0.9341721999999999,-1.070466],\"type\":\"mesh3d\"},{\"color\":\"rgb(129, 96, 102)\",\"i\":[0],\"j\":[1],\"k\":[2],\"name\":\"Face 115\",\"opacity\":1.0,\"x\":[0.64549725,0.17841105,0.4670862],\"y\":[-0.11803399999999997,-0.309017,0.190983],\"z\":[-0.57735025,-0.9341721999999999,-0.71364405],\"type\":\"mesh3d\"},{\"color\":\"rgb(121, 59, 196)\",\"i\":[0],\"j\":[1],\"k\":[2],\"name\":\"Face 116\",\"opacity\":1.0,\"x\":[0.9341724,0.4670862,0.64549725],\"y\":[0.381966,0.190983,0.5],\"z\":[-0.3568221,-0.71364405,-0.57735025],\"type\":\"mesh3d\"},{\"color\":\"rgb(217, 114, 183)\",\"i\":[0],\"j\":[1],\"k\":[2],\"name\":\"Face 117\",\"opacity\":1.0,\"x\":[0.4670862,0.0,0.17841105],\"y\":[0.190983,0.0,0.309017],\"z\":[-0.71364405,-1.070466,-0.9341721999999999],\"type\":\"mesh3d\"},{\"color\":\"rgb(60, 201, 8)\",\"i\":[0],\"j\":[1],\"k\":[2],\"name\":\"Face 118\",\"opacity\":1.0,\"x\":[0.64549725,0.17841105,0.3568221],\"y\":[0.5,0.309017,0.618034],\"z\":[-0.57735025,-0.9341721999999999,-0.7978784],\"type\":\"mesh3d\"},{\"color\":\"rgb(84, 61, 157)\",\"i\":[0],\"j\":[1],\"k\":[2],\"name\":\"Face 119\",\"opacity\":1.0,\"x\":[0.4670862,0.17841105,0.64549725],\"y\":[0.190983,0.309017,0.5],\"z\":[-0.71364405,-0.9341721999999999,-0.57735025],\"type\":\"mesh3d\"},{\"color\":\"rgb(65, 236, 103)\",\"i\":[0],\"j\":[1],\"k\":[2],\"name\":\"Face 120\",\"opacity\":1.0,\"x\":[-0.7978784,-0.46708615,-0.22052815],\"y\":[0.618034,0.809017,0.618034],\"z\":[-0.3568221,-0.3568221,-0.57735025],\"type\":\"mesh3d\"},{\"color\":\"rgb(190, 68, 11)\",\"i\":[0],\"j\":[1],\"k\":[2],\"name\":\"Face 121\",\"opacity\":1.0,\"x\":[-0.46708615,-0.1362939,0.11026409999999999],\"y\":[0.809017,1.0,0.809017],\"z\":[-0.3568221,-0.3568221,-0.57735025],\"type\":\"mesh3d\"},{\"color\":\"rgb(17, 49, 218)\",\"i\":[0],\"j\":[1],\"k\":[2],\"name\":\"Face 122\",\"opacity\":1.0,\"x\":[-0.22052815,0.11026409999999999,0.3568221],\"y\":[0.618034,0.809017,0.618034],\"z\":[-0.57735025,-0.57735025,-0.7978784],\"type\":\"mesh3d\"},{\"color\":\"rgb(231, 130, 66)\",\"i\":[0],\"j\":[1],\"k\":[2],\"name\":\"Face 123\",\"opacity\":1.0,\"x\":[-0.46708615,0.11026409999999999,-0.22052815],\"y\":[0.809017,0.809017,0.618034],\"z\":[-0.3568221,-0.57735025,-0.57735025],\"type\":\"mesh3d\"},{\"color\":\"rgb(144, 87, 163)\",\"i\":[0],\"j\":[1],\"k\":[2],\"name\":\"Face 124\",\"opacity\":1.0,\"x\":[-0.7978784,-0.22052815,-0.3989392],\"y\":[0.618034,0.618034,0.309017],\"z\":[-0.3568221,-0.57735025,-0.71364405],\"type\":\"mesh3d\"},{\"color\":\"rgb(226, 88, 19)\",\"i\":[0],\"j\":[1],\"k\":[2],\"name\":\"Face 125\",\"opacity\":1.0,\"x\":[-0.22052815,0.3568221,0.17841105],\"y\":[0.618034,0.618034,0.309017],\"z\":[-0.57735025,-0.7978784,-0.9341721999999999],\"type\":\"mesh3d\"},{\"color\":\"rgb(127, 109, 97)\",\"i\":[0],\"j\":[1],\"k\":[2],\"name\":\"Face 126\",\"opacity\":1.0,\"x\":[-0.3989392,0.17841105,0.0],\"y\":[0.309017,0.309017,0.0],\"z\":[-0.71364405,-0.9341721999999999,-1.070466],\"type\":\"mesh3d\"},{\"color\":\"rgb(165, 43, 10)\",\"i\":[0],\"j\":[1],\"k\":[2],\"name\":\"Face 127\",\"opacity\":1.0,\"x\":[-0.22052815,0.17841105,-0.3989392],\"y\":[0.618034,0.309017,0.309017],\"z\":[-0.57735025,-0.9341721999999999,-0.71364405],\"type\":\"mesh3d\"},{\"color\":\"rgb(171, 45, 54)\",\"i\":[0],\"j\":[1],\"k\":[2],\"name\":\"Face 128\",\"opacity\":1.0,\"x\":[-0.7978784,-0.3989392,-0.7557613],\"y\":[0.618034,0.309017,0.309017],\"z\":[-0.3568221,-0.71364405,-0.57735025],\"type\":\"mesh3d\"},{\"color\":\"rgb(111, 230, 238)\",\"i\":[0],\"j\":[1],\"k\":[2],\"name\":\"Face 129\",\"opacity\":1.0,\"x\":[-0.3989392,0.0,-0.3568221],\"y\":[0.309017,0.0,0.0],\"z\":[-0.71364405,-1.070466,-0.9341721999999999],\"type\":\"mesh3d\"},{\"color\":\"rgb(41, 54, 249)\",\"i\":[0],\"j\":[1],\"k\":[2],\"name\":\"Face 130\",\"opacity\":1.0,\"x\":[-0.7557613,-0.3568221,-0.7136442],\"y\":[0.309017,0.0,0.0],\"z\":[-0.57735025,-0.9341721999999999,-0.7978784],\"type\":\"mesh3d\"},{\"color\":\"rgb(219, 210, 6)\",\"i\":[0],\"j\":[1],\"k\":[2],\"name\":\"Face 131\",\"opacity\":1.0,\"x\":[-0.3989392,-0.3568221,-0.7557613],\"y\":[0.309017,0.0,0.309017],\"z\":[-0.71364405,-0.9341721999999999,-0.57735025],\"type\":\"mesh3d\"},{\"color\":\"rgb(110, 27, 135)\",\"i\":[0],\"j\":[1],\"k\":[2],\"name\":\"Face 132\",\"opacity\":1.0,\"x\":[-0.1362939,-0.46708615,-0.42496904999999996],\"y\":[-1.0,-0.809017,-0.5],\"z\":[-0.3568221,-0.3568221,-0.57735025],\"type\":\"mesh3d\"},{\"color\":\"rgb(114, 143, 120)\",\"i\":[0],\"j\":[1],\"k\":[2],\"name\":\"Face 133\",\"opacity\":1.0,\"x\":[-0.46708615,-0.7978784,-0.7557613],\"y\":[-0.809017,-0.618034,-0.309017],\"z\":[-0.3568221,-0.3568221,-0.57735025],\"type\":\"mesh3d\"},{\"color\":\"rgb(72, 197, 31)\",\"i\":[0],\"j\":[1],\"k\":[2],\"name\":\"Face 134\",\"opacity\":1.0,\"x\":[-0.42496904999999996,-0.7557613,-0.7136442],\"y\":[-0.5,-0.309017,0.0],\"z\":[-0.57735025,-0.57735025,-0.7978784],\"type\":\"mesh3d\"},{\"color\":\"rgb(54, 156, 12)\",\"i\":[0],\"j\":[1],\"k\":[2],\"name\":\"Face 135\",\"opacity\":1.0,\"x\":[-0.46708615,-0.7557613,-0.42496904999999996],\"y\":[-0.809017,-0.309017,-0.5],\"z\":[-0.3568221,-0.57735025,-0.57735025],\"type\":\"mesh3d\"},{\"color\":\"rgb(40, 184, 129)\",\"i\":[0],\"j\":[1],\"k\":[2],\"name\":\"Face 136\",\"opacity\":1.0,\"x\":[-0.1362939,-0.42496904999999996,-0.06814695],\"y\":[-1.0,-0.5,-0.5],\"z\":[-0.3568221,-0.57735025,-0.71364405],\"type\":\"mesh3d\"},{\"color\":\"rgb(246, 32, 31)\",\"i\":[0],\"j\":[1],\"k\":[2],\"name\":\"Face 137\",\"opacity\":1.0,\"x\":[-0.42496904999999996,-0.7136442,-0.3568221],\"y\":[-0.5,0.0,0.0],\"z\":[-0.57735025,-0.7978784,-0.9341721999999999],\"type\":\"mesh3d\"},{\"color\":\"rgb(133, 145, 34)\",\"i\":[0],\"j\":[1],\"k\":[2],\"name\":\"Face 138\",\"opacity\":1.0,\"x\":[-0.06814695,-0.3568221,0.0],\"y\":[-0.5,0.0,0.0],\"z\":[-0.71364405,-0.9341721999999999,-1.070466],\"type\":\"mesh3d\"},{\"color\":\"rgb(210, 73, 117)\",\"i\":[0],\"j\":[1],\"k\":[2],\"name\":\"Face 139\",\"opacity\":1.0,\"x\":[-0.42496904999999996,-0.3568221,-0.06814695],\"y\":[-0.5,0.0,-0.5],\"z\":[-0.57735025,-0.9341721999999999,-0.71364405],\"type\":\"mesh3d\"},{\"color\":\"rgb(220, 1, 22)\",\"i\":[0],\"j\":[1],\"k\":[2],\"name\":\"Face 140\",\"opacity\":1.0,\"x\":[-0.1362939,-0.06814695,0.11026409999999999],\"y\":[-1.0,-0.5,-0.809017],\"z\":[-0.3568221,-0.71364405,-0.57735025],\"type\":\"mesh3d\"},{\"color\":\"rgb(13, 167, 251)\",\"i\":[0],\"j\":[1],\"k\":[2],\"name\":\"Face 141\",\"opacity\":1.0,\"x\":[-0.06814695,0.0,0.17841105],\"y\":[-0.5,0.0,-0.309017],\"z\":[-0.71364405,-1.070466,-0.9341721999999999],\"type\":\"mesh3d\"},{\"color\":\"rgb(97, 126, 164)\",\"i\":[0],\"j\":[1],\"k\":[2],\"name\":\"Face 142\",\"opacity\":1.0,\"x\":[0.11026409999999999,0.17841105,0.3568221],\"y\":[-0.809017,-0.309017,-0.618034],\"z\":[-0.57735025,-0.9341721999999999,-0.7978784],\"type\":\"mesh3d\"},{\"color\":\"rgb(90, 16, 32)\",\"i\":[0],\"j\":[1],\"k\":[2],\"name\":\"Face 143\",\"opacity\":1.0,\"x\":[-0.06814695,0.17841105,0.11026409999999999],\"y\":[-0.5,-0.309017,-0.809017],\"z\":[-0.71364405,-0.9341721999999999,-0.57735025],\"type\":\"mesh3d\"}],                        {\"template\":{\"data\":{\"histogram2dcontour\":[{\"type\":\"histogram2dcontour\",\"colorbar\":{\"outlinewidth\":0,\"ticks\":\"\"},\"colorscale\":[[0.0,\"#0d0887\"],[0.1111111111111111,\"#46039f\"],[0.2222222222222222,\"#7201a8\"],[0.3333333333333333,\"#9c179e\"],[0.4444444444444444,\"#bd3786\"],[0.5555555555555556,\"#d8576b\"],[0.6666666666666666,\"#ed7953\"],[0.7777777777777778,\"#fb9f3a\"],[0.8888888888888888,\"#fdca26\"],[1.0,\"#f0f921\"]]}],\"choropleth\":[{\"type\":\"choropleth\",\"colorbar\":{\"outlinewidth\":0,\"ticks\":\"\"}}],\"histogram2d\":[{\"type\":\"histogram2d\",\"colorbar\":{\"outlinewidth\":0,\"ticks\":\"\"},\"colorscale\":[[0.0,\"#0d0887\"],[0.1111111111111111,\"#46039f\"],[0.2222222222222222,\"#7201a8\"],[0.3333333333333333,\"#9c179e\"],[0.4444444444444444,\"#bd3786\"],[0.5555555555555556,\"#d8576b\"],[0.6666666666666666,\"#ed7953\"],[0.7777777777777778,\"#fb9f3a\"],[0.8888888888888888,\"#fdca26\"],[1.0,\"#f0f921\"]]}],\"heatmap\":[{\"type\":\"heatmap\",\"colorbar\":{\"outlinewidth\":0,\"ticks\":\"\"},\"colorscale\":[[0.0,\"#0d0887\"],[0.1111111111111111,\"#46039f\"],[0.2222222222222222,\"#7201a8\"],[0.3333333333333333,\"#9c179e\"],[0.4444444444444444,\"#bd3786\"],[0.5555555555555556,\"#d8576b\"],[0.6666666666666666,\"#ed7953\"],[0.7777777777777778,\"#fb9f3a\"],[0.8888888888888888,\"#fdca26\"],[1.0,\"#f0f921\"]]}],\"heatmapgl\":[{\"type\":\"heatmapgl\",\"colorbar\":{\"outlinewidth\":0,\"ticks\":\"\"},\"colorscale\":[[0.0,\"#0d0887\"],[0.1111111111111111,\"#46039f\"],[0.2222222222222222,\"#7201a8\"],[0.3333333333333333,\"#9c179e\"],[0.4444444444444444,\"#bd3786\"],[0.5555555555555556,\"#d8576b\"],[0.6666666666666666,\"#ed7953\"],[0.7777777777777778,\"#fb9f3a\"],[0.8888888888888888,\"#fdca26\"],[1.0,\"#f0f921\"]]}],\"contourcarpet\":[{\"type\":\"contourcarpet\",\"colorbar\":{\"outlinewidth\":0,\"ticks\":\"\"}}],\"contour\":[{\"type\":\"contour\",\"colorbar\":{\"outlinewidth\":0,\"ticks\":\"\"},\"colorscale\":[[0.0,\"#0d0887\"],[0.1111111111111111,\"#46039f\"],[0.2222222222222222,\"#7201a8\"],[0.3333333333333333,\"#9c179e\"],[0.4444444444444444,\"#bd3786\"],[0.5555555555555556,\"#d8576b\"],[0.6666666666666666,\"#ed7953\"],[0.7777777777777778,\"#fb9f3a\"],[0.8888888888888888,\"#fdca26\"],[1.0,\"#f0f921\"]]}],\"surface\":[{\"type\":\"surface\",\"colorbar\":{\"outlinewidth\":0,\"ticks\":\"\"},\"colorscale\":[[0.0,\"#0d0887\"],[0.1111111111111111,\"#46039f\"],[0.2222222222222222,\"#7201a8\"],[0.3333333333333333,\"#9c179e\"],[0.4444444444444444,\"#bd3786\"],[0.5555555555555556,\"#d8576b\"],[0.6666666666666666,\"#ed7953\"],[0.7777777777777778,\"#fb9f3a\"],[0.8888888888888888,\"#fdca26\"],[1.0,\"#f0f921\"]]}],\"mesh3d\":[{\"type\":\"mesh3d\",\"colorbar\":{\"outlinewidth\":0,\"ticks\":\"\"}}],\"scatter\":[{\"fillpattern\":{\"fillmode\":\"overlay\",\"size\":10,\"solidity\":0.2},\"type\":\"scatter\"}],\"parcoords\":[{\"type\":\"parcoords\",\"line\":{\"colorbar\":{\"outlinewidth\":0,\"ticks\":\"\"}}}],\"scatterpolargl\":[{\"type\":\"scatterpolargl\",\"marker\":{\"colorbar\":{\"outlinewidth\":0,\"ticks\":\"\"}}}],\"bar\":[{\"error_x\":{\"color\":\"#2a3f5f\"},\"error_y\":{\"color\":\"#2a3f5f\"},\"marker\":{\"line\":{\"color\":\"#E5ECF6\",\"width\":0.5},\"pattern\":{\"fillmode\":\"overlay\",\"size\":10,\"solidity\":0.2}},\"type\":\"bar\"}],\"scattergeo\":[{\"type\":\"scattergeo\",\"marker\":{\"colorbar\":{\"outlinewidth\":0,\"ticks\":\"\"}}}],\"scatterpolar\":[{\"type\":\"scatterpolar\",\"marker\":{\"colorbar\":{\"outlinewidth\":0,\"ticks\":\"\"}}}],\"histogram\":[{\"marker\":{\"pattern\":{\"fillmode\":\"overlay\",\"size\":10,\"solidity\":0.2}},\"type\":\"histogram\"}],\"scattergl\":[{\"type\":\"scattergl\",\"marker\":{\"colorbar\":{\"outlinewidth\":0,\"ticks\":\"\"}}}],\"scatter3d\":[{\"type\":\"scatter3d\",\"line\":{\"colorbar\":{\"outlinewidth\":0,\"ticks\":\"\"}},\"marker\":{\"colorbar\":{\"outlinewidth\":0,\"ticks\":\"\"}}}],\"scattermapbox\":[{\"type\":\"scattermapbox\",\"marker\":{\"colorbar\":{\"outlinewidth\":0,\"ticks\":\"\"}}}],\"scatterternary\":[{\"type\":\"scatterternary\",\"marker\":{\"colorbar\":{\"outlinewidth\":0,\"ticks\":\"\"}}}],\"scattercarpet\":[{\"type\":\"scattercarpet\",\"marker\":{\"colorbar\":{\"outlinewidth\":0,\"ticks\":\"\"}}}],\"carpet\":[{\"aaxis\":{\"endlinecolor\":\"#2a3f5f\",\"gridcolor\":\"white\",\"linecolor\":\"white\",\"minorgridcolor\":\"white\",\"startlinecolor\":\"#2a3f5f\"},\"baxis\":{\"endlinecolor\":\"#2a3f5f\",\"gridcolor\":\"white\",\"linecolor\":\"white\",\"minorgridcolor\":\"white\",\"startlinecolor\":\"#2a3f5f\"},\"type\":\"carpet\"}],\"table\":[{\"cells\":{\"fill\":{\"color\":\"#EBF0F8\"},\"line\":{\"color\":\"white\"}},\"header\":{\"fill\":{\"color\":\"#C8D4E3\"},\"line\":{\"color\":\"white\"}},\"type\":\"table\"}],\"barpolar\":[{\"marker\":{\"line\":{\"color\":\"#E5ECF6\",\"width\":0.5},\"pattern\":{\"fillmode\":\"overlay\",\"size\":10,\"solidity\":0.2}},\"type\":\"barpolar\"}],\"pie\":[{\"automargin\":true,\"type\":\"pie\"}]},\"layout\":{\"autotypenumbers\":\"strict\",\"colorway\":[\"#636efa\",\"#EF553B\",\"#00cc96\",\"#ab63fa\",\"#FFA15A\",\"#19d3f3\",\"#FF6692\",\"#B6E880\",\"#FF97FF\",\"#FECB52\"],\"font\":{\"color\":\"#2a3f5f\"},\"hovermode\":\"closest\",\"hoverlabel\":{\"align\":\"left\"},\"paper_bgcolor\":\"white\",\"plot_bgcolor\":\"#E5ECF6\",\"polar\":{\"bgcolor\":\"#E5ECF6\",\"angularaxis\":{\"gridcolor\":\"white\",\"linecolor\":\"white\",\"ticks\":\"\"},\"radialaxis\":{\"gridcolor\":\"white\",\"linecolor\":\"white\",\"ticks\":\"\"}},\"ternary\":{\"bgcolor\":\"#E5ECF6\",\"aaxis\":{\"gridcolor\":\"white\",\"linecolor\":\"white\",\"ticks\":\"\"},\"baxis\":{\"gridcolor\":\"white\",\"linecolor\":\"white\",\"ticks\":\"\"},\"caxis\":{\"gridcolor\":\"white\",\"linecolor\":\"white\",\"ticks\":\"\"}},\"coloraxis\":{\"colorbar\":{\"outlinewidth\":0,\"ticks\":\"\"}},\"colorscale\":{\"sequential\":[[0.0,\"#0d0887\"],[0.1111111111111111,\"#46039f\"],[0.2222222222222222,\"#7201a8\"],[0.3333333333333333,\"#9c179e\"],[0.4444444444444444,\"#bd3786\"],[0.5555555555555556,\"#d8576b\"],[0.6666666666666666,\"#ed7953\"],[0.7777777777777778,\"#fb9f3a\"],[0.8888888888888888,\"#fdca26\"],[1.0,\"#f0f921\"]],\"sequentialminus\":[[0.0,\"#0d0887\"],[0.1111111111111111,\"#46039f\"],[0.2222222222222222,\"#7201a8\"],[0.3333333333333333,\"#9c179e\"],[0.4444444444444444,\"#bd3786\"],[0.5555555555555556,\"#d8576b\"],[0.6666666666666666,\"#ed7953\"],[0.7777777777777778,\"#fb9f3a\"],[0.8888888888888888,\"#fdca26\"],[1.0,\"#f0f921\"]],\"diverging\":[[0,\"#8e0152\"],[0.1,\"#c51b7d\"],[0.2,\"#de77ae\"],[0.3,\"#f1b6da\"],[0.4,\"#fde0ef\"],[0.5,\"#f7f7f7\"],[0.6,\"#e6f5d0\"],[0.7,\"#b8e186\"],[0.8,\"#7fbc41\"],[0.9,\"#4d9221\"],[1,\"#276419\"]]},\"xaxis\":{\"gridcolor\":\"white\",\"linecolor\":\"white\",\"ticks\":\"\",\"title\":{\"standoff\":15},\"zerolinecolor\":\"white\",\"automargin\":true,\"zerolinewidth\":2},\"yaxis\":{\"gridcolor\":\"white\",\"linecolor\":\"white\",\"ticks\":\"\",\"title\":{\"standoff\":15},\"zerolinecolor\":\"white\",\"automargin\":true,\"zerolinewidth\":2},\"scene\":{\"xaxis\":{\"backgroundcolor\":\"#E5ECF6\",\"gridcolor\":\"white\",\"linecolor\":\"white\",\"showbackground\":true,\"ticks\":\"\",\"zerolinecolor\":\"white\",\"gridwidth\":2},\"yaxis\":{\"backgroundcolor\":\"#E5ECF6\",\"gridcolor\":\"white\",\"linecolor\":\"white\",\"showbackground\":true,\"ticks\":\"\",\"zerolinecolor\":\"white\",\"gridwidth\":2},\"zaxis\":{\"backgroundcolor\":\"#E5ECF6\",\"gridcolor\":\"white\",\"linecolor\":\"white\",\"showbackground\":true,\"ticks\":\"\",\"zerolinecolor\":\"white\",\"gridwidth\":2}},\"shapedefaults\":{\"line\":{\"color\":\"#2a3f5f\"}},\"annotationdefaults\":{\"arrowcolor\":\"#2a3f5f\",\"arrowhead\":0,\"arrowwidth\":1},\"geo\":{\"bgcolor\":\"white\",\"landcolor\":\"#E5ECF6\",\"subunitcolor\":\"white\",\"showland\":true,\"showlakes\":true,\"lakecolor\":\"white\"},\"title\":{\"x\":0.05},\"mapbox\":{\"style\":\"light\"}}},\"scene\":{\"aspectmode\":\"data\"},\"margin\":{\"l\":0,\"r\":0,\"b\":0,\"t\":30},\"title\":{\"text\":\"Triangulaci\\u00f3n 1\"}},                        {\"responsive\": true}                    ).then(function(){\n",
              "                            \n",
              "var gd = document.getElementById('37c294f9-0b37-444e-9705-44beecb22044');\n",
              "var x = new MutationObserver(function (mutations, observer) {{\n",
              "        var display = window.getComputedStyle(gd).display;\n",
              "        if (!display || display === 'none') {{\n",
              "            console.log([gd, 'removed!']);\n",
              "            Plotly.purge(gd);\n",
              "            observer.disconnect();\n",
              "        }}\n",
              "}});\n",
              "\n",
              "// Listen for the removal of the full notebook cells\n",
              "var notebookContainer = gd.closest('#notebook-container');\n",
              "if (notebookContainer) {{\n",
              "    x.observe(notebookContainer, {childList: true});\n",
              "}}\n",
              "\n",
              "// Listen for the clearing of the current output cell\n",
              "var outputEl = gd.closest('.output');\n",
              "if (outputEl) {{\n",
              "    x.observe(outputEl, {childList: true});\n",
              "}}\n",
              "\n",
              "                        })                };                            </script>        </div>\n",
              "</body>\n",
              "</html>"
            ]
          },
          "metadata": {}
        }
      ]
    }
  ],
  "metadata": {
    "accelerator": "TPU",
    "colab": {
      "gpuType": "V28",
      "provenance": []
    },
    "kernelspec": {
      "display_name": "Python 3",
      "name": "python3"
    },
    "language_info": {
      "name": "python"
    }
  },
  "nbformat": 4,
  "nbformat_minor": 0
}