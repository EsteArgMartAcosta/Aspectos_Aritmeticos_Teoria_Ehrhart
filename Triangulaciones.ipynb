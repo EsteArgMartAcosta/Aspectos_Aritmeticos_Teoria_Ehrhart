{
  "cells": [
    {
      "cell_type": "markdown",
      "metadata": {
        "id": "view-in-github",
        "colab_type": "text"
      },
      "source": [
        "<a href=\"https://colab.research.google.com/github/EsteArgen/Aspectos_Aritmeticos_Teoria_Ehrhart/blob/main/Triangulaciones.ipynb\" target=\"_parent\"><img src=\"https://colab.research.google.com/assets/colab-badge.svg\" alt=\"Open In Colab\"/></a>"
      ]
    },
    {
      "cell_type": "markdown",
      "metadata": {
        "id": "_1ozD24U-K4Q"
      },
      "source": [
        "<center>\n",
        "\n",
        "**Aspectos Aritméticos de la Teoría de Ehrhart**\n",
        "\n",
        "</center>"
      ]
    },
    {
      "cell_type": "markdown",
      "metadata": {
        "id": "0IRW1QdS-MVE"
      },
      "source": [
        "<p align=\"center\">\n",
        "    <img src=\"https://logowik.com/content/uploads/images/escudo-de-la-universidad-nacional-de-colombia-20163327.logowik.com.webp\" width=\"400\">\n",
        "</p>\n"
      ]
    },
    {
      "cell_type": "markdown",
      "metadata": {
        "id": "yWLCRdKi-Ph2"
      },
      "source": [
        "<center>"
      ]
    },
    {
      "cell_type": "markdown",
      "metadata": {
        "id": "iwZqKMtDPvhh"
      },
      "source": [
        "# **Preparación de los archivos**"
      ]
    },
    {
      "cell_type": "markdown",
      "metadata": {
        "id": "iqv0DTYc-w-_"
      },
      "source": [
        "**Módulo necesario para procesar el archivo .obj**"
      ]
    },
    {
      "cell_type": "code",
      "execution_count": null,
      "metadata": {
        "colab": {
          "base_uri": "https://localhost:8080/"
        },
        "id": "6jymY20QQN5E",
        "outputId": "a836185a-7d02-48b5-8fa4-4ca565c277ce"
      },
      "outputs": [
        {
          "output_type": "stream",
          "name": "stdout",
          "text": [
            "Collecting trimesh\n",
            "  Downloading trimesh-4.6.8-py3-none-any.whl.metadata (18 kB)\n",
            "Requirement already satisfied: plotly in /usr/local/lib/python3.11/dist-packages (5.24.1)\n",
            "Collecting mapbox_earcut\n",
            "  Downloading mapbox_earcut-1.0.3-cp311-cp311-manylinux_2_17_x86_64.manylinux2014_x86_64.whl.metadata (2.2 kB)\n",
            "Requirement already satisfied: scipy in /usr/local/lib/python3.11/dist-packages (1.14.1)\n",
            "Collecting pyvista\n",
            "  Downloading pyvista-0.45.0-py3-none-any.whl.metadata (20 kB)\n",
            "Requirement already satisfied: numpy>=1.20 in /usr/local/lib/python3.11/dist-packages (from trimesh) (2.0.2)\n",
            "Requirement already satisfied: tenacity>=6.2.0 in /usr/local/lib/python3.11/dist-packages (from plotly) (9.1.2)\n",
            "Requirement already satisfied: packaging in /usr/local/lib/python3.11/dist-packages (from plotly) (25.0)\n",
            "Requirement already satisfied: matplotlib>=3.0.1 in /usr/local/lib/python3.11/dist-packages (from pyvista) (3.10.0)\n",
            "Requirement already satisfied: pillow in /usr/local/lib/python3.11/dist-packages (from pyvista) (11.2.1)\n",
            "Requirement already satisfied: pooch in /usr/local/lib/python3.11/dist-packages (from pyvista) (1.8.2)\n",
            "Collecting scooby>=0.5.1 (from pyvista)\n",
            "  Downloading scooby-0.10.1-py3-none-any.whl.metadata (15 kB)\n",
            "Requirement already satisfied: typing-extensions in /usr/local/lib/python3.11/dist-packages (from pyvista) (4.13.2)\n",
            "Collecting vtk!=9.4.0 (from pyvista)\n",
            "  Downloading vtk-9.4.2-cp311-cp311-manylinux_2_17_x86_64.manylinux2014_x86_64.whl.metadata (5.5 kB)\n",
            "Requirement already satisfied: contourpy>=1.0.1 in /usr/local/lib/python3.11/dist-packages (from matplotlib>=3.0.1->pyvista) (1.3.2)\n",
            "Requirement already satisfied: cycler>=0.10 in /usr/local/lib/python3.11/dist-packages (from matplotlib>=3.0.1->pyvista) (0.12.1)\n",
            "Requirement already satisfied: fonttools>=4.22.0 in /usr/local/lib/python3.11/dist-packages (from matplotlib>=3.0.1->pyvista) (4.57.0)\n",
            "Requirement already satisfied: kiwisolver>=1.3.1 in /usr/local/lib/python3.11/dist-packages (from matplotlib>=3.0.1->pyvista) (1.4.8)\n",
            "Requirement already satisfied: pyparsing>=2.3.1 in /usr/local/lib/python3.11/dist-packages (from matplotlib>=3.0.1->pyvista) (3.2.3)\n",
            "Requirement already satisfied: python-dateutil>=2.7 in /usr/local/lib/python3.11/dist-packages (from matplotlib>=3.0.1->pyvista) (2.9.0.post0)\n",
            "Requirement already satisfied: platformdirs>=2.5.0 in /usr/local/lib/python3.11/dist-packages (from pooch->pyvista) (4.3.7)\n",
            "Requirement already satisfied: requests>=2.19.0 in /usr/local/lib/python3.11/dist-packages (from pooch->pyvista) (2.32.3)\n",
            "Requirement already satisfied: six>=1.5 in /usr/local/lib/python3.11/dist-packages (from python-dateutil>=2.7->matplotlib>=3.0.1->pyvista) (1.17.0)\n",
            "Requirement already satisfied: charset-normalizer<4,>=2 in /usr/local/lib/python3.11/dist-packages (from requests>=2.19.0->pooch->pyvista) (3.4.1)\n",
            "Requirement already satisfied: idna<4,>=2.5 in /usr/local/lib/python3.11/dist-packages (from requests>=2.19.0->pooch->pyvista) (3.10)\n",
            "Requirement already satisfied: urllib3<3,>=1.21.1 in /usr/local/lib/python3.11/dist-packages (from requests>=2.19.0->pooch->pyvista) (2.3.0)\n",
            "Requirement already satisfied: certifi>=2017.4.17 in /usr/local/lib/python3.11/dist-packages (from requests>=2.19.0->pooch->pyvista) (2025.1.31)\n",
            "Downloading trimesh-4.6.8-py3-none-any.whl (709 kB)\n",
            "\u001b[2K   \u001b[90m━━━━━━━━━━━━━━━━━━━━━━━━━━━━━━━━━━━━━━━━\u001b[0m \u001b[32m709.3/709.3 kB\u001b[0m \u001b[31m10.9 MB/s\u001b[0m eta \u001b[36m0:00:00\u001b[0m\n",
            "\u001b[?25hDownloading mapbox_earcut-1.0.3-cp311-cp311-manylinux_2_17_x86_64.manylinux2014_x86_64.whl (96 kB)\n",
            "\u001b[2K   \u001b[90m━━━━━━━━━━━━━━━━━━━━━━━━━━━━━━━━━━━━━━━━\u001b[0m \u001b[32m97.0/97.0 kB\u001b[0m \u001b[31m5.9 MB/s\u001b[0m eta \u001b[36m0:00:00\u001b[0m\n",
            "\u001b[?25hDownloading pyvista-0.45.0-py3-none-any.whl (2.4 MB)\n",
            "\u001b[2K   \u001b[90m━━━━━━━━━━━━━━━━━━━━━━━━━━━━━━━━━━━━━━━━\u001b[0m \u001b[32m2.4/2.4 MB\u001b[0m \u001b[31m53.6 MB/s\u001b[0m eta \u001b[36m0:00:00\u001b[0m\n",
            "\u001b[?25hDownloading scooby-0.10.1-py3-none-any.whl (18 kB)\n",
            "Downloading vtk-9.4.2-cp311-cp311-manylinux_2_17_x86_64.manylinux2014_x86_64.whl (105.0 MB)\n",
            "\u001b[2K   \u001b[90m━━━━━━━━━━━━━━━━━━━━━━━━━━━━━━━━━━━━━━━━\u001b[0m \u001b[32m105.0/105.0 MB\u001b[0m \u001b[31m10.1 MB/s\u001b[0m eta \u001b[36m0:00:00\u001b[0m\n",
            "\u001b[?25hInstalling collected packages: trimesh, scooby, mapbox_earcut, vtk, pyvista\n",
            "Successfully installed mapbox_earcut-1.0.3 pyvista-0.45.0 scooby-0.10.1 trimesh-4.6.8 vtk-9.4.2\n"
          ]
        }
      ],
      "source": [
        "\n",
        "!pip install trimesh plotly mapbox_earcut scipy pyvista"
      ]
    },
    {
      "cell_type": "markdown",
      "metadata": {
        "id": "7lWa8xM2_DBV"
      },
      "source": [
        "**Conectar con Google Drive**"
      ]
    },
    {
      "cell_type": "code",
      "execution_count": null,
      "metadata": {
        "colab": {
          "base_uri": "https://localhost:8080/"
        },
        "id": "vyAEM8twd0yA",
        "outputId": "71a0e664-c8cd-4051-fddb-d5bce0c46998"
      },
      "outputs": [
        {
          "output_type": "stream",
          "name": "stdout",
          "text": [
            "Mounted at /content/drive\n"
          ]
        }
      ],
      "source": [
        "\n",
        "from google.colab import drive\n",
        "drive.mount('/content/drive')"
      ]
    },
    {
      "cell_type": "markdown",
      "metadata": {
        "id": "lcXYsPGN_GOo"
      },
      "source": [
        "**Ruta de los archivos .obj**"
      ]
    },
    {
      "cell_type": "code",
      "execution_count": null,
      "metadata": {
        "id": "2G_cRmBZfByT"
      },
      "outputs": [],
      "source": [
        "\n",
        "ruta_obj = \"/content/drive/Shared drives/POLYTOPES/TRIANGULATIONS/dodecahedron.obj\""
      ]
    },
    {
      "cell_type": "markdown",
      "metadata": {
        "id": "UoxBSdZ2_p4i"
      },
      "source": [
        "**Módulos para convertir el archivo .obj**"
      ]
    },
    {
      "cell_type": "code",
      "execution_count": null,
      "metadata": {
        "id": "2e9Bslsu_y9o"
      },
      "outputs": [],
      "source": [
        "\n",
        "import os\n",
        "import trimesh"
      ]
    },
    {
      "cell_type": "markdown",
      "metadata": {
        "id": "5QZvAPMLAMVG"
      },
      "source": [
        "**Verificar existencia del archivo .obj**"
      ]
    },
    {
      "cell_type": "code",
      "execution_count": null,
      "metadata": {
        "id": "27BuyKFgAR7T",
        "colab": {
          "base_uri": "https://localhost:8080/"
        },
        "outputId": "ec0df3c7-25dd-46fd-c77a-4605aec2f93d"
      },
      "outputs": [
        {
          "output_type": "stream",
          "name": "stdout",
          "text": [
            "¿Archivo encontrado? True\n"
          ]
        }
      ],
      "source": [
        "\n",
        "print(\"¿Archivo encontrado?\", os.path.exists(ruta_obj))"
      ]
    },
    {
      "cell_type": "markdown",
      "metadata": {
        "id": "nGxG8D0eAagx"
      },
      "source": [
        "**Cargar malla del .obj**"
      ]
    },
    {
      "cell_type": "code",
      "execution_count": null,
      "metadata": {
        "id": "vGyHdt4jAeoJ",
        "colab": {
          "base_uri": "https://localhost:8080/"
        },
        "outputId": "eee921d1-de23-4ccd-9e09-4ee5a55f0040"
      },
      "outputs": [
        {
          "output_type": "stream",
          "name": "stdout",
          "text": [
            "<trimesh.Trimesh(vertices.shape=(20, 3), faces.shape=(36, 3))>\n"
          ]
        }
      ],
      "source": [
        "\n",
        "mesh = trimesh.load(ruta_obj)\n",
        "print(mesh)"
      ]
    },
    {
      "cell_type": "markdown",
      "metadata": {
        "id": "9kPOWIrvQY23"
      },
      "source": [
        "# **Procesamiento del poliedro**"
      ]
    },
    {
      "cell_type": "markdown",
      "metadata": {
        "id": "vzudu8WqEiCh"
      },
      "source": [
        "**Módulos de pocesamiento**"
      ]
    },
    {
      "cell_type": "code",
      "execution_count": null,
      "metadata": {
        "id": "e6VOge2xQfYq"
      },
      "outputs": [],
      "source": [
        "\n",
        "import plotly.graph_objects as go\n",
        "import pyvista as pv\n",
        "import numpy as np\n",
        "import trimesh\n",
        "from trimesh import Trimesh"
      ]
    },
    {
      "cell_type": "code",
      "execution_count": null,
      "metadata": {
        "id": "kcnBTBrvQcac"
      },
      "outputs": [],
      "source": [
        "\n",
        "def mostrar_malla(mesh, titulo=\"Triangulación\"):\n",
        "    v = mesh.vertices\n",
        "    f = mesh.faces\n",
        "    fig = go.Figure(data=[go.Mesh3d(\n",
        "        x=v[:,0], y=v[:,1], z=v[:,2],\n",
        "        i=f[:,0], j=f[:,1], k=f[:,2],\n",
        "        opacity=0.5, color='lightblue'\n",
        "    )])\n",
        "    fig.update_layout(title=titulo, scene=dict(aspectmode='data'))\n",
        "    fig.show()"
      ]
    },
    {
      "cell_type": "code",
      "execution_count": null,
      "metadata": {
        "id": "PNail6trElmH"
      },
      "outputs": [],
      "source": [
        "\n",
        "def visualizar_coloreado(mesh, titulo=\"Malla Triangulada\"):\n",
        "    v = mesh.vertices\n",
        "    f = mesh.faces\n",
        "\n",
        "    fig = go.Figure()\n",
        "\n",
        "    colores = np.random.rand(len(f), 3)\n",
        "\n",
        "    for i, tri in enumerate(f):\n",
        "        tri_vertices = v[tri]\n",
        "        fig.add_trace(go.Mesh3d(\n",
        "            x=tri_vertices[:, 0],\n",
        "            y=tri_vertices[:, 1],\n",
        "            z=tri_vertices[:, 2],\n",
        "            i=[0], j=[1], k=[2],\n",
        "            color=f'rgb({colores[i][0]*255:.0f}, {colores[i][1]*255:.0f}, {colores[i][2]*255:.0f})',\n",
        "            opacity=1.0,\n",
        "            name=f\"Face {i}\"\n",
        "        ))\n",
        "\n",
        "    fig.update_layout(title=titulo, scene=dict(aspectmode='data'), margin=dict(l=0, r=0, b=0, t=30))\n",
        "    fig.show()"
      ]
    },
    {
      "cell_type": "code",
      "execution_count": null,
      "metadata": {
        "id": "SFXETwUAEsMl"
      },
      "outputs": [],
      "source": [
        "\n",
        "def visualizar_transparente_con_bordes(mesh, titulo=\"Interior visible\"):\n",
        "\n",
        "    v = mesh.vertices\n",
        "    f = mesh.faces\n",
        "\n",
        "    fig = go.Figure(data=[go.Mesh3d(\n",
        "        x=v[:,0], y=v[:,1], z=v[:,2],\n",
        "        i=f[:,0], j=f[:,1], k=f[:,2],\n",
        "        color='lightblue', opacity=0.3,\n",
        "        name=\"Poliedro\"\n",
        "    )])\n",
        "\n",
        "    for face in f:\n",
        "        puntos = v[face]\n",
        "        edges = [(0,1), (1,2), (2,0)]\n",
        "        for a,b in edges:\n",
        "            fig.add_trace(go.Scatter3d(\n",
        "                x=[puntos[a][0], puntos[b][0]],\n",
        "                y=[puntos[a][1], puntos[b][1]],\n",
        "                z=[puntos[a][2], puntos[b][2]],\n",
        "                mode='lines',\n",
        "                line=dict(color='black', width=2),\n",
        "                showlegend=False\n",
        "            ))\n",
        "\n",
        "    fig.update_layout(title=titulo, scene=dict(aspectmode='data'), margin=dict(l=0, r=0, b=0, t=30))\n",
        "    fig.show()\n"
      ]
    },
    {
      "cell_type": "code",
      "execution_count": null,
      "metadata": {
        "id": "vinjtbfTE3iR"
      },
      "outputs": [],
      "source": [
        "\n",
        "def tetrahedralizar_y_extraer_superficie(mesh):\n",
        "\n",
        "    faces_pv = np.hstack([[3, *face] for face in mesh.faces])\n",
        "    pv_mesh = pv.PolyData(mesh.vertices, faces_pv)\n",
        "\n",
        "    volumen = pv_mesh.delaunay_3d()\n",
        "\n",
        "    superficie = volumen.extract_surface()\n",
        "    v = np.array(superficie.points)\n",
        "    f = np.array(superficie.faces).reshape((-1, 4))[:, 1:]\n",
        "\n",
        "    return Trimesh(vertices=v, faces=f)"
      ]
    },
    {
      "cell_type": "markdown",
      "metadata": {
        "id": "_tI2l4EDResd"
      },
      "source": [
        "# **Vista principal**"
      ]
    },
    {
      "cell_type": "markdown",
      "metadata": {
        "id": "qcq2KWxpFZW5"
      },
      "source": [
        "**Vista coloreada del poliedro**"
      ]
    },
    {
      "cell_type": "code",
      "execution_count": null,
      "metadata": {
        "colab": {
          "base_uri": "https://localhost:8080/"
        },
        "id": "0luBvNqTRxLI",
        "outputId": "63421b30-de5a-47a1-afb8-660901f7874d"
      },
      "outputs": [
        {
          "output_type": "display_data",
          "data": {
            "text/html": [
              "<html>\n",
              "<head><meta charset=\"utf-8\" /></head>\n",
              "<body>\n",
              "    <div>            <script src=\"https://cdnjs.cloudflare.com/ajax/libs/mathjax/2.7.5/MathJax.js?config=TeX-AMS-MML_SVG\"></script><script type=\"text/javascript\">if (window.MathJax && window.MathJax.Hub && window.MathJax.Hub.Config) {window.MathJax.Hub.Config({SVG: {font: \"STIX-Web\"}});}</script>                <script type=\"text/javascript\">window.PlotlyConfig = {MathJaxConfig: 'local'};</script>\n",
              "        <script charset=\"utf-8\" src=\"https://cdn.plot.ly/plotly-2.35.2.min.js\"></script>                <div id=\"c8beee9a-2581-46df-9b25-a7218335e972\" class=\"plotly-graph-div\" style=\"height:525px; width:100%;\"></div>            <script type=\"text/javascript\">                                    window.PLOTLYENV=window.PLOTLYENV || {};                                    if (document.getElementById(\"c8beee9a-2581-46df-9b25-a7218335e972\")) {                    Plotly.newPlot(                        \"c8beee9a-2581-46df-9b25-a7218335e972\",                        [{\"color\":\"rgb(99, 104, 185)\",\"i\":[0],\"j\":[1],\"k\":[2],\"name\":\"Face 0\",\"opacity\":1.0,\"x\":[0.0,0.7136442,0.7978784],\"y\":[0.0,0.0,0.618034],\"z\":[1.070466,0.7978784,0.3568221],\"type\":\"mesh3d\"},{\"color\":\"rgb(74, 231, 87)\",\"i\":[0],\"j\":[1],\"k\":[2],\"name\":\"Face 1\",\"opacity\":1.0,\"x\":[0.0,0.7978784,0.1362939],\"y\":[0.0,0.618034,1.0],\"z\":[1.070466,0.3568221,0.3568221],\"type\":\"mesh3d\"},{\"color\":\"rgb(80, 177, 10)\",\"i\":[0],\"j\":[1],\"k\":[2],\"name\":\"Face 2\",\"opacity\":1.0,\"x\":[0.0,0.1362939,-0.3568221],\"y\":[0.0,1.0,0.618034],\"z\":[1.070466,0.3568221,0.7978784],\"type\":\"mesh3d\"},{\"color\":\"rgb(242, 164, 157)\",\"i\":[0],\"j\":[1],\"k\":[2],\"name\":\"Face 3\",\"opacity\":1.0,\"x\":[0.0,-0.3568221,-0.9341724],\"y\":[0.0,0.618034,0.381966],\"z\":[1.070466,0.7978784,0.3568221],\"type\":\"mesh3d\"},{\"color\":\"rgb(185, 68, 141)\",\"i\":[0],\"j\":[1],\"k\":[2],\"name\":\"Face 4\",\"opacity\":1.0,\"x\":[0.0,-0.9341724,-0.9341724],\"y\":[0.0,0.381966,-0.381966],\"z\":[1.070466,0.3568221,0.3568221],\"type\":\"mesh3d\"},{\"color\":\"rgb(88, 64, 45)\",\"i\":[0],\"j\":[1],\"k\":[2],\"name\":\"Face 5\",\"opacity\":1.0,\"x\":[0.0,-0.9341724,-0.3568221],\"y\":[0.0,-0.381966,-0.618034],\"z\":[1.070466,0.3568221,0.7978784],\"type\":\"mesh3d\"},{\"color\":\"rgb(243, 62, 81)\",\"i\":[0],\"j\":[1],\"k\":[2],\"name\":\"Face 6\",\"opacity\":1.0,\"x\":[0.0,-0.3568221,0.1362939],\"y\":[0.0,-0.618034,-1.0],\"z\":[1.070466,0.7978784,0.3568221],\"type\":\"mesh3d\"},{\"color\":\"rgb(74, 182, 186)\",\"i\":[0],\"j\":[1],\"k\":[2],\"name\":\"Face 7\",\"opacity\":1.0,\"x\":[0.0,0.1362939,0.7978784],\"y\":[0.0,-1.0,-0.618034],\"z\":[1.070466,0.3568221,0.3568221],\"type\":\"mesh3d\"},{\"color\":\"rgb(186, 25, 97)\",\"i\":[0],\"j\":[1],\"k\":[2],\"name\":\"Face 8\",\"opacity\":1.0,\"x\":[0.0,0.7978784,0.7136442],\"y\":[0.0,-0.618034,0.0],\"z\":[1.070466,0.3568221,0.7978784],\"type\":\"mesh3d\"},{\"color\":\"rgb(168, 69, 213)\",\"i\":[0],\"j\":[1],\"k\":[2],\"name\":\"Face 9\",\"opacity\":1.0,\"x\":[0.7136442,0.7978784,0.9341724],\"y\":[0.0,-0.618034,-0.381966],\"z\":[0.7978784,0.3568221,-0.3568221],\"type\":\"mesh3d\"},{\"color\":\"rgb(115, 203, 63)\",\"i\":[0],\"j\":[1],\"k\":[2],\"name\":\"Face 10\",\"opacity\":1.0,\"x\":[0.7136442,0.9341724,0.9341724],\"y\":[0.0,-0.381966,0.381966],\"z\":[0.7978784,-0.3568221,-0.3568221],\"type\":\"mesh3d\"},{\"color\":\"rgb(166, 91, 41)\",\"i\":[0],\"j\":[1],\"k\":[2],\"name\":\"Face 11\",\"opacity\":1.0,\"x\":[0.7136442,0.9341724,0.7978784],\"y\":[0.0,0.381966,0.618034],\"z\":[0.7978784,-0.3568221,0.3568221],\"type\":\"mesh3d\"},{\"color\":\"rgb(87, 47, 108)\",\"i\":[0],\"j\":[1],\"k\":[2],\"name\":\"Face 12\",\"opacity\":1.0,\"x\":[-0.3568221,0.1362939,-0.1362939],\"y\":[0.618034,1.0,1.0],\"z\":[0.7978784,0.3568221,-0.3568221],\"type\":\"mesh3d\"},{\"color\":\"rgb(189, 182, 20)\",\"i\":[0],\"j\":[1],\"k\":[2],\"name\":\"Face 13\",\"opacity\":1.0,\"x\":[-0.3568221,-0.1362939,-0.7978784],\"y\":[0.618034,1.0,0.618034],\"z\":[0.7978784,-0.3568221,-0.3568221],\"type\":\"mesh3d\"},{\"color\":\"rgb(112, 25, 181)\",\"i\":[0],\"j\":[1],\"k\":[2],\"name\":\"Face 14\",\"opacity\":1.0,\"x\":[-0.3568221,-0.7978784,-0.9341724],\"y\":[0.618034,0.618034,0.381966],\"z\":[0.7978784,-0.3568221,0.3568221],\"type\":\"mesh3d\"},{\"color\":\"rgb(24, 239, 44)\",\"i\":[0],\"j\":[1],\"k\":[2],\"name\":\"Face 15\",\"opacity\":1.0,\"x\":[-0.3568221,-0.9341724,-0.7978784],\"y\":[-0.618034,-0.381966,-0.618034],\"z\":[0.7978784,0.3568221,-0.3568221],\"type\":\"mesh3d\"},{\"color\":\"rgb(145, 251, 108)\",\"i\":[0],\"j\":[1],\"k\":[2],\"name\":\"Face 16\",\"opacity\":1.0,\"x\":[-0.3568221,-0.7978784,-0.1362939],\"y\":[-0.618034,-0.618034,-1.0],\"z\":[0.7978784,-0.3568221,-0.3568221],\"type\":\"mesh3d\"},{\"color\":\"rgb(5, 255, 242)\",\"i\":[0],\"j\":[1],\"k\":[2],\"name\":\"Face 17\",\"opacity\":1.0,\"x\":[-0.3568221,-0.1362939,0.1362939],\"y\":[-0.618034,-1.0,-1.0],\"z\":[0.7978784,-0.3568221,0.3568221],\"type\":\"mesh3d\"},{\"color\":\"rgb(90, 243, 178)\",\"i\":[0],\"j\":[1],\"k\":[2],\"name\":\"Face 18\",\"opacity\":1.0,\"x\":[0.7978784,0.9341724,0.3568221],\"y\":[0.618034,0.381966,0.618034],\"z\":[0.3568221,-0.3568221,-0.7978784],\"type\":\"mesh3d\"},{\"color\":\"rgb(235, 219, 23)\",\"i\":[0],\"j\":[1],\"k\":[2],\"name\":\"Face 19\",\"opacity\":1.0,\"x\":[0.7978784,0.3568221,-0.1362939],\"y\":[0.618034,0.618034,1.0],\"z\":[0.3568221,-0.7978784,-0.3568221],\"type\":\"mesh3d\"},{\"color\":\"rgb(139, 45, 88)\",\"i\":[0],\"j\":[1],\"k\":[2],\"name\":\"Face 20\",\"opacity\":1.0,\"x\":[0.7978784,-0.1362939,0.1362939],\"y\":[0.618034,1.0,1.0],\"z\":[0.3568221,-0.3568221,0.3568221],\"type\":\"mesh3d\"},{\"color\":\"rgb(159, 50, 3)\",\"i\":[0],\"j\":[1],\"k\":[2],\"name\":\"Face 21\",\"opacity\":1.0,\"x\":[0.7978784,0.1362939,-0.1362939],\"y\":[-0.618034,-1.0,-1.0],\"z\":[0.3568221,0.3568221,-0.3568221],\"type\":\"mesh3d\"},{\"color\":\"rgb(70, 232, 200)\",\"i\":[0],\"j\":[1],\"k\":[2],\"name\":\"Face 22\",\"opacity\":1.0,\"x\":[0.7978784,-0.1362939,0.3568221],\"y\":[-0.618034,-1.0,-0.618034],\"z\":[0.3568221,-0.3568221,-0.7978784],\"type\":\"mesh3d\"},{\"color\":\"rgb(242, 137, 176)\",\"i\":[0],\"j\":[1],\"k\":[2],\"name\":\"Face 23\",\"opacity\":1.0,\"x\":[0.7978784,0.3568221,0.9341724],\"y\":[-0.618034,-0.618034,-0.381966],\"z\":[0.3568221,-0.7978784,-0.3568221],\"type\":\"mesh3d\"},{\"color\":\"rgb(70, 166, 42)\",\"i\":[0],\"j\":[1],\"k\":[2],\"name\":\"Face 24\",\"opacity\":1.0,\"x\":[-0.9341724,-0.7978784,-0.7136442],\"y\":[0.381966,0.618034,0.0],\"z\":[0.3568221,-0.3568221,-0.7978784],\"type\":\"mesh3d\"},{\"color\":\"rgb(239, 86, 92)\",\"i\":[0],\"j\":[1],\"k\":[2],\"name\":\"Face 25\",\"opacity\":1.0,\"x\":[-0.9341724,-0.7136442,-0.7978784],\"y\":[0.381966,0.0,-0.618034],\"z\":[0.3568221,-0.7978784,-0.3568221],\"type\":\"mesh3d\"},{\"color\":\"rgb(77, 175, 86)\",\"i\":[0],\"j\":[1],\"k\":[2],\"name\":\"Face 26\",\"opacity\":1.0,\"x\":[-0.9341724,-0.7978784,-0.9341724],\"y\":[0.381966,-0.618034,-0.381966],\"z\":[0.3568221,-0.3568221,0.3568221],\"type\":\"mesh3d\"},{\"color\":\"rgb(208, 209, 223)\",\"i\":[0],\"j\":[1],\"k\":[2],\"name\":\"Face 27\",\"opacity\":1.0,\"x\":[0.9341724,0.9341724,0.3568221],\"y\":[0.381966,-0.381966,-0.618034],\"z\":[-0.3568221,-0.3568221,-0.7978784],\"type\":\"mesh3d\"},{\"color\":\"rgb(124, 178, 111)\",\"i\":[0],\"j\":[1],\"k\":[2],\"name\":\"Face 28\",\"opacity\":1.0,\"x\":[0.9341724,0.3568221,0.0],\"y\":[0.381966,-0.618034,0.0],\"z\":[-0.3568221,-0.7978784,-1.070466],\"type\":\"mesh3d\"},{\"color\":\"rgb(108, 54, 55)\",\"i\":[0],\"j\":[1],\"k\":[2],\"name\":\"Face 29\",\"opacity\":1.0,\"x\":[0.9341724,0.0,0.3568221],\"y\":[0.381966,0.0,0.618034],\"z\":[-0.3568221,-1.070466,-0.7978784],\"type\":\"mesh3d\"},{\"color\":\"rgb(208, 71, 33)\",\"i\":[0],\"j\":[1],\"k\":[2],\"name\":\"Face 30\",\"opacity\":1.0,\"x\":[-0.7978784,-0.1362939,0.3568221],\"y\":[0.618034,1.0,0.618034],\"z\":[-0.3568221,-0.3568221,-0.7978784],\"type\":\"mesh3d\"},{\"color\":\"rgb(75, 247, 218)\",\"i\":[0],\"j\":[1],\"k\":[2],\"name\":\"Face 31\",\"opacity\":1.0,\"x\":[-0.7978784,0.3568221,0.0],\"y\":[0.618034,0.618034,0.0],\"z\":[-0.3568221,-0.7978784,-1.070466],\"type\":\"mesh3d\"},{\"color\":\"rgb(248, 199, 106)\",\"i\":[0],\"j\":[1],\"k\":[2],\"name\":\"Face 32\",\"opacity\":1.0,\"x\":[-0.7978784,0.0,-0.7136442],\"y\":[0.618034,0.0,0.0],\"z\":[-0.3568221,-1.070466,-0.7978784],\"type\":\"mesh3d\"},{\"color\":\"rgb(19, 71, 41)\",\"i\":[0],\"j\":[1],\"k\":[2],\"name\":\"Face 33\",\"opacity\":1.0,\"x\":[-0.1362939,-0.7978784,-0.7136442],\"y\":[-1.0,-0.618034,0.0],\"z\":[-0.3568221,-0.3568221,-0.7978784],\"type\":\"mesh3d\"},{\"color\":\"rgb(221, 248, 153)\",\"i\":[0],\"j\":[1],\"k\":[2],\"name\":\"Face 34\",\"opacity\":1.0,\"x\":[-0.1362939,-0.7136442,0.0],\"y\":[-1.0,0.0,0.0],\"z\":[-0.3568221,-0.7978784,-1.070466],\"type\":\"mesh3d\"},{\"color\":\"rgb(86, 178, 219)\",\"i\":[0],\"j\":[1],\"k\":[2],\"name\":\"Face 35\",\"opacity\":1.0,\"x\":[-0.1362939,0.0,0.3568221],\"y\":[-1.0,0.0,-0.618034],\"z\":[-0.3568221,-1.070466,-0.7978784],\"type\":\"mesh3d\"}],                        {\"template\":{\"data\":{\"histogram2dcontour\":[{\"type\":\"histogram2dcontour\",\"colorbar\":{\"outlinewidth\":0,\"ticks\":\"\"},\"colorscale\":[[0.0,\"#0d0887\"],[0.1111111111111111,\"#46039f\"],[0.2222222222222222,\"#7201a8\"],[0.3333333333333333,\"#9c179e\"],[0.4444444444444444,\"#bd3786\"],[0.5555555555555556,\"#d8576b\"],[0.6666666666666666,\"#ed7953\"],[0.7777777777777778,\"#fb9f3a\"],[0.8888888888888888,\"#fdca26\"],[1.0,\"#f0f921\"]]}],\"choropleth\":[{\"type\":\"choropleth\",\"colorbar\":{\"outlinewidth\":0,\"ticks\":\"\"}}],\"histogram2d\":[{\"type\":\"histogram2d\",\"colorbar\":{\"outlinewidth\":0,\"ticks\":\"\"},\"colorscale\":[[0.0,\"#0d0887\"],[0.1111111111111111,\"#46039f\"],[0.2222222222222222,\"#7201a8\"],[0.3333333333333333,\"#9c179e\"],[0.4444444444444444,\"#bd3786\"],[0.5555555555555556,\"#d8576b\"],[0.6666666666666666,\"#ed7953\"],[0.7777777777777778,\"#fb9f3a\"],[0.8888888888888888,\"#fdca26\"],[1.0,\"#f0f921\"]]}],\"heatmap\":[{\"type\":\"heatmap\",\"colorbar\":{\"outlinewidth\":0,\"ticks\":\"\"},\"colorscale\":[[0.0,\"#0d0887\"],[0.1111111111111111,\"#46039f\"],[0.2222222222222222,\"#7201a8\"],[0.3333333333333333,\"#9c179e\"],[0.4444444444444444,\"#bd3786\"],[0.5555555555555556,\"#d8576b\"],[0.6666666666666666,\"#ed7953\"],[0.7777777777777778,\"#fb9f3a\"],[0.8888888888888888,\"#fdca26\"],[1.0,\"#f0f921\"]]}],\"heatmapgl\":[{\"type\":\"heatmapgl\",\"colorbar\":{\"outlinewidth\":0,\"ticks\":\"\"},\"colorscale\":[[0.0,\"#0d0887\"],[0.1111111111111111,\"#46039f\"],[0.2222222222222222,\"#7201a8\"],[0.3333333333333333,\"#9c179e\"],[0.4444444444444444,\"#bd3786\"],[0.5555555555555556,\"#d8576b\"],[0.6666666666666666,\"#ed7953\"],[0.7777777777777778,\"#fb9f3a\"],[0.8888888888888888,\"#fdca26\"],[1.0,\"#f0f921\"]]}],\"contourcarpet\":[{\"type\":\"contourcarpet\",\"colorbar\":{\"outlinewidth\":0,\"ticks\":\"\"}}],\"contour\":[{\"type\":\"contour\",\"colorbar\":{\"outlinewidth\":0,\"ticks\":\"\"},\"colorscale\":[[0.0,\"#0d0887\"],[0.1111111111111111,\"#46039f\"],[0.2222222222222222,\"#7201a8\"],[0.3333333333333333,\"#9c179e\"],[0.4444444444444444,\"#bd3786\"],[0.5555555555555556,\"#d8576b\"],[0.6666666666666666,\"#ed7953\"],[0.7777777777777778,\"#fb9f3a\"],[0.8888888888888888,\"#fdca26\"],[1.0,\"#f0f921\"]]}],\"surface\":[{\"type\":\"surface\",\"colorbar\":{\"outlinewidth\":0,\"ticks\":\"\"},\"colorscale\":[[0.0,\"#0d0887\"],[0.1111111111111111,\"#46039f\"],[0.2222222222222222,\"#7201a8\"],[0.3333333333333333,\"#9c179e\"],[0.4444444444444444,\"#bd3786\"],[0.5555555555555556,\"#d8576b\"],[0.6666666666666666,\"#ed7953\"],[0.7777777777777778,\"#fb9f3a\"],[0.8888888888888888,\"#fdca26\"],[1.0,\"#f0f921\"]]}],\"mesh3d\":[{\"type\":\"mesh3d\",\"colorbar\":{\"outlinewidth\":0,\"ticks\":\"\"}}],\"scatter\":[{\"fillpattern\":{\"fillmode\":\"overlay\",\"size\":10,\"solidity\":0.2},\"type\":\"scatter\"}],\"parcoords\":[{\"type\":\"parcoords\",\"line\":{\"colorbar\":{\"outlinewidth\":0,\"ticks\":\"\"}}}],\"scatterpolargl\":[{\"type\":\"scatterpolargl\",\"marker\":{\"colorbar\":{\"outlinewidth\":0,\"ticks\":\"\"}}}],\"bar\":[{\"error_x\":{\"color\":\"#2a3f5f\"},\"error_y\":{\"color\":\"#2a3f5f\"},\"marker\":{\"line\":{\"color\":\"#E5ECF6\",\"width\":0.5},\"pattern\":{\"fillmode\":\"overlay\",\"size\":10,\"solidity\":0.2}},\"type\":\"bar\"}],\"scattergeo\":[{\"type\":\"scattergeo\",\"marker\":{\"colorbar\":{\"outlinewidth\":0,\"ticks\":\"\"}}}],\"scatterpolar\":[{\"type\":\"scatterpolar\",\"marker\":{\"colorbar\":{\"outlinewidth\":0,\"ticks\":\"\"}}}],\"histogram\":[{\"marker\":{\"pattern\":{\"fillmode\":\"overlay\",\"size\":10,\"solidity\":0.2}},\"type\":\"histogram\"}],\"scattergl\":[{\"type\":\"scattergl\",\"marker\":{\"colorbar\":{\"outlinewidth\":0,\"ticks\":\"\"}}}],\"scatter3d\":[{\"type\":\"scatter3d\",\"line\":{\"colorbar\":{\"outlinewidth\":0,\"ticks\":\"\"}},\"marker\":{\"colorbar\":{\"outlinewidth\":0,\"ticks\":\"\"}}}],\"scattermapbox\":[{\"type\":\"scattermapbox\",\"marker\":{\"colorbar\":{\"outlinewidth\":0,\"ticks\":\"\"}}}],\"scatterternary\":[{\"type\":\"scatterternary\",\"marker\":{\"colorbar\":{\"outlinewidth\":0,\"ticks\":\"\"}}}],\"scattercarpet\":[{\"type\":\"scattercarpet\",\"marker\":{\"colorbar\":{\"outlinewidth\":0,\"ticks\":\"\"}}}],\"carpet\":[{\"aaxis\":{\"endlinecolor\":\"#2a3f5f\",\"gridcolor\":\"white\",\"linecolor\":\"white\",\"minorgridcolor\":\"white\",\"startlinecolor\":\"#2a3f5f\"},\"baxis\":{\"endlinecolor\":\"#2a3f5f\",\"gridcolor\":\"white\",\"linecolor\":\"white\",\"minorgridcolor\":\"white\",\"startlinecolor\":\"#2a3f5f\"},\"type\":\"carpet\"}],\"table\":[{\"cells\":{\"fill\":{\"color\":\"#EBF0F8\"},\"line\":{\"color\":\"white\"}},\"header\":{\"fill\":{\"color\":\"#C8D4E3\"},\"line\":{\"color\":\"white\"}},\"type\":\"table\"}],\"barpolar\":[{\"marker\":{\"line\":{\"color\":\"#E5ECF6\",\"width\":0.5},\"pattern\":{\"fillmode\":\"overlay\",\"size\":10,\"solidity\":0.2}},\"type\":\"barpolar\"}],\"pie\":[{\"automargin\":true,\"type\":\"pie\"}]},\"layout\":{\"autotypenumbers\":\"strict\",\"colorway\":[\"#636efa\",\"#EF553B\",\"#00cc96\",\"#ab63fa\",\"#FFA15A\",\"#19d3f3\",\"#FF6692\",\"#B6E880\",\"#FF97FF\",\"#FECB52\"],\"font\":{\"color\":\"#2a3f5f\"},\"hovermode\":\"closest\",\"hoverlabel\":{\"align\":\"left\"},\"paper_bgcolor\":\"white\",\"plot_bgcolor\":\"#E5ECF6\",\"polar\":{\"bgcolor\":\"#E5ECF6\",\"angularaxis\":{\"gridcolor\":\"white\",\"linecolor\":\"white\",\"ticks\":\"\"},\"radialaxis\":{\"gridcolor\":\"white\",\"linecolor\":\"white\",\"ticks\":\"\"}},\"ternary\":{\"bgcolor\":\"#E5ECF6\",\"aaxis\":{\"gridcolor\":\"white\",\"linecolor\":\"white\",\"ticks\":\"\"},\"baxis\":{\"gridcolor\":\"white\",\"linecolor\":\"white\",\"ticks\":\"\"},\"caxis\":{\"gridcolor\":\"white\",\"linecolor\":\"white\",\"ticks\":\"\"}},\"coloraxis\":{\"colorbar\":{\"outlinewidth\":0,\"ticks\":\"\"}},\"colorscale\":{\"sequential\":[[0.0,\"#0d0887\"],[0.1111111111111111,\"#46039f\"],[0.2222222222222222,\"#7201a8\"],[0.3333333333333333,\"#9c179e\"],[0.4444444444444444,\"#bd3786\"],[0.5555555555555556,\"#d8576b\"],[0.6666666666666666,\"#ed7953\"],[0.7777777777777778,\"#fb9f3a\"],[0.8888888888888888,\"#fdca26\"],[1.0,\"#f0f921\"]],\"sequentialminus\":[[0.0,\"#0d0887\"],[0.1111111111111111,\"#46039f\"],[0.2222222222222222,\"#7201a8\"],[0.3333333333333333,\"#9c179e\"],[0.4444444444444444,\"#bd3786\"],[0.5555555555555556,\"#d8576b\"],[0.6666666666666666,\"#ed7953\"],[0.7777777777777778,\"#fb9f3a\"],[0.8888888888888888,\"#fdca26\"],[1.0,\"#f0f921\"]],\"diverging\":[[0,\"#8e0152\"],[0.1,\"#c51b7d\"],[0.2,\"#de77ae\"],[0.3,\"#f1b6da\"],[0.4,\"#fde0ef\"],[0.5,\"#f7f7f7\"],[0.6,\"#e6f5d0\"],[0.7,\"#b8e186\"],[0.8,\"#7fbc41\"],[0.9,\"#4d9221\"],[1,\"#276419\"]]},\"xaxis\":{\"gridcolor\":\"white\",\"linecolor\":\"white\",\"ticks\":\"\",\"title\":{\"standoff\":15},\"zerolinecolor\":\"white\",\"automargin\":true,\"zerolinewidth\":2},\"yaxis\":{\"gridcolor\":\"white\",\"linecolor\":\"white\",\"ticks\":\"\",\"title\":{\"standoff\":15},\"zerolinecolor\":\"white\",\"automargin\":true,\"zerolinewidth\":2},\"scene\":{\"xaxis\":{\"backgroundcolor\":\"#E5ECF6\",\"gridcolor\":\"white\",\"linecolor\":\"white\",\"showbackground\":true,\"ticks\":\"\",\"zerolinecolor\":\"white\",\"gridwidth\":2},\"yaxis\":{\"backgroundcolor\":\"#E5ECF6\",\"gridcolor\":\"white\",\"linecolor\":\"white\",\"showbackground\":true,\"ticks\":\"\",\"zerolinecolor\":\"white\",\"gridwidth\":2},\"zaxis\":{\"backgroundcolor\":\"#E5ECF6\",\"gridcolor\":\"white\",\"linecolor\":\"white\",\"showbackground\":true,\"ticks\":\"\",\"zerolinecolor\":\"white\",\"gridwidth\":2}},\"shapedefaults\":{\"line\":{\"color\":\"#2a3f5f\"}},\"annotationdefaults\":{\"arrowcolor\":\"#2a3f5f\",\"arrowhead\":0,\"arrowwidth\":1},\"geo\":{\"bgcolor\":\"white\",\"landcolor\":\"#E5ECF6\",\"subunitcolor\":\"white\",\"showland\":true,\"showlakes\":true,\"lakecolor\":\"white\"},\"title\":{\"x\":0.05},\"mapbox\":{\"style\":\"light\"}}},\"scene\":{\"aspectmode\":\"data\"},\"margin\":{\"l\":0,\"r\":0,\"b\":0,\"t\":30},\"title\":{\"text\":\"Original\"}},                        {\"responsive\": true}                    ).then(function(){\n",
              "                            \n",
              "var gd = document.getElementById('c8beee9a-2581-46df-9b25-a7218335e972');\n",
              "var x = new MutationObserver(function (mutations, observer) {{\n",
              "        var display = window.getComputedStyle(gd).display;\n",
              "        if (!display || display === 'none') {{\n",
              "            console.log([gd, 'removed!']);\n",
              "            Plotly.purge(gd);\n",
              "            observer.disconnect();\n",
              "        }}\n",
              "}});\n",
              "\n",
              "// Listen for the removal of the full notebook cells\n",
              "var notebookContainer = gd.closest('#notebook-container');\n",
              "if (notebookContainer) {{\n",
              "    x.observe(notebookContainer, {childList: true});\n",
              "}}\n",
              "\n",
              "// Listen for the clearing of the current output cell\n",
              "var outputEl = gd.closest('.output');\n",
              "if (outputEl) {{\n",
              "    x.observe(outputEl, {childList: true});\n",
              "}}\n",
              "\n",
              "                        })                };                            </script>        </div>\n",
              "</body>\n",
              "</html>"
            ]
          },
          "metadata": {}
        }
      ],
      "source": [
        "\n",
        "visualizar_coloreado(mesh, \"Original\")"
      ]
    },
    {
      "cell_type": "markdown",
      "metadata": {
        "id": "po55MBerFgq3"
      },
      "source": [
        "**Vista interior del poliedro**"
      ]
    },
    {
      "cell_type": "code",
      "execution_count": null,
      "metadata": {
        "colab": {
          "base_uri": "https://localhost:8080/"
        },
        "id": "JMHnMLk3T6Jo",
        "outputId": "a74eaa13-15be-4d1c-a342-8814a3e722d4"
      },
      "outputs": [
        {
          "output_type": "display_data",
          "data": {
            "text/html": [
              "<html>\n",
              "<head><meta charset=\"utf-8\" /></head>\n",
              "<body>\n",
              "    <div>            <script src=\"https://cdnjs.cloudflare.com/ajax/libs/mathjax/2.7.5/MathJax.js?config=TeX-AMS-MML_SVG\"></script><script type=\"text/javascript\">if (window.MathJax && window.MathJax.Hub && window.MathJax.Hub.Config) {window.MathJax.Hub.Config({SVG: {font: \"STIX-Web\"}});}</script>                <script type=\"text/javascript\">window.PlotlyConfig = {MathJaxConfig: 'local'};</script>\n",
              "        <script charset=\"utf-8\" src=\"https://cdn.plot.ly/plotly-2.35.2.min.js\"></script>                <div id=\"05e5fb61-90f2-438a-b96e-e15c6e3eec6a\" class=\"plotly-graph-div\" style=\"height:525px; width:100%;\"></div>            <script type=\"text/javascript\">                                    window.PLOTLYENV=window.PLOTLYENV || {};                                    if (document.getElementById(\"05e5fb61-90f2-438a-b96e-e15c6e3eec6a\")) {                    Plotly.newPlot(                        \"05e5fb61-90f2-438a-b96e-e15c6e3eec6a\",                        [{\"color\":\"lightblue\",\"i\":[0,0,0,0,0,0,0,0,0,1,1,1,2,2,2,3,3,3,4,4,4,5,5,5,6,6,6,10,10,10,12,12,12,14,14,14],\"j\":[1,4,7,2,6,9,3,8,5,5,11,10,7,13,12,9,15,14,10,16,13,8,14,17,12,18,15,11,17,19,13,16,19,15,18,19],\"k\":[4,7,2,6,9,3,8,5,1,11,10,4,13,12,6,15,14,8,16,13,7,14,17,11,18,15,9,17,19,16,16,19,18,18,19,17],\"name\":\"Poliedro\",\"opacity\":0.3,\"x\":[0.0,0.7136442,-0.3568221,-0.3568221,0.7978784,0.7978784,-0.9341724,0.1362939,0.1362939,-0.9341724,0.9341724,0.9341724,-0.7978784,-0.1362939,-0.1362939,-0.7978784,0.3568221,0.3568221,-0.7136442,0.0],\"y\":[0.0,0.0,0.618034,-0.618034,0.618034,-0.618034,0.381966,1.0,-1.0,-0.381966,0.381966,-0.381966,0.618034,1.0,-1.0,-0.618034,0.618034,-0.618034,0.0,0.0],\"z\":[1.070466,0.7978784,0.7978784,0.7978784,0.3568221,0.3568221,0.3568221,0.3568221,0.3568221,0.3568221,-0.3568221,-0.3568221,-0.3568221,-0.3568221,-0.3568221,-0.3568221,-0.7978784,-0.7978784,-0.7978784,-1.070466],\"type\":\"mesh3d\"},{\"line\":{\"color\":\"black\",\"width\":2},\"mode\":\"lines\",\"showlegend\":false,\"x\":[0.0,0.7136442],\"y\":[0.0,0.0],\"z\":[1.070466,0.7978784],\"type\":\"scatter3d\"},{\"line\":{\"color\":\"black\",\"width\":2},\"mode\":\"lines\",\"showlegend\":false,\"x\":[0.7136442,0.7978784],\"y\":[0.0,0.618034],\"z\":[0.7978784,0.3568221],\"type\":\"scatter3d\"},{\"line\":{\"color\":\"black\",\"width\":2},\"mode\":\"lines\",\"showlegend\":false,\"x\":[0.7978784,0.0],\"y\":[0.618034,0.0],\"z\":[0.3568221,1.070466],\"type\":\"scatter3d\"},{\"line\":{\"color\":\"black\",\"width\":2},\"mode\":\"lines\",\"showlegend\":false,\"x\":[0.0,0.7978784],\"y\":[0.0,0.618034],\"z\":[1.070466,0.3568221],\"type\":\"scatter3d\"},{\"line\":{\"color\":\"black\",\"width\":2},\"mode\":\"lines\",\"showlegend\":false,\"x\":[0.7978784,0.1362939],\"y\":[0.618034,1.0],\"z\":[0.3568221,0.3568221],\"type\":\"scatter3d\"},{\"line\":{\"color\":\"black\",\"width\":2},\"mode\":\"lines\",\"showlegend\":false,\"x\":[0.1362939,0.0],\"y\":[1.0,0.0],\"z\":[0.3568221,1.070466],\"type\":\"scatter3d\"},{\"line\":{\"color\":\"black\",\"width\":2},\"mode\":\"lines\",\"showlegend\":false,\"x\":[0.0,0.1362939],\"y\":[0.0,1.0],\"z\":[1.070466,0.3568221],\"type\":\"scatter3d\"},{\"line\":{\"color\":\"black\",\"width\":2},\"mode\":\"lines\",\"showlegend\":false,\"x\":[0.1362939,-0.3568221],\"y\":[1.0,0.618034],\"z\":[0.3568221,0.7978784],\"type\":\"scatter3d\"},{\"line\":{\"color\":\"black\",\"width\":2},\"mode\":\"lines\",\"showlegend\":false,\"x\":[-0.3568221,0.0],\"y\":[0.618034,0.0],\"z\":[0.7978784,1.070466],\"type\":\"scatter3d\"},{\"line\":{\"color\":\"black\",\"width\":2},\"mode\":\"lines\",\"showlegend\":false,\"x\":[0.0,-0.3568221],\"y\":[0.0,0.618034],\"z\":[1.070466,0.7978784],\"type\":\"scatter3d\"},{\"line\":{\"color\":\"black\",\"width\":2},\"mode\":\"lines\",\"showlegend\":false,\"x\":[-0.3568221,-0.9341724],\"y\":[0.618034,0.381966],\"z\":[0.7978784,0.3568221],\"type\":\"scatter3d\"},{\"line\":{\"color\":\"black\",\"width\":2},\"mode\":\"lines\",\"showlegend\":false,\"x\":[-0.9341724,0.0],\"y\":[0.381966,0.0],\"z\":[0.3568221,1.070466],\"type\":\"scatter3d\"},{\"line\":{\"color\":\"black\",\"width\":2},\"mode\":\"lines\",\"showlegend\":false,\"x\":[0.0,-0.9341724],\"y\":[0.0,0.381966],\"z\":[1.070466,0.3568221],\"type\":\"scatter3d\"},{\"line\":{\"color\":\"black\",\"width\":2},\"mode\":\"lines\",\"showlegend\":false,\"x\":[-0.9341724,-0.9341724],\"y\":[0.381966,-0.381966],\"z\":[0.3568221,0.3568221],\"type\":\"scatter3d\"},{\"line\":{\"color\":\"black\",\"width\":2},\"mode\":\"lines\",\"showlegend\":false,\"x\":[-0.9341724,0.0],\"y\":[-0.381966,0.0],\"z\":[0.3568221,1.070466],\"type\":\"scatter3d\"},{\"line\":{\"color\":\"black\",\"width\":2},\"mode\":\"lines\",\"showlegend\":false,\"x\":[0.0,-0.9341724],\"y\":[0.0,-0.381966],\"z\":[1.070466,0.3568221],\"type\":\"scatter3d\"},{\"line\":{\"color\":\"black\",\"width\":2},\"mode\":\"lines\",\"showlegend\":false,\"x\":[-0.9341724,-0.3568221],\"y\":[-0.381966,-0.618034],\"z\":[0.3568221,0.7978784],\"type\":\"scatter3d\"},{\"line\":{\"color\":\"black\",\"width\":2},\"mode\":\"lines\",\"showlegend\":false,\"x\":[-0.3568221,0.0],\"y\":[-0.618034,0.0],\"z\":[0.7978784,1.070466],\"type\":\"scatter3d\"},{\"line\":{\"color\":\"black\",\"width\":2},\"mode\":\"lines\",\"showlegend\":false,\"x\":[0.0,-0.3568221],\"y\":[0.0,-0.618034],\"z\":[1.070466,0.7978784],\"type\":\"scatter3d\"},{\"line\":{\"color\":\"black\",\"width\":2},\"mode\":\"lines\",\"showlegend\":false,\"x\":[-0.3568221,0.1362939],\"y\":[-0.618034,-1.0],\"z\":[0.7978784,0.3568221],\"type\":\"scatter3d\"},{\"line\":{\"color\":\"black\",\"width\":2},\"mode\":\"lines\",\"showlegend\":false,\"x\":[0.1362939,0.0],\"y\":[-1.0,0.0],\"z\":[0.3568221,1.070466],\"type\":\"scatter3d\"},{\"line\":{\"color\":\"black\",\"width\":2},\"mode\":\"lines\",\"showlegend\":false,\"x\":[0.0,0.1362939],\"y\":[0.0,-1.0],\"z\":[1.070466,0.3568221],\"type\":\"scatter3d\"},{\"line\":{\"color\":\"black\",\"width\":2},\"mode\":\"lines\",\"showlegend\":false,\"x\":[0.1362939,0.7978784],\"y\":[-1.0,-0.618034],\"z\":[0.3568221,0.3568221],\"type\":\"scatter3d\"},{\"line\":{\"color\":\"black\",\"width\":2},\"mode\":\"lines\",\"showlegend\":false,\"x\":[0.7978784,0.0],\"y\":[-0.618034,0.0],\"z\":[0.3568221,1.070466],\"type\":\"scatter3d\"},{\"line\":{\"color\":\"black\",\"width\":2},\"mode\":\"lines\",\"showlegend\":false,\"x\":[0.0,0.7978784],\"y\":[0.0,-0.618034],\"z\":[1.070466,0.3568221],\"type\":\"scatter3d\"},{\"line\":{\"color\":\"black\",\"width\":2},\"mode\":\"lines\",\"showlegend\":false,\"x\":[0.7978784,0.7136442],\"y\":[-0.618034,0.0],\"z\":[0.3568221,0.7978784],\"type\":\"scatter3d\"},{\"line\":{\"color\":\"black\",\"width\":2},\"mode\":\"lines\",\"showlegend\":false,\"x\":[0.7136442,0.0],\"y\":[0.0,0.0],\"z\":[0.7978784,1.070466],\"type\":\"scatter3d\"},{\"line\":{\"color\":\"black\",\"width\":2},\"mode\":\"lines\",\"showlegend\":false,\"x\":[0.7136442,0.7978784],\"y\":[0.0,-0.618034],\"z\":[0.7978784,0.3568221],\"type\":\"scatter3d\"},{\"line\":{\"color\":\"black\",\"width\":2},\"mode\":\"lines\",\"showlegend\":false,\"x\":[0.7978784,0.9341724],\"y\":[-0.618034,-0.381966],\"z\":[0.3568221,-0.3568221],\"type\":\"scatter3d\"},{\"line\":{\"color\":\"black\",\"width\":2},\"mode\":\"lines\",\"showlegend\":false,\"x\":[0.9341724,0.7136442],\"y\":[-0.381966,0.0],\"z\":[-0.3568221,0.7978784],\"type\":\"scatter3d\"},{\"line\":{\"color\":\"black\",\"width\":2},\"mode\":\"lines\",\"showlegend\":false,\"x\":[0.7136442,0.9341724],\"y\":[0.0,-0.381966],\"z\":[0.7978784,-0.3568221],\"type\":\"scatter3d\"},{\"line\":{\"color\":\"black\",\"width\":2},\"mode\":\"lines\",\"showlegend\":false,\"x\":[0.9341724,0.9341724],\"y\":[-0.381966,0.381966],\"z\":[-0.3568221,-0.3568221],\"type\":\"scatter3d\"},{\"line\":{\"color\":\"black\",\"width\":2},\"mode\":\"lines\",\"showlegend\":false,\"x\":[0.9341724,0.7136442],\"y\":[0.381966,0.0],\"z\":[-0.3568221,0.7978784],\"type\":\"scatter3d\"},{\"line\":{\"color\":\"black\",\"width\":2},\"mode\":\"lines\",\"showlegend\":false,\"x\":[0.7136442,0.9341724],\"y\":[0.0,0.381966],\"z\":[0.7978784,-0.3568221],\"type\":\"scatter3d\"},{\"line\":{\"color\":\"black\",\"width\":2},\"mode\":\"lines\",\"showlegend\":false,\"x\":[0.9341724,0.7978784],\"y\":[0.381966,0.618034],\"z\":[-0.3568221,0.3568221],\"type\":\"scatter3d\"},{\"line\":{\"color\":\"black\",\"width\":2},\"mode\":\"lines\",\"showlegend\":false,\"x\":[0.7978784,0.7136442],\"y\":[0.618034,0.0],\"z\":[0.3568221,0.7978784],\"type\":\"scatter3d\"},{\"line\":{\"color\":\"black\",\"width\":2},\"mode\":\"lines\",\"showlegend\":false,\"x\":[-0.3568221,0.1362939],\"y\":[0.618034,1.0],\"z\":[0.7978784,0.3568221],\"type\":\"scatter3d\"},{\"line\":{\"color\":\"black\",\"width\":2},\"mode\":\"lines\",\"showlegend\":false,\"x\":[0.1362939,-0.1362939],\"y\":[1.0,1.0],\"z\":[0.3568221,-0.3568221],\"type\":\"scatter3d\"},{\"line\":{\"color\":\"black\",\"width\":2},\"mode\":\"lines\",\"showlegend\":false,\"x\":[-0.1362939,-0.3568221],\"y\":[1.0,0.618034],\"z\":[-0.3568221,0.7978784],\"type\":\"scatter3d\"},{\"line\":{\"color\":\"black\",\"width\":2},\"mode\":\"lines\",\"showlegend\":false,\"x\":[-0.3568221,-0.1362939],\"y\":[0.618034,1.0],\"z\":[0.7978784,-0.3568221],\"type\":\"scatter3d\"},{\"line\":{\"color\":\"black\",\"width\":2},\"mode\":\"lines\",\"showlegend\":false,\"x\":[-0.1362939,-0.7978784],\"y\":[1.0,0.618034],\"z\":[-0.3568221,-0.3568221],\"type\":\"scatter3d\"},{\"line\":{\"color\":\"black\",\"width\":2},\"mode\":\"lines\",\"showlegend\":false,\"x\":[-0.7978784,-0.3568221],\"y\":[0.618034,0.618034],\"z\":[-0.3568221,0.7978784],\"type\":\"scatter3d\"},{\"line\":{\"color\":\"black\",\"width\":2},\"mode\":\"lines\",\"showlegend\":false,\"x\":[-0.3568221,-0.7978784],\"y\":[0.618034,0.618034],\"z\":[0.7978784,-0.3568221],\"type\":\"scatter3d\"},{\"line\":{\"color\":\"black\",\"width\":2},\"mode\":\"lines\",\"showlegend\":false,\"x\":[-0.7978784,-0.9341724],\"y\":[0.618034,0.381966],\"z\":[-0.3568221,0.3568221],\"type\":\"scatter3d\"},{\"line\":{\"color\":\"black\",\"width\":2},\"mode\":\"lines\",\"showlegend\":false,\"x\":[-0.9341724,-0.3568221],\"y\":[0.381966,0.618034],\"z\":[0.3568221,0.7978784],\"type\":\"scatter3d\"},{\"line\":{\"color\":\"black\",\"width\":2},\"mode\":\"lines\",\"showlegend\":false,\"x\":[-0.3568221,-0.9341724],\"y\":[-0.618034,-0.381966],\"z\":[0.7978784,0.3568221],\"type\":\"scatter3d\"},{\"line\":{\"color\":\"black\",\"width\":2},\"mode\":\"lines\",\"showlegend\":false,\"x\":[-0.9341724,-0.7978784],\"y\":[-0.381966,-0.618034],\"z\":[0.3568221,-0.3568221],\"type\":\"scatter3d\"},{\"line\":{\"color\":\"black\",\"width\":2},\"mode\":\"lines\",\"showlegend\":false,\"x\":[-0.7978784,-0.3568221],\"y\":[-0.618034,-0.618034],\"z\":[-0.3568221,0.7978784],\"type\":\"scatter3d\"},{\"line\":{\"color\":\"black\",\"width\":2},\"mode\":\"lines\",\"showlegend\":false,\"x\":[-0.3568221,-0.7978784],\"y\":[-0.618034,-0.618034],\"z\":[0.7978784,-0.3568221],\"type\":\"scatter3d\"},{\"line\":{\"color\":\"black\",\"width\":2},\"mode\":\"lines\",\"showlegend\":false,\"x\":[-0.7978784,-0.1362939],\"y\":[-0.618034,-1.0],\"z\":[-0.3568221,-0.3568221],\"type\":\"scatter3d\"},{\"line\":{\"color\":\"black\",\"width\":2},\"mode\":\"lines\",\"showlegend\":false,\"x\":[-0.1362939,-0.3568221],\"y\":[-1.0,-0.618034],\"z\":[-0.3568221,0.7978784],\"type\":\"scatter3d\"},{\"line\":{\"color\":\"black\",\"width\":2},\"mode\":\"lines\",\"showlegend\":false,\"x\":[-0.3568221,-0.1362939],\"y\":[-0.618034,-1.0],\"z\":[0.7978784,-0.3568221],\"type\":\"scatter3d\"},{\"line\":{\"color\":\"black\",\"width\":2},\"mode\":\"lines\",\"showlegend\":false,\"x\":[-0.1362939,0.1362939],\"y\":[-1.0,-1.0],\"z\":[-0.3568221,0.3568221],\"type\":\"scatter3d\"},{\"line\":{\"color\":\"black\",\"width\":2},\"mode\":\"lines\",\"showlegend\":false,\"x\":[0.1362939,-0.3568221],\"y\":[-1.0,-0.618034],\"z\":[0.3568221,0.7978784],\"type\":\"scatter3d\"},{\"line\":{\"color\":\"black\",\"width\":2},\"mode\":\"lines\",\"showlegend\":false,\"x\":[0.7978784,0.9341724],\"y\":[0.618034,0.381966],\"z\":[0.3568221,-0.3568221],\"type\":\"scatter3d\"},{\"line\":{\"color\":\"black\",\"width\":2},\"mode\":\"lines\",\"showlegend\":false,\"x\":[0.9341724,0.3568221],\"y\":[0.381966,0.618034],\"z\":[-0.3568221,-0.7978784],\"type\":\"scatter3d\"},{\"line\":{\"color\":\"black\",\"width\":2},\"mode\":\"lines\",\"showlegend\":false,\"x\":[0.3568221,0.7978784],\"y\":[0.618034,0.618034],\"z\":[-0.7978784,0.3568221],\"type\":\"scatter3d\"},{\"line\":{\"color\":\"black\",\"width\":2},\"mode\":\"lines\",\"showlegend\":false,\"x\":[0.7978784,0.3568221],\"y\":[0.618034,0.618034],\"z\":[0.3568221,-0.7978784],\"type\":\"scatter3d\"},{\"line\":{\"color\":\"black\",\"width\":2},\"mode\":\"lines\",\"showlegend\":false,\"x\":[0.3568221,-0.1362939],\"y\":[0.618034,1.0],\"z\":[-0.7978784,-0.3568221],\"type\":\"scatter3d\"},{\"line\":{\"color\":\"black\",\"width\":2},\"mode\":\"lines\",\"showlegend\":false,\"x\":[-0.1362939,0.7978784],\"y\":[1.0,0.618034],\"z\":[-0.3568221,0.3568221],\"type\":\"scatter3d\"},{\"line\":{\"color\":\"black\",\"width\":2},\"mode\":\"lines\",\"showlegend\":false,\"x\":[0.7978784,-0.1362939],\"y\":[0.618034,1.0],\"z\":[0.3568221,-0.3568221],\"type\":\"scatter3d\"},{\"line\":{\"color\":\"black\",\"width\":2},\"mode\":\"lines\",\"showlegend\":false,\"x\":[-0.1362939,0.1362939],\"y\":[1.0,1.0],\"z\":[-0.3568221,0.3568221],\"type\":\"scatter3d\"},{\"line\":{\"color\":\"black\",\"width\":2},\"mode\":\"lines\",\"showlegend\":false,\"x\":[0.1362939,0.7978784],\"y\":[1.0,0.618034],\"z\":[0.3568221,0.3568221],\"type\":\"scatter3d\"},{\"line\":{\"color\":\"black\",\"width\":2},\"mode\":\"lines\",\"showlegend\":false,\"x\":[0.7978784,0.1362939],\"y\":[-0.618034,-1.0],\"z\":[0.3568221,0.3568221],\"type\":\"scatter3d\"},{\"line\":{\"color\":\"black\",\"width\":2},\"mode\":\"lines\",\"showlegend\":false,\"x\":[0.1362939,-0.1362939],\"y\":[-1.0,-1.0],\"z\":[0.3568221,-0.3568221],\"type\":\"scatter3d\"},{\"line\":{\"color\":\"black\",\"width\":2},\"mode\":\"lines\",\"showlegend\":false,\"x\":[-0.1362939,0.7978784],\"y\":[-1.0,-0.618034],\"z\":[-0.3568221,0.3568221],\"type\":\"scatter3d\"},{\"line\":{\"color\":\"black\",\"width\":2},\"mode\":\"lines\",\"showlegend\":false,\"x\":[0.7978784,-0.1362939],\"y\":[-0.618034,-1.0],\"z\":[0.3568221,-0.3568221],\"type\":\"scatter3d\"},{\"line\":{\"color\":\"black\",\"width\":2},\"mode\":\"lines\",\"showlegend\":false,\"x\":[-0.1362939,0.3568221],\"y\":[-1.0,-0.618034],\"z\":[-0.3568221,-0.7978784],\"type\":\"scatter3d\"},{\"line\":{\"color\":\"black\",\"width\":2},\"mode\":\"lines\",\"showlegend\":false,\"x\":[0.3568221,0.7978784],\"y\":[-0.618034,-0.618034],\"z\":[-0.7978784,0.3568221],\"type\":\"scatter3d\"},{\"line\":{\"color\":\"black\",\"width\":2},\"mode\":\"lines\",\"showlegend\":false,\"x\":[0.7978784,0.3568221],\"y\":[-0.618034,-0.618034],\"z\":[0.3568221,-0.7978784],\"type\":\"scatter3d\"},{\"line\":{\"color\":\"black\",\"width\":2},\"mode\":\"lines\",\"showlegend\":false,\"x\":[0.3568221,0.9341724],\"y\":[-0.618034,-0.381966],\"z\":[-0.7978784,-0.3568221],\"type\":\"scatter3d\"},{\"line\":{\"color\":\"black\",\"width\":2},\"mode\":\"lines\",\"showlegend\":false,\"x\":[0.9341724,0.7978784],\"y\":[-0.381966,-0.618034],\"z\":[-0.3568221,0.3568221],\"type\":\"scatter3d\"},{\"line\":{\"color\":\"black\",\"width\":2},\"mode\":\"lines\",\"showlegend\":false,\"x\":[-0.9341724,-0.7978784],\"y\":[0.381966,0.618034],\"z\":[0.3568221,-0.3568221],\"type\":\"scatter3d\"},{\"line\":{\"color\":\"black\",\"width\":2},\"mode\":\"lines\",\"showlegend\":false,\"x\":[-0.7978784,-0.7136442],\"y\":[0.618034,0.0],\"z\":[-0.3568221,-0.7978784],\"type\":\"scatter3d\"},{\"line\":{\"color\":\"black\",\"width\":2},\"mode\":\"lines\",\"showlegend\":false,\"x\":[-0.7136442,-0.9341724],\"y\":[0.0,0.381966],\"z\":[-0.7978784,0.3568221],\"type\":\"scatter3d\"},{\"line\":{\"color\":\"black\",\"width\":2},\"mode\":\"lines\",\"showlegend\":false,\"x\":[-0.9341724,-0.7136442],\"y\":[0.381966,0.0],\"z\":[0.3568221,-0.7978784],\"type\":\"scatter3d\"},{\"line\":{\"color\":\"black\",\"width\":2},\"mode\":\"lines\",\"showlegend\":false,\"x\":[-0.7136442,-0.7978784],\"y\":[0.0,-0.618034],\"z\":[-0.7978784,-0.3568221],\"type\":\"scatter3d\"},{\"line\":{\"color\":\"black\",\"width\":2},\"mode\":\"lines\",\"showlegend\":false,\"x\":[-0.7978784,-0.9341724],\"y\":[-0.618034,0.381966],\"z\":[-0.3568221,0.3568221],\"type\":\"scatter3d\"},{\"line\":{\"color\":\"black\",\"width\":2},\"mode\":\"lines\",\"showlegend\":false,\"x\":[-0.9341724,-0.7978784],\"y\":[0.381966,-0.618034],\"z\":[0.3568221,-0.3568221],\"type\":\"scatter3d\"},{\"line\":{\"color\":\"black\",\"width\":2},\"mode\":\"lines\",\"showlegend\":false,\"x\":[-0.7978784,-0.9341724],\"y\":[-0.618034,-0.381966],\"z\":[-0.3568221,0.3568221],\"type\":\"scatter3d\"},{\"line\":{\"color\":\"black\",\"width\":2},\"mode\":\"lines\",\"showlegend\":false,\"x\":[-0.9341724,-0.9341724],\"y\":[-0.381966,0.381966],\"z\":[0.3568221,0.3568221],\"type\":\"scatter3d\"},{\"line\":{\"color\":\"black\",\"width\":2},\"mode\":\"lines\",\"showlegend\":false,\"x\":[0.9341724,0.9341724],\"y\":[0.381966,-0.381966],\"z\":[-0.3568221,-0.3568221],\"type\":\"scatter3d\"},{\"line\":{\"color\":\"black\",\"width\":2},\"mode\":\"lines\",\"showlegend\":false,\"x\":[0.9341724,0.3568221],\"y\":[-0.381966,-0.618034],\"z\":[-0.3568221,-0.7978784],\"type\":\"scatter3d\"},{\"line\":{\"color\":\"black\",\"width\":2},\"mode\":\"lines\",\"showlegend\":false,\"x\":[0.3568221,0.9341724],\"y\":[-0.618034,0.381966],\"z\":[-0.7978784,-0.3568221],\"type\":\"scatter3d\"},{\"line\":{\"color\":\"black\",\"width\":2},\"mode\":\"lines\",\"showlegend\":false,\"x\":[0.9341724,0.3568221],\"y\":[0.381966,-0.618034],\"z\":[-0.3568221,-0.7978784],\"type\":\"scatter3d\"},{\"line\":{\"color\":\"black\",\"width\":2},\"mode\":\"lines\",\"showlegend\":false,\"x\":[0.3568221,0.0],\"y\":[-0.618034,0.0],\"z\":[-0.7978784,-1.070466],\"type\":\"scatter3d\"},{\"line\":{\"color\":\"black\",\"width\":2},\"mode\":\"lines\",\"showlegend\":false,\"x\":[0.0,0.9341724],\"y\":[0.0,0.381966],\"z\":[-1.070466,-0.3568221],\"type\":\"scatter3d\"},{\"line\":{\"color\":\"black\",\"width\":2},\"mode\":\"lines\",\"showlegend\":false,\"x\":[0.9341724,0.0],\"y\":[0.381966,0.0],\"z\":[-0.3568221,-1.070466],\"type\":\"scatter3d\"},{\"line\":{\"color\":\"black\",\"width\":2},\"mode\":\"lines\",\"showlegend\":false,\"x\":[0.0,0.3568221],\"y\":[0.0,0.618034],\"z\":[-1.070466,-0.7978784],\"type\":\"scatter3d\"},{\"line\":{\"color\":\"black\",\"width\":2},\"mode\":\"lines\",\"showlegend\":false,\"x\":[0.3568221,0.9341724],\"y\":[0.618034,0.381966],\"z\":[-0.7978784,-0.3568221],\"type\":\"scatter3d\"},{\"line\":{\"color\":\"black\",\"width\":2},\"mode\":\"lines\",\"showlegend\":false,\"x\":[-0.7978784,-0.1362939],\"y\":[0.618034,1.0],\"z\":[-0.3568221,-0.3568221],\"type\":\"scatter3d\"},{\"line\":{\"color\":\"black\",\"width\":2},\"mode\":\"lines\",\"showlegend\":false,\"x\":[-0.1362939,0.3568221],\"y\":[1.0,0.618034],\"z\":[-0.3568221,-0.7978784],\"type\":\"scatter3d\"},{\"line\":{\"color\":\"black\",\"width\":2},\"mode\":\"lines\",\"showlegend\":false,\"x\":[0.3568221,-0.7978784],\"y\":[0.618034,0.618034],\"z\":[-0.7978784,-0.3568221],\"type\":\"scatter3d\"},{\"line\":{\"color\":\"black\",\"width\":2},\"mode\":\"lines\",\"showlegend\":false,\"x\":[-0.7978784,0.3568221],\"y\":[0.618034,0.618034],\"z\":[-0.3568221,-0.7978784],\"type\":\"scatter3d\"},{\"line\":{\"color\":\"black\",\"width\":2},\"mode\":\"lines\",\"showlegend\":false,\"x\":[0.3568221,0.0],\"y\":[0.618034,0.0],\"z\":[-0.7978784,-1.070466],\"type\":\"scatter3d\"},{\"line\":{\"color\":\"black\",\"width\":2},\"mode\":\"lines\",\"showlegend\":false,\"x\":[0.0,-0.7978784],\"y\":[0.0,0.618034],\"z\":[-1.070466,-0.3568221],\"type\":\"scatter3d\"},{\"line\":{\"color\":\"black\",\"width\":2},\"mode\":\"lines\",\"showlegend\":false,\"x\":[-0.7978784,0.0],\"y\":[0.618034,0.0],\"z\":[-0.3568221,-1.070466],\"type\":\"scatter3d\"},{\"line\":{\"color\":\"black\",\"width\":2},\"mode\":\"lines\",\"showlegend\":false,\"x\":[0.0,-0.7136442],\"y\":[0.0,0.0],\"z\":[-1.070466,-0.7978784],\"type\":\"scatter3d\"},{\"line\":{\"color\":\"black\",\"width\":2},\"mode\":\"lines\",\"showlegend\":false,\"x\":[-0.7136442,-0.7978784],\"y\":[0.0,0.618034],\"z\":[-0.7978784,-0.3568221],\"type\":\"scatter3d\"},{\"line\":{\"color\":\"black\",\"width\":2},\"mode\":\"lines\",\"showlegend\":false,\"x\":[-0.1362939,-0.7978784],\"y\":[-1.0,-0.618034],\"z\":[-0.3568221,-0.3568221],\"type\":\"scatter3d\"},{\"line\":{\"color\":\"black\",\"width\":2},\"mode\":\"lines\",\"showlegend\":false,\"x\":[-0.7978784,-0.7136442],\"y\":[-0.618034,0.0],\"z\":[-0.3568221,-0.7978784],\"type\":\"scatter3d\"},{\"line\":{\"color\":\"black\",\"width\":2},\"mode\":\"lines\",\"showlegend\":false,\"x\":[-0.7136442,-0.1362939],\"y\":[0.0,-1.0],\"z\":[-0.7978784,-0.3568221],\"type\":\"scatter3d\"},{\"line\":{\"color\":\"black\",\"width\":2},\"mode\":\"lines\",\"showlegend\":false,\"x\":[-0.1362939,-0.7136442],\"y\":[-1.0,0.0],\"z\":[-0.3568221,-0.7978784],\"type\":\"scatter3d\"},{\"line\":{\"color\":\"black\",\"width\":2},\"mode\":\"lines\",\"showlegend\":false,\"x\":[-0.7136442,0.0],\"y\":[0.0,0.0],\"z\":[-0.7978784,-1.070466],\"type\":\"scatter3d\"},{\"line\":{\"color\":\"black\",\"width\":2},\"mode\":\"lines\",\"showlegend\":false,\"x\":[0.0,-0.1362939],\"y\":[0.0,-1.0],\"z\":[-1.070466,-0.3568221],\"type\":\"scatter3d\"},{\"line\":{\"color\":\"black\",\"width\":2},\"mode\":\"lines\",\"showlegend\":false,\"x\":[-0.1362939,0.0],\"y\":[-1.0,0.0],\"z\":[-0.3568221,-1.070466],\"type\":\"scatter3d\"},{\"line\":{\"color\":\"black\",\"width\":2},\"mode\":\"lines\",\"showlegend\":false,\"x\":[0.0,0.3568221],\"y\":[0.0,-0.618034],\"z\":[-1.070466,-0.7978784],\"type\":\"scatter3d\"},{\"line\":{\"color\":\"black\",\"width\":2},\"mode\":\"lines\",\"showlegend\":false,\"x\":[0.3568221,-0.1362939],\"y\":[-0.618034,-1.0],\"z\":[-0.7978784,-0.3568221],\"type\":\"scatter3d\"}],                        {\"template\":{\"data\":{\"histogram2dcontour\":[{\"type\":\"histogram2dcontour\",\"colorbar\":{\"outlinewidth\":0,\"ticks\":\"\"},\"colorscale\":[[0.0,\"#0d0887\"],[0.1111111111111111,\"#46039f\"],[0.2222222222222222,\"#7201a8\"],[0.3333333333333333,\"#9c179e\"],[0.4444444444444444,\"#bd3786\"],[0.5555555555555556,\"#d8576b\"],[0.6666666666666666,\"#ed7953\"],[0.7777777777777778,\"#fb9f3a\"],[0.8888888888888888,\"#fdca26\"],[1.0,\"#f0f921\"]]}],\"choropleth\":[{\"type\":\"choropleth\",\"colorbar\":{\"outlinewidth\":0,\"ticks\":\"\"}}],\"histogram2d\":[{\"type\":\"histogram2d\",\"colorbar\":{\"outlinewidth\":0,\"ticks\":\"\"},\"colorscale\":[[0.0,\"#0d0887\"],[0.1111111111111111,\"#46039f\"],[0.2222222222222222,\"#7201a8\"],[0.3333333333333333,\"#9c179e\"],[0.4444444444444444,\"#bd3786\"],[0.5555555555555556,\"#d8576b\"],[0.6666666666666666,\"#ed7953\"],[0.7777777777777778,\"#fb9f3a\"],[0.8888888888888888,\"#fdca26\"],[1.0,\"#f0f921\"]]}],\"heatmap\":[{\"type\":\"heatmap\",\"colorbar\":{\"outlinewidth\":0,\"ticks\":\"\"},\"colorscale\":[[0.0,\"#0d0887\"],[0.1111111111111111,\"#46039f\"],[0.2222222222222222,\"#7201a8\"],[0.3333333333333333,\"#9c179e\"],[0.4444444444444444,\"#bd3786\"],[0.5555555555555556,\"#d8576b\"],[0.6666666666666666,\"#ed7953\"],[0.7777777777777778,\"#fb9f3a\"],[0.8888888888888888,\"#fdca26\"],[1.0,\"#f0f921\"]]}],\"heatmapgl\":[{\"type\":\"heatmapgl\",\"colorbar\":{\"outlinewidth\":0,\"ticks\":\"\"},\"colorscale\":[[0.0,\"#0d0887\"],[0.1111111111111111,\"#46039f\"],[0.2222222222222222,\"#7201a8\"],[0.3333333333333333,\"#9c179e\"],[0.4444444444444444,\"#bd3786\"],[0.5555555555555556,\"#d8576b\"],[0.6666666666666666,\"#ed7953\"],[0.7777777777777778,\"#fb9f3a\"],[0.8888888888888888,\"#fdca26\"],[1.0,\"#f0f921\"]]}],\"contourcarpet\":[{\"type\":\"contourcarpet\",\"colorbar\":{\"outlinewidth\":0,\"ticks\":\"\"}}],\"contour\":[{\"type\":\"contour\",\"colorbar\":{\"outlinewidth\":0,\"ticks\":\"\"},\"colorscale\":[[0.0,\"#0d0887\"],[0.1111111111111111,\"#46039f\"],[0.2222222222222222,\"#7201a8\"],[0.3333333333333333,\"#9c179e\"],[0.4444444444444444,\"#bd3786\"],[0.5555555555555556,\"#d8576b\"],[0.6666666666666666,\"#ed7953\"],[0.7777777777777778,\"#fb9f3a\"],[0.8888888888888888,\"#fdca26\"],[1.0,\"#f0f921\"]]}],\"surface\":[{\"type\":\"surface\",\"colorbar\":{\"outlinewidth\":0,\"ticks\":\"\"},\"colorscale\":[[0.0,\"#0d0887\"],[0.1111111111111111,\"#46039f\"],[0.2222222222222222,\"#7201a8\"],[0.3333333333333333,\"#9c179e\"],[0.4444444444444444,\"#bd3786\"],[0.5555555555555556,\"#d8576b\"],[0.6666666666666666,\"#ed7953\"],[0.7777777777777778,\"#fb9f3a\"],[0.8888888888888888,\"#fdca26\"],[1.0,\"#f0f921\"]]}],\"mesh3d\":[{\"type\":\"mesh3d\",\"colorbar\":{\"outlinewidth\":0,\"ticks\":\"\"}}],\"scatter\":[{\"fillpattern\":{\"fillmode\":\"overlay\",\"size\":10,\"solidity\":0.2},\"type\":\"scatter\"}],\"parcoords\":[{\"type\":\"parcoords\",\"line\":{\"colorbar\":{\"outlinewidth\":0,\"ticks\":\"\"}}}],\"scatterpolargl\":[{\"type\":\"scatterpolargl\",\"marker\":{\"colorbar\":{\"outlinewidth\":0,\"ticks\":\"\"}}}],\"bar\":[{\"error_x\":{\"color\":\"#2a3f5f\"},\"error_y\":{\"color\":\"#2a3f5f\"},\"marker\":{\"line\":{\"color\":\"#E5ECF6\",\"width\":0.5},\"pattern\":{\"fillmode\":\"overlay\",\"size\":10,\"solidity\":0.2}},\"type\":\"bar\"}],\"scattergeo\":[{\"type\":\"scattergeo\",\"marker\":{\"colorbar\":{\"outlinewidth\":0,\"ticks\":\"\"}}}],\"scatterpolar\":[{\"type\":\"scatterpolar\",\"marker\":{\"colorbar\":{\"outlinewidth\":0,\"ticks\":\"\"}}}],\"histogram\":[{\"marker\":{\"pattern\":{\"fillmode\":\"overlay\",\"size\":10,\"solidity\":0.2}},\"type\":\"histogram\"}],\"scattergl\":[{\"type\":\"scattergl\",\"marker\":{\"colorbar\":{\"outlinewidth\":0,\"ticks\":\"\"}}}],\"scatter3d\":[{\"type\":\"scatter3d\",\"line\":{\"colorbar\":{\"outlinewidth\":0,\"ticks\":\"\"}},\"marker\":{\"colorbar\":{\"outlinewidth\":0,\"ticks\":\"\"}}}],\"scattermapbox\":[{\"type\":\"scattermapbox\",\"marker\":{\"colorbar\":{\"outlinewidth\":0,\"ticks\":\"\"}}}],\"scatterternary\":[{\"type\":\"scatterternary\",\"marker\":{\"colorbar\":{\"outlinewidth\":0,\"ticks\":\"\"}}}],\"scattercarpet\":[{\"type\":\"scattercarpet\",\"marker\":{\"colorbar\":{\"outlinewidth\":0,\"ticks\":\"\"}}}],\"carpet\":[{\"aaxis\":{\"endlinecolor\":\"#2a3f5f\",\"gridcolor\":\"white\",\"linecolor\":\"white\",\"minorgridcolor\":\"white\",\"startlinecolor\":\"#2a3f5f\"},\"baxis\":{\"endlinecolor\":\"#2a3f5f\",\"gridcolor\":\"white\",\"linecolor\":\"white\",\"minorgridcolor\":\"white\",\"startlinecolor\":\"#2a3f5f\"},\"type\":\"carpet\"}],\"table\":[{\"cells\":{\"fill\":{\"color\":\"#EBF0F8\"},\"line\":{\"color\":\"white\"}},\"header\":{\"fill\":{\"color\":\"#C8D4E3\"},\"line\":{\"color\":\"white\"}},\"type\":\"table\"}],\"barpolar\":[{\"marker\":{\"line\":{\"color\":\"#E5ECF6\",\"width\":0.5},\"pattern\":{\"fillmode\":\"overlay\",\"size\":10,\"solidity\":0.2}},\"type\":\"barpolar\"}],\"pie\":[{\"automargin\":true,\"type\":\"pie\"}]},\"layout\":{\"autotypenumbers\":\"strict\",\"colorway\":[\"#636efa\",\"#EF553B\",\"#00cc96\",\"#ab63fa\",\"#FFA15A\",\"#19d3f3\",\"#FF6692\",\"#B6E880\",\"#FF97FF\",\"#FECB52\"],\"font\":{\"color\":\"#2a3f5f\"},\"hovermode\":\"closest\",\"hoverlabel\":{\"align\":\"left\"},\"paper_bgcolor\":\"white\",\"plot_bgcolor\":\"#E5ECF6\",\"polar\":{\"bgcolor\":\"#E5ECF6\",\"angularaxis\":{\"gridcolor\":\"white\",\"linecolor\":\"white\",\"ticks\":\"\"},\"radialaxis\":{\"gridcolor\":\"white\",\"linecolor\":\"white\",\"ticks\":\"\"}},\"ternary\":{\"bgcolor\":\"#E5ECF6\",\"aaxis\":{\"gridcolor\":\"white\",\"linecolor\":\"white\",\"ticks\":\"\"},\"baxis\":{\"gridcolor\":\"white\",\"linecolor\":\"white\",\"ticks\":\"\"},\"caxis\":{\"gridcolor\":\"white\",\"linecolor\":\"white\",\"ticks\":\"\"}},\"coloraxis\":{\"colorbar\":{\"outlinewidth\":0,\"ticks\":\"\"}},\"colorscale\":{\"sequential\":[[0.0,\"#0d0887\"],[0.1111111111111111,\"#46039f\"],[0.2222222222222222,\"#7201a8\"],[0.3333333333333333,\"#9c179e\"],[0.4444444444444444,\"#bd3786\"],[0.5555555555555556,\"#d8576b\"],[0.6666666666666666,\"#ed7953\"],[0.7777777777777778,\"#fb9f3a\"],[0.8888888888888888,\"#fdca26\"],[1.0,\"#f0f921\"]],\"sequentialminus\":[[0.0,\"#0d0887\"],[0.1111111111111111,\"#46039f\"],[0.2222222222222222,\"#7201a8\"],[0.3333333333333333,\"#9c179e\"],[0.4444444444444444,\"#bd3786\"],[0.5555555555555556,\"#d8576b\"],[0.6666666666666666,\"#ed7953\"],[0.7777777777777778,\"#fb9f3a\"],[0.8888888888888888,\"#fdca26\"],[1.0,\"#f0f921\"]],\"diverging\":[[0,\"#8e0152\"],[0.1,\"#c51b7d\"],[0.2,\"#de77ae\"],[0.3,\"#f1b6da\"],[0.4,\"#fde0ef\"],[0.5,\"#f7f7f7\"],[0.6,\"#e6f5d0\"],[0.7,\"#b8e186\"],[0.8,\"#7fbc41\"],[0.9,\"#4d9221\"],[1,\"#276419\"]]},\"xaxis\":{\"gridcolor\":\"white\",\"linecolor\":\"white\",\"ticks\":\"\",\"title\":{\"standoff\":15},\"zerolinecolor\":\"white\",\"automargin\":true,\"zerolinewidth\":2},\"yaxis\":{\"gridcolor\":\"white\",\"linecolor\":\"white\",\"ticks\":\"\",\"title\":{\"standoff\":15},\"zerolinecolor\":\"white\",\"automargin\":true,\"zerolinewidth\":2},\"scene\":{\"xaxis\":{\"backgroundcolor\":\"#E5ECF6\",\"gridcolor\":\"white\",\"linecolor\":\"white\",\"showbackground\":true,\"ticks\":\"\",\"zerolinecolor\":\"white\",\"gridwidth\":2},\"yaxis\":{\"backgroundcolor\":\"#E5ECF6\",\"gridcolor\":\"white\",\"linecolor\":\"white\",\"showbackground\":true,\"ticks\":\"\",\"zerolinecolor\":\"white\",\"gridwidth\":2},\"zaxis\":{\"backgroundcolor\":\"#E5ECF6\",\"gridcolor\":\"white\",\"linecolor\":\"white\",\"showbackground\":true,\"ticks\":\"\",\"zerolinecolor\":\"white\",\"gridwidth\":2}},\"shapedefaults\":{\"line\":{\"color\":\"#2a3f5f\"}},\"annotationdefaults\":{\"arrowcolor\":\"#2a3f5f\",\"arrowhead\":0,\"arrowwidth\":1},\"geo\":{\"bgcolor\":\"white\",\"landcolor\":\"#E5ECF6\",\"subunitcolor\":\"white\",\"showland\":true,\"showlakes\":true,\"lakecolor\":\"white\"},\"title\":{\"x\":0.05},\"mapbox\":{\"style\":\"light\"}}},\"scene\":{\"aspectmode\":\"data\"},\"margin\":{\"l\":0,\"r\":0,\"b\":0,\"t\":30},\"title\":{\"text\":\"Interior del Poliedro\"}},                        {\"responsive\": true}                    ).then(function(){\n",
              "                            \n",
              "var gd = document.getElementById('05e5fb61-90f2-438a-b96e-e15c6e3eec6a');\n",
              "var x = new MutationObserver(function (mutations, observer) {{\n",
              "        var display = window.getComputedStyle(gd).display;\n",
              "        if (!display || display === 'none') {{\n",
              "            console.log([gd, 'removed!']);\n",
              "            Plotly.purge(gd);\n",
              "            observer.disconnect();\n",
              "        }}\n",
              "}});\n",
              "\n",
              "// Listen for the removal of the full notebook cells\n",
              "var notebookContainer = gd.closest('#notebook-container');\n",
              "if (notebookContainer) {{\n",
              "    x.observe(notebookContainer, {childList: true});\n",
              "}}\n",
              "\n",
              "// Listen for the clearing of the current output cell\n",
              "var outputEl = gd.closest('.output');\n",
              "if (outputEl) {{\n",
              "    x.observe(outputEl, {childList: true});\n",
              "}}\n",
              "\n",
              "                        })                };                            </script>        </div>\n",
              "</body>\n",
              "</html>"
            ]
          },
          "metadata": {}
        }
      ],
      "source": [
        "visualizar_transparente_con_bordes(mesh, \"Interior del Poliedro\")"
      ]
    },
    {
      "cell_type": "code",
      "execution_count": null,
      "metadata": {
        "colab": {
          "base_uri": "https://localhost:8080/"
        },
        "id": "oY9sracyUUWi",
        "outputId": "f409ae53-8d21-4cf2-9dcd-3b26572619b0"
      },
      "outputs": [
        {
          "output_type": "display_data",
          "data": {
            "text/html": [
              "<html>\n",
              "<head><meta charset=\"utf-8\" /></head>\n",
              "<body>\n",
              "    <div>            <script src=\"https://cdnjs.cloudflare.com/ajax/libs/mathjax/2.7.5/MathJax.js?config=TeX-AMS-MML_SVG\"></script><script type=\"text/javascript\">if (window.MathJax && window.MathJax.Hub && window.MathJax.Hub.Config) {window.MathJax.Hub.Config({SVG: {font: \"STIX-Web\"}});}</script>                <script type=\"text/javascript\">window.PlotlyConfig = {MathJaxConfig: 'local'};</script>\n",
              "        <script charset=\"utf-8\" src=\"https://cdn.plot.ly/plotly-2.35.2.min.js\"></script>                <div id=\"02131bef-5b58-42de-9b0f-698066874a81\" class=\"plotly-graph-div\" style=\"height:525px; width:100%;\"></div>            <script type=\"text/javascript\">                                    window.PLOTLYENV=window.PLOTLYENV || {};                                    if (document.getElementById(\"02131bef-5b58-42de-9b0f-698066874a81\")) {                    Plotly.newPlot(                        \"02131bef-5b58-42de-9b0f-698066874a81\",                        [{\"color\":\"lightblue\",\"i\":[0,0,0,1,1,1,1,1,1,1,2,2,3,3,7,4,10,10,10,10,8,9,9,11,11,6,6,5,5,13,12,15,15,17,17,18],\"j\":[1,3,2,4,5,6,7,8,9,3,10,8,10,11,6,9,12,8,13,14,6,15,11,16,14,17,5,15,18,12,17,14,16,19,18,14],\"k\":[2,1,3,5,6,7,8,2,4,9,3,10,11,9,8,5,13,12,14,11,12,5,15,15,16,12,17,18,17,14,14,18,14,14,19,19],\"name\":\"Poliedro\",\"opacity\":0.3,\"x\":[0.0,0.7136442,-0.3568221,-0.3568221,0.7978784,0.9341724,0.9341724,0.7978784,0.1362939,0.1362939,-0.9341724,-0.9341724,-0.1362939,-0.7978784,-0.7136442,-0.1362939,-0.7978784,0.3568221,0.3568221,0.0],\"y\":[0.0,0.0,0.618034,-0.618034,-0.618034,-0.381966,0.381966,0.618034,1.0,-1.0,0.381966,-0.381966,1.0,0.618034,0.0,-1.0,-0.618034,0.618034,-0.618034,0.0],\"z\":[1.070466,0.7978784,0.7978784,0.7978784,0.3568221,-0.3568221,-0.3568221,0.3568221,0.3568221,0.3568221,0.3568221,0.3568221,-0.3568221,-0.3568221,-0.7978784,-0.3568221,-0.3568221,-0.7978784,-0.7978784,-1.070466],\"type\":\"mesh3d\"},{\"line\":{\"color\":\"black\",\"width\":2},\"mode\":\"lines\",\"showlegend\":false,\"x\":[0.0,0.7136442],\"y\":[0.0,0.0],\"z\":[1.070466,0.7978784],\"type\":\"scatter3d\"},{\"line\":{\"color\":\"black\",\"width\":2},\"mode\":\"lines\",\"showlegend\":false,\"x\":[0.7136442,-0.3568221],\"y\":[0.0,0.618034],\"z\":[0.7978784,0.7978784],\"type\":\"scatter3d\"},{\"line\":{\"color\":\"black\",\"width\":2},\"mode\":\"lines\",\"showlegend\":false,\"x\":[-0.3568221,0.0],\"y\":[0.618034,0.0],\"z\":[0.7978784,1.070466],\"type\":\"scatter3d\"},{\"line\":{\"color\":\"black\",\"width\":2},\"mode\":\"lines\",\"showlegend\":false,\"x\":[0.0,-0.3568221],\"y\":[0.0,-0.618034],\"z\":[1.070466,0.7978784],\"type\":\"scatter3d\"},{\"line\":{\"color\":\"black\",\"width\":2},\"mode\":\"lines\",\"showlegend\":false,\"x\":[-0.3568221,0.7136442],\"y\":[-0.618034,0.0],\"z\":[0.7978784,0.7978784],\"type\":\"scatter3d\"},{\"line\":{\"color\":\"black\",\"width\":2},\"mode\":\"lines\",\"showlegend\":false,\"x\":[0.7136442,0.0],\"y\":[0.0,0.0],\"z\":[0.7978784,1.070466],\"type\":\"scatter3d\"},{\"line\":{\"color\":\"black\",\"width\":2},\"mode\":\"lines\",\"showlegend\":false,\"x\":[0.0,-0.3568221],\"y\":[0.0,0.618034],\"z\":[1.070466,0.7978784],\"type\":\"scatter3d\"},{\"line\":{\"color\":\"black\",\"width\":2},\"mode\":\"lines\",\"showlegend\":false,\"x\":[-0.3568221,-0.3568221],\"y\":[0.618034,-0.618034],\"z\":[0.7978784,0.7978784],\"type\":\"scatter3d\"},{\"line\":{\"color\":\"black\",\"width\":2},\"mode\":\"lines\",\"showlegend\":false,\"x\":[-0.3568221,0.0],\"y\":[-0.618034,0.0],\"z\":[0.7978784,1.070466],\"type\":\"scatter3d\"},{\"line\":{\"color\":\"black\",\"width\":2},\"mode\":\"lines\",\"showlegend\":false,\"x\":[0.7136442,0.7978784],\"y\":[0.0,-0.618034],\"z\":[0.7978784,0.3568221],\"type\":\"scatter3d\"},{\"line\":{\"color\":\"black\",\"width\":2},\"mode\":\"lines\",\"showlegend\":false,\"x\":[0.7978784,0.9341724],\"y\":[-0.618034,-0.381966],\"z\":[0.3568221,-0.3568221],\"type\":\"scatter3d\"},{\"line\":{\"color\":\"black\",\"width\":2},\"mode\":\"lines\",\"showlegend\":false,\"x\":[0.9341724,0.7136442],\"y\":[-0.381966,0.0],\"z\":[-0.3568221,0.7978784],\"type\":\"scatter3d\"},{\"line\":{\"color\":\"black\",\"width\":2},\"mode\":\"lines\",\"showlegend\":false,\"x\":[0.7136442,0.9341724],\"y\":[0.0,-0.381966],\"z\":[0.7978784,-0.3568221],\"type\":\"scatter3d\"},{\"line\":{\"color\":\"black\",\"width\":2},\"mode\":\"lines\",\"showlegend\":false,\"x\":[0.9341724,0.9341724],\"y\":[-0.381966,0.381966],\"z\":[-0.3568221,-0.3568221],\"type\":\"scatter3d\"},{\"line\":{\"color\":\"black\",\"width\":2},\"mode\":\"lines\",\"showlegend\":false,\"x\":[0.9341724,0.7136442],\"y\":[0.381966,0.0],\"z\":[-0.3568221,0.7978784],\"type\":\"scatter3d\"},{\"line\":{\"color\":\"black\",\"width\":2},\"mode\":\"lines\",\"showlegend\":false,\"x\":[0.7136442,0.9341724],\"y\":[0.0,0.381966],\"z\":[0.7978784,-0.3568221],\"type\":\"scatter3d\"},{\"line\":{\"color\":\"black\",\"width\":2},\"mode\":\"lines\",\"showlegend\":false,\"x\":[0.9341724,0.7978784],\"y\":[0.381966,0.618034],\"z\":[-0.3568221,0.3568221],\"type\":\"scatter3d\"},{\"line\":{\"color\":\"black\",\"width\":2},\"mode\":\"lines\",\"showlegend\":false,\"x\":[0.7978784,0.7136442],\"y\":[0.618034,0.0],\"z\":[0.3568221,0.7978784],\"type\":\"scatter3d\"},{\"line\":{\"color\":\"black\",\"width\":2},\"mode\":\"lines\",\"showlegend\":false,\"x\":[0.7136442,0.7978784],\"y\":[0.0,0.618034],\"z\":[0.7978784,0.3568221],\"type\":\"scatter3d\"},{\"line\":{\"color\":\"black\",\"width\":2},\"mode\":\"lines\",\"showlegend\":false,\"x\":[0.7978784,0.1362939],\"y\":[0.618034,1.0],\"z\":[0.3568221,0.3568221],\"type\":\"scatter3d\"},{\"line\":{\"color\":\"black\",\"width\":2},\"mode\":\"lines\",\"showlegend\":false,\"x\":[0.1362939,0.7136442],\"y\":[1.0,0.0],\"z\":[0.3568221,0.7978784],\"type\":\"scatter3d\"},{\"line\":{\"color\":\"black\",\"width\":2},\"mode\":\"lines\",\"showlegend\":false,\"x\":[0.7136442,0.1362939],\"y\":[0.0,1.0],\"z\":[0.7978784,0.3568221],\"type\":\"scatter3d\"},{\"line\":{\"color\":\"black\",\"width\":2},\"mode\":\"lines\",\"showlegend\":false,\"x\":[0.1362939,-0.3568221],\"y\":[1.0,0.618034],\"z\":[0.3568221,0.7978784],\"type\":\"scatter3d\"},{\"line\":{\"color\":\"black\",\"width\":2},\"mode\":\"lines\",\"showlegend\":false,\"x\":[-0.3568221,0.7136442],\"y\":[0.618034,0.0],\"z\":[0.7978784,0.7978784],\"type\":\"scatter3d\"},{\"line\":{\"color\":\"black\",\"width\":2},\"mode\":\"lines\",\"showlegend\":false,\"x\":[0.7136442,0.1362939],\"y\":[0.0,-1.0],\"z\":[0.7978784,0.3568221],\"type\":\"scatter3d\"},{\"line\":{\"color\":\"black\",\"width\":2},\"mode\":\"lines\",\"showlegend\":false,\"x\":[0.1362939,0.7978784],\"y\":[-1.0,-0.618034],\"z\":[0.3568221,0.3568221],\"type\":\"scatter3d\"},{\"line\":{\"color\":\"black\",\"width\":2},\"mode\":\"lines\",\"showlegend\":false,\"x\":[0.7978784,0.7136442],\"y\":[-0.618034,0.0],\"z\":[0.3568221,0.7978784],\"type\":\"scatter3d\"},{\"line\":{\"color\":\"black\",\"width\":2},\"mode\":\"lines\",\"showlegend\":false,\"x\":[0.7136442,-0.3568221],\"y\":[0.0,-0.618034],\"z\":[0.7978784,0.7978784],\"type\":\"scatter3d\"},{\"line\":{\"color\":\"black\",\"width\":2},\"mode\":\"lines\",\"showlegend\":false,\"x\":[-0.3568221,0.1362939],\"y\":[-0.618034,-1.0],\"z\":[0.7978784,0.3568221],\"type\":\"scatter3d\"},{\"line\":{\"color\":\"black\",\"width\":2},\"mode\":\"lines\",\"showlegend\":false,\"x\":[0.1362939,0.7136442],\"y\":[-1.0,0.0],\"z\":[0.3568221,0.7978784],\"type\":\"scatter3d\"},{\"line\":{\"color\":\"black\",\"width\":2},\"mode\":\"lines\",\"showlegend\":false,\"x\":[-0.3568221,-0.9341724],\"y\":[0.618034,0.381966],\"z\":[0.7978784,0.3568221],\"type\":\"scatter3d\"},{\"line\":{\"color\":\"black\",\"width\":2},\"mode\":\"lines\",\"showlegend\":false,\"x\":[-0.9341724,-0.3568221],\"y\":[0.381966,-0.618034],\"z\":[0.3568221,0.7978784],\"type\":\"scatter3d\"},{\"line\":{\"color\":\"black\",\"width\":2},\"mode\":\"lines\",\"showlegend\":false,\"x\":[-0.3568221,-0.3568221],\"y\":[-0.618034,0.618034],\"z\":[0.7978784,0.7978784],\"type\":\"scatter3d\"},{\"line\":{\"color\":\"black\",\"width\":2},\"mode\":\"lines\",\"showlegend\":false,\"x\":[-0.3568221,0.1362939],\"y\":[0.618034,1.0],\"z\":[0.7978784,0.3568221],\"type\":\"scatter3d\"},{\"line\":{\"color\":\"black\",\"width\":2},\"mode\":\"lines\",\"showlegend\":false,\"x\":[0.1362939,-0.9341724],\"y\":[1.0,0.381966],\"z\":[0.3568221,0.3568221],\"type\":\"scatter3d\"},{\"line\":{\"color\":\"black\",\"width\":2},\"mode\":\"lines\",\"showlegend\":false,\"x\":[-0.9341724,-0.3568221],\"y\":[0.381966,0.618034],\"z\":[0.3568221,0.7978784],\"type\":\"scatter3d\"},{\"line\":{\"color\":\"black\",\"width\":2},\"mode\":\"lines\",\"showlegend\":false,\"x\":[-0.3568221,-0.9341724],\"y\":[-0.618034,0.381966],\"z\":[0.7978784,0.3568221],\"type\":\"scatter3d\"},{\"line\":{\"color\":\"black\",\"width\":2},\"mode\":\"lines\",\"showlegend\":false,\"x\":[-0.9341724,-0.9341724],\"y\":[0.381966,-0.381966],\"z\":[0.3568221,0.3568221],\"type\":\"scatter3d\"},{\"line\":{\"color\":\"black\",\"width\":2},\"mode\":\"lines\",\"showlegend\":false,\"x\":[-0.9341724,-0.3568221],\"y\":[-0.381966,-0.618034],\"z\":[0.3568221,0.7978784],\"type\":\"scatter3d\"},{\"line\":{\"color\":\"black\",\"width\":2},\"mode\":\"lines\",\"showlegend\":false,\"x\":[-0.3568221,-0.9341724],\"y\":[-0.618034,-0.381966],\"z\":[0.7978784,0.3568221],\"type\":\"scatter3d\"},{\"line\":{\"color\":\"black\",\"width\":2},\"mode\":\"lines\",\"showlegend\":false,\"x\":[-0.9341724,0.1362939],\"y\":[-0.381966,-1.0],\"z\":[0.3568221,0.3568221],\"type\":\"scatter3d\"},{\"line\":{\"color\":\"black\",\"width\":2},\"mode\":\"lines\",\"showlegend\":false,\"x\":[0.1362939,-0.3568221],\"y\":[-1.0,-0.618034],\"z\":[0.3568221,0.7978784],\"type\":\"scatter3d\"},{\"line\":{\"color\":\"black\",\"width\":2},\"mode\":\"lines\",\"showlegend\":false,\"x\":[0.7978784,0.9341724],\"y\":[0.618034,0.381966],\"z\":[0.3568221,-0.3568221],\"type\":\"scatter3d\"},{\"line\":{\"color\":\"black\",\"width\":2},\"mode\":\"lines\",\"showlegend\":false,\"x\":[0.9341724,0.1362939],\"y\":[0.381966,1.0],\"z\":[-0.3568221,0.3568221],\"type\":\"scatter3d\"},{\"line\":{\"color\":\"black\",\"width\":2},\"mode\":\"lines\",\"showlegend\":false,\"x\":[0.1362939,0.7978784],\"y\":[1.0,0.618034],\"z\":[0.3568221,0.3568221],\"type\":\"scatter3d\"},{\"line\":{\"color\":\"black\",\"width\":2},\"mode\":\"lines\",\"showlegend\":false,\"x\":[0.7978784,0.1362939],\"y\":[-0.618034,-1.0],\"z\":[0.3568221,0.3568221],\"type\":\"scatter3d\"},{\"line\":{\"color\":\"black\",\"width\":2},\"mode\":\"lines\",\"showlegend\":false,\"x\":[0.1362939,0.9341724],\"y\":[-1.0,-0.381966],\"z\":[0.3568221,-0.3568221],\"type\":\"scatter3d\"},{\"line\":{\"color\":\"black\",\"width\":2},\"mode\":\"lines\",\"showlegend\":false,\"x\":[0.9341724,0.7978784],\"y\":[-0.381966,-0.618034],\"z\":[-0.3568221,0.3568221],\"type\":\"scatter3d\"},{\"line\":{\"color\":\"black\",\"width\":2},\"mode\":\"lines\",\"showlegend\":false,\"x\":[-0.9341724,-0.1362939],\"y\":[0.381966,1.0],\"z\":[0.3568221,-0.3568221],\"type\":\"scatter3d\"},{\"line\":{\"color\":\"black\",\"width\":2},\"mode\":\"lines\",\"showlegend\":false,\"x\":[-0.1362939,-0.7978784],\"y\":[1.0,0.618034],\"z\":[-0.3568221,-0.3568221],\"type\":\"scatter3d\"},{\"line\":{\"color\":\"black\",\"width\":2},\"mode\":\"lines\",\"showlegend\":false,\"x\":[-0.7978784,-0.9341724],\"y\":[0.618034,0.381966],\"z\":[-0.3568221,0.3568221],\"type\":\"scatter3d\"},{\"line\":{\"color\":\"black\",\"width\":2},\"mode\":\"lines\",\"showlegend\":false,\"x\":[-0.9341724,0.1362939],\"y\":[0.381966,1.0],\"z\":[0.3568221,0.3568221],\"type\":\"scatter3d\"},{\"line\":{\"color\":\"black\",\"width\":2},\"mode\":\"lines\",\"showlegend\":false,\"x\":[0.1362939,-0.1362939],\"y\":[1.0,1.0],\"z\":[0.3568221,-0.3568221],\"type\":\"scatter3d\"},{\"line\":{\"color\":\"black\",\"width\":2},\"mode\":\"lines\",\"showlegend\":false,\"x\":[-0.1362939,-0.9341724],\"y\":[1.0,0.381966],\"z\":[-0.3568221,0.3568221],\"type\":\"scatter3d\"},{\"line\":{\"color\":\"black\",\"width\":2},\"mode\":\"lines\",\"showlegend\":false,\"x\":[-0.9341724,-0.7978784],\"y\":[0.381966,0.618034],\"z\":[0.3568221,-0.3568221],\"type\":\"scatter3d\"},{\"line\":{\"color\":\"black\",\"width\":2},\"mode\":\"lines\",\"showlegend\":false,\"x\":[-0.7978784,-0.7136442],\"y\":[0.618034,0.0],\"z\":[-0.3568221,-0.7978784],\"type\":\"scatter3d\"},{\"line\":{\"color\":\"black\",\"width\":2},\"mode\":\"lines\",\"showlegend\":false,\"x\":[-0.7136442,-0.9341724],\"y\":[0.0,0.381966],\"z\":[-0.7978784,0.3568221],\"type\":\"scatter3d\"},{\"line\":{\"color\":\"black\",\"width\":2},\"mode\":\"lines\",\"showlegend\":false,\"x\":[-0.9341724,-0.7136442],\"y\":[0.381966,0.0],\"z\":[0.3568221,-0.7978784],\"type\":\"scatter3d\"},{\"line\":{\"color\":\"black\",\"width\":2},\"mode\":\"lines\",\"showlegend\":false,\"x\":[-0.7136442,-0.9341724],\"y\":[0.0,-0.381966],\"z\":[-0.7978784,0.3568221],\"type\":\"scatter3d\"},{\"line\":{\"color\":\"black\",\"width\":2},\"mode\":\"lines\",\"showlegend\":false,\"x\":[-0.9341724,-0.9341724],\"y\":[-0.381966,0.381966],\"z\":[0.3568221,0.3568221],\"type\":\"scatter3d\"},{\"line\":{\"color\":\"black\",\"width\":2},\"mode\":\"lines\",\"showlegend\":false,\"x\":[0.1362939,0.9341724],\"y\":[1.0,0.381966],\"z\":[0.3568221,-0.3568221],\"type\":\"scatter3d\"},{\"line\":{\"color\":\"black\",\"width\":2},\"mode\":\"lines\",\"showlegend\":false,\"x\":[0.9341724,-0.1362939],\"y\":[0.381966,1.0],\"z\":[-0.3568221,-0.3568221],\"type\":\"scatter3d\"},{\"line\":{\"color\":\"black\",\"width\":2},\"mode\":\"lines\",\"showlegend\":false,\"x\":[-0.1362939,0.1362939],\"y\":[1.0,1.0],\"z\":[-0.3568221,0.3568221],\"type\":\"scatter3d\"},{\"line\":{\"color\":\"black\",\"width\":2},\"mode\":\"lines\",\"showlegend\":false,\"x\":[0.1362939,-0.1362939],\"y\":[-1.0,-1.0],\"z\":[0.3568221,-0.3568221],\"type\":\"scatter3d\"},{\"line\":{\"color\":\"black\",\"width\":2},\"mode\":\"lines\",\"showlegend\":false,\"x\":[-0.1362939,0.9341724],\"y\":[-1.0,-0.381966],\"z\":[-0.3568221,-0.3568221],\"type\":\"scatter3d\"},{\"line\":{\"color\":\"black\",\"width\":2},\"mode\":\"lines\",\"showlegend\":false,\"x\":[0.9341724,0.1362939],\"y\":[-0.381966,-1.0],\"z\":[-0.3568221,0.3568221],\"type\":\"scatter3d\"},{\"line\":{\"color\":\"black\",\"width\":2},\"mode\":\"lines\",\"showlegend\":false,\"x\":[0.1362939,-0.9341724],\"y\":[-1.0,-0.381966],\"z\":[0.3568221,0.3568221],\"type\":\"scatter3d\"},{\"line\":{\"color\":\"black\",\"width\":2},\"mode\":\"lines\",\"showlegend\":false,\"x\":[-0.9341724,-0.1362939],\"y\":[-0.381966,-1.0],\"z\":[0.3568221,-0.3568221],\"type\":\"scatter3d\"},{\"line\":{\"color\":\"black\",\"width\":2},\"mode\":\"lines\",\"showlegend\":false,\"x\":[-0.1362939,0.1362939],\"y\":[-1.0,-1.0],\"z\":[-0.3568221,0.3568221],\"type\":\"scatter3d\"},{\"line\":{\"color\":\"black\",\"width\":2},\"mode\":\"lines\",\"showlegend\":false,\"x\":[-0.9341724,-0.7978784],\"y\":[-0.381966,-0.618034],\"z\":[0.3568221,-0.3568221],\"type\":\"scatter3d\"},{\"line\":{\"color\":\"black\",\"width\":2},\"mode\":\"lines\",\"showlegend\":false,\"x\":[-0.7978784,-0.1362939],\"y\":[-0.618034,-1.0],\"z\":[-0.3568221,-0.3568221],\"type\":\"scatter3d\"},{\"line\":{\"color\":\"black\",\"width\":2},\"mode\":\"lines\",\"showlegend\":false,\"x\":[-0.1362939,-0.9341724],\"y\":[-1.0,-0.381966],\"z\":[-0.3568221,0.3568221],\"type\":\"scatter3d\"},{\"line\":{\"color\":\"black\",\"width\":2},\"mode\":\"lines\",\"showlegend\":false,\"x\":[-0.9341724,-0.7136442],\"y\":[-0.381966,0.0],\"z\":[0.3568221,-0.7978784],\"type\":\"scatter3d\"},{\"line\":{\"color\":\"black\",\"width\":2},\"mode\":\"lines\",\"showlegend\":false,\"x\":[-0.7136442,-0.7978784],\"y\":[0.0,-0.618034],\"z\":[-0.7978784,-0.3568221],\"type\":\"scatter3d\"},{\"line\":{\"color\":\"black\",\"width\":2},\"mode\":\"lines\",\"showlegend\":false,\"x\":[-0.7978784,-0.9341724],\"y\":[-0.618034,-0.381966],\"z\":[-0.3568221,0.3568221],\"type\":\"scatter3d\"},{\"line\":{\"color\":\"black\",\"width\":2},\"mode\":\"lines\",\"showlegend\":false,\"x\":[0.9341724,0.3568221],\"y\":[0.381966,0.618034],\"z\":[-0.3568221,-0.7978784],\"type\":\"scatter3d\"},{\"line\":{\"color\":\"black\",\"width\":2},\"mode\":\"lines\",\"showlegend\":false,\"x\":[0.3568221,-0.1362939],\"y\":[0.618034,1.0],\"z\":[-0.7978784,-0.3568221],\"type\":\"scatter3d\"},{\"line\":{\"color\":\"black\",\"width\":2},\"mode\":\"lines\",\"showlegend\":false,\"x\":[-0.1362939,0.9341724],\"y\":[1.0,0.381966],\"z\":[-0.3568221,-0.3568221],\"type\":\"scatter3d\"},{\"line\":{\"color\":\"black\",\"width\":2},\"mode\":\"lines\",\"showlegend\":false,\"x\":[0.9341724,0.9341724],\"y\":[0.381966,-0.381966],\"z\":[-0.3568221,-0.3568221],\"type\":\"scatter3d\"},{\"line\":{\"color\":\"black\",\"width\":2},\"mode\":\"lines\",\"showlegend\":false,\"x\":[0.9341724,0.3568221],\"y\":[-0.381966,0.618034],\"z\":[-0.3568221,-0.7978784],\"type\":\"scatter3d\"},{\"line\":{\"color\":\"black\",\"width\":2},\"mode\":\"lines\",\"showlegend\":false,\"x\":[0.3568221,0.9341724],\"y\":[0.618034,0.381966],\"z\":[-0.7978784,-0.3568221],\"type\":\"scatter3d\"},{\"line\":{\"color\":\"black\",\"width\":2},\"mode\":\"lines\",\"showlegend\":false,\"x\":[0.9341724,-0.1362939],\"y\":[-0.381966,-1.0],\"z\":[-0.3568221,-0.3568221],\"type\":\"scatter3d\"},{\"line\":{\"color\":\"black\",\"width\":2},\"mode\":\"lines\",\"showlegend\":false,\"x\":[-0.1362939,0.3568221],\"y\":[-1.0,-0.618034],\"z\":[-0.3568221,-0.7978784],\"type\":\"scatter3d\"},{\"line\":{\"color\":\"black\",\"width\":2},\"mode\":\"lines\",\"showlegend\":false,\"x\":[0.3568221,0.9341724],\"y\":[-0.618034,-0.381966],\"z\":[-0.7978784,-0.3568221],\"type\":\"scatter3d\"},{\"line\":{\"color\":\"black\",\"width\":2},\"mode\":\"lines\",\"showlegend\":false,\"x\":[0.9341724,0.3568221],\"y\":[-0.381966,-0.618034],\"z\":[-0.3568221,-0.7978784],\"type\":\"scatter3d\"},{\"line\":{\"color\":\"black\",\"width\":2},\"mode\":\"lines\",\"showlegend\":false,\"x\":[0.3568221,0.3568221],\"y\":[-0.618034,0.618034],\"z\":[-0.7978784,-0.7978784],\"type\":\"scatter3d\"},{\"line\":{\"color\":\"black\",\"width\":2},\"mode\":\"lines\",\"showlegend\":false,\"x\":[0.3568221,0.9341724],\"y\":[0.618034,-0.381966],\"z\":[-0.7978784,-0.3568221],\"type\":\"scatter3d\"},{\"line\":{\"color\":\"black\",\"width\":2},\"mode\":\"lines\",\"showlegend\":false,\"x\":[-0.7978784,-0.1362939],\"y\":[0.618034,1.0],\"z\":[-0.3568221,-0.3568221],\"type\":\"scatter3d\"},{\"line\":{\"color\":\"black\",\"width\":2},\"mode\":\"lines\",\"showlegend\":false,\"x\":[-0.1362939,-0.7136442],\"y\":[1.0,0.0],\"z\":[-0.3568221,-0.7978784],\"type\":\"scatter3d\"},{\"line\":{\"color\":\"black\",\"width\":2},\"mode\":\"lines\",\"showlegend\":false,\"x\":[-0.7136442,-0.7978784],\"y\":[0.0,0.618034],\"z\":[-0.7978784,-0.3568221],\"type\":\"scatter3d\"},{\"line\":{\"color\":\"black\",\"width\":2},\"mode\":\"lines\",\"showlegend\":false,\"x\":[-0.1362939,0.3568221],\"y\":[1.0,0.618034],\"z\":[-0.3568221,-0.7978784],\"type\":\"scatter3d\"},{\"line\":{\"color\":\"black\",\"width\":2},\"mode\":\"lines\",\"showlegend\":false,\"x\":[0.3568221,-0.7136442],\"y\":[0.618034,0.0],\"z\":[-0.7978784,-0.7978784],\"type\":\"scatter3d\"},{\"line\":{\"color\":\"black\",\"width\":2},\"mode\":\"lines\",\"showlegend\":false,\"x\":[-0.7136442,-0.1362939],\"y\":[0.0,1.0],\"z\":[-0.7978784,-0.3568221],\"type\":\"scatter3d\"},{\"line\":{\"color\":\"black\",\"width\":2},\"mode\":\"lines\",\"showlegend\":false,\"x\":[-0.1362939,-0.7136442],\"y\":[-1.0,0.0],\"z\":[-0.3568221,-0.7978784],\"type\":\"scatter3d\"},{\"line\":{\"color\":\"black\",\"width\":2},\"mode\":\"lines\",\"showlegend\":false,\"x\":[-0.7136442,0.3568221],\"y\":[0.0,-0.618034],\"z\":[-0.7978784,-0.7978784],\"type\":\"scatter3d\"},{\"line\":{\"color\":\"black\",\"width\":2},\"mode\":\"lines\",\"showlegend\":false,\"x\":[0.3568221,-0.1362939],\"y\":[-0.618034,-1.0],\"z\":[-0.7978784,-0.3568221],\"type\":\"scatter3d\"},{\"line\":{\"color\":\"black\",\"width\":2},\"mode\":\"lines\",\"showlegend\":false,\"x\":[-0.1362939,-0.7978784],\"y\":[-1.0,-0.618034],\"z\":[-0.3568221,-0.3568221],\"type\":\"scatter3d\"},{\"line\":{\"color\":\"black\",\"width\":2},\"mode\":\"lines\",\"showlegend\":false,\"x\":[-0.7978784,-0.7136442],\"y\":[-0.618034,0.0],\"z\":[-0.3568221,-0.7978784],\"type\":\"scatter3d\"},{\"line\":{\"color\":\"black\",\"width\":2},\"mode\":\"lines\",\"showlegend\":false,\"x\":[-0.7136442,-0.1362939],\"y\":[0.0,-1.0],\"z\":[-0.7978784,-0.3568221],\"type\":\"scatter3d\"},{\"line\":{\"color\":\"black\",\"width\":2},\"mode\":\"lines\",\"showlegend\":false,\"x\":[0.3568221,0.0],\"y\":[0.618034,0.0],\"z\":[-0.7978784,-1.070466],\"type\":\"scatter3d\"},{\"line\":{\"color\":\"black\",\"width\":2},\"mode\":\"lines\",\"showlegend\":false,\"x\":[0.0,-0.7136442],\"y\":[0.0,0.0],\"z\":[-1.070466,-0.7978784],\"type\":\"scatter3d\"},{\"line\":{\"color\":\"black\",\"width\":2},\"mode\":\"lines\",\"showlegend\":false,\"x\":[-0.7136442,0.3568221],\"y\":[0.0,0.618034],\"z\":[-0.7978784,-0.7978784],\"type\":\"scatter3d\"},{\"line\":{\"color\":\"black\",\"width\":2},\"mode\":\"lines\",\"showlegend\":false,\"x\":[0.3568221,0.3568221],\"y\":[0.618034,-0.618034],\"z\":[-0.7978784,-0.7978784],\"type\":\"scatter3d\"},{\"line\":{\"color\":\"black\",\"width\":2},\"mode\":\"lines\",\"showlegend\":false,\"x\":[0.3568221,0.0],\"y\":[-0.618034,0.0],\"z\":[-0.7978784,-1.070466],\"type\":\"scatter3d\"},{\"line\":{\"color\":\"black\",\"width\":2},\"mode\":\"lines\",\"showlegend\":false,\"x\":[0.0,0.3568221],\"y\":[0.0,0.618034],\"z\":[-1.070466,-0.7978784],\"type\":\"scatter3d\"},{\"line\":{\"color\":\"black\",\"width\":2},\"mode\":\"lines\",\"showlegend\":false,\"x\":[0.3568221,-0.7136442],\"y\":[-0.618034,0.0],\"z\":[-0.7978784,-0.7978784],\"type\":\"scatter3d\"},{\"line\":{\"color\":\"black\",\"width\":2},\"mode\":\"lines\",\"showlegend\":false,\"x\":[-0.7136442,0.0],\"y\":[0.0,0.0],\"z\":[-0.7978784,-1.070466],\"type\":\"scatter3d\"},{\"line\":{\"color\":\"black\",\"width\":2},\"mode\":\"lines\",\"showlegend\":false,\"x\":[0.0,0.3568221],\"y\":[0.0,-0.618034],\"z\":[-1.070466,-0.7978784],\"type\":\"scatter3d\"}],                        {\"template\":{\"data\":{\"histogram2dcontour\":[{\"type\":\"histogram2dcontour\",\"colorbar\":{\"outlinewidth\":0,\"ticks\":\"\"},\"colorscale\":[[0.0,\"#0d0887\"],[0.1111111111111111,\"#46039f\"],[0.2222222222222222,\"#7201a8\"],[0.3333333333333333,\"#9c179e\"],[0.4444444444444444,\"#bd3786\"],[0.5555555555555556,\"#d8576b\"],[0.6666666666666666,\"#ed7953\"],[0.7777777777777778,\"#fb9f3a\"],[0.8888888888888888,\"#fdca26\"],[1.0,\"#f0f921\"]]}],\"choropleth\":[{\"type\":\"choropleth\",\"colorbar\":{\"outlinewidth\":0,\"ticks\":\"\"}}],\"histogram2d\":[{\"type\":\"histogram2d\",\"colorbar\":{\"outlinewidth\":0,\"ticks\":\"\"},\"colorscale\":[[0.0,\"#0d0887\"],[0.1111111111111111,\"#46039f\"],[0.2222222222222222,\"#7201a8\"],[0.3333333333333333,\"#9c179e\"],[0.4444444444444444,\"#bd3786\"],[0.5555555555555556,\"#d8576b\"],[0.6666666666666666,\"#ed7953\"],[0.7777777777777778,\"#fb9f3a\"],[0.8888888888888888,\"#fdca26\"],[1.0,\"#f0f921\"]]}],\"heatmap\":[{\"type\":\"heatmap\",\"colorbar\":{\"outlinewidth\":0,\"ticks\":\"\"},\"colorscale\":[[0.0,\"#0d0887\"],[0.1111111111111111,\"#46039f\"],[0.2222222222222222,\"#7201a8\"],[0.3333333333333333,\"#9c179e\"],[0.4444444444444444,\"#bd3786\"],[0.5555555555555556,\"#d8576b\"],[0.6666666666666666,\"#ed7953\"],[0.7777777777777778,\"#fb9f3a\"],[0.8888888888888888,\"#fdca26\"],[1.0,\"#f0f921\"]]}],\"heatmapgl\":[{\"type\":\"heatmapgl\",\"colorbar\":{\"outlinewidth\":0,\"ticks\":\"\"},\"colorscale\":[[0.0,\"#0d0887\"],[0.1111111111111111,\"#46039f\"],[0.2222222222222222,\"#7201a8\"],[0.3333333333333333,\"#9c179e\"],[0.4444444444444444,\"#bd3786\"],[0.5555555555555556,\"#d8576b\"],[0.6666666666666666,\"#ed7953\"],[0.7777777777777778,\"#fb9f3a\"],[0.8888888888888888,\"#fdca26\"],[1.0,\"#f0f921\"]]}],\"contourcarpet\":[{\"type\":\"contourcarpet\",\"colorbar\":{\"outlinewidth\":0,\"ticks\":\"\"}}],\"contour\":[{\"type\":\"contour\",\"colorbar\":{\"outlinewidth\":0,\"ticks\":\"\"},\"colorscale\":[[0.0,\"#0d0887\"],[0.1111111111111111,\"#46039f\"],[0.2222222222222222,\"#7201a8\"],[0.3333333333333333,\"#9c179e\"],[0.4444444444444444,\"#bd3786\"],[0.5555555555555556,\"#d8576b\"],[0.6666666666666666,\"#ed7953\"],[0.7777777777777778,\"#fb9f3a\"],[0.8888888888888888,\"#fdca26\"],[1.0,\"#f0f921\"]]}],\"surface\":[{\"type\":\"surface\",\"colorbar\":{\"outlinewidth\":0,\"ticks\":\"\"},\"colorscale\":[[0.0,\"#0d0887\"],[0.1111111111111111,\"#46039f\"],[0.2222222222222222,\"#7201a8\"],[0.3333333333333333,\"#9c179e\"],[0.4444444444444444,\"#bd3786\"],[0.5555555555555556,\"#d8576b\"],[0.6666666666666666,\"#ed7953\"],[0.7777777777777778,\"#fb9f3a\"],[0.8888888888888888,\"#fdca26\"],[1.0,\"#f0f921\"]]}],\"mesh3d\":[{\"type\":\"mesh3d\",\"colorbar\":{\"outlinewidth\":0,\"ticks\":\"\"}}],\"scatter\":[{\"fillpattern\":{\"fillmode\":\"overlay\",\"size\":10,\"solidity\":0.2},\"type\":\"scatter\"}],\"parcoords\":[{\"type\":\"parcoords\",\"line\":{\"colorbar\":{\"outlinewidth\":0,\"ticks\":\"\"}}}],\"scatterpolargl\":[{\"type\":\"scatterpolargl\",\"marker\":{\"colorbar\":{\"outlinewidth\":0,\"ticks\":\"\"}}}],\"bar\":[{\"error_x\":{\"color\":\"#2a3f5f\"},\"error_y\":{\"color\":\"#2a3f5f\"},\"marker\":{\"line\":{\"color\":\"#E5ECF6\",\"width\":0.5},\"pattern\":{\"fillmode\":\"overlay\",\"size\":10,\"solidity\":0.2}},\"type\":\"bar\"}],\"scattergeo\":[{\"type\":\"scattergeo\",\"marker\":{\"colorbar\":{\"outlinewidth\":0,\"ticks\":\"\"}}}],\"scatterpolar\":[{\"type\":\"scatterpolar\",\"marker\":{\"colorbar\":{\"outlinewidth\":0,\"ticks\":\"\"}}}],\"histogram\":[{\"marker\":{\"pattern\":{\"fillmode\":\"overlay\",\"size\":10,\"solidity\":0.2}},\"type\":\"histogram\"}],\"scattergl\":[{\"type\":\"scattergl\",\"marker\":{\"colorbar\":{\"outlinewidth\":0,\"ticks\":\"\"}}}],\"scatter3d\":[{\"type\":\"scatter3d\",\"line\":{\"colorbar\":{\"outlinewidth\":0,\"ticks\":\"\"}},\"marker\":{\"colorbar\":{\"outlinewidth\":0,\"ticks\":\"\"}}}],\"scattermapbox\":[{\"type\":\"scattermapbox\",\"marker\":{\"colorbar\":{\"outlinewidth\":0,\"ticks\":\"\"}}}],\"scatterternary\":[{\"type\":\"scatterternary\",\"marker\":{\"colorbar\":{\"outlinewidth\":0,\"ticks\":\"\"}}}],\"scattercarpet\":[{\"type\":\"scattercarpet\",\"marker\":{\"colorbar\":{\"outlinewidth\":0,\"ticks\":\"\"}}}],\"carpet\":[{\"aaxis\":{\"endlinecolor\":\"#2a3f5f\",\"gridcolor\":\"white\",\"linecolor\":\"white\",\"minorgridcolor\":\"white\",\"startlinecolor\":\"#2a3f5f\"},\"baxis\":{\"endlinecolor\":\"#2a3f5f\",\"gridcolor\":\"white\",\"linecolor\":\"white\",\"minorgridcolor\":\"white\",\"startlinecolor\":\"#2a3f5f\"},\"type\":\"carpet\"}],\"table\":[{\"cells\":{\"fill\":{\"color\":\"#EBF0F8\"},\"line\":{\"color\":\"white\"}},\"header\":{\"fill\":{\"color\":\"#C8D4E3\"},\"line\":{\"color\":\"white\"}},\"type\":\"table\"}],\"barpolar\":[{\"marker\":{\"line\":{\"color\":\"#E5ECF6\",\"width\":0.5},\"pattern\":{\"fillmode\":\"overlay\",\"size\":10,\"solidity\":0.2}},\"type\":\"barpolar\"}],\"pie\":[{\"automargin\":true,\"type\":\"pie\"}]},\"layout\":{\"autotypenumbers\":\"strict\",\"colorway\":[\"#636efa\",\"#EF553B\",\"#00cc96\",\"#ab63fa\",\"#FFA15A\",\"#19d3f3\",\"#FF6692\",\"#B6E880\",\"#FF97FF\",\"#FECB52\"],\"font\":{\"color\":\"#2a3f5f\"},\"hovermode\":\"closest\",\"hoverlabel\":{\"align\":\"left\"},\"paper_bgcolor\":\"white\",\"plot_bgcolor\":\"#E5ECF6\",\"polar\":{\"bgcolor\":\"#E5ECF6\",\"angularaxis\":{\"gridcolor\":\"white\",\"linecolor\":\"white\",\"ticks\":\"\"},\"radialaxis\":{\"gridcolor\":\"white\",\"linecolor\":\"white\",\"ticks\":\"\"}},\"ternary\":{\"bgcolor\":\"#E5ECF6\",\"aaxis\":{\"gridcolor\":\"white\",\"linecolor\":\"white\",\"ticks\":\"\"},\"baxis\":{\"gridcolor\":\"white\",\"linecolor\":\"white\",\"ticks\":\"\"},\"caxis\":{\"gridcolor\":\"white\",\"linecolor\":\"white\",\"ticks\":\"\"}},\"coloraxis\":{\"colorbar\":{\"outlinewidth\":0,\"ticks\":\"\"}},\"colorscale\":{\"sequential\":[[0.0,\"#0d0887\"],[0.1111111111111111,\"#46039f\"],[0.2222222222222222,\"#7201a8\"],[0.3333333333333333,\"#9c179e\"],[0.4444444444444444,\"#bd3786\"],[0.5555555555555556,\"#d8576b\"],[0.6666666666666666,\"#ed7953\"],[0.7777777777777778,\"#fb9f3a\"],[0.8888888888888888,\"#fdca26\"],[1.0,\"#f0f921\"]],\"sequentialminus\":[[0.0,\"#0d0887\"],[0.1111111111111111,\"#46039f\"],[0.2222222222222222,\"#7201a8\"],[0.3333333333333333,\"#9c179e\"],[0.4444444444444444,\"#bd3786\"],[0.5555555555555556,\"#d8576b\"],[0.6666666666666666,\"#ed7953\"],[0.7777777777777778,\"#fb9f3a\"],[0.8888888888888888,\"#fdca26\"],[1.0,\"#f0f921\"]],\"diverging\":[[0,\"#8e0152\"],[0.1,\"#c51b7d\"],[0.2,\"#de77ae\"],[0.3,\"#f1b6da\"],[0.4,\"#fde0ef\"],[0.5,\"#f7f7f7\"],[0.6,\"#e6f5d0\"],[0.7,\"#b8e186\"],[0.8,\"#7fbc41\"],[0.9,\"#4d9221\"],[1,\"#276419\"]]},\"xaxis\":{\"gridcolor\":\"white\",\"linecolor\":\"white\",\"ticks\":\"\",\"title\":{\"standoff\":15},\"zerolinecolor\":\"white\",\"automargin\":true,\"zerolinewidth\":2},\"yaxis\":{\"gridcolor\":\"white\",\"linecolor\":\"white\",\"ticks\":\"\",\"title\":{\"standoff\":15},\"zerolinecolor\":\"white\",\"automargin\":true,\"zerolinewidth\":2},\"scene\":{\"xaxis\":{\"backgroundcolor\":\"#E5ECF6\",\"gridcolor\":\"white\",\"linecolor\":\"white\",\"showbackground\":true,\"ticks\":\"\",\"zerolinecolor\":\"white\",\"gridwidth\":2},\"yaxis\":{\"backgroundcolor\":\"#E5ECF6\",\"gridcolor\":\"white\",\"linecolor\":\"white\",\"showbackground\":true,\"ticks\":\"\",\"zerolinecolor\":\"white\",\"gridwidth\":2},\"zaxis\":{\"backgroundcolor\":\"#E5ECF6\",\"gridcolor\":\"white\",\"linecolor\":\"white\",\"showbackground\":true,\"ticks\":\"\",\"zerolinecolor\":\"white\",\"gridwidth\":2}},\"shapedefaults\":{\"line\":{\"color\":\"#2a3f5f\"}},\"annotationdefaults\":{\"arrowcolor\":\"#2a3f5f\",\"arrowhead\":0,\"arrowwidth\":1},\"geo\":{\"bgcolor\":\"white\",\"landcolor\":\"#E5ECF6\",\"subunitcolor\":\"white\",\"showland\":true,\"showlakes\":true,\"lakecolor\":\"white\"},\"title\":{\"x\":0.05},\"mapbox\":{\"style\":\"light\"}}},\"scene\":{\"aspectmode\":\"data\"},\"margin\":{\"l\":0,\"r\":0,\"b\":0,\"t\":30},\"title\":{\"text\":\"Tetrahedralizaci\\u00f3n (volumen interno)\"}},                        {\"responsive\": true}                    ).then(function(){\n",
              "                            \n",
              "var gd = document.getElementById('02131bef-5b58-42de-9b0f-698066874a81');\n",
              "var x = new MutationObserver(function (mutations, observer) {{\n",
              "        var display = window.getComputedStyle(gd).display;\n",
              "        if (!display || display === 'none') {{\n",
              "            console.log([gd, 'removed!']);\n",
              "            Plotly.purge(gd);\n",
              "            observer.disconnect();\n",
              "        }}\n",
              "}});\n",
              "\n",
              "// Listen for the removal of the full notebook cells\n",
              "var notebookContainer = gd.closest('#notebook-container');\n",
              "if (notebookContainer) {{\n",
              "    x.observe(notebookContainer, {childList: true});\n",
              "}}\n",
              "\n",
              "// Listen for the clearing of the current output cell\n",
              "var outputEl = gd.closest('.output');\n",
              "if (outputEl) {{\n",
              "    x.observe(outputEl, {childList: true});\n",
              "}}\n",
              "\n",
              "                        })                };                            </script>        </div>\n",
              "</body>\n",
              "</html>"
            ]
          },
          "metadata": {}
        }
      ],
      "source": [
        "\n",
        "faces_pv = np.hstack([[3, *face] for face in mesh.faces])\n",
        "pv_mesh = pv.PolyData(mesh.vertices, faces_pv)\n",
        "volumen = pv_mesh.delaunay_3d()\n",
        "superficie = volumen.extract_surface()\n",
        "v = np.array(superficie.points)\n",
        "f = np.array(superficie.faces).reshape((-1, 4))[:, 1:]\n",
        "\n",
        "mesh_tetra = trimesh.Trimesh(vertices=v, faces=f)\n",
        "visualizar_transparente_con_bordes(mesh_tetra, \"Tetrahedralización (volumen interno)\")"
      ]
    },
    {
      "cell_type": "markdown",
      "metadata": {
        "id": "xOzTvwljVfD6"
      },
      "source": [
        "# **Diferentes triangulaciones**"
      ]
    },
    {
      "cell_type": "markdown",
      "metadata": {
        "id": "_YVifVflJe-w"
      },
      "source": [
        "## **1-Triangulación de las caras**"
      ]
    },
    {
      "cell_type": "code",
      "execution_count": null,
      "metadata": {
        "id": "1cqtKaFfJjvl"
      },
      "outputs": [],
      "source": [
        "\n",
        "triang_1 = mesh.subdivide()"
      ]
    },
    {
      "cell_type": "markdown",
      "metadata": {
        "id": "Ur7diyE1Jm3K"
      },
      "source": [
        "**Número de triángulos de la triangulación**"
      ]
    },
    {
      "cell_type": "code",
      "execution_count": null,
      "metadata": {
        "id": "sZB2inI8JtZG",
        "colab": {
          "base_uri": "https://localhost:8080/"
        },
        "outputId": "a5c6d36f-6ed7-4b76-bf5d-0e4e4133de34"
      },
      "outputs": [
        {
          "output_type": "stream",
          "name": "stdout",
          "text": [
            "Triangulación 1 : 144 triángulos\n"
          ]
        }
      ],
      "source": [
        "\n",
        "print(\"Triangulación 1 :\", len(triang_1.faces), \"triángulos\")"
      ]
    },
    {
      "cell_type": "markdown",
      "metadata": {
        "id": "MQumJkoFJxRT"
      },
      "source": [
        "## **2-Triangulción de las caras**"
      ]
    },
    {
      "cell_type": "code",
      "execution_count": null,
      "metadata": {
        "id": "VPz7mgzlJ1dP"
      },
      "outputs": [],
      "source": [
        "\n",
        "triang_2 = mesh.subdivide_to_size(max_edge=0.3)"
      ]
    },
    {
      "cell_type": "markdown",
      "metadata": {
        "id": "TsAQw0TLJ8QZ"
      },
      "source": [
        "**Número de triángulos de la triangulación**"
      ]
    },
    {
      "cell_type": "code",
      "execution_count": null,
      "metadata": {
        "id": "h119mmECJ9cx",
        "colab": {
          "base_uri": "https://localhost:8080/"
        },
        "outputId": "52a78588-6181-411f-bb35-299b566fd740"
      },
      "outputs": [
        {
          "output_type": "stream",
          "name": "stdout",
          "text": [
            "Triangulación 2 : 2304 triángulos\n"
          ]
        }
      ],
      "source": [
        "\n",
        "print(\"Triangulación 2 :\", len(triang_2.faces), \"triángulos\")"
      ]
    },
    {
      "cell_type": "markdown",
      "metadata": {
        "id": "tUVQ2lapKEsA"
      },
      "source": [
        "## **3-Triangulación interior y exterior del poliedro**"
      ]
    },
    {
      "cell_type": "code",
      "execution_count": null,
      "metadata": {
        "id": "GdzM4I3iKJqf"
      },
      "outputs": [],
      "source": [
        "\n",
        "triang_3 = mesh.convex_hull"
      ]
    },
    {
      "cell_type": "markdown",
      "metadata": {
        "id": "ipkbpXlRKLqS"
      },
      "source": [
        "**Número de triángulos de la triangulación**"
      ]
    },
    {
      "cell_type": "code",
      "execution_count": null,
      "metadata": {
        "id": "9p96E8q2KMQ_",
        "colab": {
          "base_uri": "https://localhost:8080/"
        },
        "outputId": "eadfb37c-4943-436b-bf84-88ea0960a3c5"
      },
      "outputs": [
        {
          "output_type": "stream",
          "name": "stdout",
          "text": [
            "Triangulación 3 : 36 triángulos\n"
          ]
        }
      ],
      "source": [
        "\n",
        "print(\"Triangulación 3 :\", len(triang_3.faces), \"triángulos\")"
      ]
    },
    {
      "cell_type": "markdown",
      "metadata": {
        "id": "WFD-j2skKWBh"
      },
      "source": [
        "## **4-Triangulación interior y exterior del poliedro**"
      ]
    },
    {
      "cell_type": "code",
      "execution_count": null,
      "metadata": {
        "id": "WiPikSrnbrtv"
      },
      "outputs": [],
      "source": [
        "\n",
        "triang_4 = tetrahedralizar_y_extraer_superficie(mesh)"
      ]
    },
    {
      "cell_type": "markdown",
      "metadata": {
        "id": "BU04Q4c8hsnz"
      },
      "source": [
        "**Número de triángulos de la triangulación**"
      ]
    },
    {
      "cell_type": "code",
      "execution_count": null,
      "metadata": {
        "colab": {
          "base_uri": "https://localhost:8080/"
        },
        "id": "RAZJgFR2jtcD",
        "outputId": "d89e4190-b0f2-4f03-99fc-d93424fa4c98"
      },
      "outputs": [
        {
          "output_type": "stream",
          "name": "stdout",
          "text": [
            "Triangulación 4 : 36 triángulos\n"
          ]
        }
      ],
      "source": [
        "\n",
        "print(\"Triangulación 4 :\", len(triang_4.faces), \"triángulos\")"
      ]
    },
    {
      "cell_type": "markdown",
      "metadata": {
        "id": "1wflD3sALDfB"
      },
      "source": [
        "**Ver triangulación coloreada**"
      ]
    },
    {
      "cell_type": "code",
      "execution_count": null,
      "metadata": {
        "id": "YXxLpYiELHfD",
        "colab": {
          "base_uri": "https://localhost:8080/",
          "height": 542
        },
        "outputId": "60a60989-6d84-4cf9-ab60-192cc22cf7fd"
      },
      "outputs": [
        {
          "output_type": "display_data",
          "data": {
            "text/html": [
              "<html>\n",
              "<head><meta charset=\"utf-8\" /></head>\n",
              "<body>\n",
              "    <div>            <script src=\"https://cdnjs.cloudflare.com/ajax/libs/mathjax/2.7.5/MathJax.js?config=TeX-AMS-MML_SVG\"></script><script type=\"text/javascript\">if (window.MathJax && window.MathJax.Hub && window.MathJax.Hub.Config) {window.MathJax.Hub.Config({SVG: {font: \"STIX-Web\"}});}</script>                <script type=\"text/javascript\">window.PlotlyConfig = {MathJaxConfig: 'local'};</script>\n",
              "        <script charset=\"utf-8\" src=\"https://cdn.plot.ly/plotly-2.35.2.min.js\"></script>                <div id=\"471fee28-2045-48e1-ba46-51e3f25fb644\" class=\"plotly-graph-div\" style=\"height:525px; width:100%;\"></div>            <script type=\"text/javascript\">                                    window.PLOTLYENV=window.PLOTLYENV || {};                                    if (document.getElementById(\"471fee28-2045-48e1-ba46-51e3f25fb644\")) {                    Plotly.newPlot(                        \"471fee28-2045-48e1-ba46-51e3f25fb644\",                        [{\"color\":\"rgb(154, 213, 98)\",\"i\":[0],\"j\":[1],\"k\":[2],\"name\":\"Face 0\",\"opacity\":1.0,\"x\":[0.9341724,0.7136442,0.9341724],\"y\":[0.381966,0.0,-0.381966],\"z\":[-0.3568221,0.7978784,-0.3568221],\"type\":\"mesh3d\"},{\"color\":\"rgb(193, 74, 69)\",\"i\":[0],\"j\":[1],\"k\":[2],\"name\":\"Face 1\",\"opacity\":1.0,\"x\":[0.1362939,0.7136442,-0.3568221],\"y\":[-1.0,0.0,-0.618034],\"z\":[0.3568221,0.7978784,0.7978784],\"type\":\"mesh3d\"},{\"color\":\"rgb(27, 202, 229)\",\"i\":[0],\"j\":[1],\"k\":[2],\"name\":\"Face 2\",\"opacity\":1.0,\"x\":[0.3568221,-0.1362939,0.9341724],\"y\":[0.618034,1.0,0.381966],\"z\":[-0.7978784,-0.3568221,-0.3568221],\"type\":\"mesh3d\"},{\"color\":\"rgb(153, 228, 52)\",\"i\":[0],\"j\":[1],\"k\":[2],\"name\":\"Face 3\",\"opacity\":1.0,\"x\":[-0.7136442,0.3568221,0.0],\"y\":[0.0,0.618034,0.0],\"z\":[-0.7978784,-0.7978784,-1.070466],\"type\":\"mesh3d\"},{\"color\":\"rgb(62, 198, 172)\",\"i\":[0],\"j\":[1],\"k\":[2],\"name\":\"Face 4\",\"opacity\":1.0,\"x\":[-0.1362939,0.3568221,-0.7136442],\"y\":[1.0,0.618034,0.0],\"z\":[-0.3568221,-0.7978784,-0.7978784],\"type\":\"mesh3d\"},{\"color\":\"rgb(113, 192, 99)\",\"i\":[0],\"j\":[1],\"k\":[2],\"name\":\"Face 5\",\"opacity\":1.0,\"x\":[0.7978784,0.7136442,0.1362939],\"y\":[-0.618034,0.0,-1.0],\"z\":[0.3568221,0.7978784,0.3568221],\"type\":\"mesh3d\"},{\"color\":\"rgb(167, 136, 247)\",\"i\":[0],\"j\":[1],\"k\":[2],\"name\":\"Face 6\",\"opacity\":1.0,\"x\":[0.1362939,0.9341724,0.7978784],\"y\":[-1.0,-0.381966,-0.618034],\"z\":[0.3568221,-0.3568221,0.3568221],\"type\":\"mesh3d\"},{\"color\":\"rgb(103, 53, 179)\",\"i\":[0],\"j\":[1],\"k\":[2],\"name\":\"Face 7\",\"opacity\":1.0,\"x\":[0.7978784,0.9341724,0.7136442],\"y\":[-0.618034,-0.381966,0.0],\"z\":[0.3568221,-0.3568221,0.7978784],\"type\":\"mesh3d\"},{\"color\":\"rgb(92, 204, 230)\",\"i\":[0],\"j\":[1],\"k\":[2],\"name\":\"Face 8\",\"opacity\":1.0,\"x\":[0.3568221,-0.7136442,0.0],\"y\":[-0.618034,0.0,0.0],\"z\":[-0.7978784,-0.7978784,-1.070466],\"type\":\"mesh3d\"},{\"color\":\"rgb(203, 131, 230)\",\"i\":[0],\"j\":[1],\"k\":[2],\"name\":\"Face 9\",\"opacity\":1.0,\"x\":[0.0,0.3568221,0.3568221],\"y\":[0.0,0.618034,-0.618034],\"z\":[-1.070466,-0.7978784,-0.7978784],\"type\":\"mesh3d\"},{\"color\":\"rgb(79, 241, 180)\",\"i\":[0],\"j\":[1],\"k\":[2],\"name\":\"Face 10\",\"opacity\":1.0,\"x\":[0.1362939,-0.3568221,-0.9341724],\"y\":[-1.0,-0.618034,-0.381966],\"z\":[0.3568221,0.7978784,0.3568221],\"type\":\"mesh3d\"},{\"color\":\"rgb(223, 20, 228)\",\"i\":[0],\"j\":[1],\"k\":[2],\"name\":\"Face 11\",\"opacity\":1.0,\"x\":[-0.9341724,-0.7136442,-0.9341724],\"y\":[0.381966,0.0,-0.381966],\"z\":[0.3568221,-0.7978784,0.3568221],\"type\":\"mesh3d\"},{\"color\":\"rgb(28, 113, 154)\",\"i\":[0],\"j\":[1],\"k\":[2],\"name\":\"Face 12\",\"opacity\":1.0,\"x\":[-0.9341724,-0.7136442,-0.7978784],\"y\":[-0.381966,0.0,-0.618034],\"z\":[0.3568221,-0.7978784,-0.3568221],\"type\":\"mesh3d\"},{\"color\":\"rgb(156, 32, 48)\",\"i\":[0],\"j\":[1],\"k\":[2],\"name\":\"Face 13\",\"opacity\":1.0,\"x\":[0.7136442,-0.3568221,0.0],\"y\":[0.0,0.618034,0.0],\"z\":[0.7978784,0.7978784,1.070466],\"type\":\"mesh3d\"},{\"color\":\"rgb(85, 8, 6)\",\"i\":[0],\"j\":[1],\"k\":[2],\"name\":\"Face 14\",\"opacity\":1.0,\"x\":[0.0,-0.3568221,-0.3568221],\"y\":[0.0,0.618034,-0.618034],\"z\":[1.070466,0.7978784,0.7978784],\"type\":\"mesh3d\"},{\"color\":\"rgb(125, 147, 193)\",\"i\":[0],\"j\":[1],\"k\":[2],\"name\":\"Face 15\",\"opacity\":1.0,\"x\":[0.0,-0.3568221,0.7136442],\"y\":[0.0,-0.618034,0.0],\"z\":[1.070466,0.7978784,0.7978784],\"type\":\"mesh3d\"},{\"color\":\"rgb(121, 166, 244)\",\"i\":[0],\"j\":[1],\"k\":[2],\"name\":\"Face 16\",\"opacity\":1.0,\"x\":[0.9341724,-0.1362939,0.1362939],\"y\":[0.381966,1.0,1.0],\"z\":[-0.3568221,-0.3568221,0.3568221],\"type\":\"mesh3d\"},{\"color\":\"rgb(219, 47, 106)\",\"i\":[0],\"j\":[1],\"k\":[2],\"name\":\"Face 17\",\"opacity\":1.0,\"x\":[0.1362939,-0.3568221,0.7136442],\"y\":[1.0,0.618034,0.0],\"z\":[0.3568221,0.7978784,0.7978784],\"type\":\"mesh3d\"},{\"color\":\"rgb(198, 242, 101)\",\"i\":[0],\"j\":[1],\"k\":[2],\"name\":\"Face 18\",\"opacity\":1.0,\"x\":[-0.9341724,-0.3568221,0.1362939],\"y\":[0.381966,0.618034,1.0],\"z\":[0.3568221,0.7978784,0.3568221],\"type\":\"mesh3d\"},{\"color\":\"rgb(91, 163, 237)\",\"i\":[0],\"j\":[1],\"k\":[2],\"name\":\"Face 19\",\"opacity\":1.0,\"x\":[0.1362939,-0.1362939,-0.9341724],\"y\":[1.0,1.0,0.381966],\"z\":[0.3568221,-0.3568221,0.3568221],\"type\":\"mesh3d\"},{\"color\":\"rgb(41, 124, 142)\",\"i\":[0],\"j\":[1],\"k\":[2],\"name\":\"Face 20\",\"opacity\":1.0,\"x\":[-0.9341724,-0.1362939,-0.7978784],\"y\":[0.381966,1.0,0.618034],\"z\":[0.3568221,-0.3568221,-0.3568221],\"type\":\"mesh3d\"},{\"color\":\"rgb(30, 91, 23)\",\"i\":[0],\"j\":[1],\"k\":[2],\"name\":\"Face 21\",\"opacity\":1.0,\"x\":[-0.7978784,-0.7136442,-0.9341724],\"y\":[0.618034,0.0,0.381966],\"z\":[-0.3568221,-0.7978784,0.3568221],\"type\":\"mesh3d\"},{\"color\":\"rgb(219, 80, 34)\",\"i\":[0],\"j\":[1],\"k\":[2],\"name\":\"Face 22\",\"opacity\":1.0,\"x\":[-0.1362939,-0.7136442,-0.7978784],\"y\":[1.0,0.0,0.618034],\"z\":[-0.3568221,-0.7978784,-0.3568221],\"type\":\"mesh3d\"},{\"color\":\"rgb(16, 76, 23)\",\"i\":[0],\"j\":[1],\"k\":[2],\"name\":\"Face 23\",\"opacity\":1.0,\"x\":[-0.7978784,-0.7136442,-0.1362939],\"y\":[-0.618034,0.0,-1.0],\"z\":[-0.3568221,-0.7978784,-0.3568221],\"type\":\"mesh3d\"},{\"color\":\"rgb(165, 253, 51)\",\"i\":[0],\"j\":[1],\"k\":[2],\"name\":\"Face 24\",\"opacity\":1.0,\"x\":[-0.7136442,0.3568221,-0.1362939],\"y\":[0.0,-0.618034,-1.0],\"z\":[-0.7978784,-0.7978784,-0.3568221],\"type\":\"mesh3d\"},{\"color\":\"rgb(230, 107, 12)\",\"i\":[0],\"j\":[1],\"k\":[2],\"name\":\"Face 25\",\"opacity\":1.0,\"x\":[0.1362939,-0.9341724,-0.1362939],\"y\":[-1.0,-0.381966,-1.0],\"z\":[0.3568221,0.3568221,-0.3568221],\"type\":\"mesh3d\"},{\"color\":\"rgb(69, 133, 160)\",\"i\":[0],\"j\":[1],\"k\":[2],\"name\":\"Face 26\",\"opacity\":1.0,\"x\":[-0.1362939,-0.9341724,-0.7978784],\"y\":[-1.0,-0.381966,-0.618034],\"z\":[-0.3568221,0.3568221,-0.3568221],\"type\":\"mesh3d\"},{\"color\":\"rgb(142, 182, 210)\",\"i\":[0],\"j\":[1],\"k\":[2],\"name\":\"Face 27\",\"opacity\":1.0,\"x\":[-0.1362939,0.3568221,0.9341724],\"y\":[-1.0,-0.618034,-0.381966],\"z\":[-0.3568221,-0.7978784,-0.3568221],\"type\":\"mesh3d\"},{\"color\":\"rgb(195, 207, 179)\",\"i\":[0],\"j\":[1],\"k\":[2],\"name\":\"Face 28\",\"opacity\":1.0,\"x\":[-0.1362939,0.9341724,0.1362939],\"y\":[-1.0,-0.381966,-1.0],\"z\":[-0.3568221,-0.3568221,0.3568221],\"type\":\"mesh3d\"},{\"color\":\"rgb(166, 29, 238)\",\"i\":[0],\"j\":[1],\"k\":[2],\"name\":\"Face 29\",\"opacity\":1.0,\"x\":[0.7978784,0.7136442,0.9341724],\"y\":[0.618034,0.0,0.381966],\"z\":[0.3568221,0.7978784,-0.3568221],\"type\":\"mesh3d\"},{\"color\":\"rgb(255, 113, 60)\",\"i\":[0],\"j\":[1],\"k\":[2],\"name\":\"Face 30\",\"opacity\":1.0,\"x\":[0.9341724,0.1362939,0.7978784],\"y\":[0.381966,1.0,0.618034],\"z\":[-0.3568221,0.3568221,0.3568221],\"type\":\"mesh3d\"},{\"color\":\"rgb(97, 225, 78)\",\"i\":[0],\"j\":[1],\"k\":[2],\"name\":\"Face 31\",\"opacity\":1.0,\"x\":[0.7978784,0.1362939,0.7136442],\"y\":[0.618034,1.0,0.0],\"z\":[0.3568221,0.3568221,0.7978784],\"type\":\"mesh3d\"},{\"color\":\"rgb(130, 72, 174)\",\"i\":[0],\"j\":[1],\"k\":[2],\"name\":\"Face 32\",\"opacity\":1.0,\"x\":[0.3568221,0.3568221,0.9341724],\"y\":[-0.618034,0.618034,0.381966],\"z\":[-0.7978784,-0.7978784,-0.3568221],\"type\":\"mesh3d\"},{\"color\":\"rgb(208, 176, 126)\",\"i\":[0],\"j\":[1],\"k\":[2],\"name\":\"Face 33\",\"opacity\":1.0,\"x\":[0.9341724,0.9341724,0.3568221],\"y\":[0.381966,-0.381966,-0.618034],\"z\":[-0.3568221,-0.3568221,-0.7978784],\"type\":\"mesh3d\"},{\"color\":\"rgb(35, 42, 42)\",\"i\":[0],\"j\":[1],\"k\":[2],\"name\":\"Face 34\",\"opacity\":1.0,\"x\":[-0.3568221,-0.3568221,-0.9341724],\"y\":[-0.618034,0.618034,-0.381966],\"z\":[0.7978784,0.7978784,0.3568221],\"type\":\"mesh3d\"},{\"color\":\"rgb(83, 197, 20)\",\"i\":[0],\"j\":[1],\"k\":[2],\"name\":\"Face 35\",\"opacity\":1.0,\"x\":[-0.9341724,-0.3568221,-0.9341724],\"y\":[-0.381966,0.618034,0.381966],\"z\":[0.3568221,0.7978784,0.3568221],\"type\":\"mesh3d\"}],                        {\"template\":{\"data\":{\"histogram2dcontour\":[{\"type\":\"histogram2dcontour\",\"colorbar\":{\"outlinewidth\":0,\"ticks\":\"\"},\"colorscale\":[[0.0,\"#0d0887\"],[0.1111111111111111,\"#46039f\"],[0.2222222222222222,\"#7201a8\"],[0.3333333333333333,\"#9c179e\"],[0.4444444444444444,\"#bd3786\"],[0.5555555555555556,\"#d8576b\"],[0.6666666666666666,\"#ed7953\"],[0.7777777777777778,\"#fb9f3a\"],[0.8888888888888888,\"#fdca26\"],[1.0,\"#f0f921\"]]}],\"choropleth\":[{\"type\":\"choropleth\",\"colorbar\":{\"outlinewidth\":0,\"ticks\":\"\"}}],\"histogram2d\":[{\"type\":\"histogram2d\",\"colorbar\":{\"outlinewidth\":0,\"ticks\":\"\"},\"colorscale\":[[0.0,\"#0d0887\"],[0.1111111111111111,\"#46039f\"],[0.2222222222222222,\"#7201a8\"],[0.3333333333333333,\"#9c179e\"],[0.4444444444444444,\"#bd3786\"],[0.5555555555555556,\"#d8576b\"],[0.6666666666666666,\"#ed7953\"],[0.7777777777777778,\"#fb9f3a\"],[0.8888888888888888,\"#fdca26\"],[1.0,\"#f0f921\"]]}],\"heatmap\":[{\"type\":\"heatmap\",\"colorbar\":{\"outlinewidth\":0,\"ticks\":\"\"},\"colorscale\":[[0.0,\"#0d0887\"],[0.1111111111111111,\"#46039f\"],[0.2222222222222222,\"#7201a8\"],[0.3333333333333333,\"#9c179e\"],[0.4444444444444444,\"#bd3786\"],[0.5555555555555556,\"#d8576b\"],[0.6666666666666666,\"#ed7953\"],[0.7777777777777778,\"#fb9f3a\"],[0.8888888888888888,\"#fdca26\"],[1.0,\"#f0f921\"]]}],\"heatmapgl\":[{\"type\":\"heatmapgl\",\"colorbar\":{\"outlinewidth\":0,\"ticks\":\"\"},\"colorscale\":[[0.0,\"#0d0887\"],[0.1111111111111111,\"#46039f\"],[0.2222222222222222,\"#7201a8\"],[0.3333333333333333,\"#9c179e\"],[0.4444444444444444,\"#bd3786\"],[0.5555555555555556,\"#d8576b\"],[0.6666666666666666,\"#ed7953\"],[0.7777777777777778,\"#fb9f3a\"],[0.8888888888888888,\"#fdca26\"],[1.0,\"#f0f921\"]]}],\"contourcarpet\":[{\"type\":\"contourcarpet\",\"colorbar\":{\"outlinewidth\":0,\"ticks\":\"\"}}],\"contour\":[{\"type\":\"contour\",\"colorbar\":{\"outlinewidth\":0,\"ticks\":\"\"},\"colorscale\":[[0.0,\"#0d0887\"],[0.1111111111111111,\"#46039f\"],[0.2222222222222222,\"#7201a8\"],[0.3333333333333333,\"#9c179e\"],[0.4444444444444444,\"#bd3786\"],[0.5555555555555556,\"#d8576b\"],[0.6666666666666666,\"#ed7953\"],[0.7777777777777778,\"#fb9f3a\"],[0.8888888888888888,\"#fdca26\"],[1.0,\"#f0f921\"]]}],\"surface\":[{\"type\":\"surface\",\"colorbar\":{\"outlinewidth\":0,\"ticks\":\"\"},\"colorscale\":[[0.0,\"#0d0887\"],[0.1111111111111111,\"#46039f\"],[0.2222222222222222,\"#7201a8\"],[0.3333333333333333,\"#9c179e\"],[0.4444444444444444,\"#bd3786\"],[0.5555555555555556,\"#d8576b\"],[0.6666666666666666,\"#ed7953\"],[0.7777777777777778,\"#fb9f3a\"],[0.8888888888888888,\"#fdca26\"],[1.0,\"#f0f921\"]]}],\"mesh3d\":[{\"type\":\"mesh3d\",\"colorbar\":{\"outlinewidth\":0,\"ticks\":\"\"}}],\"scatter\":[{\"fillpattern\":{\"fillmode\":\"overlay\",\"size\":10,\"solidity\":0.2},\"type\":\"scatter\"}],\"parcoords\":[{\"type\":\"parcoords\",\"line\":{\"colorbar\":{\"outlinewidth\":0,\"ticks\":\"\"}}}],\"scatterpolargl\":[{\"type\":\"scatterpolargl\",\"marker\":{\"colorbar\":{\"outlinewidth\":0,\"ticks\":\"\"}}}],\"bar\":[{\"error_x\":{\"color\":\"#2a3f5f\"},\"error_y\":{\"color\":\"#2a3f5f\"},\"marker\":{\"line\":{\"color\":\"#E5ECF6\",\"width\":0.5},\"pattern\":{\"fillmode\":\"overlay\",\"size\":10,\"solidity\":0.2}},\"type\":\"bar\"}],\"scattergeo\":[{\"type\":\"scattergeo\",\"marker\":{\"colorbar\":{\"outlinewidth\":0,\"ticks\":\"\"}}}],\"scatterpolar\":[{\"type\":\"scatterpolar\",\"marker\":{\"colorbar\":{\"outlinewidth\":0,\"ticks\":\"\"}}}],\"histogram\":[{\"marker\":{\"pattern\":{\"fillmode\":\"overlay\",\"size\":10,\"solidity\":0.2}},\"type\":\"histogram\"}],\"scattergl\":[{\"type\":\"scattergl\",\"marker\":{\"colorbar\":{\"outlinewidth\":0,\"ticks\":\"\"}}}],\"scatter3d\":[{\"type\":\"scatter3d\",\"line\":{\"colorbar\":{\"outlinewidth\":0,\"ticks\":\"\"}},\"marker\":{\"colorbar\":{\"outlinewidth\":0,\"ticks\":\"\"}}}],\"scattermapbox\":[{\"type\":\"scattermapbox\",\"marker\":{\"colorbar\":{\"outlinewidth\":0,\"ticks\":\"\"}}}],\"scatterternary\":[{\"type\":\"scatterternary\",\"marker\":{\"colorbar\":{\"outlinewidth\":0,\"ticks\":\"\"}}}],\"scattercarpet\":[{\"type\":\"scattercarpet\",\"marker\":{\"colorbar\":{\"outlinewidth\":0,\"ticks\":\"\"}}}],\"carpet\":[{\"aaxis\":{\"endlinecolor\":\"#2a3f5f\",\"gridcolor\":\"white\",\"linecolor\":\"white\",\"minorgridcolor\":\"white\",\"startlinecolor\":\"#2a3f5f\"},\"baxis\":{\"endlinecolor\":\"#2a3f5f\",\"gridcolor\":\"white\",\"linecolor\":\"white\",\"minorgridcolor\":\"white\",\"startlinecolor\":\"#2a3f5f\"},\"type\":\"carpet\"}],\"table\":[{\"cells\":{\"fill\":{\"color\":\"#EBF0F8\"},\"line\":{\"color\":\"white\"}},\"header\":{\"fill\":{\"color\":\"#C8D4E3\"},\"line\":{\"color\":\"white\"}},\"type\":\"table\"}],\"barpolar\":[{\"marker\":{\"line\":{\"color\":\"#E5ECF6\",\"width\":0.5},\"pattern\":{\"fillmode\":\"overlay\",\"size\":10,\"solidity\":0.2}},\"type\":\"barpolar\"}],\"pie\":[{\"automargin\":true,\"type\":\"pie\"}]},\"layout\":{\"autotypenumbers\":\"strict\",\"colorway\":[\"#636efa\",\"#EF553B\",\"#00cc96\",\"#ab63fa\",\"#FFA15A\",\"#19d3f3\",\"#FF6692\",\"#B6E880\",\"#FF97FF\",\"#FECB52\"],\"font\":{\"color\":\"#2a3f5f\"},\"hovermode\":\"closest\",\"hoverlabel\":{\"align\":\"left\"},\"paper_bgcolor\":\"white\",\"plot_bgcolor\":\"#E5ECF6\",\"polar\":{\"bgcolor\":\"#E5ECF6\",\"angularaxis\":{\"gridcolor\":\"white\",\"linecolor\":\"white\",\"ticks\":\"\"},\"radialaxis\":{\"gridcolor\":\"white\",\"linecolor\":\"white\",\"ticks\":\"\"}},\"ternary\":{\"bgcolor\":\"#E5ECF6\",\"aaxis\":{\"gridcolor\":\"white\",\"linecolor\":\"white\",\"ticks\":\"\"},\"baxis\":{\"gridcolor\":\"white\",\"linecolor\":\"white\",\"ticks\":\"\"},\"caxis\":{\"gridcolor\":\"white\",\"linecolor\":\"white\",\"ticks\":\"\"}},\"coloraxis\":{\"colorbar\":{\"outlinewidth\":0,\"ticks\":\"\"}},\"colorscale\":{\"sequential\":[[0.0,\"#0d0887\"],[0.1111111111111111,\"#46039f\"],[0.2222222222222222,\"#7201a8\"],[0.3333333333333333,\"#9c179e\"],[0.4444444444444444,\"#bd3786\"],[0.5555555555555556,\"#d8576b\"],[0.6666666666666666,\"#ed7953\"],[0.7777777777777778,\"#fb9f3a\"],[0.8888888888888888,\"#fdca26\"],[1.0,\"#f0f921\"]],\"sequentialminus\":[[0.0,\"#0d0887\"],[0.1111111111111111,\"#46039f\"],[0.2222222222222222,\"#7201a8\"],[0.3333333333333333,\"#9c179e\"],[0.4444444444444444,\"#bd3786\"],[0.5555555555555556,\"#d8576b\"],[0.6666666666666666,\"#ed7953\"],[0.7777777777777778,\"#fb9f3a\"],[0.8888888888888888,\"#fdca26\"],[1.0,\"#f0f921\"]],\"diverging\":[[0,\"#8e0152\"],[0.1,\"#c51b7d\"],[0.2,\"#de77ae\"],[0.3,\"#f1b6da\"],[0.4,\"#fde0ef\"],[0.5,\"#f7f7f7\"],[0.6,\"#e6f5d0\"],[0.7,\"#b8e186\"],[0.8,\"#7fbc41\"],[0.9,\"#4d9221\"],[1,\"#276419\"]]},\"xaxis\":{\"gridcolor\":\"white\",\"linecolor\":\"white\",\"ticks\":\"\",\"title\":{\"standoff\":15},\"zerolinecolor\":\"white\",\"automargin\":true,\"zerolinewidth\":2},\"yaxis\":{\"gridcolor\":\"white\",\"linecolor\":\"white\",\"ticks\":\"\",\"title\":{\"standoff\":15},\"zerolinecolor\":\"white\",\"automargin\":true,\"zerolinewidth\":2},\"scene\":{\"xaxis\":{\"backgroundcolor\":\"#E5ECF6\",\"gridcolor\":\"white\",\"linecolor\":\"white\",\"showbackground\":true,\"ticks\":\"\",\"zerolinecolor\":\"white\",\"gridwidth\":2},\"yaxis\":{\"backgroundcolor\":\"#E5ECF6\",\"gridcolor\":\"white\",\"linecolor\":\"white\",\"showbackground\":true,\"ticks\":\"\",\"zerolinecolor\":\"white\",\"gridwidth\":2},\"zaxis\":{\"backgroundcolor\":\"#E5ECF6\",\"gridcolor\":\"white\",\"linecolor\":\"white\",\"showbackground\":true,\"ticks\":\"\",\"zerolinecolor\":\"white\",\"gridwidth\":2}},\"shapedefaults\":{\"line\":{\"color\":\"#2a3f5f\"}},\"annotationdefaults\":{\"arrowcolor\":\"#2a3f5f\",\"arrowhead\":0,\"arrowwidth\":1},\"geo\":{\"bgcolor\":\"white\",\"landcolor\":\"#E5ECF6\",\"subunitcolor\":\"white\",\"showland\":true,\"showlakes\":true,\"lakecolor\":\"white\"},\"title\":{\"x\":0.05},\"mapbox\":{\"style\":\"light\"}}},\"scene\":{\"aspectmode\":\"data\"},\"margin\":{\"l\":0,\"r\":0,\"b\":0,\"t\":30},\"title\":{\"text\":\"Triangulaci\\u00f3n 3\"}},                        {\"responsive\": true}                    ).then(function(){\n",
              "                            \n",
              "var gd = document.getElementById('471fee28-2045-48e1-ba46-51e3f25fb644');\n",
              "var x = new MutationObserver(function (mutations, observer) {{\n",
              "        var display = window.getComputedStyle(gd).display;\n",
              "        if (!display || display === 'none') {{\n",
              "            console.log([gd, 'removed!']);\n",
              "            Plotly.purge(gd);\n",
              "            observer.disconnect();\n",
              "        }}\n",
              "}});\n",
              "\n",
              "// Listen for the removal of the full notebook cells\n",
              "var notebookContainer = gd.closest('#notebook-container');\n",
              "if (notebookContainer) {{\n",
              "    x.observe(notebookContainer, {childList: true});\n",
              "}}\n",
              "\n",
              "// Listen for the clearing of the current output cell\n",
              "var outputEl = gd.closest('.output');\n",
              "if (outputEl) {{\n",
              "    x.observe(outputEl, {childList: true});\n",
              "}}\n",
              "\n",
              "                        })                };                            </script>        </div>\n",
              "</body>\n",
              "</html>"
            ]
          },
          "metadata": {}
        }
      ],
      "source": [
        "\n",
        "visualizar_coloreado(triang_3, \"Triangulación 3\")"
      ]
    },
    {
      "cell_type": "markdown",
      "metadata": {
        "id": "HrncDvfDLNVO"
      },
      "source": [
        "**Ver interior con transparencia**"
      ]
    },
    {
      "cell_type": "code",
      "execution_count": null,
      "metadata": {
        "id": "QG93S4fvzU_J",
        "colab": {
          "base_uri": "https://localhost:8080/",
          "height": 542
        },
        "outputId": "b5f47b38-7d37-4cd3-c055-5f4ad0197ad9"
      },
      "outputs": [
        {
          "output_type": "display_data",
          "data": {
            "text/html": [
              "<html>\n",
              "<head><meta charset=\"utf-8\" /></head>\n",
              "<body>\n",
              "    <div>            <script src=\"https://cdnjs.cloudflare.com/ajax/libs/mathjax/2.7.5/MathJax.js?config=TeX-AMS-MML_SVG\"></script><script type=\"text/javascript\">if (window.MathJax && window.MathJax.Hub && window.MathJax.Hub.Config) {window.MathJax.Hub.Config({SVG: {font: \"STIX-Web\"}});}</script>                <script type=\"text/javascript\">window.PlotlyConfig = {MathJaxConfig: 'local'};</script>\n",
              "        <script charset=\"utf-8\" src=\"https://cdn.plot.ly/plotly-2.35.2.min.js\"></script>                <div id=\"6b7184ca-90a7-41d8-ac08-5d6e73cae8da\" class=\"plotly-graph-div\" style=\"height:525px; width:100%;\"></div>            <script type=\"text/javascript\">                                    window.PLOTLYENV=window.PLOTLYENV || {};                                    if (document.getElementById(\"6b7184ca-90a7-41d8-ac08-5d6e73cae8da\")) {                    Plotly.newPlot(                        \"6b7184ca-90a7-41d8-ac08-5d6e73cae8da\",                        [{\"color\":\"lightblue\",\"i\":[10,8,16,18,13,5,8,5,17,19,8,6,9,1,0,0,10,7,6,7,6,12,13,15,18,8,14,14,14,4,10,4,17,10,3,9],\"j\":[1,1,13,16,16,1,11,11,18,16,3,18,18,2,2,3,13,2,2,13,13,18,18,18,17,9,9,17,11,1,7,7,16,11,2,2],\"k\":[11,3,10,19,18,8,5,1,19,17,9,9,15,0,3,1,7,1,7,6,12,6,12,14,14,14,15,11,8,10,4,1,10,17,9,6],\"name\":\"Poliedro\",\"opacity\":0.3,\"x\":[0.0,0.7136442,-0.3568221,-0.3568221,0.7978784,0.7978784,-0.9341724,0.1362939,0.1362939,-0.9341724,0.9341724,0.9341724,-0.7978784,-0.1362939,-0.1362939,-0.7978784,0.3568221,0.3568221,-0.7136442,0.0],\"y\":[0.0,0.0,0.618034,-0.618034,0.618034,-0.618034,0.381966,1.0,-1.0,-0.381966,0.381966,-0.381966,0.618034,1.0,-1.0,-0.618034,0.618034,-0.618034,0.0,0.0],\"z\":[1.070466,0.7978784,0.7978784,0.7978784,0.3568221,0.3568221,0.3568221,0.3568221,0.3568221,0.3568221,-0.3568221,-0.3568221,-0.3568221,-0.3568221,-0.3568221,-0.3568221,-0.7978784,-0.7978784,-0.7978784,-1.070466],\"type\":\"mesh3d\"},{\"line\":{\"color\":\"black\",\"width\":2},\"mode\":\"lines\",\"showlegend\":false,\"x\":[0.9341724,0.7136442],\"y\":[0.381966,0.0],\"z\":[-0.3568221,0.7978784],\"type\":\"scatter3d\"},{\"line\":{\"color\":\"black\",\"width\":2},\"mode\":\"lines\",\"showlegend\":false,\"x\":[0.7136442,0.9341724],\"y\":[0.0,-0.381966],\"z\":[0.7978784,-0.3568221],\"type\":\"scatter3d\"},{\"line\":{\"color\":\"black\",\"width\":2},\"mode\":\"lines\",\"showlegend\":false,\"x\":[0.9341724,0.9341724],\"y\":[-0.381966,0.381966],\"z\":[-0.3568221,-0.3568221],\"type\":\"scatter3d\"},{\"line\":{\"color\":\"black\",\"width\":2},\"mode\":\"lines\",\"showlegend\":false,\"x\":[0.1362939,0.7136442],\"y\":[-1.0,0.0],\"z\":[0.3568221,0.7978784],\"type\":\"scatter3d\"},{\"line\":{\"color\":\"black\",\"width\":2},\"mode\":\"lines\",\"showlegend\":false,\"x\":[0.7136442,-0.3568221],\"y\":[0.0,-0.618034],\"z\":[0.7978784,0.7978784],\"type\":\"scatter3d\"},{\"line\":{\"color\":\"black\",\"width\":2},\"mode\":\"lines\",\"showlegend\":false,\"x\":[-0.3568221,0.1362939],\"y\":[-0.618034,-1.0],\"z\":[0.7978784,0.3568221],\"type\":\"scatter3d\"},{\"line\":{\"color\":\"black\",\"width\":2},\"mode\":\"lines\",\"showlegend\":false,\"x\":[0.3568221,-0.1362939],\"y\":[0.618034,1.0],\"z\":[-0.7978784,-0.3568221],\"type\":\"scatter3d\"},{\"line\":{\"color\":\"black\",\"width\":2},\"mode\":\"lines\",\"showlegend\":false,\"x\":[-0.1362939,0.9341724],\"y\":[1.0,0.381966],\"z\":[-0.3568221,-0.3568221],\"type\":\"scatter3d\"},{\"line\":{\"color\":\"black\",\"width\":2},\"mode\":\"lines\",\"showlegend\":false,\"x\":[0.9341724,0.3568221],\"y\":[0.381966,0.618034],\"z\":[-0.3568221,-0.7978784],\"type\":\"scatter3d\"},{\"line\":{\"color\":\"black\",\"width\":2},\"mode\":\"lines\",\"showlegend\":false,\"x\":[-0.7136442,0.3568221],\"y\":[0.0,0.618034],\"z\":[-0.7978784,-0.7978784],\"type\":\"scatter3d\"},{\"line\":{\"color\":\"black\",\"width\":2},\"mode\":\"lines\",\"showlegend\":false,\"x\":[0.3568221,0.0],\"y\":[0.618034,0.0],\"z\":[-0.7978784,-1.070466],\"type\":\"scatter3d\"},{\"line\":{\"color\":\"black\",\"width\":2},\"mode\":\"lines\",\"showlegend\":false,\"x\":[0.0,-0.7136442],\"y\":[0.0,0.0],\"z\":[-1.070466,-0.7978784],\"type\":\"scatter3d\"},{\"line\":{\"color\":\"black\",\"width\":2},\"mode\":\"lines\",\"showlegend\":false,\"x\":[-0.1362939,0.3568221],\"y\":[1.0,0.618034],\"z\":[-0.3568221,-0.7978784],\"type\":\"scatter3d\"},{\"line\":{\"color\":\"black\",\"width\":2},\"mode\":\"lines\",\"showlegend\":false,\"x\":[0.3568221,-0.7136442],\"y\":[0.618034,0.0],\"z\":[-0.7978784,-0.7978784],\"type\":\"scatter3d\"},{\"line\":{\"color\":\"black\",\"width\":2},\"mode\":\"lines\",\"showlegend\":false,\"x\":[-0.7136442,-0.1362939],\"y\":[0.0,1.0],\"z\":[-0.7978784,-0.3568221],\"type\":\"scatter3d\"},{\"line\":{\"color\":\"black\",\"width\":2},\"mode\":\"lines\",\"showlegend\":false,\"x\":[0.7978784,0.7136442],\"y\":[-0.618034,0.0],\"z\":[0.3568221,0.7978784],\"type\":\"scatter3d\"},{\"line\":{\"color\":\"black\",\"width\":2},\"mode\":\"lines\",\"showlegend\":false,\"x\":[0.7136442,0.1362939],\"y\":[0.0,-1.0],\"z\":[0.7978784,0.3568221],\"type\":\"scatter3d\"},{\"line\":{\"color\":\"black\",\"width\":2},\"mode\":\"lines\",\"showlegend\":false,\"x\":[0.1362939,0.7978784],\"y\":[-1.0,-0.618034],\"z\":[0.3568221,0.3568221],\"type\":\"scatter3d\"},{\"line\":{\"color\":\"black\",\"width\":2},\"mode\":\"lines\",\"showlegend\":false,\"x\":[0.1362939,0.9341724],\"y\":[-1.0,-0.381966],\"z\":[0.3568221,-0.3568221],\"type\":\"scatter3d\"},{\"line\":{\"color\":\"black\",\"width\":2},\"mode\":\"lines\",\"showlegend\":false,\"x\":[0.9341724,0.7978784],\"y\":[-0.381966,-0.618034],\"z\":[-0.3568221,0.3568221],\"type\":\"scatter3d\"},{\"line\":{\"color\":\"black\",\"width\":2},\"mode\":\"lines\",\"showlegend\":false,\"x\":[0.7978784,0.1362939],\"y\":[-0.618034,-1.0],\"z\":[0.3568221,0.3568221],\"type\":\"scatter3d\"},{\"line\":{\"color\":\"black\",\"width\":2},\"mode\":\"lines\",\"showlegend\":false,\"x\":[0.7978784,0.9341724],\"y\":[-0.618034,-0.381966],\"z\":[0.3568221,-0.3568221],\"type\":\"scatter3d\"},{\"line\":{\"color\":\"black\",\"width\":2},\"mode\":\"lines\",\"showlegend\":false,\"x\":[0.9341724,0.7136442],\"y\":[-0.381966,0.0],\"z\":[-0.3568221,0.7978784],\"type\":\"scatter3d\"},{\"line\":{\"color\":\"black\",\"width\":2},\"mode\":\"lines\",\"showlegend\":false,\"x\":[0.7136442,0.7978784],\"y\":[0.0,-0.618034],\"z\":[0.7978784,0.3568221],\"type\":\"scatter3d\"},{\"line\":{\"color\":\"black\",\"width\":2},\"mode\":\"lines\",\"showlegend\":false,\"x\":[0.3568221,-0.7136442],\"y\":[-0.618034,0.0],\"z\":[-0.7978784,-0.7978784],\"type\":\"scatter3d\"},{\"line\":{\"color\":\"black\",\"width\":2},\"mode\":\"lines\",\"showlegend\":false,\"x\":[-0.7136442,0.0],\"y\":[0.0,0.0],\"z\":[-0.7978784,-1.070466],\"type\":\"scatter3d\"},{\"line\":{\"color\":\"black\",\"width\":2},\"mode\":\"lines\",\"showlegend\":false,\"x\":[0.0,0.3568221],\"y\":[0.0,-0.618034],\"z\":[-1.070466,-0.7978784],\"type\":\"scatter3d\"},{\"line\":{\"color\":\"black\",\"width\":2},\"mode\":\"lines\",\"showlegend\":false,\"x\":[0.0,0.3568221],\"y\":[0.0,0.618034],\"z\":[-1.070466,-0.7978784],\"type\":\"scatter3d\"},{\"line\":{\"color\":\"black\",\"width\":2},\"mode\":\"lines\",\"showlegend\":false,\"x\":[0.3568221,0.3568221],\"y\":[0.618034,-0.618034],\"z\":[-0.7978784,-0.7978784],\"type\":\"scatter3d\"},{\"line\":{\"color\":\"black\",\"width\":2},\"mode\":\"lines\",\"showlegend\":false,\"x\":[0.3568221,0.0],\"y\":[-0.618034,0.0],\"z\":[-0.7978784,-1.070466],\"type\":\"scatter3d\"},{\"line\":{\"color\":\"black\",\"width\":2},\"mode\":\"lines\",\"showlegend\":false,\"x\":[0.1362939,-0.3568221],\"y\":[-1.0,-0.618034],\"z\":[0.3568221,0.7978784],\"type\":\"scatter3d\"},{\"line\":{\"color\":\"black\",\"width\":2},\"mode\":\"lines\",\"showlegend\":false,\"x\":[-0.3568221,-0.9341724],\"y\":[-0.618034,-0.381966],\"z\":[0.7978784,0.3568221],\"type\":\"scatter3d\"},{\"line\":{\"color\":\"black\",\"width\":2},\"mode\":\"lines\",\"showlegend\":false,\"x\":[-0.9341724,0.1362939],\"y\":[-0.381966,-1.0],\"z\":[0.3568221,0.3568221],\"type\":\"scatter3d\"},{\"line\":{\"color\":\"black\",\"width\":2},\"mode\":\"lines\",\"showlegend\":false,\"x\":[-0.9341724,-0.7136442],\"y\":[0.381966,0.0],\"z\":[0.3568221,-0.7978784],\"type\":\"scatter3d\"},{\"line\":{\"color\":\"black\",\"width\":2},\"mode\":\"lines\",\"showlegend\":false,\"x\":[-0.7136442,-0.9341724],\"y\":[0.0,-0.381966],\"z\":[-0.7978784,0.3568221],\"type\":\"scatter3d\"},{\"line\":{\"color\":\"black\",\"width\":2},\"mode\":\"lines\",\"showlegend\":false,\"x\":[-0.9341724,-0.9341724],\"y\":[-0.381966,0.381966],\"z\":[0.3568221,0.3568221],\"type\":\"scatter3d\"},{\"line\":{\"color\":\"black\",\"width\":2},\"mode\":\"lines\",\"showlegend\":false,\"x\":[-0.9341724,-0.7136442],\"y\":[-0.381966,0.0],\"z\":[0.3568221,-0.7978784],\"type\":\"scatter3d\"},{\"line\":{\"color\":\"black\",\"width\":2},\"mode\":\"lines\",\"showlegend\":false,\"x\":[-0.7136442,-0.7978784],\"y\":[0.0,-0.618034],\"z\":[-0.7978784,-0.3568221],\"type\":\"scatter3d\"},{\"line\":{\"color\":\"black\",\"width\":2},\"mode\":\"lines\",\"showlegend\":false,\"x\":[-0.7978784,-0.9341724],\"y\":[-0.618034,-0.381966],\"z\":[-0.3568221,0.3568221],\"type\":\"scatter3d\"},{\"line\":{\"color\":\"black\",\"width\":2},\"mode\":\"lines\",\"showlegend\":false,\"x\":[0.7136442,-0.3568221],\"y\":[0.0,0.618034],\"z\":[0.7978784,0.7978784],\"type\":\"scatter3d\"},{\"line\":{\"color\":\"black\",\"width\":2},\"mode\":\"lines\",\"showlegend\":false,\"x\":[-0.3568221,0.0],\"y\":[0.618034,0.0],\"z\":[0.7978784,1.070466],\"type\":\"scatter3d\"},{\"line\":{\"color\":\"black\",\"width\":2},\"mode\":\"lines\",\"showlegend\":false,\"x\":[0.0,0.7136442],\"y\":[0.0,0.0],\"z\":[1.070466,0.7978784],\"type\":\"scatter3d\"},{\"line\":{\"color\":\"black\",\"width\":2},\"mode\":\"lines\",\"showlegend\":false,\"x\":[0.0,-0.3568221],\"y\":[0.0,0.618034],\"z\":[1.070466,0.7978784],\"type\":\"scatter3d\"},{\"line\":{\"color\":\"black\",\"width\":2},\"mode\":\"lines\",\"showlegend\":false,\"x\":[-0.3568221,-0.3568221],\"y\":[0.618034,-0.618034],\"z\":[0.7978784,0.7978784],\"type\":\"scatter3d\"},{\"line\":{\"color\":\"black\",\"width\":2},\"mode\":\"lines\",\"showlegend\":false,\"x\":[-0.3568221,0.0],\"y\":[-0.618034,0.0],\"z\":[0.7978784,1.070466],\"type\":\"scatter3d\"},{\"line\":{\"color\":\"black\",\"width\":2},\"mode\":\"lines\",\"showlegend\":false,\"x\":[0.0,-0.3568221],\"y\":[0.0,-0.618034],\"z\":[1.070466,0.7978784],\"type\":\"scatter3d\"},{\"line\":{\"color\":\"black\",\"width\":2},\"mode\":\"lines\",\"showlegend\":false,\"x\":[-0.3568221,0.7136442],\"y\":[-0.618034,0.0],\"z\":[0.7978784,0.7978784],\"type\":\"scatter3d\"},{\"line\":{\"color\":\"black\",\"width\":2},\"mode\":\"lines\",\"showlegend\":false,\"x\":[0.7136442,0.0],\"y\":[0.0,0.0],\"z\":[0.7978784,1.070466],\"type\":\"scatter3d\"},{\"line\":{\"color\":\"black\",\"width\":2},\"mode\":\"lines\",\"showlegend\":false,\"x\":[0.9341724,-0.1362939],\"y\":[0.381966,1.0],\"z\":[-0.3568221,-0.3568221],\"type\":\"scatter3d\"},{\"line\":{\"color\":\"black\",\"width\":2},\"mode\":\"lines\",\"showlegend\":false,\"x\":[-0.1362939,0.1362939],\"y\":[1.0,1.0],\"z\":[-0.3568221,0.3568221],\"type\":\"scatter3d\"},{\"line\":{\"color\":\"black\",\"width\":2},\"mode\":\"lines\",\"showlegend\":false,\"x\":[0.1362939,0.9341724],\"y\":[1.0,0.381966],\"z\":[0.3568221,-0.3568221],\"type\":\"scatter3d\"},{\"line\":{\"color\":\"black\",\"width\":2},\"mode\":\"lines\",\"showlegend\":false,\"x\":[0.1362939,-0.3568221],\"y\":[1.0,0.618034],\"z\":[0.3568221,0.7978784],\"type\":\"scatter3d\"},{\"line\":{\"color\":\"black\",\"width\":2},\"mode\":\"lines\",\"showlegend\":false,\"x\":[-0.3568221,0.7136442],\"y\":[0.618034,0.0],\"z\":[0.7978784,0.7978784],\"type\":\"scatter3d\"},{\"line\":{\"color\":\"black\",\"width\":2},\"mode\":\"lines\",\"showlegend\":false,\"x\":[0.7136442,0.1362939],\"y\":[0.0,1.0],\"z\":[0.7978784,0.3568221],\"type\":\"scatter3d\"},{\"line\":{\"color\":\"black\",\"width\":2},\"mode\":\"lines\",\"showlegend\":false,\"x\":[-0.9341724,-0.3568221],\"y\":[0.381966,0.618034],\"z\":[0.3568221,0.7978784],\"type\":\"scatter3d\"},{\"line\":{\"color\":\"black\",\"width\":2},\"mode\":\"lines\",\"showlegend\":false,\"x\":[-0.3568221,0.1362939],\"y\":[0.618034,1.0],\"z\":[0.7978784,0.3568221],\"type\":\"scatter3d\"},{\"line\":{\"color\":\"black\",\"width\":2},\"mode\":\"lines\",\"showlegend\":false,\"x\":[0.1362939,-0.9341724],\"y\":[1.0,0.381966],\"z\":[0.3568221,0.3568221],\"type\":\"scatter3d\"},{\"line\":{\"color\":\"black\",\"width\":2},\"mode\":\"lines\",\"showlegend\":false,\"x\":[0.1362939,-0.1362939],\"y\":[1.0,1.0],\"z\":[0.3568221,-0.3568221],\"type\":\"scatter3d\"},{\"line\":{\"color\":\"black\",\"width\":2},\"mode\":\"lines\",\"showlegend\":false,\"x\":[-0.1362939,-0.9341724],\"y\":[1.0,0.381966],\"z\":[-0.3568221,0.3568221],\"type\":\"scatter3d\"},{\"line\":{\"color\":\"black\",\"width\":2},\"mode\":\"lines\",\"showlegend\":false,\"x\":[-0.9341724,0.1362939],\"y\":[0.381966,1.0],\"z\":[0.3568221,0.3568221],\"type\":\"scatter3d\"},{\"line\":{\"color\":\"black\",\"width\":2},\"mode\":\"lines\",\"showlegend\":false,\"x\":[-0.9341724,-0.1362939],\"y\":[0.381966,1.0],\"z\":[0.3568221,-0.3568221],\"type\":\"scatter3d\"},{\"line\":{\"color\":\"black\",\"width\":2},\"mode\":\"lines\",\"showlegend\":false,\"x\":[-0.1362939,-0.7978784],\"y\":[1.0,0.618034],\"z\":[-0.3568221,-0.3568221],\"type\":\"scatter3d\"},{\"line\":{\"color\":\"black\",\"width\":2},\"mode\":\"lines\",\"showlegend\":false,\"x\":[-0.7978784,-0.9341724],\"y\":[0.618034,0.381966],\"z\":[-0.3568221,0.3568221],\"type\":\"scatter3d\"},{\"line\":{\"color\":\"black\",\"width\":2},\"mode\":\"lines\",\"showlegend\":false,\"x\":[-0.7978784,-0.7136442],\"y\":[0.618034,0.0],\"z\":[-0.3568221,-0.7978784],\"type\":\"scatter3d\"},{\"line\":{\"color\":\"black\",\"width\":2},\"mode\":\"lines\",\"showlegend\":false,\"x\":[-0.7136442,-0.9341724],\"y\":[0.0,0.381966],\"z\":[-0.7978784,0.3568221],\"type\":\"scatter3d\"},{\"line\":{\"color\":\"black\",\"width\":2},\"mode\":\"lines\",\"showlegend\":false,\"x\":[-0.9341724,-0.7978784],\"y\":[0.381966,0.618034],\"z\":[0.3568221,-0.3568221],\"type\":\"scatter3d\"},{\"line\":{\"color\":\"black\",\"width\":2},\"mode\":\"lines\",\"showlegend\":false,\"x\":[-0.1362939,-0.7136442],\"y\":[1.0,0.0],\"z\":[-0.3568221,-0.7978784],\"type\":\"scatter3d\"},{\"line\":{\"color\":\"black\",\"width\":2},\"mode\":\"lines\",\"showlegend\":false,\"x\":[-0.7136442,-0.7978784],\"y\":[0.0,0.618034],\"z\":[-0.7978784,-0.3568221],\"type\":\"scatter3d\"},{\"line\":{\"color\":\"black\",\"width\":2},\"mode\":\"lines\",\"showlegend\":false,\"x\":[-0.7978784,-0.1362939],\"y\":[0.618034,1.0],\"z\":[-0.3568221,-0.3568221],\"type\":\"scatter3d\"},{\"line\":{\"color\":\"black\",\"width\":2},\"mode\":\"lines\",\"showlegend\":false,\"x\":[-0.7978784,-0.7136442],\"y\":[-0.618034,0.0],\"z\":[-0.3568221,-0.7978784],\"type\":\"scatter3d\"},{\"line\":{\"color\":\"black\",\"width\":2},\"mode\":\"lines\",\"showlegend\":false,\"x\":[-0.7136442,-0.1362939],\"y\":[0.0,-1.0],\"z\":[-0.7978784,-0.3568221],\"type\":\"scatter3d\"},{\"line\":{\"color\":\"black\",\"width\":2},\"mode\":\"lines\",\"showlegend\":false,\"x\":[-0.1362939,-0.7978784],\"y\":[-1.0,-0.618034],\"z\":[-0.3568221,-0.3568221],\"type\":\"scatter3d\"},{\"line\":{\"color\":\"black\",\"width\":2},\"mode\":\"lines\",\"showlegend\":false,\"x\":[-0.7136442,0.3568221],\"y\":[0.0,-0.618034],\"z\":[-0.7978784,-0.7978784],\"type\":\"scatter3d\"},{\"line\":{\"color\":\"black\",\"width\":2},\"mode\":\"lines\",\"showlegend\":false,\"x\":[0.3568221,-0.1362939],\"y\":[-0.618034,-1.0],\"z\":[-0.7978784,-0.3568221],\"type\":\"scatter3d\"},{\"line\":{\"color\":\"black\",\"width\":2},\"mode\":\"lines\",\"showlegend\":false,\"x\":[-0.1362939,-0.7136442],\"y\":[-1.0,0.0],\"z\":[-0.3568221,-0.7978784],\"type\":\"scatter3d\"},{\"line\":{\"color\":\"black\",\"width\":2},\"mode\":\"lines\",\"showlegend\":false,\"x\":[0.1362939,-0.9341724],\"y\":[-1.0,-0.381966],\"z\":[0.3568221,0.3568221],\"type\":\"scatter3d\"},{\"line\":{\"color\":\"black\",\"width\":2},\"mode\":\"lines\",\"showlegend\":false,\"x\":[-0.9341724,-0.1362939],\"y\":[-0.381966,-1.0],\"z\":[0.3568221,-0.3568221],\"type\":\"scatter3d\"},{\"line\":{\"color\":\"black\",\"width\":2},\"mode\":\"lines\",\"showlegend\":false,\"x\":[-0.1362939,0.1362939],\"y\":[-1.0,-1.0],\"z\":[-0.3568221,0.3568221],\"type\":\"scatter3d\"},{\"line\":{\"color\":\"black\",\"width\":2},\"mode\":\"lines\",\"showlegend\":false,\"x\":[-0.1362939,-0.9341724],\"y\":[-1.0,-0.381966],\"z\":[-0.3568221,0.3568221],\"type\":\"scatter3d\"},{\"line\":{\"color\":\"black\",\"width\":2},\"mode\":\"lines\",\"showlegend\":false,\"x\":[-0.9341724,-0.7978784],\"y\":[-0.381966,-0.618034],\"z\":[0.3568221,-0.3568221],\"type\":\"scatter3d\"},{\"line\":{\"color\":\"black\",\"width\":2},\"mode\":\"lines\",\"showlegend\":false,\"x\":[-0.7978784,-0.1362939],\"y\":[-0.618034,-1.0],\"z\":[-0.3568221,-0.3568221],\"type\":\"scatter3d\"},{\"line\":{\"color\":\"black\",\"width\":2},\"mode\":\"lines\",\"showlegend\":false,\"x\":[-0.1362939,0.3568221],\"y\":[-1.0,-0.618034],\"z\":[-0.3568221,-0.7978784],\"type\":\"scatter3d\"},{\"line\":{\"color\":\"black\",\"width\":2},\"mode\":\"lines\",\"showlegend\":false,\"x\":[0.3568221,0.9341724],\"y\":[-0.618034,-0.381966],\"z\":[-0.7978784,-0.3568221],\"type\":\"scatter3d\"},{\"line\":{\"color\":\"black\",\"width\":2},\"mode\":\"lines\",\"showlegend\":false,\"x\":[0.9341724,-0.1362939],\"y\":[-0.381966,-1.0],\"z\":[-0.3568221,-0.3568221],\"type\":\"scatter3d\"},{\"line\":{\"color\":\"black\",\"width\":2},\"mode\":\"lines\",\"showlegend\":false,\"x\":[-0.1362939,0.9341724],\"y\":[-1.0,-0.381966],\"z\":[-0.3568221,-0.3568221],\"type\":\"scatter3d\"},{\"line\":{\"color\":\"black\",\"width\":2},\"mode\":\"lines\",\"showlegend\":false,\"x\":[0.9341724,0.1362939],\"y\":[-0.381966,-1.0],\"z\":[-0.3568221,0.3568221],\"type\":\"scatter3d\"},{\"line\":{\"color\":\"black\",\"width\":2},\"mode\":\"lines\",\"showlegend\":false,\"x\":[0.1362939,-0.1362939],\"y\":[-1.0,-1.0],\"z\":[0.3568221,-0.3568221],\"type\":\"scatter3d\"},{\"line\":{\"color\":\"black\",\"width\":2},\"mode\":\"lines\",\"showlegend\":false,\"x\":[0.7978784,0.7136442],\"y\":[0.618034,0.0],\"z\":[0.3568221,0.7978784],\"type\":\"scatter3d\"},{\"line\":{\"color\":\"black\",\"width\":2},\"mode\":\"lines\",\"showlegend\":false,\"x\":[0.7136442,0.9341724],\"y\":[0.0,0.381966],\"z\":[0.7978784,-0.3568221],\"type\":\"scatter3d\"},{\"line\":{\"color\":\"black\",\"width\":2},\"mode\":\"lines\",\"showlegend\":false,\"x\":[0.9341724,0.7978784],\"y\":[0.381966,0.618034],\"z\":[-0.3568221,0.3568221],\"type\":\"scatter3d\"},{\"line\":{\"color\":\"black\",\"width\":2},\"mode\":\"lines\",\"showlegend\":false,\"x\":[0.9341724,0.1362939],\"y\":[0.381966,1.0],\"z\":[-0.3568221,0.3568221],\"type\":\"scatter3d\"},{\"line\":{\"color\":\"black\",\"width\":2},\"mode\":\"lines\",\"showlegend\":false,\"x\":[0.1362939,0.7978784],\"y\":[1.0,0.618034],\"z\":[0.3568221,0.3568221],\"type\":\"scatter3d\"},{\"line\":{\"color\":\"black\",\"width\":2},\"mode\":\"lines\",\"showlegend\":false,\"x\":[0.7978784,0.9341724],\"y\":[0.618034,0.381966],\"z\":[0.3568221,-0.3568221],\"type\":\"scatter3d\"},{\"line\":{\"color\":\"black\",\"width\":2},\"mode\":\"lines\",\"showlegend\":false,\"x\":[0.7978784,0.1362939],\"y\":[0.618034,1.0],\"z\":[0.3568221,0.3568221],\"type\":\"scatter3d\"},{\"line\":{\"color\":\"black\",\"width\":2},\"mode\":\"lines\",\"showlegend\":false,\"x\":[0.1362939,0.7136442],\"y\":[1.0,0.0],\"z\":[0.3568221,0.7978784],\"type\":\"scatter3d\"},{\"line\":{\"color\":\"black\",\"width\":2},\"mode\":\"lines\",\"showlegend\":false,\"x\":[0.7136442,0.7978784],\"y\":[0.0,0.618034],\"z\":[0.7978784,0.3568221],\"type\":\"scatter3d\"},{\"line\":{\"color\":\"black\",\"width\":2},\"mode\":\"lines\",\"showlegend\":false,\"x\":[0.3568221,0.3568221],\"y\":[-0.618034,0.618034],\"z\":[-0.7978784,-0.7978784],\"type\":\"scatter3d\"},{\"line\":{\"color\":\"black\",\"width\":2},\"mode\":\"lines\",\"showlegend\":false,\"x\":[0.3568221,0.9341724],\"y\":[0.618034,0.381966],\"z\":[-0.7978784,-0.3568221],\"type\":\"scatter3d\"},{\"line\":{\"color\":\"black\",\"width\":2},\"mode\":\"lines\",\"showlegend\":false,\"x\":[0.9341724,0.3568221],\"y\":[0.381966,-0.618034],\"z\":[-0.3568221,-0.7978784],\"type\":\"scatter3d\"},{\"line\":{\"color\":\"black\",\"width\":2},\"mode\":\"lines\",\"showlegend\":false,\"x\":[0.9341724,0.9341724],\"y\":[0.381966,-0.381966],\"z\":[-0.3568221,-0.3568221],\"type\":\"scatter3d\"},{\"line\":{\"color\":\"black\",\"width\":2},\"mode\":\"lines\",\"showlegend\":false,\"x\":[0.9341724,0.3568221],\"y\":[-0.381966,-0.618034],\"z\":[-0.3568221,-0.7978784],\"type\":\"scatter3d\"},{\"line\":{\"color\":\"black\",\"width\":2},\"mode\":\"lines\",\"showlegend\":false,\"x\":[0.3568221,0.9341724],\"y\":[-0.618034,0.381966],\"z\":[-0.7978784,-0.3568221],\"type\":\"scatter3d\"},{\"line\":{\"color\":\"black\",\"width\":2},\"mode\":\"lines\",\"showlegend\":false,\"x\":[-0.3568221,-0.3568221],\"y\":[-0.618034,0.618034],\"z\":[0.7978784,0.7978784],\"type\":\"scatter3d\"},{\"line\":{\"color\":\"black\",\"width\":2},\"mode\":\"lines\",\"showlegend\":false,\"x\":[-0.3568221,-0.9341724],\"y\":[0.618034,-0.381966],\"z\":[0.7978784,0.3568221],\"type\":\"scatter3d\"},{\"line\":{\"color\":\"black\",\"width\":2},\"mode\":\"lines\",\"showlegend\":false,\"x\":[-0.9341724,-0.3568221],\"y\":[-0.381966,-0.618034],\"z\":[0.3568221,0.7978784],\"type\":\"scatter3d\"},{\"line\":{\"color\":\"black\",\"width\":2},\"mode\":\"lines\",\"showlegend\":false,\"x\":[-0.9341724,-0.3568221],\"y\":[-0.381966,0.618034],\"z\":[0.3568221,0.7978784],\"type\":\"scatter3d\"},{\"line\":{\"color\":\"black\",\"width\":2},\"mode\":\"lines\",\"showlegend\":false,\"x\":[-0.3568221,-0.9341724],\"y\":[0.618034,0.381966],\"z\":[0.7978784,0.3568221],\"type\":\"scatter3d\"},{\"line\":{\"color\":\"black\",\"width\":2},\"mode\":\"lines\",\"showlegend\":false,\"x\":[-0.9341724,-0.9341724],\"y\":[0.381966,-0.381966],\"z\":[0.3568221,0.3568221],\"type\":\"scatter3d\"}],                        {\"template\":{\"data\":{\"histogram2dcontour\":[{\"type\":\"histogram2dcontour\",\"colorbar\":{\"outlinewidth\":0,\"ticks\":\"\"},\"colorscale\":[[0.0,\"#0d0887\"],[0.1111111111111111,\"#46039f\"],[0.2222222222222222,\"#7201a8\"],[0.3333333333333333,\"#9c179e\"],[0.4444444444444444,\"#bd3786\"],[0.5555555555555556,\"#d8576b\"],[0.6666666666666666,\"#ed7953\"],[0.7777777777777778,\"#fb9f3a\"],[0.8888888888888888,\"#fdca26\"],[1.0,\"#f0f921\"]]}],\"choropleth\":[{\"type\":\"choropleth\",\"colorbar\":{\"outlinewidth\":0,\"ticks\":\"\"}}],\"histogram2d\":[{\"type\":\"histogram2d\",\"colorbar\":{\"outlinewidth\":0,\"ticks\":\"\"},\"colorscale\":[[0.0,\"#0d0887\"],[0.1111111111111111,\"#46039f\"],[0.2222222222222222,\"#7201a8\"],[0.3333333333333333,\"#9c179e\"],[0.4444444444444444,\"#bd3786\"],[0.5555555555555556,\"#d8576b\"],[0.6666666666666666,\"#ed7953\"],[0.7777777777777778,\"#fb9f3a\"],[0.8888888888888888,\"#fdca26\"],[1.0,\"#f0f921\"]]}],\"heatmap\":[{\"type\":\"heatmap\",\"colorbar\":{\"outlinewidth\":0,\"ticks\":\"\"},\"colorscale\":[[0.0,\"#0d0887\"],[0.1111111111111111,\"#46039f\"],[0.2222222222222222,\"#7201a8\"],[0.3333333333333333,\"#9c179e\"],[0.4444444444444444,\"#bd3786\"],[0.5555555555555556,\"#d8576b\"],[0.6666666666666666,\"#ed7953\"],[0.7777777777777778,\"#fb9f3a\"],[0.8888888888888888,\"#fdca26\"],[1.0,\"#f0f921\"]]}],\"heatmapgl\":[{\"type\":\"heatmapgl\",\"colorbar\":{\"outlinewidth\":0,\"ticks\":\"\"},\"colorscale\":[[0.0,\"#0d0887\"],[0.1111111111111111,\"#46039f\"],[0.2222222222222222,\"#7201a8\"],[0.3333333333333333,\"#9c179e\"],[0.4444444444444444,\"#bd3786\"],[0.5555555555555556,\"#d8576b\"],[0.6666666666666666,\"#ed7953\"],[0.7777777777777778,\"#fb9f3a\"],[0.8888888888888888,\"#fdca26\"],[1.0,\"#f0f921\"]]}],\"contourcarpet\":[{\"type\":\"contourcarpet\",\"colorbar\":{\"outlinewidth\":0,\"ticks\":\"\"}}],\"contour\":[{\"type\":\"contour\",\"colorbar\":{\"outlinewidth\":0,\"ticks\":\"\"},\"colorscale\":[[0.0,\"#0d0887\"],[0.1111111111111111,\"#46039f\"],[0.2222222222222222,\"#7201a8\"],[0.3333333333333333,\"#9c179e\"],[0.4444444444444444,\"#bd3786\"],[0.5555555555555556,\"#d8576b\"],[0.6666666666666666,\"#ed7953\"],[0.7777777777777778,\"#fb9f3a\"],[0.8888888888888888,\"#fdca26\"],[1.0,\"#f0f921\"]]}],\"surface\":[{\"type\":\"surface\",\"colorbar\":{\"outlinewidth\":0,\"ticks\":\"\"},\"colorscale\":[[0.0,\"#0d0887\"],[0.1111111111111111,\"#46039f\"],[0.2222222222222222,\"#7201a8\"],[0.3333333333333333,\"#9c179e\"],[0.4444444444444444,\"#bd3786\"],[0.5555555555555556,\"#d8576b\"],[0.6666666666666666,\"#ed7953\"],[0.7777777777777778,\"#fb9f3a\"],[0.8888888888888888,\"#fdca26\"],[1.0,\"#f0f921\"]]}],\"mesh3d\":[{\"type\":\"mesh3d\",\"colorbar\":{\"outlinewidth\":0,\"ticks\":\"\"}}],\"scatter\":[{\"fillpattern\":{\"fillmode\":\"overlay\",\"size\":10,\"solidity\":0.2},\"type\":\"scatter\"}],\"parcoords\":[{\"type\":\"parcoords\",\"line\":{\"colorbar\":{\"outlinewidth\":0,\"ticks\":\"\"}}}],\"scatterpolargl\":[{\"type\":\"scatterpolargl\",\"marker\":{\"colorbar\":{\"outlinewidth\":0,\"ticks\":\"\"}}}],\"bar\":[{\"error_x\":{\"color\":\"#2a3f5f\"},\"error_y\":{\"color\":\"#2a3f5f\"},\"marker\":{\"line\":{\"color\":\"#E5ECF6\",\"width\":0.5},\"pattern\":{\"fillmode\":\"overlay\",\"size\":10,\"solidity\":0.2}},\"type\":\"bar\"}],\"scattergeo\":[{\"type\":\"scattergeo\",\"marker\":{\"colorbar\":{\"outlinewidth\":0,\"ticks\":\"\"}}}],\"scatterpolar\":[{\"type\":\"scatterpolar\",\"marker\":{\"colorbar\":{\"outlinewidth\":0,\"ticks\":\"\"}}}],\"histogram\":[{\"marker\":{\"pattern\":{\"fillmode\":\"overlay\",\"size\":10,\"solidity\":0.2}},\"type\":\"histogram\"}],\"scattergl\":[{\"type\":\"scattergl\",\"marker\":{\"colorbar\":{\"outlinewidth\":0,\"ticks\":\"\"}}}],\"scatter3d\":[{\"type\":\"scatter3d\",\"line\":{\"colorbar\":{\"outlinewidth\":0,\"ticks\":\"\"}},\"marker\":{\"colorbar\":{\"outlinewidth\":0,\"ticks\":\"\"}}}],\"scattermapbox\":[{\"type\":\"scattermapbox\",\"marker\":{\"colorbar\":{\"outlinewidth\":0,\"ticks\":\"\"}}}],\"scatterternary\":[{\"type\":\"scatterternary\",\"marker\":{\"colorbar\":{\"outlinewidth\":0,\"ticks\":\"\"}}}],\"scattercarpet\":[{\"type\":\"scattercarpet\",\"marker\":{\"colorbar\":{\"outlinewidth\":0,\"ticks\":\"\"}}}],\"carpet\":[{\"aaxis\":{\"endlinecolor\":\"#2a3f5f\",\"gridcolor\":\"white\",\"linecolor\":\"white\",\"minorgridcolor\":\"white\",\"startlinecolor\":\"#2a3f5f\"},\"baxis\":{\"endlinecolor\":\"#2a3f5f\",\"gridcolor\":\"white\",\"linecolor\":\"white\",\"minorgridcolor\":\"white\",\"startlinecolor\":\"#2a3f5f\"},\"type\":\"carpet\"}],\"table\":[{\"cells\":{\"fill\":{\"color\":\"#EBF0F8\"},\"line\":{\"color\":\"white\"}},\"header\":{\"fill\":{\"color\":\"#C8D4E3\"},\"line\":{\"color\":\"white\"}},\"type\":\"table\"}],\"barpolar\":[{\"marker\":{\"line\":{\"color\":\"#E5ECF6\",\"width\":0.5},\"pattern\":{\"fillmode\":\"overlay\",\"size\":10,\"solidity\":0.2}},\"type\":\"barpolar\"}],\"pie\":[{\"automargin\":true,\"type\":\"pie\"}]},\"layout\":{\"autotypenumbers\":\"strict\",\"colorway\":[\"#636efa\",\"#EF553B\",\"#00cc96\",\"#ab63fa\",\"#FFA15A\",\"#19d3f3\",\"#FF6692\",\"#B6E880\",\"#FF97FF\",\"#FECB52\"],\"font\":{\"color\":\"#2a3f5f\"},\"hovermode\":\"closest\",\"hoverlabel\":{\"align\":\"left\"},\"paper_bgcolor\":\"white\",\"plot_bgcolor\":\"#E5ECF6\",\"polar\":{\"bgcolor\":\"#E5ECF6\",\"angularaxis\":{\"gridcolor\":\"white\",\"linecolor\":\"white\",\"ticks\":\"\"},\"radialaxis\":{\"gridcolor\":\"white\",\"linecolor\":\"white\",\"ticks\":\"\"}},\"ternary\":{\"bgcolor\":\"#E5ECF6\",\"aaxis\":{\"gridcolor\":\"white\",\"linecolor\":\"white\",\"ticks\":\"\"},\"baxis\":{\"gridcolor\":\"white\",\"linecolor\":\"white\",\"ticks\":\"\"},\"caxis\":{\"gridcolor\":\"white\",\"linecolor\":\"white\",\"ticks\":\"\"}},\"coloraxis\":{\"colorbar\":{\"outlinewidth\":0,\"ticks\":\"\"}},\"colorscale\":{\"sequential\":[[0.0,\"#0d0887\"],[0.1111111111111111,\"#46039f\"],[0.2222222222222222,\"#7201a8\"],[0.3333333333333333,\"#9c179e\"],[0.4444444444444444,\"#bd3786\"],[0.5555555555555556,\"#d8576b\"],[0.6666666666666666,\"#ed7953\"],[0.7777777777777778,\"#fb9f3a\"],[0.8888888888888888,\"#fdca26\"],[1.0,\"#f0f921\"]],\"sequentialminus\":[[0.0,\"#0d0887\"],[0.1111111111111111,\"#46039f\"],[0.2222222222222222,\"#7201a8\"],[0.3333333333333333,\"#9c179e\"],[0.4444444444444444,\"#bd3786\"],[0.5555555555555556,\"#d8576b\"],[0.6666666666666666,\"#ed7953\"],[0.7777777777777778,\"#fb9f3a\"],[0.8888888888888888,\"#fdca26\"],[1.0,\"#f0f921\"]],\"diverging\":[[0,\"#8e0152\"],[0.1,\"#c51b7d\"],[0.2,\"#de77ae\"],[0.3,\"#f1b6da\"],[0.4,\"#fde0ef\"],[0.5,\"#f7f7f7\"],[0.6,\"#e6f5d0\"],[0.7,\"#b8e186\"],[0.8,\"#7fbc41\"],[0.9,\"#4d9221\"],[1,\"#276419\"]]},\"xaxis\":{\"gridcolor\":\"white\",\"linecolor\":\"white\",\"ticks\":\"\",\"title\":{\"standoff\":15},\"zerolinecolor\":\"white\",\"automargin\":true,\"zerolinewidth\":2},\"yaxis\":{\"gridcolor\":\"white\",\"linecolor\":\"white\",\"ticks\":\"\",\"title\":{\"standoff\":15},\"zerolinecolor\":\"white\",\"automargin\":true,\"zerolinewidth\":2},\"scene\":{\"xaxis\":{\"backgroundcolor\":\"#E5ECF6\",\"gridcolor\":\"white\",\"linecolor\":\"white\",\"showbackground\":true,\"ticks\":\"\",\"zerolinecolor\":\"white\",\"gridwidth\":2},\"yaxis\":{\"backgroundcolor\":\"#E5ECF6\",\"gridcolor\":\"white\",\"linecolor\":\"white\",\"showbackground\":true,\"ticks\":\"\",\"zerolinecolor\":\"white\",\"gridwidth\":2},\"zaxis\":{\"backgroundcolor\":\"#E5ECF6\",\"gridcolor\":\"white\",\"linecolor\":\"white\",\"showbackground\":true,\"ticks\":\"\",\"zerolinecolor\":\"white\",\"gridwidth\":2}},\"shapedefaults\":{\"line\":{\"color\":\"#2a3f5f\"}},\"annotationdefaults\":{\"arrowcolor\":\"#2a3f5f\",\"arrowhead\":0,\"arrowwidth\":1},\"geo\":{\"bgcolor\":\"white\",\"landcolor\":\"#E5ECF6\",\"subunitcolor\":\"white\",\"showland\":true,\"showlakes\":true,\"lakecolor\":\"white\"},\"title\":{\"x\":0.05},\"mapbox\":{\"style\":\"light\"}}},\"scene\":{\"aspectmode\":\"data\"},\"margin\":{\"l\":0,\"r\":0,\"b\":0,\"t\":30},\"title\":{\"text\":\"Interior 3\"}},                        {\"responsive\": true}                    ).then(function(){\n",
              "                            \n",
              "var gd = document.getElementById('6b7184ca-90a7-41d8-ac08-5d6e73cae8da');\n",
              "var x = new MutationObserver(function (mutations, observer) {{\n",
              "        var display = window.getComputedStyle(gd).display;\n",
              "        if (!display || display === 'none') {{\n",
              "            console.log([gd, 'removed!']);\n",
              "            Plotly.purge(gd);\n",
              "            observer.disconnect();\n",
              "        }}\n",
              "}});\n",
              "\n",
              "// Listen for the removal of the full notebook cells\n",
              "var notebookContainer = gd.closest('#notebook-container');\n",
              "if (notebookContainer) {{\n",
              "    x.observe(notebookContainer, {childList: true});\n",
              "}}\n",
              "\n",
              "// Listen for the clearing of the current output cell\n",
              "var outputEl = gd.closest('.output');\n",
              "if (outputEl) {{\n",
              "    x.observe(outputEl, {childList: true});\n",
              "}}\n",
              "\n",
              "                        })                };                            </script>        </div>\n",
              "</body>\n",
              "</html>"
            ]
          },
          "metadata": {}
        }
      ],
      "source": [
        "\n",
        "visualizar_transparente_con_bordes(triang_3, \"Interior 3\")"
      ]
    },
    {
      "cell_type": "markdown",
      "metadata": {
        "id": "l_pB7AhVLbRS"
      },
      "source": [
        "**Tetrahedralizar y visualizar**"
      ]
    },
    {
      "cell_type": "code",
      "execution_count": null,
      "metadata": {
        "colab": {
          "base_uri": "https://localhost:8080/",
          "height": 542
        },
        "id": "s2UvO3QAGcyw",
        "outputId": "ca1e5397-3932-45e2-d726-30d18f5aa7cd"
      },
      "outputs": [
        {
          "output_type": "display_data",
          "data": {
            "text/html": [
              "<html>\n",
              "<head><meta charset=\"utf-8\" /></head>\n",
              "<body>\n",
              "    <div>            <script src=\"https://cdnjs.cloudflare.com/ajax/libs/mathjax/2.7.5/MathJax.js?config=TeX-AMS-MML_SVG\"></script><script type=\"text/javascript\">if (window.MathJax && window.MathJax.Hub && window.MathJax.Hub.Config) {window.MathJax.Hub.Config({SVG: {font: \"STIX-Web\"}});}</script>                <script type=\"text/javascript\">window.PlotlyConfig = {MathJaxConfig: 'local'};</script>\n",
              "        <script charset=\"utf-8\" src=\"https://cdn.plot.ly/plotly-2.35.2.min.js\"></script>                <div id=\"4165e4d1-559e-46a3-a33c-683cb6250441\" class=\"plotly-graph-div\" style=\"height:525px; width:100%;\"></div>            <script type=\"text/javascript\">                                    window.PLOTLYENV=window.PLOTLYENV || {};                                    if (document.getElementById(\"4165e4d1-559e-46a3-a33c-683cb6250441\")) {                    Plotly.newPlot(                        \"4165e4d1-559e-46a3-a33c-683cb6250441\",                        [{\"color\":\"lightblue\",\"i\":[0,0,0,1,1,1,1,1,1,1,2,2,3,3,7,4,10,10,10,10,8,9,9,11,11,6,6,5,5,13,12,15,15,17,17,18],\"j\":[1,3,2,4,5,6,7,8,9,3,10,8,10,11,6,9,12,8,13,14,6,15,11,16,14,17,5,15,18,12,17,14,16,19,18,14],\"k\":[2,1,3,5,6,7,8,2,4,9,3,10,11,9,8,5,13,12,14,11,12,5,15,15,16,12,17,18,17,14,14,18,14,14,19,19],\"name\":\"Poliedro\",\"opacity\":0.3,\"x\":[0.0,0.7136442,-0.3568221,-0.3568221,0.7978784,0.9341724,0.9341724,0.7978784,0.1362939,0.1362939,-0.9341724,-0.9341724,-0.1362939,-0.7978784,-0.7136442,-0.1362939,-0.7978784,0.3568221,0.3568221,0.0],\"y\":[0.0,0.0,0.618034,-0.618034,-0.618034,-0.381966,0.381966,0.618034,1.0,-1.0,0.381966,-0.381966,1.0,0.618034,0.0,-1.0,-0.618034,0.618034,-0.618034,0.0],\"z\":[1.070466,0.7978784,0.7978784,0.7978784,0.3568221,-0.3568221,-0.3568221,0.3568221,0.3568221,0.3568221,0.3568221,0.3568221,-0.3568221,-0.3568221,-0.7978784,-0.3568221,-0.3568221,-0.7978784,-0.7978784,-1.070466],\"type\":\"mesh3d\"},{\"line\":{\"color\":\"black\",\"width\":2},\"mode\":\"lines\",\"showlegend\":false,\"x\":[0.0,0.7136442],\"y\":[0.0,0.0],\"z\":[1.070466,0.7978784],\"type\":\"scatter3d\"},{\"line\":{\"color\":\"black\",\"width\":2},\"mode\":\"lines\",\"showlegend\":false,\"x\":[0.7136442,-0.3568221],\"y\":[0.0,0.618034],\"z\":[0.7978784,0.7978784],\"type\":\"scatter3d\"},{\"line\":{\"color\":\"black\",\"width\":2},\"mode\":\"lines\",\"showlegend\":false,\"x\":[-0.3568221,0.0],\"y\":[0.618034,0.0],\"z\":[0.7978784,1.070466],\"type\":\"scatter3d\"},{\"line\":{\"color\":\"black\",\"width\":2},\"mode\":\"lines\",\"showlegend\":false,\"x\":[0.0,-0.3568221],\"y\":[0.0,-0.618034],\"z\":[1.070466,0.7978784],\"type\":\"scatter3d\"},{\"line\":{\"color\":\"black\",\"width\":2},\"mode\":\"lines\",\"showlegend\":false,\"x\":[-0.3568221,0.7136442],\"y\":[-0.618034,0.0],\"z\":[0.7978784,0.7978784],\"type\":\"scatter3d\"},{\"line\":{\"color\":\"black\",\"width\":2},\"mode\":\"lines\",\"showlegend\":false,\"x\":[0.7136442,0.0],\"y\":[0.0,0.0],\"z\":[0.7978784,1.070466],\"type\":\"scatter3d\"},{\"line\":{\"color\":\"black\",\"width\":2},\"mode\":\"lines\",\"showlegend\":false,\"x\":[0.0,-0.3568221],\"y\":[0.0,0.618034],\"z\":[1.070466,0.7978784],\"type\":\"scatter3d\"},{\"line\":{\"color\":\"black\",\"width\":2},\"mode\":\"lines\",\"showlegend\":false,\"x\":[-0.3568221,-0.3568221],\"y\":[0.618034,-0.618034],\"z\":[0.7978784,0.7978784],\"type\":\"scatter3d\"},{\"line\":{\"color\":\"black\",\"width\":2},\"mode\":\"lines\",\"showlegend\":false,\"x\":[-0.3568221,0.0],\"y\":[-0.618034,0.0],\"z\":[0.7978784,1.070466],\"type\":\"scatter3d\"},{\"line\":{\"color\":\"black\",\"width\":2},\"mode\":\"lines\",\"showlegend\":false,\"x\":[0.7136442,0.7978784],\"y\":[0.0,-0.618034],\"z\":[0.7978784,0.3568221],\"type\":\"scatter3d\"},{\"line\":{\"color\":\"black\",\"width\":2},\"mode\":\"lines\",\"showlegend\":false,\"x\":[0.7978784,0.9341724],\"y\":[-0.618034,-0.381966],\"z\":[0.3568221,-0.3568221],\"type\":\"scatter3d\"},{\"line\":{\"color\":\"black\",\"width\":2},\"mode\":\"lines\",\"showlegend\":false,\"x\":[0.9341724,0.7136442],\"y\":[-0.381966,0.0],\"z\":[-0.3568221,0.7978784],\"type\":\"scatter3d\"},{\"line\":{\"color\":\"black\",\"width\":2},\"mode\":\"lines\",\"showlegend\":false,\"x\":[0.7136442,0.9341724],\"y\":[0.0,-0.381966],\"z\":[0.7978784,-0.3568221],\"type\":\"scatter3d\"},{\"line\":{\"color\":\"black\",\"width\":2},\"mode\":\"lines\",\"showlegend\":false,\"x\":[0.9341724,0.9341724],\"y\":[-0.381966,0.381966],\"z\":[-0.3568221,-0.3568221],\"type\":\"scatter3d\"},{\"line\":{\"color\":\"black\",\"width\":2},\"mode\":\"lines\",\"showlegend\":false,\"x\":[0.9341724,0.7136442],\"y\":[0.381966,0.0],\"z\":[-0.3568221,0.7978784],\"type\":\"scatter3d\"},{\"line\":{\"color\":\"black\",\"width\":2},\"mode\":\"lines\",\"showlegend\":false,\"x\":[0.7136442,0.9341724],\"y\":[0.0,0.381966],\"z\":[0.7978784,-0.3568221],\"type\":\"scatter3d\"},{\"line\":{\"color\":\"black\",\"width\":2},\"mode\":\"lines\",\"showlegend\":false,\"x\":[0.9341724,0.7978784],\"y\":[0.381966,0.618034],\"z\":[-0.3568221,0.3568221],\"type\":\"scatter3d\"},{\"line\":{\"color\":\"black\",\"width\":2},\"mode\":\"lines\",\"showlegend\":false,\"x\":[0.7978784,0.7136442],\"y\":[0.618034,0.0],\"z\":[0.3568221,0.7978784],\"type\":\"scatter3d\"},{\"line\":{\"color\":\"black\",\"width\":2},\"mode\":\"lines\",\"showlegend\":false,\"x\":[0.7136442,0.7978784],\"y\":[0.0,0.618034],\"z\":[0.7978784,0.3568221],\"type\":\"scatter3d\"},{\"line\":{\"color\":\"black\",\"width\":2},\"mode\":\"lines\",\"showlegend\":false,\"x\":[0.7978784,0.1362939],\"y\":[0.618034,1.0],\"z\":[0.3568221,0.3568221],\"type\":\"scatter3d\"},{\"line\":{\"color\":\"black\",\"width\":2},\"mode\":\"lines\",\"showlegend\":false,\"x\":[0.1362939,0.7136442],\"y\":[1.0,0.0],\"z\":[0.3568221,0.7978784],\"type\":\"scatter3d\"},{\"line\":{\"color\":\"black\",\"width\":2},\"mode\":\"lines\",\"showlegend\":false,\"x\":[0.7136442,0.1362939],\"y\":[0.0,1.0],\"z\":[0.7978784,0.3568221],\"type\":\"scatter3d\"},{\"line\":{\"color\":\"black\",\"width\":2},\"mode\":\"lines\",\"showlegend\":false,\"x\":[0.1362939,-0.3568221],\"y\":[1.0,0.618034],\"z\":[0.3568221,0.7978784],\"type\":\"scatter3d\"},{\"line\":{\"color\":\"black\",\"width\":2},\"mode\":\"lines\",\"showlegend\":false,\"x\":[-0.3568221,0.7136442],\"y\":[0.618034,0.0],\"z\":[0.7978784,0.7978784],\"type\":\"scatter3d\"},{\"line\":{\"color\":\"black\",\"width\":2},\"mode\":\"lines\",\"showlegend\":false,\"x\":[0.7136442,0.1362939],\"y\":[0.0,-1.0],\"z\":[0.7978784,0.3568221],\"type\":\"scatter3d\"},{\"line\":{\"color\":\"black\",\"width\":2},\"mode\":\"lines\",\"showlegend\":false,\"x\":[0.1362939,0.7978784],\"y\":[-1.0,-0.618034],\"z\":[0.3568221,0.3568221],\"type\":\"scatter3d\"},{\"line\":{\"color\":\"black\",\"width\":2},\"mode\":\"lines\",\"showlegend\":false,\"x\":[0.7978784,0.7136442],\"y\":[-0.618034,0.0],\"z\":[0.3568221,0.7978784],\"type\":\"scatter3d\"},{\"line\":{\"color\":\"black\",\"width\":2},\"mode\":\"lines\",\"showlegend\":false,\"x\":[0.7136442,-0.3568221],\"y\":[0.0,-0.618034],\"z\":[0.7978784,0.7978784],\"type\":\"scatter3d\"},{\"line\":{\"color\":\"black\",\"width\":2},\"mode\":\"lines\",\"showlegend\":false,\"x\":[-0.3568221,0.1362939],\"y\":[-0.618034,-1.0],\"z\":[0.7978784,0.3568221],\"type\":\"scatter3d\"},{\"line\":{\"color\":\"black\",\"width\":2},\"mode\":\"lines\",\"showlegend\":false,\"x\":[0.1362939,0.7136442],\"y\":[-1.0,0.0],\"z\":[0.3568221,0.7978784],\"type\":\"scatter3d\"},{\"line\":{\"color\":\"black\",\"width\":2},\"mode\":\"lines\",\"showlegend\":false,\"x\":[-0.3568221,-0.9341724],\"y\":[0.618034,0.381966],\"z\":[0.7978784,0.3568221],\"type\":\"scatter3d\"},{\"line\":{\"color\":\"black\",\"width\":2},\"mode\":\"lines\",\"showlegend\":false,\"x\":[-0.9341724,-0.3568221],\"y\":[0.381966,-0.618034],\"z\":[0.3568221,0.7978784],\"type\":\"scatter3d\"},{\"line\":{\"color\":\"black\",\"width\":2},\"mode\":\"lines\",\"showlegend\":false,\"x\":[-0.3568221,-0.3568221],\"y\":[-0.618034,0.618034],\"z\":[0.7978784,0.7978784],\"type\":\"scatter3d\"},{\"line\":{\"color\":\"black\",\"width\":2},\"mode\":\"lines\",\"showlegend\":false,\"x\":[-0.3568221,0.1362939],\"y\":[0.618034,1.0],\"z\":[0.7978784,0.3568221],\"type\":\"scatter3d\"},{\"line\":{\"color\":\"black\",\"width\":2},\"mode\":\"lines\",\"showlegend\":false,\"x\":[0.1362939,-0.9341724],\"y\":[1.0,0.381966],\"z\":[0.3568221,0.3568221],\"type\":\"scatter3d\"},{\"line\":{\"color\":\"black\",\"width\":2},\"mode\":\"lines\",\"showlegend\":false,\"x\":[-0.9341724,-0.3568221],\"y\":[0.381966,0.618034],\"z\":[0.3568221,0.7978784],\"type\":\"scatter3d\"},{\"line\":{\"color\":\"black\",\"width\":2},\"mode\":\"lines\",\"showlegend\":false,\"x\":[-0.3568221,-0.9341724],\"y\":[-0.618034,0.381966],\"z\":[0.7978784,0.3568221],\"type\":\"scatter3d\"},{\"line\":{\"color\":\"black\",\"width\":2},\"mode\":\"lines\",\"showlegend\":false,\"x\":[-0.9341724,-0.9341724],\"y\":[0.381966,-0.381966],\"z\":[0.3568221,0.3568221],\"type\":\"scatter3d\"},{\"line\":{\"color\":\"black\",\"width\":2},\"mode\":\"lines\",\"showlegend\":false,\"x\":[-0.9341724,-0.3568221],\"y\":[-0.381966,-0.618034],\"z\":[0.3568221,0.7978784],\"type\":\"scatter3d\"},{\"line\":{\"color\":\"black\",\"width\":2},\"mode\":\"lines\",\"showlegend\":false,\"x\":[-0.3568221,-0.9341724],\"y\":[-0.618034,-0.381966],\"z\":[0.7978784,0.3568221],\"type\":\"scatter3d\"},{\"line\":{\"color\":\"black\",\"width\":2},\"mode\":\"lines\",\"showlegend\":false,\"x\":[-0.9341724,0.1362939],\"y\":[-0.381966,-1.0],\"z\":[0.3568221,0.3568221],\"type\":\"scatter3d\"},{\"line\":{\"color\":\"black\",\"width\":2},\"mode\":\"lines\",\"showlegend\":false,\"x\":[0.1362939,-0.3568221],\"y\":[-1.0,-0.618034],\"z\":[0.3568221,0.7978784],\"type\":\"scatter3d\"},{\"line\":{\"color\":\"black\",\"width\":2},\"mode\":\"lines\",\"showlegend\":false,\"x\":[0.7978784,0.9341724],\"y\":[0.618034,0.381966],\"z\":[0.3568221,-0.3568221],\"type\":\"scatter3d\"},{\"line\":{\"color\":\"black\",\"width\":2},\"mode\":\"lines\",\"showlegend\":false,\"x\":[0.9341724,0.1362939],\"y\":[0.381966,1.0],\"z\":[-0.3568221,0.3568221],\"type\":\"scatter3d\"},{\"line\":{\"color\":\"black\",\"width\":2},\"mode\":\"lines\",\"showlegend\":false,\"x\":[0.1362939,0.7978784],\"y\":[1.0,0.618034],\"z\":[0.3568221,0.3568221],\"type\":\"scatter3d\"},{\"line\":{\"color\":\"black\",\"width\":2},\"mode\":\"lines\",\"showlegend\":false,\"x\":[0.7978784,0.1362939],\"y\":[-0.618034,-1.0],\"z\":[0.3568221,0.3568221],\"type\":\"scatter3d\"},{\"line\":{\"color\":\"black\",\"width\":2},\"mode\":\"lines\",\"showlegend\":false,\"x\":[0.1362939,0.9341724],\"y\":[-1.0,-0.381966],\"z\":[0.3568221,-0.3568221],\"type\":\"scatter3d\"},{\"line\":{\"color\":\"black\",\"width\":2},\"mode\":\"lines\",\"showlegend\":false,\"x\":[0.9341724,0.7978784],\"y\":[-0.381966,-0.618034],\"z\":[-0.3568221,0.3568221],\"type\":\"scatter3d\"},{\"line\":{\"color\":\"black\",\"width\":2},\"mode\":\"lines\",\"showlegend\":false,\"x\":[-0.9341724,-0.1362939],\"y\":[0.381966,1.0],\"z\":[0.3568221,-0.3568221],\"type\":\"scatter3d\"},{\"line\":{\"color\":\"black\",\"width\":2},\"mode\":\"lines\",\"showlegend\":false,\"x\":[-0.1362939,-0.7978784],\"y\":[1.0,0.618034],\"z\":[-0.3568221,-0.3568221],\"type\":\"scatter3d\"},{\"line\":{\"color\":\"black\",\"width\":2},\"mode\":\"lines\",\"showlegend\":false,\"x\":[-0.7978784,-0.9341724],\"y\":[0.618034,0.381966],\"z\":[-0.3568221,0.3568221],\"type\":\"scatter3d\"},{\"line\":{\"color\":\"black\",\"width\":2},\"mode\":\"lines\",\"showlegend\":false,\"x\":[-0.9341724,0.1362939],\"y\":[0.381966,1.0],\"z\":[0.3568221,0.3568221],\"type\":\"scatter3d\"},{\"line\":{\"color\":\"black\",\"width\":2},\"mode\":\"lines\",\"showlegend\":false,\"x\":[0.1362939,-0.1362939],\"y\":[1.0,1.0],\"z\":[0.3568221,-0.3568221],\"type\":\"scatter3d\"},{\"line\":{\"color\":\"black\",\"width\":2},\"mode\":\"lines\",\"showlegend\":false,\"x\":[-0.1362939,-0.9341724],\"y\":[1.0,0.381966],\"z\":[-0.3568221,0.3568221],\"type\":\"scatter3d\"},{\"line\":{\"color\":\"black\",\"width\":2},\"mode\":\"lines\",\"showlegend\":false,\"x\":[-0.9341724,-0.7978784],\"y\":[0.381966,0.618034],\"z\":[0.3568221,-0.3568221],\"type\":\"scatter3d\"},{\"line\":{\"color\":\"black\",\"width\":2},\"mode\":\"lines\",\"showlegend\":false,\"x\":[-0.7978784,-0.7136442],\"y\":[0.618034,0.0],\"z\":[-0.3568221,-0.7978784],\"type\":\"scatter3d\"},{\"line\":{\"color\":\"black\",\"width\":2},\"mode\":\"lines\",\"showlegend\":false,\"x\":[-0.7136442,-0.9341724],\"y\":[0.0,0.381966],\"z\":[-0.7978784,0.3568221],\"type\":\"scatter3d\"},{\"line\":{\"color\":\"black\",\"width\":2},\"mode\":\"lines\",\"showlegend\":false,\"x\":[-0.9341724,-0.7136442],\"y\":[0.381966,0.0],\"z\":[0.3568221,-0.7978784],\"type\":\"scatter3d\"},{\"line\":{\"color\":\"black\",\"width\":2},\"mode\":\"lines\",\"showlegend\":false,\"x\":[-0.7136442,-0.9341724],\"y\":[0.0,-0.381966],\"z\":[-0.7978784,0.3568221],\"type\":\"scatter3d\"},{\"line\":{\"color\":\"black\",\"width\":2},\"mode\":\"lines\",\"showlegend\":false,\"x\":[-0.9341724,-0.9341724],\"y\":[-0.381966,0.381966],\"z\":[0.3568221,0.3568221],\"type\":\"scatter3d\"},{\"line\":{\"color\":\"black\",\"width\":2},\"mode\":\"lines\",\"showlegend\":false,\"x\":[0.1362939,0.9341724],\"y\":[1.0,0.381966],\"z\":[0.3568221,-0.3568221],\"type\":\"scatter3d\"},{\"line\":{\"color\":\"black\",\"width\":2},\"mode\":\"lines\",\"showlegend\":false,\"x\":[0.9341724,-0.1362939],\"y\":[0.381966,1.0],\"z\":[-0.3568221,-0.3568221],\"type\":\"scatter3d\"},{\"line\":{\"color\":\"black\",\"width\":2},\"mode\":\"lines\",\"showlegend\":false,\"x\":[-0.1362939,0.1362939],\"y\":[1.0,1.0],\"z\":[-0.3568221,0.3568221],\"type\":\"scatter3d\"},{\"line\":{\"color\":\"black\",\"width\":2},\"mode\":\"lines\",\"showlegend\":false,\"x\":[0.1362939,-0.1362939],\"y\":[-1.0,-1.0],\"z\":[0.3568221,-0.3568221],\"type\":\"scatter3d\"},{\"line\":{\"color\":\"black\",\"width\":2},\"mode\":\"lines\",\"showlegend\":false,\"x\":[-0.1362939,0.9341724],\"y\":[-1.0,-0.381966],\"z\":[-0.3568221,-0.3568221],\"type\":\"scatter3d\"},{\"line\":{\"color\":\"black\",\"width\":2},\"mode\":\"lines\",\"showlegend\":false,\"x\":[0.9341724,0.1362939],\"y\":[-0.381966,-1.0],\"z\":[-0.3568221,0.3568221],\"type\":\"scatter3d\"},{\"line\":{\"color\":\"black\",\"width\":2},\"mode\":\"lines\",\"showlegend\":false,\"x\":[0.1362939,-0.9341724],\"y\":[-1.0,-0.381966],\"z\":[0.3568221,0.3568221],\"type\":\"scatter3d\"},{\"line\":{\"color\":\"black\",\"width\":2},\"mode\":\"lines\",\"showlegend\":false,\"x\":[-0.9341724,-0.1362939],\"y\":[-0.381966,-1.0],\"z\":[0.3568221,-0.3568221],\"type\":\"scatter3d\"},{\"line\":{\"color\":\"black\",\"width\":2},\"mode\":\"lines\",\"showlegend\":false,\"x\":[-0.1362939,0.1362939],\"y\":[-1.0,-1.0],\"z\":[-0.3568221,0.3568221],\"type\":\"scatter3d\"},{\"line\":{\"color\":\"black\",\"width\":2},\"mode\":\"lines\",\"showlegend\":false,\"x\":[-0.9341724,-0.7978784],\"y\":[-0.381966,-0.618034],\"z\":[0.3568221,-0.3568221],\"type\":\"scatter3d\"},{\"line\":{\"color\":\"black\",\"width\":2},\"mode\":\"lines\",\"showlegend\":false,\"x\":[-0.7978784,-0.1362939],\"y\":[-0.618034,-1.0],\"z\":[-0.3568221,-0.3568221],\"type\":\"scatter3d\"},{\"line\":{\"color\":\"black\",\"width\":2},\"mode\":\"lines\",\"showlegend\":false,\"x\":[-0.1362939,-0.9341724],\"y\":[-1.0,-0.381966],\"z\":[-0.3568221,0.3568221],\"type\":\"scatter3d\"},{\"line\":{\"color\":\"black\",\"width\":2},\"mode\":\"lines\",\"showlegend\":false,\"x\":[-0.9341724,-0.7136442],\"y\":[-0.381966,0.0],\"z\":[0.3568221,-0.7978784],\"type\":\"scatter3d\"},{\"line\":{\"color\":\"black\",\"width\":2},\"mode\":\"lines\",\"showlegend\":false,\"x\":[-0.7136442,-0.7978784],\"y\":[0.0,-0.618034],\"z\":[-0.7978784,-0.3568221],\"type\":\"scatter3d\"},{\"line\":{\"color\":\"black\",\"width\":2},\"mode\":\"lines\",\"showlegend\":false,\"x\":[-0.7978784,-0.9341724],\"y\":[-0.618034,-0.381966],\"z\":[-0.3568221,0.3568221],\"type\":\"scatter3d\"},{\"line\":{\"color\":\"black\",\"width\":2},\"mode\":\"lines\",\"showlegend\":false,\"x\":[0.9341724,0.3568221],\"y\":[0.381966,0.618034],\"z\":[-0.3568221,-0.7978784],\"type\":\"scatter3d\"},{\"line\":{\"color\":\"black\",\"width\":2},\"mode\":\"lines\",\"showlegend\":false,\"x\":[0.3568221,-0.1362939],\"y\":[0.618034,1.0],\"z\":[-0.7978784,-0.3568221],\"type\":\"scatter3d\"},{\"line\":{\"color\":\"black\",\"width\":2},\"mode\":\"lines\",\"showlegend\":false,\"x\":[-0.1362939,0.9341724],\"y\":[1.0,0.381966],\"z\":[-0.3568221,-0.3568221],\"type\":\"scatter3d\"},{\"line\":{\"color\":\"black\",\"width\":2},\"mode\":\"lines\",\"showlegend\":false,\"x\":[0.9341724,0.9341724],\"y\":[0.381966,-0.381966],\"z\":[-0.3568221,-0.3568221],\"type\":\"scatter3d\"},{\"line\":{\"color\":\"black\",\"width\":2},\"mode\":\"lines\",\"showlegend\":false,\"x\":[0.9341724,0.3568221],\"y\":[-0.381966,0.618034],\"z\":[-0.3568221,-0.7978784],\"type\":\"scatter3d\"},{\"line\":{\"color\":\"black\",\"width\":2},\"mode\":\"lines\",\"showlegend\":false,\"x\":[0.3568221,0.9341724],\"y\":[0.618034,0.381966],\"z\":[-0.7978784,-0.3568221],\"type\":\"scatter3d\"},{\"line\":{\"color\":\"black\",\"width\":2},\"mode\":\"lines\",\"showlegend\":false,\"x\":[0.9341724,-0.1362939],\"y\":[-0.381966,-1.0],\"z\":[-0.3568221,-0.3568221],\"type\":\"scatter3d\"},{\"line\":{\"color\":\"black\",\"width\":2},\"mode\":\"lines\",\"showlegend\":false,\"x\":[-0.1362939,0.3568221],\"y\":[-1.0,-0.618034],\"z\":[-0.3568221,-0.7978784],\"type\":\"scatter3d\"},{\"line\":{\"color\":\"black\",\"width\":2},\"mode\":\"lines\",\"showlegend\":false,\"x\":[0.3568221,0.9341724],\"y\":[-0.618034,-0.381966],\"z\":[-0.7978784,-0.3568221],\"type\":\"scatter3d\"},{\"line\":{\"color\":\"black\",\"width\":2},\"mode\":\"lines\",\"showlegend\":false,\"x\":[0.9341724,0.3568221],\"y\":[-0.381966,-0.618034],\"z\":[-0.3568221,-0.7978784],\"type\":\"scatter3d\"},{\"line\":{\"color\":\"black\",\"width\":2},\"mode\":\"lines\",\"showlegend\":false,\"x\":[0.3568221,0.3568221],\"y\":[-0.618034,0.618034],\"z\":[-0.7978784,-0.7978784],\"type\":\"scatter3d\"},{\"line\":{\"color\":\"black\",\"width\":2},\"mode\":\"lines\",\"showlegend\":false,\"x\":[0.3568221,0.9341724],\"y\":[0.618034,-0.381966],\"z\":[-0.7978784,-0.3568221],\"type\":\"scatter3d\"},{\"line\":{\"color\":\"black\",\"width\":2},\"mode\":\"lines\",\"showlegend\":false,\"x\":[-0.7978784,-0.1362939],\"y\":[0.618034,1.0],\"z\":[-0.3568221,-0.3568221],\"type\":\"scatter3d\"},{\"line\":{\"color\":\"black\",\"width\":2},\"mode\":\"lines\",\"showlegend\":false,\"x\":[-0.1362939,-0.7136442],\"y\":[1.0,0.0],\"z\":[-0.3568221,-0.7978784],\"type\":\"scatter3d\"},{\"line\":{\"color\":\"black\",\"width\":2},\"mode\":\"lines\",\"showlegend\":false,\"x\":[-0.7136442,-0.7978784],\"y\":[0.0,0.618034],\"z\":[-0.7978784,-0.3568221],\"type\":\"scatter3d\"},{\"line\":{\"color\":\"black\",\"width\":2},\"mode\":\"lines\",\"showlegend\":false,\"x\":[-0.1362939,0.3568221],\"y\":[1.0,0.618034],\"z\":[-0.3568221,-0.7978784],\"type\":\"scatter3d\"},{\"line\":{\"color\":\"black\",\"width\":2},\"mode\":\"lines\",\"showlegend\":false,\"x\":[0.3568221,-0.7136442],\"y\":[0.618034,0.0],\"z\":[-0.7978784,-0.7978784],\"type\":\"scatter3d\"},{\"line\":{\"color\":\"black\",\"width\":2},\"mode\":\"lines\",\"showlegend\":false,\"x\":[-0.7136442,-0.1362939],\"y\":[0.0,1.0],\"z\":[-0.7978784,-0.3568221],\"type\":\"scatter3d\"},{\"line\":{\"color\":\"black\",\"width\":2},\"mode\":\"lines\",\"showlegend\":false,\"x\":[-0.1362939,-0.7136442],\"y\":[-1.0,0.0],\"z\":[-0.3568221,-0.7978784],\"type\":\"scatter3d\"},{\"line\":{\"color\":\"black\",\"width\":2},\"mode\":\"lines\",\"showlegend\":false,\"x\":[-0.7136442,0.3568221],\"y\":[0.0,-0.618034],\"z\":[-0.7978784,-0.7978784],\"type\":\"scatter3d\"},{\"line\":{\"color\":\"black\",\"width\":2},\"mode\":\"lines\",\"showlegend\":false,\"x\":[0.3568221,-0.1362939],\"y\":[-0.618034,-1.0],\"z\":[-0.7978784,-0.3568221],\"type\":\"scatter3d\"},{\"line\":{\"color\":\"black\",\"width\":2},\"mode\":\"lines\",\"showlegend\":false,\"x\":[-0.1362939,-0.7978784],\"y\":[-1.0,-0.618034],\"z\":[-0.3568221,-0.3568221],\"type\":\"scatter3d\"},{\"line\":{\"color\":\"black\",\"width\":2},\"mode\":\"lines\",\"showlegend\":false,\"x\":[-0.7978784,-0.7136442],\"y\":[-0.618034,0.0],\"z\":[-0.3568221,-0.7978784],\"type\":\"scatter3d\"},{\"line\":{\"color\":\"black\",\"width\":2},\"mode\":\"lines\",\"showlegend\":false,\"x\":[-0.7136442,-0.1362939],\"y\":[0.0,-1.0],\"z\":[-0.7978784,-0.3568221],\"type\":\"scatter3d\"},{\"line\":{\"color\":\"black\",\"width\":2},\"mode\":\"lines\",\"showlegend\":false,\"x\":[0.3568221,0.0],\"y\":[0.618034,0.0],\"z\":[-0.7978784,-1.070466],\"type\":\"scatter3d\"},{\"line\":{\"color\":\"black\",\"width\":2},\"mode\":\"lines\",\"showlegend\":false,\"x\":[0.0,-0.7136442],\"y\":[0.0,0.0],\"z\":[-1.070466,-0.7978784],\"type\":\"scatter3d\"},{\"line\":{\"color\":\"black\",\"width\":2},\"mode\":\"lines\",\"showlegend\":false,\"x\":[-0.7136442,0.3568221],\"y\":[0.0,0.618034],\"z\":[-0.7978784,-0.7978784],\"type\":\"scatter3d\"},{\"line\":{\"color\":\"black\",\"width\":2},\"mode\":\"lines\",\"showlegend\":false,\"x\":[0.3568221,0.3568221],\"y\":[0.618034,-0.618034],\"z\":[-0.7978784,-0.7978784],\"type\":\"scatter3d\"},{\"line\":{\"color\":\"black\",\"width\":2},\"mode\":\"lines\",\"showlegend\":false,\"x\":[0.3568221,0.0],\"y\":[-0.618034,0.0],\"z\":[-0.7978784,-1.070466],\"type\":\"scatter3d\"},{\"line\":{\"color\":\"black\",\"width\":2},\"mode\":\"lines\",\"showlegend\":false,\"x\":[0.0,0.3568221],\"y\":[0.0,0.618034],\"z\":[-1.070466,-0.7978784],\"type\":\"scatter3d\"},{\"line\":{\"color\":\"black\",\"width\":2},\"mode\":\"lines\",\"showlegend\":false,\"x\":[0.3568221,-0.7136442],\"y\":[-0.618034,0.0],\"z\":[-0.7978784,-0.7978784],\"type\":\"scatter3d\"},{\"line\":{\"color\":\"black\",\"width\":2},\"mode\":\"lines\",\"showlegend\":false,\"x\":[-0.7136442,0.0],\"y\":[0.0,0.0],\"z\":[-0.7978784,-1.070466],\"type\":\"scatter3d\"},{\"line\":{\"color\":\"black\",\"width\":2},\"mode\":\"lines\",\"showlegend\":false,\"x\":[0.0,0.3568221],\"y\":[0.0,-0.618034],\"z\":[-1.070466,-0.7978784],\"type\":\"scatter3d\"}],                        {\"template\":{\"data\":{\"histogram2dcontour\":[{\"type\":\"histogram2dcontour\",\"colorbar\":{\"outlinewidth\":0,\"ticks\":\"\"},\"colorscale\":[[0.0,\"#0d0887\"],[0.1111111111111111,\"#46039f\"],[0.2222222222222222,\"#7201a8\"],[0.3333333333333333,\"#9c179e\"],[0.4444444444444444,\"#bd3786\"],[0.5555555555555556,\"#d8576b\"],[0.6666666666666666,\"#ed7953\"],[0.7777777777777778,\"#fb9f3a\"],[0.8888888888888888,\"#fdca26\"],[1.0,\"#f0f921\"]]}],\"choropleth\":[{\"type\":\"choropleth\",\"colorbar\":{\"outlinewidth\":0,\"ticks\":\"\"}}],\"histogram2d\":[{\"type\":\"histogram2d\",\"colorbar\":{\"outlinewidth\":0,\"ticks\":\"\"},\"colorscale\":[[0.0,\"#0d0887\"],[0.1111111111111111,\"#46039f\"],[0.2222222222222222,\"#7201a8\"],[0.3333333333333333,\"#9c179e\"],[0.4444444444444444,\"#bd3786\"],[0.5555555555555556,\"#d8576b\"],[0.6666666666666666,\"#ed7953\"],[0.7777777777777778,\"#fb9f3a\"],[0.8888888888888888,\"#fdca26\"],[1.0,\"#f0f921\"]]}],\"heatmap\":[{\"type\":\"heatmap\",\"colorbar\":{\"outlinewidth\":0,\"ticks\":\"\"},\"colorscale\":[[0.0,\"#0d0887\"],[0.1111111111111111,\"#46039f\"],[0.2222222222222222,\"#7201a8\"],[0.3333333333333333,\"#9c179e\"],[0.4444444444444444,\"#bd3786\"],[0.5555555555555556,\"#d8576b\"],[0.6666666666666666,\"#ed7953\"],[0.7777777777777778,\"#fb9f3a\"],[0.8888888888888888,\"#fdca26\"],[1.0,\"#f0f921\"]]}],\"heatmapgl\":[{\"type\":\"heatmapgl\",\"colorbar\":{\"outlinewidth\":0,\"ticks\":\"\"},\"colorscale\":[[0.0,\"#0d0887\"],[0.1111111111111111,\"#46039f\"],[0.2222222222222222,\"#7201a8\"],[0.3333333333333333,\"#9c179e\"],[0.4444444444444444,\"#bd3786\"],[0.5555555555555556,\"#d8576b\"],[0.6666666666666666,\"#ed7953\"],[0.7777777777777778,\"#fb9f3a\"],[0.8888888888888888,\"#fdca26\"],[1.0,\"#f0f921\"]]}],\"contourcarpet\":[{\"type\":\"contourcarpet\",\"colorbar\":{\"outlinewidth\":0,\"ticks\":\"\"}}],\"contour\":[{\"type\":\"contour\",\"colorbar\":{\"outlinewidth\":0,\"ticks\":\"\"},\"colorscale\":[[0.0,\"#0d0887\"],[0.1111111111111111,\"#46039f\"],[0.2222222222222222,\"#7201a8\"],[0.3333333333333333,\"#9c179e\"],[0.4444444444444444,\"#bd3786\"],[0.5555555555555556,\"#d8576b\"],[0.6666666666666666,\"#ed7953\"],[0.7777777777777778,\"#fb9f3a\"],[0.8888888888888888,\"#fdca26\"],[1.0,\"#f0f921\"]]}],\"surface\":[{\"type\":\"surface\",\"colorbar\":{\"outlinewidth\":0,\"ticks\":\"\"},\"colorscale\":[[0.0,\"#0d0887\"],[0.1111111111111111,\"#46039f\"],[0.2222222222222222,\"#7201a8\"],[0.3333333333333333,\"#9c179e\"],[0.4444444444444444,\"#bd3786\"],[0.5555555555555556,\"#d8576b\"],[0.6666666666666666,\"#ed7953\"],[0.7777777777777778,\"#fb9f3a\"],[0.8888888888888888,\"#fdca26\"],[1.0,\"#f0f921\"]]}],\"mesh3d\":[{\"type\":\"mesh3d\",\"colorbar\":{\"outlinewidth\":0,\"ticks\":\"\"}}],\"scatter\":[{\"fillpattern\":{\"fillmode\":\"overlay\",\"size\":10,\"solidity\":0.2},\"type\":\"scatter\"}],\"parcoords\":[{\"type\":\"parcoords\",\"line\":{\"colorbar\":{\"outlinewidth\":0,\"ticks\":\"\"}}}],\"scatterpolargl\":[{\"type\":\"scatterpolargl\",\"marker\":{\"colorbar\":{\"outlinewidth\":0,\"ticks\":\"\"}}}],\"bar\":[{\"error_x\":{\"color\":\"#2a3f5f\"},\"error_y\":{\"color\":\"#2a3f5f\"},\"marker\":{\"line\":{\"color\":\"#E5ECF6\",\"width\":0.5},\"pattern\":{\"fillmode\":\"overlay\",\"size\":10,\"solidity\":0.2}},\"type\":\"bar\"}],\"scattergeo\":[{\"type\":\"scattergeo\",\"marker\":{\"colorbar\":{\"outlinewidth\":0,\"ticks\":\"\"}}}],\"scatterpolar\":[{\"type\":\"scatterpolar\",\"marker\":{\"colorbar\":{\"outlinewidth\":0,\"ticks\":\"\"}}}],\"histogram\":[{\"marker\":{\"pattern\":{\"fillmode\":\"overlay\",\"size\":10,\"solidity\":0.2}},\"type\":\"histogram\"}],\"scattergl\":[{\"type\":\"scattergl\",\"marker\":{\"colorbar\":{\"outlinewidth\":0,\"ticks\":\"\"}}}],\"scatter3d\":[{\"type\":\"scatter3d\",\"line\":{\"colorbar\":{\"outlinewidth\":0,\"ticks\":\"\"}},\"marker\":{\"colorbar\":{\"outlinewidth\":0,\"ticks\":\"\"}}}],\"scattermapbox\":[{\"type\":\"scattermapbox\",\"marker\":{\"colorbar\":{\"outlinewidth\":0,\"ticks\":\"\"}}}],\"scatterternary\":[{\"type\":\"scatterternary\",\"marker\":{\"colorbar\":{\"outlinewidth\":0,\"ticks\":\"\"}}}],\"scattercarpet\":[{\"type\":\"scattercarpet\",\"marker\":{\"colorbar\":{\"outlinewidth\":0,\"ticks\":\"\"}}}],\"carpet\":[{\"aaxis\":{\"endlinecolor\":\"#2a3f5f\",\"gridcolor\":\"white\",\"linecolor\":\"white\",\"minorgridcolor\":\"white\",\"startlinecolor\":\"#2a3f5f\"},\"baxis\":{\"endlinecolor\":\"#2a3f5f\",\"gridcolor\":\"white\",\"linecolor\":\"white\",\"minorgridcolor\":\"white\",\"startlinecolor\":\"#2a3f5f\"},\"type\":\"carpet\"}],\"table\":[{\"cells\":{\"fill\":{\"color\":\"#EBF0F8\"},\"line\":{\"color\":\"white\"}},\"header\":{\"fill\":{\"color\":\"#C8D4E3\"},\"line\":{\"color\":\"white\"}},\"type\":\"table\"}],\"barpolar\":[{\"marker\":{\"line\":{\"color\":\"#E5ECF6\",\"width\":0.5},\"pattern\":{\"fillmode\":\"overlay\",\"size\":10,\"solidity\":0.2}},\"type\":\"barpolar\"}],\"pie\":[{\"automargin\":true,\"type\":\"pie\"}]},\"layout\":{\"autotypenumbers\":\"strict\",\"colorway\":[\"#636efa\",\"#EF553B\",\"#00cc96\",\"#ab63fa\",\"#FFA15A\",\"#19d3f3\",\"#FF6692\",\"#B6E880\",\"#FF97FF\",\"#FECB52\"],\"font\":{\"color\":\"#2a3f5f\"},\"hovermode\":\"closest\",\"hoverlabel\":{\"align\":\"left\"},\"paper_bgcolor\":\"white\",\"plot_bgcolor\":\"#E5ECF6\",\"polar\":{\"bgcolor\":\"#E5ECF6\",\"angularaxis\":{\"gridcolor\":\"white\",\"linecolor\":\"white\",\"ticks\":\"\"},\"radialaxis\":{\"gridcolor\":\"white\",\"linecolor\":\"white\",\"ticks\":\"\"}},\"ternary\":{\"bgcolor\":\"#E5ECF6\",\"aaxis\":{\"gridcolor\":\"white\",\"linecolor\":\"white\",\"ticks\":\"\"},\"baxis\":{\"gridcolor\":\"white\",\"linecolor\":\"white\",\"ticks\":\"\"},\"caxis\":{\"gridcolor\":\"white\",\"linecolor\":\"white\",\"ticks\":\"\"}},\"coloraxis\":{\"colorbar\":{\"outlinewidth\":0,\"ticks\":\"\"}},\"colorscale\":{\"sequential\":[[0.0,\"#0d0887\"],[0.1111111111111111,\"#46039f\"],[0.2222222222222222,\"#7201a8\"],[0.3333333333333333,\"#9c179e\"],[0.4444444444444444,\"#bd3786\"],[0.5555555555555556,\"#d8576b\"],[0.6666666666666666,\"#ed7953\"],[0.7777777777777778,\"#fb9f3a\"],[0.8888888888888888,\"#fdca26\"],[1.0,\"#f0f921\"]],\"sequentialminus\":[[0.0,\"#0d0887\"],[0.1111111111111111,\"#46039f\"],[0.2222222222222222,\"#7201a8\"],[0.3333333333333333,\"#9c179e\"],[0.4444444444444444,\"#bd3786\"],[0.5555555555555556,\"#d8576b\"],[0.6666666666666666,\"#ed7953\"],[0.7777777777777778,\"#fb9f3a\"],[0.8888888888888888,\"#fdca26\"],[1.0,\"#f0f921\"]],\"diverging\":[[0,\"#8e0152\"],[0.1,\"#c51b7d\"],[0.2,\"#de77ae\"],[0.3,\"#f1b6da\"],[0.4,\"#fde0ef\"],[0.5,\"#f7f7f7\"],[0.6,\"#e6f5d0\"],[0.7,\"#b8e186\"],[0.8,\"#7fbc41\"],[0.9,\"#4d9221\"],[1,\"#276419\"]]},\"xaxis\":{\"gridcolor\":\"white\",\"linecolor\":\"white\",\"ticks\":\"\",\"title\":{\"standoff\":15},\"zerolinecolor\":\"white\",\"automargin\":true,\"zerolinewidth\":2},\"yaxis\":{\"gridcolor\":\"white\",\"linecolor\":\"white\",\"ticks\":\"\",\"title\":{\"standoff\":15},\"zerolinecolor\":\"white\",\"automargin\":true,\"zerolinewidth\":2},\"scene\":{\"xaxis\":{\"backgroundcolor\":\"#E5ECF6\",\"gridcolor\":\"white\",\"linecolor\":\"white\",\"showbackground\":true,\"ticks\":\"\",\"zerolinecolor\":\"white\",\"gridwidth\":2},\"yaxis\":{\"backgroundcolor\":\"#E5ECF6\",\"gridcolor\":\"white\",\"linecolor\":\"white\",\"showbackground\":true,\"ticks\":\"\",\"zerolinecolor\":\"white\",\"gridwidth\":2},\"zaxis\":{\"backgroundcolor\":\"#E5ECF6\",\"gridcolor\":\"white\",\"linecolor\":\"white\",\"showbackground\":true,\"ticks\":\"\",\"zerolinecolor\":\"white\",\"gridwidth\":2}},\"shapedefaults\":{\"line\":{\"color\":\"#2a3f5f\"}},\"annotationdefaults\":{\"arrowcolor\":\"#2a3f5f\",\"arrowhead\":0,\"arrowwidth\":1},\"geo\":{\"bgcolor\":\"white\",\"landcolor\":\"#E5ECF6\",\"subunitcolor\":\"white\",\"showland\":true,\"showlakes\":true,\"lakecolor\":\"white\"},\"title\":{\"x\":0.05},\"mapbox\":{\"style\":\"light\"}}},\"scene\":{\"aspectmode\":\"data\"},\"margin\":{\"l\":0,\"r\":0,\"b\":0,\"t\":30},\"title\":{\"text\":\"Tetraedros 3\"}},                        {\"responsive\": true}                    ).then(function(){\n",
              "                            \n",
              "var gd = document.getElementById('4165e4d1-559e-46a3-a33c-683cb6250441');\n",
              "var x = new MutationObserver(function (mutations, observer) {{\n",
              "        var display = window.getComputedStyle(gd).display;\n",
              "        if (!display || display === 'none') {{\n",
              "            console.log([gd, 'removed!']);\n",
              "            Plotly.purge(gd);\n",
              "            observer.disconnect();\n",
              "        }}\n",
              "}});\n",
              "\n",
              "// Listen for the removal of the full notebook cells\n",
              "var notebookContainer = gd.closest('#notebook-container');\n",
              "if (notebookContainer) {{\n",
              "    x.observe(notebookContainer, {childList: true});\n",
              "}}\n",
              "\n",
              "// Listen for the clearing of the current output cell\n",
              "var outputEl = gd.closest('.output');\n",
              "if (outputEl) {{\n",
              "    x.observe(outputEl, {childList: true});\n",
              "}}\n",
              "\n",
              "                        })                };                            </script>        </div>\n",
              "</body>\n",
              "</html>"
            ]
          },
          "metadata": {}
        }
      ],
      "source": [
        "\n",
        "malla_tetra = tetrahedralizar_y_extraer_superficie(triang_3)\n",
        "visualizar_transparente_con_bordes(malla_tetra, \"Tetraedros 3\")"
      ]
    }
  ],
  "metadata": {
    "accelerator": "TPU",
    "colab": {
      "gpuType": "V28",
      "provenance": [],
      "include_colab_link": true
    },
    "kernelspec": {
      "display_name": "Python 3",
      "name": "python3"
    },
    "language_info": {
      "name": "python"
    }
  },
  "nbformat": 4,
  "nbformat_minor": 0
}