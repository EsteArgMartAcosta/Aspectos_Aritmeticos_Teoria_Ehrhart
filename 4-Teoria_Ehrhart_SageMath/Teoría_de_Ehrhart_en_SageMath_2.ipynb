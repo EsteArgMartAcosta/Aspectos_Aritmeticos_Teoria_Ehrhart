{
  "nbformat": 4,
  "nbformat_minor": 0,
  "metadata": {
    "colab": {
      "provenance": []
    },
    "kernelspec": {
      "name": "python3",
      "display_name": "Python 3"
    },
    "language_info": {
      "name": "python"
    }
  },
  "cells": [
    {
      "cell_type": "markdown",
      "source": [
        "<center>\n",
        "\n",
        "**Aspectos Aritméticos de la Teoría de Ehrhart**\n",
        "\n",
        "</center>"
      ],
      "metadata": {
        "id": "6YHzbi3-V9Fu"
      }
    },
    {
      "cell_type": "markdown",
      "source": [
        "<p align=\"center\">\n",
        "    <img src=\"https://logowik.com/content/uploads/images/escudo-de-la-universidad-nacional-de-colombia-20163327.logowik.com.webp\" width=\"400\">\n",
        "</p>\n"
      ],
      "metadata": {
        "id": "QeVnMxBQV-T0"
      }
    },
    {
      "cell_type": "markdown",
      "source": [
        "<center>"
      ],
      "metadata": {
        "id": "HWiumVXPWBrk"
      }
    },
    {
      "cell_type": "markdown",
      "source": [
        "<div align=\"justify\">\n",
        "\n",
        "> **Nota de agradecimiento:**\n",
        ">\n",
        "> La elaboración de este material contó con la valiosa colaboración de Sophia Elia, quien proporcionó recursos de referencia y contribuciones conceptuales significativas. Su apoyo fue fundamental para el desarrollo y estructuración de los contenidos presentados. Más información sobre su trabajo puede encontrarse en [https://sophiasage.github.io/](https://sophiasage.github.io/).\n",
        "\n",
        "</div>"
      ],
      "metadata": {
        "id": "cF6VamE1Po_A"
      }
    },
    {
      "cell_type": "markdown",
      "source": [
        "# **Poliedros**"
      ],
      "metadata": {
        "id": "oROatgD_WFsw"
      }
    },
    {
      "cell_type": "markdown",
      "source": [
        "<div align=\"justify\">\n",
        "\n",
        "\n",
        "\n",
        "</div>"
      ],
      "metadata": {
        "id": "cBzl-XwbWK4y"
      }
    },
    {
      "cell_type": "markdown",
      "source": [
        "## **Cálculos en poliedros**"
      ],
      "metadata": {
        "id": "sMZSQIuEXUga"
      }
    },
    {
      "cell_type": "markdown",
      "source": [
        "---"
      ],
      "metadata": {
        "id": "Z7IoFORPWWNf"
      }
    },
    {
      "cell_type": "markdown",
      "source": [
        "<div align=\"justify\">\n",
        "\n",
        "Una matriz real $A$ de tamaño $k \\times d$ y un vector real $b$ en $\\mathbb{R}^d$ definen un politopo convexo $P$ como el conjunto de soluciones del sistema de desigualdades lineales:\n",
        "\n",
        "$$A \\cdot x + b \\geq 0$$\n",
        "\n",
        "Cada fila de $A$ define un semiespacio cerrado en $\\mathbb{R}^d$. Por lo tanto, un politopo es la intersección de un número finito de semiespacios cerrados en $\\mathbb{R}^d$. La matriz $A$ puede contener filas repetidas, lo cual puede llevar a un conjunto de igualdades satisfechas por el politopo. Si no hay filas redundantes en esta definición, se dice que se tiene la representación-$\\mathbf{H}$ del politopo.\n",
        "\n",
        "Un subespacio afín máximo $L$ contenido en un politopo se llama espacio de linealidad de $P$. Fijando un punto $o$ del espacio de linealidad $L$ para actuar como el origen, todo punto $p$ dentro del politopo puede escribirse como una combinación:\n",
        "\n",
        "$$p = \\ell + \\sum_{i=1}^n \\lambda_i v_i + \\sum_{i=1}^m \\mu_i r_i,$$\n",
        "\n",
        "Donde $\\ell \\in L$, usando $o$ como origen, $\\sum_{i=1}^{n} \\lambda_i = 1$, $\\lambda_i \\geq 0$, $\\mu_i \\geq 0$, y $r_i \\ne 0$ para todo $0 \\leq i \\leq m$, y el conjunto de vectores $r_i$ es positivamente independiente, es decir, el origen no pertenece a su combinatoria positiva.\n",
        "\n",
        "Para un punto dado $p$, puede haber muchas formas equivalentes de escribir la expresión anterior utilizando diferentes conjuntos $\\{v_i\\}_{i=1}^n$ y $\\{r_i\\}_{i=1}^m$. Por lo tanto, se requiere que estos conjuntos sean minimalmente inclusivos, de modo que se cumpla la igualdad anterior para todo punto $p \\in P$.\n",
        "\n",
        "Los vectores $v_i$ se denominan vértices de $P$, y los vectores $r_i$ se llaman rayos de $P$. Esta forma de representar un politopo se conoce como la representación-$\\mathbf{V}$ de un politopo. La primera suma representa la envolvente convexa de los vértices $v_i$, y la segunda suma representa un cono poliédrico apuntado generado por un número finito de rayos.\n",
        "\n",
        "Cuando el espacio de linealidad y los rayos se reducen a un punto, es decir, sin rayos ni líneas, el objeto se denomina comúnmente un politopo.\n",
        "\n",
        "\n",
        "</div>"
      ],
      "metadata": {
        "id": "Evmnaa2LWNRm"
      }
    },
    {
      "cell_type": "markdown",
      "source": [
        "### **V - Representación**"
      ],
      "metadata": {
        "id": "JTSmA267XRHk"
      }
    },
    {
      "cell_type": "markdown",
      "source": [
        "<center>"
      ],
      "metadata": {
        "id": "PEGHmEOrfGyN"
      }
    },
    {
      "cell_type": "markdown",
      "source": [
        "**👨‍💻Implementación👩‍💻**"
      ],
      "metadata": {
        "id": "sapwinFgwWjT"
      }
    },
    {
      "cell_type": "code",
      "execution_count": null,
      "metadata": {
        "id": "n7dcTLNUV5GI"
      },
      "outputs": [],
      "source": [
        "\n",
        "P1 = Polyhedron(vertices=[[1, 0], [0, 1]], rays=[[1, 1]])\n",
        "P1"
      ]
    },
    {
      "cell_type": "markdown",
      "source": [
        "<center>\n",
        "\n",
        "![image.png](data:image/png;base64,iVBORw0KGgoAAAANSUhEUgAAAnMAAAHVCAIAAAAVf+o3AAAgAElEQVR4Ae2dCXwU5d3Hn5BsQg4SAgk3JAosrBcIiEBBREGshkPwRDGe5RA5tGA8CspLELAcbYNUeBH62teiEqhS8OprEsrhBaEYQkggglFSqShrKAUSMi/wlMdh9sjs7vx355n55dNPnZ2d+c8z3/9//t99Zg+Ygj8QAAEQAAEQAAHjCDDjQiESCIAACIAACICAArOiCEAABEAABEDASAIwq5E0EQsEQAAEQAAEYFbUAAiAAAiAAAgYSQBmNZImYoEACIAACIAAzIoaAAEQAAEQAAEjCcCsRtJELBAAARAAARCAWVEDIAACIAACIGAkAZjVSJqIBQIgAAIgAAKRN+uXX37JGCsuLlYUpaCggDH2ww8/RCQxs2bN6tatG8WhBw4cOGXKFEMiq3H5CcgYW79+vZ8NGnzKwDF7Hos0uOfhNGumTZvGGLvtttvq6uo0TwXxUGdG6uvrH3300dTUVF7txhLIzs4eMWJEEIMPaBdjxxzQocOzsc5Uagajhh8Eourq6sGDByckJKSkpGgiR/DhqlWrTDUeTxR07drzWEGs0WvWrVu3NmrUaOjQob6Ocfr06RkzZlxxxRUJCQmtW7ceO3bsN99842tj9Xp1NZ86daq6urq+vl69QdiWa2pqvvvuO4rDBXG9+RqGGpevbRRFMblZjx49+uOPP/oZv9envvrqq4ceeqh169YOh6NDhw6TJ0/W5KukpOSOO+5IS0uLjY3t1KnTc889969//UsTas6cOUlJSa+88kqrVq0efvhh9bMFBQXDhw9v1apVQkJCt27d/vjHP6qf9bWsMyObNm1yOBxbt26trq6ura0NjoCvMaibu69tAl3v+TLXwDIOdDDh2V5nKjWDUcMPAtGMGTMuv/zy8vLyb7/9VhN5+fLl/fv3b3r+78Ybb/zkk080Gxj4MCMjY/HixSLgiRMnPMcjnjXDgh+zTp48uUePHrGxsUQzJT2nr9esDz/88JQpUxITEw8dOuQ17rFjxwYPHvzGG2+UlZVt37792muv7dmzp9ctNSuDq2ZNEJM/DOJ683VGOnHRmfXUqVO+xka6/sCBAy1atOjfv39hYeGhQ4c2bdp0+eWXd+7c+ejRo/y427dvT0xMHDFixCeffHLw4ME333yzffv2/fr1Uw/4lVdeSU1N3b59u6Io5eXlHTp0mDFjhhh2bm7uc889t3Xr1v379//mN79p1KjRO++8I571taAzI7/73e86dOjgK0iI69XNPcRQYneYVaDwv6CGH8SVPnr06Pvvv9/rIcaMGbN06dLi4uK9e/c++OCDKSkpX3/9tdctQ1nJLxCNWUMJGJ59/Zj18ccfz8vLGzt2rH6znj592thh6zLr8ePHmzRpUlZWdtddd73wwgt6RvDpp58yxnxp+JNPPunevXtcXFzPnj3XrVvn9W4wvx2xYcMGp9MZHx8/evTo48ePr169OiMjo2nTppMmTRK38k6dOjV9+vQ2bdokJCT07t27oKCAj5BHeO+997p27ZqYmDh06NDDhw/zpwoKCq655hp+B6Zfv34HDx48u16dqjNnzrzwwgtt27blL3zeffddviNvo/n5+ddff318fPxVV121bds2/tR333139913t23bNj4+/oorrnj99df5+rN3uX1db/yIv//979u1axcfH3/77beLO+H+B1BcXFxfX9+xY8eXXnpJHOWLL76Iiorav38/n7OuWLFi5MiR8fHxnTp1evvtt8Vme/bs+fnPf56YmNiiRYv77rvvn//8J3/q+PHjY8eOTUxMbNWq1a9//Wv1mDMyMv7rv/4rOzs7OTmZd4G1a9dedtllsbGxGRkZv/71r0XwjIyM3NzcBx98MCkpqX379q+88op4Sr2gCa5nl5tvvrldu3YnTpwQcaqrqxMSEsaPH68oSn19/WWXXdarV68zZ86IDXbt2hUVFTVv3jy+5q233mrVqhV/34GvOXToUKdOnebPny92US/ccsstDz74oHqNWPZVwIqieMWbnZ3NLvxlZGRoSsIPtK+//vrOO+9s2rRps2bNhg8f/uWXX/Ix1NXVTZs2LSUlpVmzZtOnT7///vu93g32U5NvvfXWFVdc0bhx42bNmt14443Hjx8XZ6coCq/zC0Nm2dnZfMyPP/749OnTU1NTW7ZsOWvWLLHLsWPHHn300fT09CZNmgwaNGjXrl3iKfVCVVXVXXfdlZqampCQ0LNnz48//pg/+/LLL1966aUOh8PpdP7P//yP2IUx5lnGZ86cadu27bJly8RmO3bsYIwdOHBAURSvIzly5EjLli1zc3P5Lh9//LHD4Xj//fdFBL7g5+pWNwdFURYvXszzeJaVTrN6PceMjAwNZM2QxMO6uromTZr84Q9/EGv4wrFjxxo3biwalKIo+fn5CQkJNTU1iqL4qh8+5rlz57Zu3TojI2PgwIFiGIydk4LmbvDbb7/ds2fPuLi45s2b33bbbfzQvhrvwYMHs7KymjZtmpCQcNlll23cuFEzZkVRXnvttZ49eyYlJbVs2fKee+4R82P+eu6vf/1rz5494+Pj+/btW1ZWJnZ/8cUXW7RokZSU9NBDDz311FP+xalJmQgiFhhjy5YtGz58eEJCwsyZM+vq6h566KHMzMzGjRs7nc4lS5bwLYuKimJiYqqrq8WOTzzxxIABA8RDrwu6zLpy5cpevXopirJhw4bMzEw9d2s//PDDqKgot9vtedTjx4+np6ffddddJSUlGzZsuPTSS32Z9ezdsyFDhuzcubOoqKh58+Y33XTTnXfeuWfPng0bNsTGxq5Zs4YHHzNmTL9+/TZv3rx///6XXnopLi6uvLycF4fD4Rg8ePBnn322Y8cOl8s1ZswYRVFqa2tTUlJ++ctf7t+/v7S0dPXq1fwVgDoTixYtSk5O/tOf/lRWVjZjxgyHw8Fj8muva9euf/nLX/bt23f77bdnZGTU1tbyIn7ppZeKi4sPHDjw29/+Njo6WjQOtUjUQGbNmpWYmHjDDTcUFxcXFRV16tSJj1BRFP8D4HrIzc297LLLRMBp06Zdd911/CFjrF27dq+//npFRcXkyZOTkpL43O7w4cNpaWlPP/303r17d+7cOWTIkEGDBvFdJkyY0K5duw8++GD37t1ZWVlJSUniveGMjIzk5OSXXnqp4vzf559/3qhRo9mzZ+/bt2/VqlXx8fGrVq3iQTIyMpo1a7Z06dKKiooXX3yxUaNGe/fuFSMUC2ogenY5evRoVFTU3LlzRQS+wN+5rK+v37lzJ2NM/WqGbzBkyBD/l58moPrhz372syeffFK9hi/7KWBfeI8dOzZ79ux27dpVV1cfOXLE06xeof3rX//q3LnzQw89tHv37tLS0jFjxnTp0oXPMObPn5+SkrJ27drS0tKHH364SZMmXs369ddfe63Jw4cPx8TELFq06Msvv9y9e/fSpUt5IxYnW1dXl5+fzxjbt29fdXX1sWPH+JiTk5Off/758vLyP/zhD1FRUR988AF/WfOzn/1s2LBhn332WXl5+ZNPPtm8eXNxL0HErKmpufTSSwcMGPC3v/2toqLijTfe4K9K161b53A4li5dum/fvoULF0ZHR3/00Ud8L19l/OSTT/bv319EfvLJJ/v27et/JBs3bnQ4HJ999llNTU2nTp1EbYsg4vWE16tb3RyCMKuvczxy5MjNN9985513Csjq8aiXf/zxx8aNG2/YsEG9ki+PHj36vvvuE+tHjx59zz33KIrip36ys7OTkpLGjh1bUlLyxRdfHD16tF27drNnz64+/6cx61/+8pfo6OiZM2eWlpbu2rVLvEDx1XhvvfXWIUOG7N69+8CBAxs2bCgqKhJjEwsrV67ctGnTgQMHtm/f3qdPn5///Of8KW7Wa6+9trCwcM+ePQMGDOjXrx9/6o033oiNjV2xYkVZWdmzzz7bpEkT/5e2JmXi0GKBMdaiRYuVK1ceOHDg4MGDp0+fnjlz5qefflpZWfnHP/4xISHhjTfe4Bs7nc4FCxbw5dra2hYtWrz66qsijtcFXWbt168fF3htbW1aWtqHH37oNZZY+e9//7tnz5733nuvWKNeeOWVV86+0BZvgC1btsyXWRljfAamKMq4cePECzFFUYYOHTpu3DhFUfbv3x8VFaV+T/fGG298+umneXGoIyxduvTsC21FUY4ePcoYKywsVI/q7LI6E23atBEFpCjKNddcM3HiRHHt/fd//zffd8+ePYwxr/K45ZZbRF9Wi0R90FmzZkVHR1dVVfGV7777bqNGjfiLI/8D4GY9fPhwdHQ0f/fl9OnT6enpq1ev5qEYY8899xxfPn78eFRUFH9V+6tf/eqmm24SY6iqquLds6amRv1i5ejRo/Hx8aL7ZGRkjBw5Uuw1ZsyYIUOGiIfTp08Xgs/IyBAXeX19fYsWLdRzC7GLGoieXT7++GOv97cXLVrEGPv222/XrFkjqkgcRVGUyZMnx8fHq9foXH7rrbdiY2NLSko8t/dTwL7wanqxp1m9Qlu5cmWXLl3EC9lTp06dfRXPZ1qtW7cWc/Ha2tp27dp5Natm8KIm+SSP36rRbCMeer0brPbZNddc89RTTymK8n//93/JycknT54U+3bs2NHzdsUrr7zSpEkTT+P269fv0UcfFfvecccdt9xyC3/oq4x37twZFRXFx8+nsEuXLm1wJBMnTnQ6nffee+8VV1zx73//WxxRLPDXzV6vbnVz0GRTz5zVzzmOGDGC3xIQw/C6MHHixI4dO3od9rp165KSknhHdbvdjRs35tNEP/WTnZ3dsmVL9RslmrvB6jlr3759PZu5n8Z75ZVXPv/8817PwutKfoOTv7YTc1a+5caNGxlj/Kz79u3Lb1Dxp6699trQzTp16lSvQ1IUZeLEiaNHj+bPzp8/3+Vy8eU///nPSUlJmns8nkEaNmtZWVlMTMw//vEPvvNjjz3GXxB5xuJrTp8+PWLEiKuvvlpMWMeNG5d44e/s7ZqpU6eKeZKiKLt27RI9UX0xr1q1KiEhQRxl5syZon0rinL//ffzmxJvvvkmY+xC+HP/jYmJufPOO7lZ1RHWrVsXFRXFAz7wwANxcXFnb1ksWbJE3CIWF4/b7daoV4yZX3uffvopj/P9998zxviLsrq6ujlz5lx55ZXNmjXjw7jjjjv4ZmqRiDM6uzBr1qxLLrlErDl27Bg/boMDELc0hw8fzl9hrFu3rkmTJuL1CmPszTffFJGTk5P5faRbbrnF4XCocTHGNm3axLOgvnvfvXt3tVnnzJkjol199dXqK+fPf/6zw+HgN+czMjLEiztFUa666iqvbx+ogejZxZdZFy5cyD9M7susjz/+eBAfcSwoKEhMTPS888YJiGLgD9UF7Auvphd7mtUrtIkTJ0ZHR6uTFRUV9fLLL/M6UU8FRo4c6dWsvmqyrq7uxhtvbNKkye233758+fLvv/9eJFcsqC9GvnLgwIH89SV/OHz4cH63fMGCBY0aNVKPs1GjRuo3sPn2EyZMEPdUxFEURUlNTRWvCBVFWbJkibgofJWxoigul+vFF19UFOWjjz5yOBz8TQ3/Izlx4gS/5/z3v/9dPQCx7OfqFs2Bbxzo3WA/56jHrPPnz09NTfU17FOnTjVt2vRPf/qToiivvvpqeno6v4vmq37OzhCys7MHDx4sTvxst/Rj1vj4eM8pmp/Gu2LFipiYmH79+s2cOdPXmHfu3Dl8+PAOHTokJSUlJCQwxvbs2XP2uuBVx+/rKIrC70XxvtS0aVP1JTl16tTQzar5lOKyZct69uyZlpaWmJjocDiuueYajujbb791OBz88xnDhw9/6KGH1Oi8Ljds1unTpzPGoi/8NWrUKC4uzuulqCjK6dOnR44cedVVV6k/tPntt9/yu4gVFRWKokyZMkWnWdU9UVPZ4nXimjVroqOjy8rKxCEqKir4tE/9sktRlPXr1/O3EDiInTt3zp07t2/fvklJSRyZOAQXm7pzTZky5YYbbhBzViG2H374gTHG39mdP39+8+bNX3vttV27dlVUVNx6662i2alFok6DxqziuGJBbOxrAO+8805KSsqJEyeGDRv2yCOPiO01M7yUlBR+w/bmm28eNWqUmlVFRcXx48eLi4s174trzKr+3GD37t3Vvly/fr3arOotz5a++t04MTw1EM0l7XWX7777LioqSn0XgYfi7+0pisInYf/7v/8rDsEXhgwZIi4PzVO+HhYWFvIPD/vawE8B+8LboFm9Qhs/fnzv3r01yTp2/k+8nuOD9GVWPzVZX1+/ZcuWmTNnXnnllenp6ZWVlZrz9WpW8WJLURShhHnz5rVt21YzTvH+vQj7xBNP+DKrumMuXrz40ksv5Xv5KmNFUfir2LPvwjzyyCNZWVl8e/8jKSkpady4cXR0tK8PpnGzer26X3jhhauuukqcy4IFCwJ6nzU1NdXXOQqMIrhm4aWXXkpJSfnss88069UPH3nkkWHDhimKMnjw4EmTJvGnfNUPN6voTnxjzWWobp7NmjXzNKufxqsoyldffbVs2bLbbrvN4XD89re/VQ9VUZTjx4+npaWNGTNm8+bNe/fuff/9971Ors7WGO9L/OMFFGZVfzXxjTfeaNy48dKlS3fu3FlRUfGLX/xCbe5Ro0b94he/+Pbbb2NiYrZs2aI5I8+HDZi1tra2ZcuWCxcu/EL153Q6f/e733nG4lq9/PLLxSsOz20UReE308RHUX7/+997xapO7dk4Qns8pjDrvn37GGObN2/2PJYmgsasYvs+ffo8/vjjmkN43ox97LHH/Js1KytLvJY5c+aM0+kUtasWiTguP2J0dLS4lf3ee+/5uRvsdQB1dXVt2rRZuHBhTEyM+CyV57duhFmfeeaZLl268Je06pHU1NQ4HA7xvsL333+fkJAg2qjmqvO8G3z55ZfzaJotvWrSc8bm1Svq4SmKctNNN7Vt21aUzdk3CPgnmKZPn87fYDv79pjXTzDx+4SaaL4e8tlqXl6erw38F7AvvMGZdfny5ampqeLej3pIrVu3Fh+8qq2tbd++vSg29WZ+alJsVldX17Zt24ULF4o1fGHr1q2MMfVLZE0ZCyV88MEH0dHR4tNVmjji4erVq5OTk/XcDb711lv5Xn7MWllZyRj7/PPPxXRNURQ/Izl16lS3bt2ys7NffPHF9PR0cRNODM//1f3yyy+3aNFC3JkfM2ZMQGb1vBsszlFgVI9ELC9YsCA5OZm/9BcrPRcKCgocDkdJSUl0dLTY2E/9iP4pQnXu3Fn9UUR187z++us97wb7abwipqIoOTk5V155pXqNoiiff/45Y+yrr77i61977TWvCtCYtW/fvhMmTBCh+vTpozafWC8WNMoQ68WCpromTZrEp098gxtvvFEdf9OmTcnJybNnz+7SpYuI4GehAbOuX78+NjaWf35BRHnmmWe6d+8uHvKF2tra4cOHt2vXbteuXfxt8OrqavV9fLF9TU1NWlraPffcs2fPno0bN3bq1MkrVnVqz+6rwaSujHvvvTczMzM/P7+ysvLTTz+dN28ef5tBE0GYtbKyMicnZ9u2bQcPHnz//febNWv28ssvaw6xePHi5OTkNWvWlJWVPfXUU5pPMHl9VTt16tT27dtv3bq1tLT0kUceSU5OFs1O05IECv4JpsGDB+/atWvz5s1Op/Puu+/mz+ocwNn7BM8888zZt0i7du0qwvox6zfffJOenn777bd/8sknBw4ceP/99x988EF+I3f8+PEdOnT461//+sUXXwwfPlzzCSa1/Hbs2CE+wbR69WrNJ5jUWxpo1vLy8rS0tAEDBhQVFX311VfvvvvuFVdc0b17d/HRmy1btiQkJIwcOfKTTz45dOgQ/9bNzTffLD5DrubjdbmgoCAhIeHpp58WBeypAUVR/BSwH7zq+4c6X1vwT6Bcf/31mzdvrqysLCwsnDx5Mn9Xft68eampqevWrdu7d++jjz7q6xNMvmry7Idjc3NzP/vsMw4qNjZ206ZNGiZff/11VFTU6tWrjxw5wiFrylgoob6+vn///t26dXvvvfe+/PLLrVu3Pvvss55zrFOnTjmdzgEDBmzZsuXAgQNr167lrwX5PY9ly5aVl5fzTzCJj/drep94gciH2q9fv27duiUlJYnXW35G8stf/jIzM9Ptdp85c+a6664TYlOftZ85a2lpKf+c+f79+/Py8lJTUwMyq59zFBjVI+HL8+fPj42NXbt2rShIUe2ajevr69u1a9etW7eOHTuKp/zUj7p/8u3PflZ0+PDhX3/9Nb/ZoG6eBQUFjRo14p9g2r17t3hJ56vxTpky5b333qusrNyxY0fv3r35e3NiVGffwjxy5EhsbOz06dMPHDjw9ttvO51OrwrQmHXNmjVxcXErV67ct2/fzJkz/XyCqaKiori4eNy4cWenN8Xn/7yaSFNdS5YsSU5Ofu+99/bt2/fcc88lJyerzXrmzJn27dvHxsaKzzeoz8hzuQGzZmVliU8TiJ35nbcdO3aINeLlnvqj2+I2qXozvrx9+/Zu3brFxsZ2796dfwSRu0p9A0qd2rN7+TEr/0xXZmamw+Fo1arVbbfdtnv3bs3H29R3g//xj3+MHDmydevW/EsjM2fO5F/VUB9CfOnF4XB069ZNfKjdz7V39OjRESNGJCUltWjR4rnnnlN/EULTkgQQfsSXX365TZs2jRs3HjVqlLjNrnMAiqIcOHCAMaZ+o86PWfn3OG+77bamTZvGx8d37dp16tSp/JV4TU3Nfffdl5CQ0LJlywULFqjHrJmJKorCv3XDf7FB/c0fzZYGmpXXGP/kRVRUFGNs1KhR4n1ljnT37t2jR49u1qwZr8NJkyZ5zs4FfM8F9XdjeISBAwd6bnb2A3S+CtgP3iDMyufl999/f1paWlxc3KWXXvroo4/yKWxtbe2UKVOSk5ObNm36xBNPqItNPWBfNVlaWjp06ND09PS4uDhft6AURZk9e3arVq2ioqLEt27EbQz13WBFUX788cfHH3/87J0eh8PRvn37e++9V8xI1OM5ePDg6NGjk5OTExISevXqJX76wOs3UvyXsaIoS5cuZYxpvgzqdSQFBQUxMTF/+9vf+GAOHTqUkpLCX0+rh+fn6lYUZdmyZe3bt09MTLz//vtzc3MDMquiKL7O0Y9Z1d/J4QXp9b0Vfgr8bbuZM2eqz6i6utpr/Xiadfv27VdddVVcXJzXb93k5+d37949NjY2LS1t1KhR/BC+Gu+kSZM6duwYFxeXnp4+duxY9W0PMbbXX389MzMzLi6ub9++77zzjh6zKoqSm5ublpaWlJSUnZ09Y8YMtflEZP6yVWMirzdUNGY9efLkAw88kJKS0rRp0wkTJuTk5Gji/+pXv4qOjhafy1Ef0XO5AbN67oA1BhJQuzzosFu2bFF/xCzoOHLtOHPmzKSkJPUNcPX4z5w588ADD7Ru3Zp/V0r9FJZBAARAIAgC4s1sPfvCrHooUW0TollPnjxZUVExaNAg8S1YqoGaMu6rr766ePFi9U9DqId55syZJUuWrFy5Ur0SyyAAAiAQKIFjx459+OGH8fHx/AvcenaHWfVQotomRLOuWrXq7C/w9ejRg+I3z6jOGXFBAARAQCoCAwcOjI+P9/PlV8+zgVk9mWANCIAACIAACARPAGYNnh32BAEQAAEQAAFPAjCrJxOsAQEQAAEQAIHgCcCswbPDniAAAiAAAiDgSQBm9WRiwJr6+nq32y1+scWAiAgBAiAAAiAgCQGYlSRR/Id/vf4uHcnxEBQEQAAEQMA0BGBWklTArCRYERQEQAAEZCAAs5JkCWYlwYqgIAACICADAZiVJEswKwlWBAUBEAABGQjY2qxz587t1atXUlJSenr6iBEjysrKfKWssLCwR48ecXFxl1xyybJly3xtJtbDrAIFFkAABEDAbgRsbdahQ4euWrWqpKRk165dt956a4cOHY4fP+5ZAZWVlfwfKy0tLV2xYoXD4Vi7dq3nZuo1MKuaBpZBAARAwFYEbG1WdaaPHDnCGCsqKlKv5MszZsxQ/+un48aN69Onj+dm6jUwq5oGlkEABEDAVgRg1v+ku6KigjH2xRdfeKZ/wIABkydPFuvXrVsXExNz+vRpsYYvnDx50n3hr6qqijGGb91oEOEhCIAACNiBAMx6Lsv19fXDhg3r37+/15R37tw5NzdXPLV161bGmOe/fztr1izNP7cLswpoWAiFwJkzSt2ZuinvTqk4WhFKHOwLAiAQHgIw6znOEydOzMjIqKqq8gq9c+fOc+fOFU9t2bKFMVZdXS3W8AXMWTVA8DBEApWVyrx5SosWCmP1bXt9zp5nbRe2hVxDpIrdQSAMBGBWZdKkSe3atausrPSFW+fdYPXueJ9VTQPLARH48ktlwQKlVy+FMdX/Yn9kzzPINSCS2BgEIkXA1matr69/7LHH2rRpU15e7icBM2bMcLlcYoPx48fjE0yCBhaMIsCFes01Kpuqzer8Mzcr5GoUcMQBAToCtjbrhAkTUlJSCgsLqy/8nThxgrPOyckZO3YsX+bfupk2bVppaenKlSvxrRu6crRh5AaEKuT6YH9hVsjVhnWCU5aLgK3NqvnAEWNs1apVPH/Z2dkDBw4UuSwsLLz66qtjY2MzMzPxSxECCxaCJnDw4Llbvj5nqEKofCHpGzYzSm1WyDVo8tgRBMJAwNZmpeOL91np2Fog8oYNSkyMj7u+Gqfyh71/o9Eqf4gPNFmgGHAKliQAs5KkFWYlwWqVoM88E4hWmcIuvhWstizkapWiwHlYigDMSpJOmJUEq1WCVlcrnTrplqu3W8GQq1VqAedhTQIwK0leYVYSrBYKWlWlW64+bgVDrhYqB5yK1QjArCQZhVlJsForqF65+r4VDLlaqyJwNtYhALOS5BJmJcFquaANy7WhW8GQq+WKAidkBQIwK0kWYVYSrJYLWjd2ne0AACAASURBVFen3HGH3zdcddwKhlwtVxc4IekJwKwkKYRZSbBaK2hdnfLAA0Kr9Rf9lqH47o2+W8GQq7VKA2cjPQGYlSSFMCsJVgsFvUirjU6zrEdYs3KtXAO5FQy5Wqg6cCrSE4BZSVIIs5JgtUpQrVbvHHXOi9PaauUa4K1gyNUqBYLzkJ4AzEqSQpiVBKslgnrX6vl/x0Yr18BvBUOulqgRnIT0BGBWkhTCrCRY5Q/qT6sauTbf6/lbwWpx6lnGLzTJXzI4AykJwKwkaYNZSbBKHrRhrXK5PtWUjXiATe2gx50NbgO5Sl41GL6UBGBWkrTBrCRYZQ6qV6tcrob+P+Qqc+Fg7FISgFkNTlteXp7L5XI6nYwxt9ttcHSEk5NABLXKJ7WQq5yFg1HLSgBmJckc5qwkWOUMGnGtQq5yFg5GLTEBmJUkeTArCVYJg5pEq5CrhLWDIUtMAGYlSR7MSoJVtqCm0irkKlv5YLwSE4BZSZIHs5JglSqoCbUKuUpVQRisxARgVpLkwawkWOUJalqtQq7yFBFGKjEBmJUkeTArCVZJgppcq5CrJHWEYUpMAGYlSR7MSoJVhqBSaBVylaGUMEaJCcCsJMmDWUmwmj6oRFqFXE1fTRigxARgVpLkwawkWM0dVDqtQq7mLiiMTmICMCtJ8mBWEqwmDiqpViFXE9cUhiYxAZiVJHkwKwlWswaVWquQq1nLCuOSmADMSpI8mJUEqymDWkCrkKspKwuDkpgAzEqSPJiVBKv5glpGq5Cr+YoLI5KYAMxKkjyYlQSryYJaTKuQq8nqC8ORmADMSpI8mJUEq5mCWlKrkKuZSgxjkZgAzEqSPJiVBKtpglpYq5CraaoMA5GYAMxKkjyYlQSrOYJaXquQqzkKDaOQmADMSpI8mJUEqwmC2kSrkKsJag1DkJgAzEqSPJiVBGukg9pKq5BrpMsNx5eYAMxqcPLy8vJcLpfT6WSMud1ug6MjXOQI2FCrkGvkyg1HlpsAzEqSP8xZSbBGLqhttQq5Rq7ocGSJCcCsJMmDWUmwRiiozbUKuUao7nBYiQnArCTJg1lJsEYiKLTKzcqeZ20Xtq04WhGJJOCYICAZAZiVJGEwKwnWsAeFVoVWMXMNe/XhgBITgFlJkgezkmANb1BoVaNVyDW8BYijSUwAZiVJHsxKgjWMQaFVr1qFXMNYgziUxARgVpLkwawkWMMVFFr1o1XINVxliONITABmJUkezEqCNSxBodUGtQq5hqUScRCJCcCsJMmDWUmw0geFVnVqFXKlL0YcQWICMCtJ8mBWEqzEQaHVgLQKuRLXI8JLTABmJUkezEqClTIotBqEViFXypJEbIkJwKwkyYNZSbCSBYVWg9Yq5EpWlQgsMQGYlSR5MCsJVpqg0GqIWoVcaQoTUSUmALOSJA9mJcFKEBRaNUSrkCtBbSKkxARgVpLkwawkWI0OCq0aqFXI1ejyRDyJCcCsJMmDWUmwGhoUWjVcq5CroRWKYBITgFlJkgezkmA1Lii0SqRVyNW4IkUkiQnArCTJg1lJsBoUFFol1SrkalCdIozEBGBWkuTBrCRYjQgKrYZBq5CrEaWKGBITgFkNTl5eXp7L5XI6nYwxt9ttcHSEC40AtBo2rUKuoZUq9pabAMxKkj/MWUmwhhYUWg2zViHX0AoWe0tMAGYlSR7MSoI1hKDQakS0CrmGULPYVWICMCtJ8mBWEqzBBoVWI6hVyDXYssV+EhOAWUmSB7OSYA0qKLQaca1CrkFVLnaSmADMSpI8mJUEa+BBoVWTaBVyDbx4sYfEBGBWkuTBrCRYAwwKrZpKq5BrgPWLzSUmALOSJA9mJcEaSFBo1YRahVwDKWFsKzEBmJUkeTArCVbdQaFV02oVctVdxdhQYgIwK0nyYFYSrPqCQqsm1yrkqq+QsZXEBGBWkuTBrCRYdQSFVqXQKuSqo5axicQEYFaS5MGsJFgbCgqtSqRVyLWhcsbzEhOAWUmSB7OSYPUbFFqVTquQq9+KxpMSE4BZSZIHs5Jg9R0UWpVUq5Cr76LGMxITgFlJkgezkmD1ERRalVqrkKuPusZqiQnArCTJg1lJsHoLCq1aQKuQq7fSxjqJCcCsJMmDWUmwegSFVi2jVcjVo7qxQmICMCtJ8mBWEqwXB4VWLaZVyPXiAscjiQnArCTJg1lJsKqCQquW1CrkqqpxLEpMAGYlSR7MSoL1QlBo1cJahVwvlDn+KzEBmNXg5OXl5blcLqfTyRhzu90GR0c4RYFWLa9VyBUXuuwEYFaSDGLOSoIVWn2e2USrkCvRFYSw4SEAs5JwhlkpsGK2aiutQq4UFxFihocAzErCGWY1HCu0akOtQq6GX0cIGB4CMCsJZ5jVWKzQqm21CrkaeykhWngIwKwknGFWA7FCqzbXKuRq4NWEUOEhALOScIZZjcIKrUKrgkDbhW0rjlYYVVqIAwJ0BGBWErYwqyFYoVUhFSxwApCrIVcWglATgFlJCMOsoWOFVmFTrwQg19AvLkSgJgCzkhCGWUPECq16lQpWcgKQa4jXF3anJgCzkhCGWUPBCq3CoA0SgFxDucSwLzUBmJWEMMwaNFZotUGpYANOAHIN+irDjtQEYFYSwjBrcFihVVgzIAKQa3AXGvaiJgCzkhCGWYPACq0GJBVszAlArkFca9iFmgDMSkIYZg0UK7QKUwZNAHIN9HLD9tQEbG3WoqKirKys1q1bM8bWr1/vlXVBQQG7+G/v3r1et1SvhFnVNBpchlaDlgp25AQg1wavMmwQTgK2NuumTZueffbZ/Pz8Bs26b9++6gt/dXV1DWYIZm0QkdgAWoUdDSEAuYprCgsRJ2Brswr6DZr1hx9+EBvrWYBZ9VBS8O+t2uzfWzXEoH6CQK46rztsRk0AZj1HuEGzZmZmtmrV6oYbbvjoo4/0pARm1UMJs1U/ksBTwRGAXPVcetiGmgDMeo6wH7OWlZUtX758x44d27ZtmzBhQlRUVFFRkdesnDx50n3hr6qqijHmdru9bomVmK0Gpw3spYcA5IoOE3ECMOu5FPgxqyZDWVlZw4YN06zkD2fNmnXxR51gVq+czq3EbFWPIbBN0AQgV5/XHp4ICwGY9Rxm/WadM2dO165dvaYGc1avWDxXQqtBCwM76icAuXpeelgTNgIw6znU+s06evToQYMGNZgevM/qCxG0qt8N2DJEApCrr8sQ66kJ2NqsNTU1xef/GGOLFi0qLi4+dOiQoig5OTljx47l6BcvXrx+/fry8vKSkpKcnBzGWH5+foNZgVm9IoJWQ1QFdg+UAOTq9UrESmoCtjar569AZGdnK4qSnZ09cOBAjn7+/PkdO3Zs3Lhxampq//79N27cqCclMKsnJWg1UCtge0MIQK6eFyPWUBOwtVnp4MKsGrbQqiGSQJDgCECumusRD6kJwKwkhGFWNVZoNTgfYC8DCUCu6ksSy9QEYFYSwjCrwAqtGqgHhAqFAOQqrkosUBOAWUkIw6wcK7Qaigmwr+EEIFeSfoegHgRgVg8kRqyAWfFzEIZbAQENIQC5GtHhEKMBAjBrA4CCexpmxWzVEA0gCAUByDW4toa99BOAWfWzCmBLm5sVWqXwAWIaSAByDaCdYdPACcCsgTPTsYedzQqtGigAhKIjALnq6GTYJEgCMGuQ4PzvZluzQqt0JkBkwwlArv77GJ4NmgDMGjQ6fzva06zQquGtHwGpCUCu/hoZnguWAMwaLDm/+9nQrNAqtQMQn4gA5Oq3meHJYAjArMFQa3Afu5kVWiVq+ggbHgKQa4M9DRsERABmDQiX3o1tZVZoNTzdH0chJQC56u1u2E4HAZhVB6TAN7GPWaFV0naP4OEkALkG3uqwh3cCMKt3LiGutYlZodVw9n0cKwwEINcQWx925wRgVoMrIS8vz+VyOZ1Oxpjb7TY4upnCQathaPQ4RPgJQK5majOyjgVmJcmc5ees0Gr4Oz6OGDYCkCtJW7RTUJiVJNvWNiu0GrYWjwNFigDkStIZbRMUZiVJtYXNCq1GqtfjuGEmALmSNEd7BIVZSfJsVbNCq2Fu7jhcZAlAriT90QZBYVaSJFvSrNBqZLs8jh4RApArSYu0elCYlSTD1jMrtBqRto6DmoEA5ErSJS0dFGYlSa/FzAqtmqG/YwwRJAC5kjRK6waFWUlyayWzQqsRbOg4tHkIQK4kvdKiQWFWksRaxqzQqnk6O0YScQKQK0m7tGJQmJUkq9YwK7Qa8VaOAZiNAORK0jEtFxRmJUmpBcwKrZqtp2M8JiEAuZI0TWsFhVlJ8im7WaFVkzRxDMOcBCBXkr5poaAwK0kypTYrtGrObo5RmYoA5ErSOq0SFGYlyaS8ZoVWTdW+MRgzE4BcSbqnJYLCrCRplNSs0KqZ+zjGZkICkCtJA5U/KMxKkkMZzQqtmrBxY0jmJwC5kvRQyYPCrCQJlM6s0Kr5OzhGaFoCkCtJG5U5KMxKkj25zAqtmrZlY2CyEIBcSTqptEFhVoNTl5eX53K5nE4nY8ztdhscnSActCpL78Y4TU4AciXoT7KGhFlJMifLnBVaNXmzxvDkIgC5kvRTCYPCrCRJk8Ks0KpcXRujlYIA5ErSUmULCrOSZMz8ZoVWpWjTGKSMBCBXkq4qVVCYlSRdJjcrtCpjv8aYJSIAuZI0VnmCwqwkuTKzWaFViRo0hiovAciVpLdKEhRmJUmUac0KrcrbqTFy6QhAriTtVYagMCtJlsxpVmhVutaMActOAHIl6bCmDwqzkqTIhGaFVmXv0Ri/pAQgV5Ima+6gMCtJfsxmVmhV0qaMYVuDAORK0mdNHBRmJUmOqcwKrVqjO+MspCYAuZK0WrMGhVlJMmMes0KrUrdjDN5KBCBXkm5ryqAwK0laTGJWaNVKfRnnYgECkCtJwzVfUJiVJCdmMCu0aoFGjFOwHgHIlaTnmiwozEqSkIibFVq1XkfGGVmGAORK0nbNFBRmJclGZM0KrVqmBeNErEoAciXpvKYJCrOSpCKCZoVWrdqLcV4WIwC5kjRfcwSFWUnyECmzQqsWa744HWsTgFxJ+q8JgsKsJEmIiFmhVWt3YZydJQlAriQtONJBYVaSDITfrNCqJdsuTsoOBCBXki4c0aAwq8H48/LyXC6X0+lkjLndboOj+wgHrdqh/+IcLUwAcvXR22RdDbOSZC6cc1Zo1cINF6dmHwKQK0kvjlBQmJUEfNjMCq3ap/PiTC1PAHIlaceRCAqzklAPj1mhVcu3Wpyg3QhAriQdOexBYVYS5GEwK7Rqt56L87UJAciVpCmHNyjMSsKb2qzQqk2aLE7TngQgV5K+HMagMCsJbFKzQqv27LY4a1sRgFxJWnO4gsKsJKTpzAqt2qq94mTtTAByJenOYQkKs5JgJjIrtGrnPotztyEByJWkQdMHhVlJGFOYFVq1YWPFKYMA5ErSo4mDwqwkgA03K7SKDgsCtiUAuZK0acqgMCsJXWPNCq3atqXixEGAE4BcSTo1WVCYlQStgWaFVtFbQQAE2PMMciVp1jRBYVYSrkaZFVpFSwUBEBAEIFeSfk0QFGYlgKoohpgVWhUNBQsgAAKcAORK0rKNDgqzGk30fLzQzQqtopOCAAh4JQC5knRtQ4PCrIbivBAsRLNCq14bClaCAAhwApDrhV5r0v/CrCSJCcWs0Cq6JwiAQIMEIFeS3m1QUJjVIJAXhwnarNBqgw0FG4AACHACkOvFfddEj2BWkmQEZ1ZoFR0TBEAgIAKQK0kHDzkozBoywosD5OXluVwup9PJGHO73Rc/6e8RtBpQQ8HGIAACnADk6q+xRug5mJUEfKBzVmgVXRIEQCBoApArSR8PISjMGgI837sGZFZoNeiGgh1BAAQ4AcjVdz+OwDMwKwl0/WaFVtEZQQAEDCEAuZJ086CCwqxBYWtoJ51mhVYNaSgIAgIgwAlArg315jA9D7OSgNZjVmgV3RAEQMBwApArSU8PMCjMGiAwfZs3aFZo1fCGgoAgAAKcAOSqr08TbgWzksD1b1ZoFR0QBECAlADkStLZdQeFWXWjCmRDP2aFVkkbCoKDAAhwApBrID3b4G1hVoOB8nC+zAqtouuBAAiEjQDkStLfdQSFWXVACnwTr2aFVsPWUHAgEAABTgByDbx/G7AHzGoARM8QnmaFVtHpQAAEIkIAcvVs0dRrYFYSwhqzQqsRaSg4KAiAACcAuZI0et9BYVbfbEJ4Rm1WaBXdDQRAIOIEINcQOnrAu8KsASPTs4MwK7Qa8YaCAYAACHACkKue7m3INjCrIRi1QbhZv//e/cADCmPn/9foNLtzFK5wEAABEIggAchV26xpHtvarEVFRVlZWa1bt2aMrV+/3hfhwsLCHj16xMXFXXLJJcuWLfO1mXo9N+uYMW5oNYJNBIcGARDwJAC5qns10bKtzbpp06Znn302Pz/fj1krKysTEhKmTJlSWlq6YsUKh8Oxdu3aBpPx/fdudu7vvFkxW32eeV7eWAMCIBApApBrgz08xA1sbVbBzo9ZZ8yY0bVrV7HluHHj+vTpIx56Lpw6pdx9txITc8Gs0Cq0CgIgYD4CkKtn9zZwDcx6DqYfsw4YMGDy5MmC+Lp162JiYk6fPi3WiIWTJ0+63e4XX/z3+TvA3Kw/4L3VSL0qx3FBAAT8E4BcRfc2fAFmPYfUj1k7d+6cm5sruG/dupUxdvjwYbFGLMyaNev8HeC5P5m16U7/lY1nQQAEQCCCBPI+yRMdDAsGEoBZz8H0b9a5c+cK4lu2bGGMVVdXizVigc9ZP/64Jimp/vw7rIwll7LpzSN42eDQIAACIHARgadS2Mj7WVoJi6rt2q9ctC8sGEsAZj3H049Z9d8NFomprFSWLTt3Nzi12dHo1iWQ60UXtvnecMLwQMD6BLhQO29gjU795wsLTHE4RNPCgsEEYNZzQP2YdcaMGS6XS1AfP368/08w8S35t24+/tjdLK0WcrV+28LLBRAwJwFvQhVm7d1bNDYsGEzA1matqakpPv/HGFu0aFFxcfGhQ4cURcnJyRk7diwnzb91M23atNLS0pUrV+r81o34DaaSEgVyhVlBAATCSsCvUIVZ8/MN1gnCCQK2NmtBQcH5zxz99H/Z2dmKomRnZw8cOFAwKiwsvPrqq2NjYzMzMwP6pQi3260oCuQa1p5izqkDRgUCYSCgT6jcrImJyokToslhwWACtjarwSxV4cScla+DXCFXEAABWgIPX8tiL/zoG/9FVb//f/fdqoaFRaMJwKxGEz0fT2NWzFxpe0oYZgM4BAiYnMCNT4nbvHoWcCuYpPVfCAqzXiBh6H89zQq5Qq4gAAKEBH6ZzlIr9DiVMQW3gg3t916CwaxeoIS+yqtZIVfCtmLy+QSGBwJhIDCtrU654lZw6E3efwSY1T+fIJ/1ZVbIFXIFARAgJKBPrrgVHGRn170bzKobVSAb+jEr5ErYVsIwLcAhQMDkBBqSK24FB9LLg9wWZg0SnP/d/JsVcoVcQQAECAn0WejnDVfcCvbfvQ15FmY1BKM2SINmhVwJ24rJpxQYHgiQEhg4y49WGVNwK1jbrwkew6wEUBVFj1khV8gVBEDAYAIqrb7wgtKxo6KxLG4Fk3R8j6AwqwcSI1boNCvkanBbIZ0KIDgImJyASqu/+c25RlZVpZUrbgUb0eAbjgGzNswoiC30mxVyhVxBAAQMIOChVd64NHLFreAg+nkQu8CsQUBreJeAzAq5GtBWTD6ZwPBAgJSAD63yViXkmp6O3wpuuHsbsgXMaghGbZBAzQq5Qq4gAAJBEvCrVd6b/vlPZfFi5e9/13YqPCYiALOSgA3CrJBrkG2FdCqA4CBgcgI6tErS4xDULwGY1S+ewJ/My8tzuVxOp5Mxxv8VuYBi4F/FgV9BAAT0EoBWA2qvYdwYZiWBHdyclQ8FctXbVkw+mcDwQICUALRK0ryNCQqzGsNREyUUs+K2MMwKAiDQAAFoVdNzTfYQZiVJSIhmhVwbaCukUwEEBwGTE4BWSdq2kUFhViNpilihmxVyhVxBAAS8EIBWRZ818QLMSpIcQ8wKuXppKyafTGB4IEBKAFoladjGB4VZjWeq6P7dYD3Hxgea4FcQAIFzBKBVPR3THNvArCR5MGrOygcHuaKxgoDdCUCrJK2aKijMSkLWWLPitrDduyrpDUYENz8BaJWkTxMGhVlJ4BpuVsgVcgUBmxKAVkmaNG1QmJWEL4VZIVebNlbzz6gwQjoC0CpJhyYPCrOSICYyK+QKuYKAjQhAqyTtORxBYVYSynRmhVxt1FjpZkKIbH4C0CpJbw5TUJiVBDSpWSFXyBUELE4AWiVpzOELCrOSsKY2K+Rq8cZq/hkVRkhHAFol6cphDQqzkuAOg1khV8gVBCxIAFolacnhDgqzkhAPj1khVws2VrqZECKbnwC0StKPIxAUZiWBHjazQq6QKwhYhAC0StKMIxMUZiXhHk6zQq4Waazmn1FhhHQEoFWSThyxoDArCfowmxVyhVxBQGIC0CpJG45kUJjVYPp5eXkul8vpdDLG3G63wdH9hsMP90vcW+kmQ4hscgLQqt+2JumTMCtJ4sI/Z+WnAblCriAgEwFolaQBRz4ozEqSg0iZFbeFZeqqJp9LYXjUBKBVku5riqAwK0kaImhWyBVyBQEJCECrJK3XLEFhVpJMRNaskKsEjZV6PoT4ZiYArZL0XRMFhVlJkhFxs0KukCsImJQAtErSdM0VFGYlyYcZzAq5mrSxmnkuhbFRE4BWSTqu6YLCrCQpMYlZIVfIFQRMRABaJWm3ZgwKs5JkxTxmhVxN1Fip50OIb2YC0CpJrzVpUJiVJDGmMivkCrmCQIQJQKskjda8QWFWktyYzayQa4Qbq5nnUhgbNQFolaTLmjoozEqSHhOaFXKFXEEgAgSgVZIWa/agMCtJhsxpVsg1Ao2Vej6E+GYmAK2S9FcJgsKsJEkyrVkhV8gVBMJEAFolaa5yBIVZSfJkZrNCrmFqrGaeS2Fs1ASgVZLOKk1QmJUkVSY3K+QKuYIAIQFolaStyhQUZiXJlvnNCrkSNlbq+RDim5kAtErSUyULCrOSJEwKs0KukCsIGEwAWiVpqPIFhVlJciaLWSFXgxurmedSGBs1AWiVpJtKGRRmJUmbRGaFXCFXEDCAALRK0kplDQqzGpy5vLw8l8vldDoZY2632+DoZOFKSpRmabXRrUvY9OYGdBnqyQHig4CpCECrZK1J0sAwK0ni5JqzcgSQK15SgEAwBKBVkiYqd1CYlSR/MpoVt4WD6aqmmjlhMOEnAK2SdFDpg8KsJCmU1KyQK+QKAgEQgFZJ2qcVgsKsJFmU16yQawCNNfwzJBzRPASgVZLeaZGgMCtJIqU2K+QKuYJAAwSgVZLGaZ2gMCtJLmU3K+TaQGM1z8wJIwk/AWiVpGtaKijMSpJOC5gVcoVcQcALAWiVpGVaLSjMSpJRa5gVcvXSWMM/Q8IRzUMAWiXplxYMCrOSJNUyZoVcIVcQ+A8BaJWkWVozKMxKklcrmRVyhVpAgEGrJJ3SskFhVpLUWsyskCvUYmsC0CpJm7RyUJiVJLvWMyvkamu1mOedzvCPBFol6ZEWDwqzkiTYkmaFXCFX2xGAVkkapPWDwqwkObaqWSFX26kl/HNE8xwRWiXpjrYICrOSpNnCZoVcIVdbEIBWSVqjXYLCrCSZtrZZIVdbqMU8c8fwjwRaJemLNgoKs5Ik2/JmhVwhV8sSgFZJmqK9gsKsJPm2g1khV8uqJfxzRPMcEVol6Yi2CwqzkqTcJmaFXCFXSxGAVknaoR2DwqwGZz0vL8/lcjmdTsaY2+02OLopw5WUKM3SaqNbl7DpzS3VZ80zkcJIwkAAWjVle5F0UDArSeLsM2fl+CBXvKSQmwC0StII7RsUZiXJvd3MitvCcnslDDNCMx8CWiXpgrYOCrOSpN+GZoVcIVcpCUCrJC3Q7kFhVpIKsKdZIVcp1WLm2ST12KBVkv6HoArMSlIEtjUr5Aq5SkMAWiVpfgh6jgDMSlIHdjYr5CqNWqhnhGaOD62SdD4E/Q8BmJWkFGxuVsgVcjU1AWiVpO0h6E8EYNafWBi4BLNCrqZWi5lnk9Rjg1YN7HQI5YMAzOoDTGirYVbOD99zhV/NRQBaDa2zYW+dBGBWnaAC2wxmFbwgV3OphXpGaOb40Kq4LLFATABmJQEMs6qxQq6Qa+QJQKvqaxLLxARgVhLAMKsGK+QaebWYeTZJPTZoVXNB4iExAZiVBDDM6okVcoVcI0MAWvW8GrGGmADMSgIYZvWKFXKNjFqoZ4Rmjg+ter0UsZKYAMyqLF26NDMzMy4urkePHps3b/YEXlBQwC7+27t3r+dm6jUwq5qGehlyhVzDRwBaVV97WA4jAbubdc2aNQ6HY8WKFaWlpVOmTElMTDx06JCGPzfrvn37qi/81dXVabbRPIRZNUDUDyHX8KnFzLNJ6rFBq+qrDsvhJWB3s/bu3Xv8+PGCedeuXXNycsRDvsDN+sMPP2jW+3kIs/qBgx+RgFnJCUCr/q9APEtMwNZmPXXqVHR09Lp16wTkyZMnX3fddeIhX+BmzczMbNWq1Q033PDRRx9pNvB8CLN6MtGswcyV3C7Uk0LTxodWNRcbHoadgK3N+s033zDGtm7dKrDn5uY6nU7xkC+UlZUtX758x44d27ZtmzBhQlRUVFFRkWYbRVFOnjzpvvBXVVXFGHO73Z6bYY0gALlCrsYTgFbFBYaFyBGAWdm2bdsE/zlz5nTp0kU89LqQlZU1bNgwz6dmzZp18eecYFZPSNo1kKvxajHtVDIMA4NWtVcYHkeGgK3NqvNusCYzc+bM6dq1q2Yl5qyeQHSugVwhV2MIqLS6ZInO6sNmIEBCwNZmVRSld+/eEyZMEGhdLpfnJ5jEs3xh9OjRgwYN0qzUPMT7rBog/h9CrsaoJQyTP9/WDAAAD4lJREFUQtMeAlr1f43h2fASsLtZ+bduVq5cWVpaOnXq1MTExIMHD56dgObk5IwdO5bnYvHixevXry8vLy8pKcnJyWGM5efn+08TzOqfj+ezkCvkGjwBaNXzisKaiBKwu1kV5dwvRWRkZMTGxvbo0UN8NCk7O3vgwIE8NfPnz+/YsWPjxo1TU1P79++/cePGBlMGszaIyHMDyDV4tZh2KhmGgUGrntcS1kSaAMxKkgGYNTiskCvkGhgBaDW4Kw17EROAWUkAw6xBY4VcA1NLGCaFpj0EtBr0ZYYdiQnArCSAYdZQsEKukGvDBKDVUK4x7EtMAGYlAQyzhogVcm1YLaadSoZhYNBqiBcYdicmALOSAIZZQ8cKuUKu3glAq6FfXYhATABmJQEMsxqCFXL1rpYwTApNewho1ZBLC0GICcCsJIBhVqOwQq6Q608EoFWjrivEISYAs5IAhlkNxAq5/qQW004lwzAwaNXAiwqhiAnArCSAYVZjsUKudpcrtGrsFYVoxARgVhLAMKvhWCFX+8oVWjX8ckJAYgIwKwlgmJUCK+RqR7lCqxTXEmISE4BZSQDDrCRYFQVytZdcoVWiCwlhiQnArCSAYVYSrOeDQq52kSu0SncVITIxAZiVBDDMSoL1QlDI1fpyhVYvVDv+KyMBmJUkazArCVZVUMjVynKFVlWljkUZCcCsBmctLy/P5XI5nU7GmNvtNjg6wqkIQK7WlCu0qipyLEpKAGYlSRzmrCRYPYJCrlaTK7TqUeRYISMBmJUkazArCVZvQSFX68gVWvVW4VgnIwGYlSRrMCsJVh9BIVcryBVa9VHeWC0jAZiVJGswKwlW30EhV7nlCq36rm08IyMBmJUkazArCVa/QSFXWeUKrfotbDwpIwGYlSRrMCsJ1oaCQq7yyRVabaiq8byMBGBWkqzBrCRYdQSFXGWSK7Sqo6SxiYwEYFaSrMGsJFj1BYVc5ZArtKqvnrGVjARgVpKswawkWHUHhVzNLldoVXcxY0MZCcCsJFmDWUmwBhIUcjWvXKHVQCoZ28pIAGYlyRrMSoI1wKCQqxnlCq0GWMbYXEYCMCtJ1mBWEqyBB4VczSVXaDXwGsYeMhKAWUmyBrOSYA0qKORqFrlCq0EVMHaSkQDMSpI1mJUEa7BBIdfIyxVaDbZ6sZ+MBGBWkqzBrCRYQwgKuUZSrtBqCKWLXWUkALOSZA1mJcEaWlDINTJyhVZDq1vsLSMBmJUkazArCdaQg0Ku4ZYrtBpy0SKAjARgVpKswawkWI0ICrmGT67QqhEVixgyEoBZSbIGs5JgNSgo5BoOuUKrBpUrwshIAGY1OGt5eXkul8vpdDLG3G63wdERziACkCutXKFVgwoVYSQlALOSJA5zVhKshgaFXKnkCq0aWqgIJiMBmJUkazArCVajg0KuxssVWjW6ShFPRgIwK0nWYFYSrARBIVcj5QqtEpQoQspIAGYlyRrMSoKVJijkaoxcoVWa+kRUGQnArCRZg1lJsJIFhVxDlSu0SlacCCwjAZiVJGswKwlWyqCQa/ByhVYpKxOxZSQAs5JkDWYlwUocFHINRq7QKnFZIryMBGBWkqzBrCRY6YNCroHJFVqlr0kcQUYCMCtJ1mBWEqxhCQq56pUrtBqWgsRBZCQAs5JkDWYlwRquoJBrw3KFVsNVjTiOjARgVpKswawkWMMYFHL1J1doNYyliEPJSABmJckazEqCNbxBIVfvcoVWw1uHOJqMBGBWkqzBrCRYwx4UctXKFVoNexHigDISgFlJsgazkmCNRFDI9Se5QquRqEAcU0YCMCtJ1mBWEqwRCgq5npMrtBqh8sNhZSQAs5JkDWYlwRq5oHaXK7QaudrDkWUkALOSZA1mJcEa0aD2lSu0GtHCw8FlJACzkmQNZiXBGumgdpQrtBrpqsPxZSQAsxqctby8PJfL5XQ6GWNut9vg6AgXaQL2kiu0Gul6w/ElJQCzkiQOc1YSrOYIahe5QqvmqDeMQkYCMCtJ1mBWEqymCWp9uUKrpik2DERGAjArSdZgVhKsZgpqZblCq2aqNIxFRgIwK0nWYFYSrCYLak25QqsmKzMMR0YCMCtJ1mBWEqzmC2o1uUKr5qsxjEhGAjArSdZgVhKspgxqHblCq6YsMAxKRgIwK0nWYFYSrGYNagW5QqtmrS6MS0YCMCtJ1mBWEqwmDiq3XKFVE5cWhiYjAZiVJGswKwlWcweVVa7QqrnrCqOTkQDMSpI1mJUEq+mDyidXaNX0RYUBykgAZiXJGsxKglWGoDLJFVqVoaIwRhkJwKwkWYNZSbBKElQOuUKrkpQThikjAZiVJGswKwlWeYKaXa7Qqjy1hJHKSABmJckazEqCVaqg5pUrtCpVIWGwMhKAWUmyBrOSYJUtqBnlCq3KVkUYr4wEYFaSrMGsJFglDGouuUKrEpYQhiwjAZiVJGswKwlWOYOaRa7Qqpz1g1HLSABmJckazEqCVdqgkZcrtCpt8WDgMhKAWUmyBrOSYJU5aCTlCq3KXDkYu4wEYFaDs5aXl+dyuZxOJ2PM7XYbHB3hZCYQGblCqzLXDMYuKQGYlSRxmLOSYJU/aLjlCq3KXzM4AxkJwKwkWYNZSbBaImj45AqtWqJgcBIyEoBZSbIGs5JgtUrQcMgVWrVKteA8ZCQAs5JkDWYlwWqhoLRyhVYtVCo4FRkJwKwkWYNZSbBaKyiVXKFVa9UJzkZGAjArSdZgVhKslgtqvFyhVcsVCU5IRgIwK0nWYFYSrFYMaqRcoVUrVgjOSUYCMCtJ1mBWEqwWDWqMXKFVi5YHTktGAjArSdZgVhKs1g0aqlyhVevWBs5MRgIwK0nWYFYSrJYOGrxcoVVLFwZOTkYCMCtJ1mBWEqxWDxqMXKFVq1cFzk9GAjArSdZgVhKsNggamFyhVRuUBE5RRgIwK0nWYFYSrPYIqleu0Ko96gFnKSMBmJUkazArCVbbBG1YrtCqbYoBJyojAZiVJGswKwlWOwX1J1do1U6VgHOVkQDMSpI1mJUEq82CepcrtGqzMsDpykgAZiXJGsxKgtV+QbVyhVbtVwM4YxkJwKwkWYNZSbDaMmhJiZLavDYq8Z8s9hhjCv/fkiW2ZIGTBgFJCMCsISWqvr7efeHvyJEjVRf+SktLGWNVVVUXnsR/QSB4ArNnuxn76X/z5gUfCnuCgH4C9fX1IfVHG+8Ms4aUfD43ZfgDARAAAcsRcLvdIfVHG+8Ms4aUfF9z1k8//ZQxVlpaqv/loXpLp9Opfqh/Oegd3W53RPatqqoKZXIfkTGHn9Vnn7kTE/8zZ50+/Vv99aDeMiKsInJQFJU67/6X/bPCnDVoPcCsQaPzt6OoV38b+X7O5XL5ftLfM0HvqChKRPYN8Q3piIw5Iqz27VPmzfs3Y7cGPY2ICKuIHBRF5a9HXPxciKwuDoZHPxGAWX9iYeBSiGbNy8sLbjBB76goSkT2DfHCjsiYwUp/cUYkQSgq/QkKkZX+A9ltS5iVJOMhmpVkTKYMigtbf1rASicrgNIJSlEUsNLPKqAtYdaAcOnd+MiRI4yxI0eO6N3BrtudPHly1qxZZ//frgACOG+w0gkLoHSCUhQFrPSzCmhLmDUgXHo3xitBvaSwHQiAAAhYjgDMSpJSmJUEK4KCAAiAgAwEYFaSLMGsJFgRFARAAARkIACzkmSJf88V3wYjgYugIAACIGBuAjCrufOD0YEACIAACMhGAGaVLWPSjnfp0qWZmZlxcXE9evTYvHmz53kUFBRofh5u7969nptZe01RUVFWVlbr1q0ZY+vXr/d1soWFhT169IiLi7vkkkuWLVvmazNrr9fDCkWlKMrcuXN79eqVlJSUnp4+YsSIsrIyX4WBuvJFJtD1MGugxLB9MATWrFnjcDhWrFhRWlo6ZcqUxMTEQ4cOaQLxJrhv377qC391dXWabSz/cNOmTc8++2x+fr4fs1ZWViYkJEyZMqW0tHTFihUOh2Pt2rWWJ+N5gnpYoagURRk6dOiqVatKSkp27dp16623dujQ4fjx4548UVeeTIJeA7MGjQ47BkCgd+/e48ePFzt07do1JydHPOQLvAn+8MMPmvX2fOjHrDNmzOjatavAMm7cuD59+oiHNlzwwwpFpakH/lX7oqIizXpFUVBXnkyCXgOzBo0OO+olcOrUqejo6HXr1okdJk+efN1114mHfIE3wczMzFatWt1www0fffSRZgNbPfRjiwEDBkyePFnQWLduXUxMzOnTp8Uauy34YYWi0hRDRUUFY+yLL77QrFcUBXXlySToNTBr0Oiwo14C33zzDWNs69atYofc3Fyn0yke8oWysrLly5fv2LFj27ZtEyZMiIqK8vrKWrOXVR/6sUXnzp1zc3PFiW/dupUxdvjwYbHGbgt+WKGo1MVQX18/bNiw/v37q1eKZdSVQBH6AswaOkNEaIAAN+u2bdvEdnPmzOnSpYt46HUhKytr2LBhXp+yw0o/tujcufPcuXMFhC1btjDGqqurxRq7LfhhpUFh86KaOHFiRkZGVVWVBgt/iLryiiW4lTBrcNywVwAEdN4N1kScM2eO+t1EzbOWf+jHFrhrp8m+H1aaLe1cVJMmTWrXrl1lZaWGiXiIuhIoQl+AWUNniAgNE+jdu/eECRPEdi6Xy/MTTOJZvjB69OhBgwZpVtrnoR9bzJgxQ/3vno4fPx6fYPLzDSV1zdizqOrr6x977LE2bdqUl5eraWiWUVcaIKE8hFlDoYd99RLg37pZuXJlaWnp1KlTExMTDx48ePaf2sjJyRk7diyPsnjx4vXr15eXl5eUlOTk5DDG8vPz9R7AKtvV1NQUn/9jjC1atKi4uJh/PUkNin87Ytq0aaWlpStXrrTtt270sEJRKYoyYcKElJSUwsLCC19nqz5x4gS/YlBXRJ0DZiUCi7BaAkuXLs3IyIiNje3Ro4f4aFJ2dvbAgQP5pvPnz+/YsWPjxo1TU1P79++/ceNGbQgbPOafZVX/YkZ2draiKGpQiqIUFhZeffXVsbGxmZmZtv2lCD2sUFSKoqjLiS+vWrWKX0yoK6KmArMSgUVYEAABEAABmxKAWW2aeJw2CIAACIAAEQGYlQgswoIACIAACNiUAMxq08TjtEEABEAABIgIwKxEYBEWBEAABEDApgRgVpsmHqcNAiAAAiBARABmJQKLsCAAAiAAAjYlALPaNPE4bRAAARAAASICMCsRWIQFARAAARCwKQGY1aaJx2mDAAiAAAgQEYBZicAiLAiAAAiAgE0JwKw2TTxOGwRAAARAgIgAzEoEFmFBAARAAARsSuD/AQ35akgpvBEHAAAAAElFTkSuQmCC)\n",
        "</center>"
      ],
      "metadata": {
        "id": "vLBtpu_vZvkY"
      }
    },
    {
      "cell_type": "markdown",
      "source": [
        "---"
      ],
      "metadata": {
        "id": "yoyCy3oLaW0Z"
      }
    },
    {
      "cell_type": "markdown",
      "source": [
        "<div align=\"justify\">\n",
        "\n",
        "La representación en forma de cadena ya proporciona mucha información:\n",
        "\n",
        "- la dimensión del politopo (el espacio afín más pequeño que lo contiene)\n",
        "- la dimensión del espacio en el que está definido\n",
        "- el anillo base ($\\mathbb{Z}^d$) sobre el cual está definido el politopo (esto determina su clase padre, véase *Parents for Polyhedra*)\n",
        "- el número de vértices\n",
        "- el número de rayos\n",
        "\n",
        "\n",
        "</div>"
      ],
      "metadata": {
        "id": "oENyGq33WOCE"
      }
    },
    {
      "cell_type": "markdown",
      "source": [
        "---"
      ],
      "metadata": {
        "id": "6uNASv0caXkT"
      }
    },
    {
      "cell_type": "markdown",
      "source": [
        "También puede añadirse un espacio de linealidad al politopo.\n"
      ],
      "metadata": {
        "id": "6f5mPiIHawho"
      }
    },
    {
      "cell_type": "markdown",
      "source": [
        "---"
      ],
      "metadata": {
        "id": "zYdlse0zaxZu"
      }
    },
    {
      "cell_type": "markdown",
      "source": [
        "**👨‍💻Implementación👩‍💻**"
      ],
      "metadata": {
        "id": "GYrxjRBfwTm9"
      }
    },
    {
      "cell_type": "code",
      "source": [
        "\n",
        "P2 = Polyhedron(vertices=[[1/2, 0, 0], [0, 1/2, 0]],rays=[[1, 1, 0]],lines=[[0, 0, 1]])\n",
        "P2\n",
        "P2.plot()"
      ],
      "metadata": {
        "id": "b0MdvkFgaAAJ"
      },
      "execution_count": null,
      "outputs": []
    },
    {
      "cell_type": "markdown",
      "source": [
        "<center>\n",
        "\n",
        "![image.png](data:image/png;base64,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)\n",
        "\n",
        "</center>"
      ],
      "metadata": {
        "id": "kZ2N4rIUbQxD"
      }
    },
    {
      "cell_type": "markdown",
      "source": [
        "---"
      ],
      "metadata": {
        "id": "YwvrERiSbs6z"
      }
    },
    {
      "cell_type": "markdown",
      "source": [
        "<div align=\"justify\">\n",
        "\n",
        "Obsérvese que el anillo base cambia debido al valor $1/2$. En efecto, Sage determina automáticamente un anillo adecuado para definir el objeto.\n",
        "\n",
        "\n",
        "\n",
        "</div>"
      ],
      "metadata": {
        "id": "Y79TqkyNWOqc"
      }
    },
    {
      "cell_type": "markdown",
      "source": [
        "---"
      ],
      "metadata": {
        "id": "Akh7TKkNbt9e"
      }
    },
    {
      "cell_type": "markdown",
      "source": [
        "**👨‍💻Implementación👩‍💻**"
      ],
      "metadata": {
        "id": "e9nU2vqVwlyr"
      }
    },
    {
      "cell_type": "code",
      "source": [
        "\n",
        "P1.parent()"
      ],
      "metadata": {
        "id": "4eLPdqOFbgg_"
      },
      "execution_count": null,
      "outputs": []
    },
    {
      "cell_type": "markdown",
      "source": [
        "Polyhedra in QQ^2"
      ],
      "metadata": {
        "id": "eQ78Jqsrb-2x"
      }
    },
    {
      "cell_type": "markdown",
      "source": [
        "**👨‍💻Implementación👩‍💻**"
      ],
      "metadata": {
        "id": "R-9dhOG5wmsZ"
      }
    },
    {
      "cell_type": "code",
      "source": [
        "\n",
        "P2.parent()"
      ],
      "metadata": {
        "id": "1AUFelUrb_M9"
      },
      "execution_count": null,
      "outputs": []
    },
    {
      "cell_type": "markdown",
      "source": [
        "Polyhedra in QQ^3"
      ],
      "metadata": {
        "id": "4awQpim0cKXo"
      }
    },
    {
      "cell_type": "markdown",
      "source": [
        "---"
      ],
      "metadata": {
        "id": "qZ2rJ6jFcQuW"
      }
    },
    {
      "cell_type": "markdown",
      "source": [
        "<div align=\"justify\">\n",
        "\n",
        "El anillo seleccionado depende del formato de entrada proporcionado.\n",
        "\n",
        "\n",
        "</div>"
      ],
      "metadata": {
        "id": "lK1yXbqcWPQL"
      }
    },
    {
      "cell_type": "markdown",
      "source": [
        "---"
      ],
      "metadata": {
        "id": "F9egT4XbcSvu"
      }
    },
    {
      "cell_type": "markdown",
      "source": [
        "**👨‍💻Implementación👩‍💻**"
      ],
      "metadata": {
        "id": "_-33MEtFwnmk"
      }
    },
    {
      "cell_type": "code",
      "source": [
        "\n",
        "P3 = Polyhedron(vertices=[[0.5, 0], [0, 0.5]])\n",
        "P3\n"
      ],
      "metadata": {
        "id": "1CUzKp3pctHQ"
      },
      "execution_count": null,
      "outputs": []
    },
    {
      "cell_type": "markdown",
      "source": [
        "A 1-dimensional polyhedron in RDF^2 defined as the convex hull of 2 vertices"
      ],
      "metadata": {
        "id": "bl7twO2LcyU_"
      }
    },
    {
      "cell_type": "markdown",
      "source": [
        "**👨‍💻Implementación👩‍💻**"
      ],
      "metadata": {
        "id": "agjEJK48wwUK"
      }
    },
    {
      "cell_type": "code",
      "source": [
        "P3.parent()"
      ],
      "metadata": {
        "id": "SCdgNvlucxhK"
      },
      "execution_count": null,
      "outputs": []
    },
    {
      "cell_type": "markdown",
      "source": [
        "Polyhedra in RDF^2"
      ],
      "metadata": {
        "id": "E7AZ8Xczc3D_"
      }
    },
    {
      "cell_type": "markdown",
      "source": [
        "---"
      ],
      "metadata": {
        "id": "n-sR14sudG0q"
      }
    },
    {
      "cell_type": "markdown",
      "source": [
        "<div align=\"justify\">\n",
        "\n",
        "> El anillo base RDF debe utilizarse con precaución.  \n",
        "Al no ser un anillo exacto, ciertos cálculos pueden fallar o producir resultados incorrectos de forma silenciosa, especialmente al trabajar con poliedros no simpliciales.\n",
        "\n",
        "\n",
        "\n",
        "</div>"
      ],
      "metadata": {
        "id": "g2XRrKJMWPle"
      }
    },
    {
      "cell_type": "markdown",
      "source": [
        "---"
      ],
      "metadata": {
        "id": "lkjUT3G9dI2P"
      }
    },
    {
      "cell_type": "markdown",
      "source": [
        "**👨‍💻Implementación👩‍💻**"
      ],
      "metadata": {
        "id": "8eOUOxAcwxHw"
      }
    },
    {
      "cell_type": "code",
      "source": [
        "\n",
        "D = polytopes.dodecahedron()\n",
        "D"
      ],
      "metadata": {
        "id": "fC2vqF4NdQJB"
      },
      "execution_count": null,
      "outputs": []
    },
    {
      "cell_type": "markdown",
      "source": [
        "<div align=\"justify\">\n",
        "\n",
        "A 3-dimensional polyhedron in (Number Field in sqrt5 with defining polynomial x^2 - 5 with sqrt5 = 2.236067977499790?)^3 defined as the convex hull of 20 vertices\n",
        "\n",
        "</div>\n",
        "\n"
      ],
      "metadata": {
        "id": "DFyb6pcBeNjm"
      }
    },
    {
      "cell_type": "markdown",
      "source": [
        "**👨‍💻Implementación👩‍💻**"
      ],
      "metadata": {
        "id": "WvADhWRWwyCb"
      }
    },
    {
      "cell_type": "code",
      "source": [
        "\n",
        "vertices_RDF = [n(v.vector(),digits=6) for v in D.vertices()]\n",
        "D_RDF = Polyhedron(vertices=vertices_RDF, base_ring=RDF)"
      ],
      "metadata": {
        "id": "K34F8KWTdpkH"
      },
      "execution_count": null,
      "outputs": []
    },
    {
      "cell_type": "markdown",
      "source": [
        "<div align=\"justify\">\n",
        "\n",
        "UserWarning: This polyhedron data is numerically complicated; cdd\n",
        "could not convert between the inexact V and H representation\n",
        "without loss of data. The resulting object might show\n",
        "inconsistencies.\n",
        "\n",
        "</div>"
      ],
      "metadata": {
        "id": "R2ZyDIShey6I"
      }
    },
    {
      "cell_type": "markdown",
      "source": [
        "**👨‍💻Implementación👩‍💻**"
      ],
      "metadata": {
        "id": "B_HavgPgw0Hp"
      }
    },
    {
      "cell_type": "code",
      "source": [
        "\n",
        "D_RDF = Polyhedron(vertices=sorted(vertices_RDF), base_ring=RDF)"
      ],
      "metadata": {
        "id": "r5h8C4svdw88"
      },
      "execution_count": null,
      "outputs": []
    },
    {
      "cell_type": "markdown",
      "source": [
        "<div align=\"justify\">\n",
        "\n",
        "Traceback (most recent call last):\n",
        "\n",
        "ValueError: *Error: Numerical inconsistency is found.  Use the GMP exact arithmetic.\n",
        "\n",
        "</div>"
      ],
      "metadata": {
        "id": "77mQOk97e81Q"
      }
    },
    {
      "cell_type": "markdown",
      "source": [
        "---"
      ],
      "metadata": {
        "id": "Ndo6AO13fV7w"
      }
    },
    {
      "cell_type": "markdown",
      "source": [
        "<div align=\"justify\">\n",
        "\n",
        "Si la entrada del politopo consiste en números flotantes de Python, los datos se convierten automáticamente al anillo RDF.\n",
        "\n",
        "\n",
        "</div>"
      ],
      "metadata": {
        "id": "iyzGMiPoWQFp"
      }
    },
    {
      "cell_type": "markdown",
      "source": [
        "---"
      ],
      "metadata": {
        "id": "6fieeqGWfYuG"
      }
    },
    {
      "cell_type": "markdown",
      "source": [
        "**👨‍💻Implementación👩‍💻**"
      ],
      "metadata": {
        "id": "_64Tls9fw1AJ"
      }
    },
    {
      "cell_type": "code",
      "source": [
        "\n",
        "Polyhedron(vertices=[[float(1.1)]])"
      ],
      "metadata": {
        "id": "olH_jGhZfZ0i"
      },
      "execution_count": null,
      "outputs": []
    },
    {
      "cell_type": "markdown",
      "source": [
        "<center>\n",
        "\n",
        "![image.png](data:image/png;base64,iVBORw0KGgoAAAANSUhEUgAAAnYAAAHUCAIAAAA4CvLWAAAgAElEQVR4Ae3dC1xUdf7/8QMIA4JgXsEbVDoyaV6wLC01W28ZpmVp5oX6ZatWXtrKrHZla9V0y8tvw3Izxa1t190NLE2zfm2oPyW1FAtFlLSUVbqZnXAVlDh/fn0ffv9nB5hI5nsc+L547KM9c2bm+z2f5+fMec+cmXEMiz8EEEAAAQQQUCBgKBiTIRFAAAEEEEDAImLZCRBAAAEEEFAiQMQqYWVQBBBAAAEEiFj2AQQQQAABBJQIELFKWBkUAQQQQAABIpZ9AAEEEEAAASUCRKwSVgZFAAEEEECAiGUfQAABBBBAQIkAEauElUERQAABBBAgYv22D3z22WeGYeTk5FiWlZWVZRjGyZMn/Tb6zxkoNTW1a9euP+ceNb1tv379pk+fXtNb+7ydncvHDQ3DWLNmjY8b/ORVftzmynMpHbzydD+55vTp09ddd51hGIsWLfrJG9fkBunp6TExMT95y6KiogEDBjRs2FDcuPZds88YHx+/ePFi+xoVy/7dZhVbWMsxa9hKr1ns+BdAtHXr1s6dOzdo0GD48OFeI2tyUbuI3bZtW3Bw8ODBg300uLy8PDU1NS4uLjw8vF+/fnv37vVxY3mVPTNKS0uLiooqxpHXOrlQXFz8zTffqJjRj4li5/KxqRfwqPYazY/b7DWyZVknTpz4/vvvK6/3sSYlJcX48S8kJKRt27aTJ0/+9ttv5e3j4+PFteHh4fHx8Xfcccc///lPea1AEzcQ/x07dqy89ty5c0OHDu3YseMf/vCHsLCwP/3pT/Iqy7L27t172223ifFrnlg1PC7PnDmzU6dOBw8e/PLLLy3LKioqKikpsc9em2X7Ub4249jvW/lpaO33NPv4Abhcw1Z6bbkd/wKIevbsOW7cuMLCwsqvNzIyMgYNGtS0aVP5ysRran9drOGhxl/TeY2jXcTee++906dPj4yMPHLkiJeFvDh//vxGjRplZGTk5uaOHj06Li6uJofRi9tIufFKF/wYVzXkuoBHtZdAddtcWlrqdUtnLqakpAwZMqSoqKiwsPCdd95p3br1nXfeKaeOj49/+umni4qKjhw5snnz5vvuuy8oKGjOnDniBgLtvffeKzr/991334mrysvLx44d27VrVxFyb775ZmRk5Nq1a+XIO3fufOSRR/7617/Gxsb6PWJHjhw5YcIEOZd/F+xHeX+NTMTWUNKOfwEPxqZNm65cubLKuV555ZWnnnpq+fLlSiO2tLS0hoeaKjey9iv1ithTp041atQoPz9/9OjRTz31VJV85eXlsbGx8+fPF9eWlJTExMQsW7asyhvv2LGjW7duLperR48emZmZcl+xnygWTx7XrVvndrsjIiJGjhx56tSpVatWxcfHN27c+MEHHywrKxODl5aWPvroo61atWrYsGHPnj2zsrLEejHCxo0bExMTIyMjBw8efPz4cXFVVlbW1VdfLU7Q9e7d+/PPP69Ybz98/PDDDxX7cevWrcPCwrp27fr222+LO4rdLiMj44YbboiIiOjSpUt2dra46ptvvrnzzjtbt24dERHRuXPnv/zlL2J9xQnw6uJKzLhs2bI2bdpERETcfvvt8kmr7w3IyckpLy+//PLLn332WTlLbm5uUFDQp59+almWYRjLly8fMWJERERE+/bt33zzTXmzffv23XTTTZGRkS1atBg3btzXX38trjp16tT48eMjIyNjY2Ofe+45+zbHx8f/7ne/S0lJiY6OFpHw+uuvX3HFFWFhYfHx8c8995wcPD4+fu7cuffcc09UVFTbtm3/+Mc/yqvsC16D1+QuKSkp9pNmv/rVr5o0aSLHtB/RxMrZs2cHBwfn5+dbluXjYDF16tSePXvaXxC/++67TZs23bx5sxxcLFSewusG6enpbdu2jYiIGDFixHPPPWc/Ubx27dqkpCSXy3XppZf+9re/PXfunGVZ8pW3YRgpKSmia+L0vo/dzLKsbdu29enTJzw8vE2bNlOnTj116pTYki+//DI5OTk8PDwhIeHPf/5zdRu8c+fOAQMGNG3aNDo6um/fvrt27ZKFpKamtm3bNiwsLC4uburUqXK9WEhPT7efCUhPT7+wPc1r2K1bt/bt2zciIqJx48aDBg0SvSgpKZk6dWrz5s1dLtd11123c+dOcS9xiHjvvfd69OgRERHRq1cv0eL8/HzDMPbv3y8HX7hwYXx8vDglVuU+n5WVFRoaumXLFnGX5557rmnTpvIQIcfxcRix78aWZQ0fPlz0UTRXPiGrLmKrrFG0XjoLZLkxcsHHLm1Z1saNG10ulzyYVJw3mjp1at++fcXdq9t/vB7mchsMw+jXr5+478qVKxMTE10uV8eOHZcuXSpW3nPPPVdeeaU4AXP27NmkpKS77rpLbuqFLegVsStWrLjqqqssy1q3bl1CQkKVJ3IPHTpkGMbu3bsl6C233FLlM/RTp041b9589OjRe/fuXbdu3WWXXVZdxIaGhg4cOHD37t2bN29u2rTpoEGDRo0atW/fvnXr1oWFha1evVrMddddd/Xu3XvLli2ffvrps88+63K5Dh48WLGXp6enh4aGDhgw4MMPP9y1a5fH4xGNP3fuXExMzCOPPPLpp5/m5eWtWrVKvDS3R+yiRYuio6P/+te/5ufnz5w5MzQ0VIwp9uzExMS33nrrwIEDt99+e3x8vDhi/utf/3r22WdzcnIOHTr0hz/8ISQkZPv27WILvR6Kkig1NTUyMvLGG2/MycnZvHlz+/bt5a7pewPEW9dz58694oor5GgPPfSQfBQZhtGmTZu//OUvBQUF06ZNi4qKOnHihGVZx48fb9as2eOPP75///7du3cPHDiwf//+YoQpU6a0adPm3Xff/eSTT5KTk6OiouT7x/Hx8dHR0c8++2zBj38fffRRcHDw008/feDAgfT09IiICHkgiI+Pb9KkydKlSwsKCp555png4GD7UU9uqh2khnexR+yhQ4euuOKKli1bygErx8mJEyeCgoIWLFjgO2LlCD+5UHkK+122b98eFBT0zDPPHDhw4L//+78bN24sI3bjxo3R0dGrVq06dOjQu+++m5CQ8Nvf/tayrK+++mrIkCGjRo0qKioSr6rlsdjHbvbJJ59ERUUtXrz44MGD27Zt6969+9133y225KabburcuXN2dvZHH33Uu3fviIgIeZS3b+o///nPV199Ne/Hv3vvvbdly5bibNM//vGP6OjoDRs2HDlyZMeOHS+99JL9XpZlnT59+uGHH+7UqZM4F3D69GkRsT93T7MPm5OT43K5pkyZsmfPnr179z7//PPiOd+0adNatWq1YcOGffv2paSkXHLJJWIHFhF7zTXXbNq0ad++fX369Ondu7cYsEePHr/+9a/l4D169Hj88cd97/OPPvpofHz8d999t2fPHpfLlZmZKe8uF6o7jFR+6vxzI7bKGsvKyoqKiqKjo5csWVJUVCSQ5cbIBd8RW1ZW1rJly5dfflncXlwUz3d97D9eD/OdO3cahiHO/Qj8l156KS4uLiMj4/DhwxkZGU2aNFm1apVlWcXFxZdddtmMGTMsy3rsscfatWsnzxLJDf65C3pFbO/evZcsWWJZ1rlz55o1a/Y///M/lb22bdtmGMaxY8fkVffdd9+gQYPkRbnwxz/+sUmTJv/+97/FmhdffLG6iDUMQ7wmq3ibatKkSQ0bNiwuLhb3Gjx48KRJkyzL+vTTT4OCguzz/uIXvxAPLfGkW46wdOlScVA+ceKEYRibNm2SmyQW7BHbqlWruXPnyhtcffXV999/vzxYy3133759Xs+d5V2GDh368MMPi4v2RJE3qFhITU0NCQkpLCwUK99+++3g4OCioiLLsnxvgIjY48ePh4SE7Nixw7Kss2fPNm/eXOzx4sAnDzenTp0KCgoSL8R/85vf2JtSWFhoGMaBAweKi4vtz1pOnDgRERFhj9gRI0bILb/rrrsGDhwoLz766KMy6ePj48eNGyeuKi8vb9GixYsvvihvKRfsIDW8S0pKSkhISGRkZHh4uHh+bf9oUpX517JlyylTpsiuRURERJ7/sz8XlFvle6HKKeRdxowZM2TIEHlx9OjRMmL79Okzb948edWrr74aFxcnLtoPypVfxVa5m40fP/6Xv/ylHO1///d/g4ODz5w5c+DAAcMw5LO6/fv3G4ZRZcTK+1qWVVZW1qhRo3Xr1lmWtXDhQrfbffbsWfsNvJbtjxFxlWEYP2tP8xpwzJgx1113ndfKU6dOhYaGvvbaa2L92bNnK85R/f73v5efiHzvvffEVevXrzcM48yZM5ZlLVq06LLLLhPrhca+ffssy6pun7csq7S0tHv37qNGjerUqdPEiRO9NkNcrO4wUsuI9VGjZVkxMTHyaWuVW+U7Yi3LmjZt2o033iju+84774SFhYnTA9XtP+KVt/1hXnmKtm3b2k/O/e53v+vVq5eYIjs7OzQ09De/+U2DBg0qnwGqsgTfKzWK2Pz8/AYNGnzxxRdC5IEHHhgzZkxlHRGx9tMsEydOFB+PmjRp0vkjW6RlWTNmzJCvnCzL2rNnT3UR27BhQznR7Nmz5XHcsqwJEybceuutlmX9/e9/NwxDjh8ZGdmgQYNRo0aJV7H2ETIzM4OCgsSAd999t8vlSk5OXrJkidxmefgwTdMrg+U2i91Onrb69ttvDcMQu1RZWdmcOXOuvPLKJk2aiM244447xHT2RJEVVSykpqZeeumlcs13330n5v3JDRARa1nWLbfcIp5qZGZmNmrUSD5xMQzj73//uxw5OjpafIpn6NChoaGhdi7DMDZs2CC6YH+jvVu3bvaIle9rWpbVvXt38TpMjP/GG2+EhoaK8/bx8fHiUCiu6tKlS5XvLNhBaniXlJSUAQMGFBQUfPzxx1OnTh08eLA4eSAmqjL/WrRoYX9itHbtWvEqvKCg4AI+VVTlFFK4W7du9kqXLFkiI7Zhw4bh4eHSXDxFEJ3yHbFV7mbi/LwcrWHDhoZh5OXlvfHGGw0aNJDvnliWVfFKusqI/fLLLydNmtShQ4eKMxORkZFBQUHijN/Ro0fbtm3bpk2biRMnZmZm2nllmfIxItf83D1N3lEseDye2bNne638+OOPDcMQb9+Iq0aMGHHPPffIiP3qq6/E+t27dxuGIfZb8Yzzgw8+sCxr9uzZ3bp1E7epbp8X1+7bty8kJOSyyy6T59vFevnf9PT06g4j9t34554o9lGjXyJ2x44dwcHB4rXHhAkTZHZWt/+IiLU/zL0i9quvvjIMw/481eVytWjRQkI9/vjjFU93HnvsMbmmNgsaReyjjz5qGEbI+b/g4GCXy2V/70o4+jhR/OWXX8pDm2VZ06dPr2HEyoNUxRRej2152nD16tUhISH5+flyioKCAvFCULyJItu8Zs0aw/j/jdu9e/e8efN69eoVFRUlHpZyCpFw9udi06dPF08JvXa7kydPVrxRId79XbBgQdOmTV999dU9e/YUFBTcfPPN8r1Dr4ei3CSviJXzygV5y+o2YO3atTExMadPnx42bJj9abg85ShGkE+KhwwZctttt9mtCgoKTp06lZOTIw9V4i5eEWs/WHvFyZo1a+wRa79lxZegUlNTZRVywQ7iFV3V3UV2XAxyww03yBdP4uhgn9eyrG+++SYoKEi8V+3VNbkZP2vBazu97tu1a9fqIjY8PHzBggVe5j/88IPXQbnyq1j5RMq+myUmJk6dOtVrtNLS0jVr1jRo0EAMK7atuoi96aabrrrqqvXr1+/du7egoKBZs2aS7vTp02+++ebUqVNjY2N79epV+RWtfIzI8n/unibvKBaSkpIqR2zlJ3zDhw//r//6Lxmx8l1Gsd9+9tlnYrQBAwaIt5A7dOggPyJQ3T4v7rJ8+fKQkJDGjRsfPXrUa9vERR+Hkf79+0+bNk3ea+jQoTV/L9ZHjX6JWMuyOnTosHDhwtOnTzdq1Oj1118X21nd/lP5QeT1qPniiy8Mw/jzn/9s3/cOHz4shv3hhx/69u0bEhJy2223SZDaLPz/I3VtRgn8+547d65ly5YLFy7Mtf253e7nn3/ea+PFx53EW1/iDEx1H3cSJ4rlewzLli2r7lVsTSJWnBGSn1mwb5WPx4b9Ztdee614WNoPH5XP0z7wwAPylGOVx77k5GRxFKg4N/XDDz+43e6aRGxISIg8y71x40YfJ4qr3ICysrJWrVotXLiwQYMG8oNX9oO1qFRG7BNPPNGxY8fKL1CKi4tDQ0P/9re/idt/++23DRs2tL+KlUdhy7Iqnyju1KmTuKNXDlWXl7WP2KysrPDwcEnnNa84PRgSElJQUFC5a/bu13y58hT2+44ZM+amm26Sa+6880659/bu3VvuGPIGYsH3q9gqd7O77rpLngC0jyY+7yPeNbAsS1y0d03eOCoq6pVXXhEXjx49WuX5ZHF3+yehxO3nzp3buXNnOdQF7Gn2+1qWdffdd1d5ojgsLMx+orh169bi2ZL9E5EVz1G8IjY9Pb1FixbZ2dnBwcH/+te/xFzV7fPibaaoqKiVK1cOGTLkhhtusD9Bkdvp4zBS8dEQeaaqrKysXbt2NY/YU6dOVVejvyI2NTU1KSnpb3/7W0xMjDiXLh68Ve4/lSP22LFjhmF89NFHkqJ169ZPP/20vGhfmD9/fvPmzbdu3RoZGVndZ6Htt//JZV0ids2aNWFhYV7vXT/xxBPyJIxdav78+TExMZmZmbm5uWPGjKnuSzvFxcXNmjUbM2bMvn371q9f3759+9pErGVZY8eOTUhIEG/C79y5c/78+evXr6/YY6p7bBw+fHjWrFnZ2dmff/75O++806RJkxdeeKGiEHvELl68ODo6evXq1fn5+Y899pjXx52qPPbNmDGjbdu227Zty8vLmzhxYnR0dE0iNjIycsCAAXv27NmyZYvb7ZZfRKnhBlS8C/vEE09UvI2amJho70V1ry2OHTvWvHnz22+/fceOHYcOHXrnnXfuuececXZx8uTJ7dq1e++993Jzc2+55RavjzvZD9a7du2SH3datWqV18ed7LdUF7EVH77r0aOHeNohjg7iSztHjx6VX9qRn2/3ej5uh/rJ5dLS0pwf/+Li4h555JGcnBwR2153/OCDD8Snqw4cOPD88897fdypQYMGqampe/fuzcvLW7169ZNPPinufgER+/HHH0dERNx///05OTkHDx588803H3zwQTHakCFDunTpsn379o8++uj666+v7uNO3bp1GzhwYF5e3vbt2/v06SNvlp6e/vLLL+fm5h46dOjJJ5+MiIio/DXx1157LTIyMicn5+uvvxYn2y9gT7PTHThwICwsbMqUKR9//PH+/ftfeOEF8XGn6dOnt2rV6u2335YfdxJnznxHrGma4eHhXbt2/cUvfiFnqW6fLysr69Wrl3jVVVRU1KxZM/t7HPLu1R1GLMtatmxZw4YN33rrrf379//yl7+Mjo6uecSK83lV1ug7Yk+cOJGTkyPehF69enVOTo44aSc3WC4cPHjQMIwuXbrce++9cqWP/cfrSeS5c+ciIiLmzJnzxRdfiAhYvnx5xQe/lyxZcuDAgU8++WTlypULFy4UT3TCwsLEV91efvnlRo0aHTp0SM54YQu6RGxycvLQoUO9jHbt2mUYRuVnuOKfnoiNjXW5XH379s3NzfW6o7z4wQcfdO3aNSwsrFu3bhkZGbWM2LNnz86ePTshISE0NDQ2NvbWW2/95JNPfETsF198MWLEiLi4OPGdk9mzZ4tnr/aIld+ZCQ0NrfylnSojtmLXHz58eFRUVIsWLX79619PmDChJhHbtWvXF154oVWrVuHh4bfddps8A1/DDbAsS5yi9zo6VHfgq3gae/DgwVtvvbVx48YRERGJiYkzZswQHxEvLi4eN25cw4YNW7Zs+fvf/97HC03LssSXdkJDQ9u1a2f/4pDXo1RpxL722mthYWHi/J78AkxYWFi7du1GjRr1/vvvy/2tNhEr7lvlFxjk+GJhxYoV4stXw4YN8/rSzsaNG8VHfCs+stuzZ0/5Yd0LiFjLsnbu3Dlw4MCoqKjIyMguXbrIz+UVFRXdfPPNLperXbt2r7zyilcv5Nbu3r37qquucrlcHTp0+Mc//iFvtmbNmmuuuUa8QXvttdfKjxTJO1qWVVJSMnLkyMaNGxuGIb+0Y/93xOT5Eh97mn1Ay7I2bdrUu3dvl8vVuHHjwYMHi5PAZ86cmTp1arNmzar80k51J4oty7rjjjsMw/B6IVXlPv/UU0/FxcXJpxFvvPFGWFiYfGjLjfQRsWfPnp0yZUrFc/QWLVo888wz9m5K1cov9OXI1dXoO2K9vjpV8eZXle/FiFmuvvpqwzDsjwUf+499m8Xdly9f3rZt2+DgYPmlnddee61bt25hYWGXXHJJ3759MzMzz5w5c8UVV9g/gnfrrbf27t3b/rEAWXLNF3SJ2JqLcMsLELCH+gXcXdxl69at9s+jXfA43BEBBBAIEAEiNkAaUbc3o5YRW1JSUlBQ0L9/f/lt2rrNwdYjgAACPwoQsewIfhCoZcSmp6cHBwcnJSXJT3b4YZsYAgEEELjYAkTsxe4A8yOAAAII1FMBIraeNpayEEAAAQQutgARe7E7wPwIIIAAAvVUIKAjtry83DTNKv+x/nraDspCAAEEEKg/AgEdseKf3zNNs/54UwkCCCCAgDYCRKw2raZQBBBAAAFnBYhYZ72ZDQEEEEBAGwEiVptWUygCCCCAgLMCRKyz3syGAAIIIKCNgH8idvPmzcnJyXFxcV7/aLsX46ZNm5KSklwu16WXXvriiy96XVv5Ih93qmzCGgQQQACBuiLgn4jdsGHDk08+KX5qxv5rFXaFw4cPi1/uzMvLW758eWhoqPxxXfvN7MtErF2DZQQQQACBuiXgn4iVNft4FTtz5kz7T4FOmjTp2muvlXescoGIrZKFlQgggAACdULAuYjt06fPtGnTJEpmZmaDBg3Onj0r14iFkpIS8/xfYWGhYRh8L9aLiIsIIIAAAnVCwLmI7dChg/zJZcuytm3bZhjG8ePHvZhSU1PtvxpNxHr5cBEBBBBAoK4IOBqx8+bNky5bt241DKOoqEiuEQu8ivUC4SICCCCAQB0VcC5ia3ii2O7Ie7F2DZYRQAABBOqWgHMRO3PmTI/HI3UmT57Mx52kBgsIIIAAAvVPwD8RW1xcnPPjn2EYixYtysnJOXLkiGVZs2bNGj9+vFATX9p56KGH8vLyVqxYwZd26t/OREUIIIAAAnYB/0RsVlaW12eUUlJSLMtKSUnp16+fnG/Tpk3du3cPCwtLSEjgn56QLCwggAACCNRLAf9ErCIa3otVBMuwCCCAAAIOCBCxDiAzBQIIIICAjgJErI5dp2YEEEAAAQcEiFgHkJkCAQQQQEBHASJWx65TMwIIIICAAwJErAPITIEAAgggoKMAEatj16kZAQQQQMABASLWAWSmQAABBBDQUYCI1bHr1IwAAggg4IAAEesAMlMggAACCOgoQMTq2HVqRgABBBBwQICIdQCZKRBAAAEEdBQgYnXsOjUjgAACCDggQMQ6gMwUCCCAAAI6CgRoxKalpXk8HrfbbRiGaZo6doaaEUAAAQTquECARqxQ5cfs6vjexeYjgAACWgsQsVq3n+IRQAABBNQJELHqbBkZAQQQQEBrASJW6/ZTPAIIIICAOgEiVp0tIyOAAAIIaC1AxGrdfopHAAEEEFAnQMSqs2VkBBBAAAGtBYhYrdtP8QgggAAC6gSIWHW2jIwAAgggoLUAEat1+ykeAQQQQECdABGrzpaREUAAAQS0FiBitW4/xSOAAAIIqBMgYtXZMjICCCCAgNYCRKzW7ad4BBBAAAF1AkSsOltGRgABBBDQWoCI1br9FI8AAgggoE6AiFVny8gIIIAAAloLELFat5/iEUAAAQTUCRCx6mwZGQEEEEBAawEiVuv2UzwCCCCAgDqBAI3YtLQ0j8fjdrsNwzBNU139jIwAAggggIAigQCNWFGtaZpErKLGMywCCCCAgGoBIla1MOMjgAACCGgqQMRq2njKRgABBBBQLUDEqhZmfAQQQAABTQWIWE0bT9kIIIAAAqoFiFjVwoyPAAIIIKCpABGraeMpGwEEEEBAtQARq1qY8RFAAAEENBUgYjVtPGUjgAACCKgWIGJVCzM+AggggICmAkSspo2nbAQQQAAB1QJErGphxkcAAQQQ0FSAiNW08ZSNAAIIIKBagIhVLcz4CCCAAAKaChCxmjaeshFAAAEEVAsQsaqFGR8BBBBAQFMBIlbTxlM2AggggIBqASJWtTDjI4AAAghoKkDEatp4ykYAAQQQUC1AxKoWZnwEEEAAAU0FAjRi09LSPB6P2+02DMM0TU2bQ9kIIIAAAnVZIEAjVpCapknE1uW9i21HAAEEtBYgYrVuP8UjgAACCKgTIGLV2TIyAggggIDWAkSs1u2neAQQQAABdQJErDpbRkYAAQQQ0FqAiNW6/RSPAAIIIKBOgIhVZ8vICCCAAAJaCxCxWref4hFAAAEE1AkQsepsGRkBBBBAQGsBIlbr9lM8AggggIA6ASJWnS0jI4AAAghoLUDEat1+ikcAAQQQUCdAxKqzZWQEEEAAAa0FiFit20/xCCCAAALqBIhYdbaMjAACCCCgtQARq3X7KR4BBBBAQJ0AEavOlpERQAABBLQWIGK1bj/FI4AAAgioEyBi1dkyMgIIIICA1gIBGrFpaWkej8ftdhuGYZqm1i2ieAQQQACBuikQoBErME3TJGLr5n7FViOAAAIIWEQsOwECCCCAAAJKBIhYJawMigACCCCAABHLPoAAAggggIASASJWCSuDIoAAAgggQMSyDyCAAAIIIKBEgIhVwsqgCCCAAAIIELHsAwgggAACCCgRIGKVsDIoAggggAACRCz7AAIIIIAAAkoEiFglrAyKAAIIIIAAEcs+gCueU+UAABv3SURBVAACCCCAgBIBIlYJK4MigAACCCBAxLIPIIAAAgggoESAiFXCyqAIIIAAAggQsewDCCCAAAIIKBHwZ8QuXbo0ISHB5XIlJSVt2bKl8vZmZWUZ//m3f//+yjeTa/i9WEnBAgIIIIBAnRPwW8SuXr06NDR0+fLleXl506dPj4yMPHLkiBeHiNgDBw4Unf8rKyvzuo39IhFr12AZAQQQQKBuCfgtYnv27Dl58mRZfGJi4qxZs+RFsSAi9uTJk17rq7tIxFYnw3oEEEAAgcAX8E/ElpaWhoSEZGZmyoKnTZvWt29feVEsiIhNSEiIjY298cYb33//fa8bWJZVUlJinv8rLCw0DMM0zco3Yw0CCCCAAAIBLuCfiD127JhhGNu2bZPVzp071+12y4tiIT8//6WXXtq1a1d2dvaUKVOCgoI2b97sdZvU1NT/fLuWiPUS4iICCCCAQN0Q8GfEZmdny6LnzJnTsWNHebHKheTk5GHDhnldxatYLxAuIoAAAgjUUQH/RGwNTxR7Gc2ZMycxMdFrpf0i78XaNVhGAAEEEKhbAv6JWMuyevbsOWXKFFm8x+Op/HEnea1YGDlyZP/+/b1W2i8SsXYNlhFAAAEE6paA3yJWfGlnxYoVeXl5M2bMiIyM/Pzzzys+vjRr1qzx48cLlMWLF69Zs+bgwYN79+6dNWuWYRgZGRk+vIhYHzhchQACCCAQ4AJ+i1jLspYuXRofHx8WFpaUlCQ/x5SSktKvXz+hsGDBgssvvzw8PPySSy65/vrr169f71uHiPXtw7UIIIAAAoEs4M+I9XudRKzfSRkQAQQQQMAxASLWMWomQgABBBDQS4CI1avfVIsAAggg4JgAEesYNRMhgAACCOglQMTq1W+qRQABBBBwTICIdYyaiRBAAAEE9BIgYvXqN9UigAACCDgmQMQ6Rs1ECCCAAAJ6CRCxevWbahFAAAEEHBMgYh2jZiIEEEAAAb0EiFi9+k21CCCAAAKOCRCxjlEzEQIIIICAXgJErF79ploEEEAAAccEiFjHqJkIAQQQQEAvASJWr35TLQIIIICAYwIBGrFpaWkej8ftdhuGYZqmYxxMhAACCCCAgL8EAjRiRXn8Xqy/2sw4CCCAAALOCxCxzpszIwIIIICAFgJErBZtpkgEEEAAAecFiFjnzZkRAQQQQEALASJWizZTJAIIIICA8wJErPPmzIgAAgggoIUAEatFmykSAQQQQMB5ASLWeXNmRAABBBDQQoCI1aLNFIkAAggg4LwAEeu8OTMigAACCGghQMRq0WaKRAABBBBwXoCIdd6cGRFAAAEEtBAgYrVoM0UigAACCDgvQMQ6b86MCCCAAAJaCBCxWrSZIhFAAAEEnBcgYp03Z0YEEEAAAS0EiFgt2kyRCCCAAALOCxCxzpszIwIIIICAFgJErBZtpkgEEEAAAecFAjRi09LSPB6P2+02DMM0TeddmBEBBBBAAIFaCgRoxIqqTNMkYmvZYO6OAAIIIHCxBIjYiyXPvAgggAAC9VyAiK3nDaY8BBBAAIGLJUDEXix55kUAAQQQqOcCRGw9bzDlIYAAAghcLAEi9mLJMy8CCCCAQD0XIGLreYMpDwEEEEDgYgkQsRdLnnkRQAABBOq5ABFbzxtMeQgggAACF0uAiL1Y8syLAAIIIFDPBYjYet5gykMAAQQQuFgCROzFkmdeBBBAAIF6LkDE1vMGUx4CCCCAwMUSIGIvljzzIoAAAgjUcwEitp43mPIQQAABBC6WABF7seSZFwEEEECgngsQsfW8wZSHAAIIIHCxBIjYiyXPvAgggAAC9VyAiK3nDaY8BBBAAIGLJUDEXix55kUAAQQQqOcCARqxaWlpHo/H7XYbhmGaZj1vAuUhgAACCNRHgQCNWEFtmiYRWx/3OmpCAAEEtBAgYrVoM0UigAACCDgvQMQ6b86MCCCAAAJaCBCxWrSZIhFAAAEEnBcgYp03Z0YEEEAAAS0EiFgt2kyRCCCAAALOCxCxzpszIwIIIICAFgJErBZtpkgEEEAAAecFiFjnzZkRAQQQQEALASJWizZTJAIIIICA8wJErPPmzIgAAgggoIUAEatFmykSAQQQQMB5ASLWeXNmRAABBBDQQoCI1aLNFIkAAggg4LwAEeu8OTMigAACCGghQMRq0WaKRAABBBBwXoCIdd6cGRFAAAEEtBAgYrVoM0UigAACCDgvQMQ6b86MCCCAAAJaCARoxKalpXk8HrfbbRiGaZpatIIiEUAAAQTql0CARqxANk2TiK1f+xvVIIAAAhoJELEaNZtSEUAAAQScFCBindRmLgQQQAABjQSIWI2aTakIIIAAAk4KELFOajMXAggggIBGAkSsRs2mVAQQQAABJwWIWCe1mQsBBBBAQCMBIlajZlMqAggggICTAkSsk9rMhQACCCCgkQARq1GzKRUBBBBAwEkBItZJbeZCAAEEENBIgIjVqNmUigACCCDgpAAR66Q2cyGAAAIIaCRAxGrUbEpFAAEEEHBSgIh1Upu5EEAAAQQ0EiBiNWo2pSKAAAIIOCngz4hdunRpQkKCy+VKSkrasmVLlWVs2rQpKSnJ5XJdeumlL774YpW3kSv5vVhJwQICCCCAQJ0T8FvErl69OjQ0dPny5Xl5edOnT4+MjDxy5IgXx+HDhxs2bDh9+vS8vLzly5eHhoa+/vrrXrexXyRi7RosI6BI4N9n/11eXq5ocIZFQGcBv0Vsz549J0+eLCkTExNnzZolL4qFmTNnJiYmypWTJk269tpr5cXKC0RsZRPWIOBHgdKy0uS/JBu/NVotbLX7+G4/jsxQCCBgWZZ/Ira0tDQkJCQzM1OaTps2rW/fvvKiWOjTp8+0adPkyszMzAYNGpw9e1ausSyrpKTEPP9XWFhoGIZpmvYbVLlcXl5+/k78PwII1FRg4fsLjVmG+F/PtJ41vRu3QwABm4CPk0D+idhjx44ZhrFt2zaZf3PnznW73fKiWOjQocPcuXPlym3bthmGcfz4cbmmYiE1NdX4z7+aRKx4vfuf9+MSAggggAACygV8hJQ/IzY7O1uG5Zw5czp27CgvioUOHTrMmzdPrty6dathGEVFRXKN0lexbrfb9rTDD4v+HdC/o5mm6ccBxemEwsJCP6idH8KPm+ffYsUG+nfz/LuFfmzHwWMH2z7T9v9exT5mvJz98vnm1Pb/A1nPv70wTdOP7ZDu/gX072h+B/Tv5vm9HTXZPOWvYv14otget/59L9bj8dgHr/2yfwf072iWZflxQP82Qsj7cfP8W6yKzfPvFvq3HSfPnHzn03cu63lZ7R8RcgT/Nte/en4fzb/tULH70Q65Z17AQi31/PMq1rKsnj17TpkyRRbg8Xiq/LiTfXMnT57s5Med0tLS5Ob5ZcG/A/p3NMuy/DigioOIHzfPv8WKfcO/m+ffLaQdtXz8+re5tKN+t6OWe4vfIlZ8aWfFihV5eXkzZsyIjIz8/PPPK078zpo1a/z48aIH4ks7Dz30UF5e3ooVK/jSTi13TcfuruIg4tjG17+JaEdA9ZR20A4fAn6LWMuyli5dGh8fHxYWlpSUtHnzZjFrSkpKv3795BZs2rSpe/fuYWFhCQkJ/NMTkiXAF0pKSlJTUyv+G+Dbqcnm0Y6AajTtoB0+BPwZsT6mubCreHp4YW7cCwEEEEAgEASI2EDoAtuAAAIIIFAPBYjYethUSkIAAQQQCAQBIjYQusA2IIAAAgjUQwEith42lZIQQAABBAJBgIgNhC6wDQgggAAC9VCAiK2HTa1NST/5o79ZWVle/+Ln/v37azMj961OYPPmzcnJyXFxcYZhrFmzprqb/azfYK5uENb7FqhJL3ho+Db047Xz5s276qqroqKimjdvPnz48Pz8/OoGv+iPDiK2utbouL4mP/orjiMHDhwoOv9XVlamI5b6mjds2PDkk09mZGT4iNif+xvM6re6fs5Qk17w0HCs94MHD05PT9+7d++ePXtuvvnmdu3anTp1qvLsgfDoIGIr90XfNTX50V9xHDl58qS+TI5X7iNif+5vMDu+7fVtQh+94KFxUZr91VdfGYYh/7Ej+zYEwqODiLV3ROvlGv6WgziOJCQkxMbG3njjje+//77Wao4U7+OwXpPfYHZkG3WZxEcveGhclJ2goKDAMIzc3NzKswfCo4OIrdwXTdfU8Ed/8/PzX3rppV27dmVnZ0+ZMiUoKKjK54+aIqop28dhvSa/waxmozQd1UcveGg4v0+Ul5cPGzbs+uuvr3LqQHh0ELFVtkbHlSJif/JHf71okpOThw0b5rWSi/4V8HFYr8lvMPt3YzQfzUcvvGR4aHiBqLh4//33x8fHFxYWVjl4IDw6iNgqW6PjyhqeKPaimTNnTmJiotdKLvpXwMdhPRBOhfm32AAfzUcvvLach4YXiN8vPvjgg23atDl8+HB1IwfCo4OIra47Oq6vyY/+ermMHDmyf//+Xiu56F8BH4f1mTNn/qzfYPbvhmk4mo9eeGnw0PAC8ePF8vLyBx54oFWrVgcPHvQxbCA8OohYHw3S7qqa/Ojv4sWL16xZc/Dgwb17986aNcswjIyMDO2kHCm4uLg458c/wzAWLVqUk5Nz5MiRWv4GsyMbXg8nqUkveGg41vgpU6bExMRs2rTp/DcHi06fPi1mr80vlKvY/gCN2LS0NI/H43a7DcMwTVNF5YxZpcBP/ujvggULLr/88vDw8EsuueT6669fv359leOwsvYC4hOq9n/oIyUlxbKs2vwGc+23Ss8RatILHhqO7Rv2B4VYTk9PF7MH2qMjQCNWYPF7sY7tskyEAAIIIOB3ASLW76QMiAACCCCAwP8JELHsBwgggAACCCgRIGKVsDIoAggggAACRCz7AAIIIIAAAkoEiFglrAyKAAIIIIAAEcs+gAACCCCAgBIBIlYJK4MigAACCCBAxLIPIIAAAgggoESAiFXCyqAIIIAAAggQsewDCCCAAAIIKBEgYpWwMigCCCCAAAJELPsAAggggAACSgSIWCWsDIoAAggggAARyz6AAAIIIICAEgEiVgkrgyKAAAIIIEDEsg8ggAACCCCgRICIVcLKoAgggAACCBCx7AMIIIAAAggoEQjQiE1LS/N4PG632zAM0zSVlM6gCCCAAAIIqBQI0IgVJZumScSq7D5jI4AAAggoFCBiFeIyNAIIIICAzgJErM7dp3YEEEAAAYUCRKxCXIZGAAEEENBZgIjVufvUjgACCCCgUICIVYjL0AgggAACOgsQsTp3n9oRQAABBBQKELEKcRkaAQQQQEBnASJW5+5TOwIIIICAQgEiViEuQyOAAAII6CxAxOrcfWpHAAEEEFAoQMQqxGVoBBBAAAGdBYhYnbtP7QgggAACCgWIWIW4DI0AAgggoLMAEatz96kdAQQQQEChABGrEJehEUAAAQR0FiBide4+tSOAAAIIKBQgYhXiMjQCCCCAgM4CRKzO3ad2BBBAAAGFAkSsQlyGRgABBBDQWSBAIzYtLc3j8bjdbsMwTNPUuUPUjgACCCBQRwUCNGKFpmmaRGwd3bHYbAQQQAABIpZ9AAEEEEAAASUCRKwSVgZFAAEEEECAiGUfQAABBBBAQIkAEauElUERQAABBBAgYtkHEEAAAQQQUCJAxCphZVAEEEAAAQSIWPYBBBBAAAEElAgQsUpYGRQBBBBAAAEiln0AAQQQQAABJQJErBJWBkUAAQQQQICIZR9AAAEEEEBAiQARq4SVQRFAAAEEECBi2QcQQAABBBBQIkDEKmFlUAQQQAABBIhY9gEEEEAAAQSUCBCxSlgZFAEEEEAAASKWfQABBBBAAAElAkSsElYGRQABBBBAgIhlH0AAAQQQQECJQIBGbFpamsfjcbvdhmGYpqmkdAZFAAEEEEBApUCARqwo2TRNIlZl9xkbAQQQQEChABGrEJehEUAAAQR0FiBide4+tSOAAAIIKBQgYhXiMjQCCCCAgM4CRKzO3ad2BBBAAAGFAkSsQlyGRgABBBDQWYCI1bn71I4AAgggoFCAiFWIy9AIIIAAAjoLELE6d5/aEUAAAQQUChCxCnEZGgEEEEBAZwEiVufuUzsCCCCAgEIBIlYhLkMjgAACCOgsQMTq3H1qRwABBBBQKEDEKsRlaAQQQAABnQWIWJ27T+0IIIAAAgoFiFiFuAyNAAIIIKCzgH8i9ttvvx03blz0j3/jxo07efJklaYpKSmG7e+aa66p8mZyJb8XKylYQAABBBCocwL+idghQ4Z07tw5+8e/zp07JycnVwmRkpIyZMiQovN/J06cqPJmciURKylYQAABBBCocwJ+iNi8vDzDMLZv3y6K/+CDDwzDyM/Pr2yRkpIyfPjwyuvta0pKSszzf4WFhYZhmKZpvwHLCCCAAAII1AkBP0TsihUrYmJi7NXGxMSsXLnSvkYsp6SkxMTENG/evEOHDhMnTvzyyy8r3yY1NdV2Lvn/FonYykqsQQABBBAIfAE/ROzcuXM7dOhgL7VDhw7z5s2zrxHLq1evfuutt3Jzc9euXdu1a9dOnTqVlJR43YxXsV4gXEQAAQQQqKMCNYrYyq8s5QvNDz/8cO7cuW63215/+/btn3nmGfuaysvHjx8PDQ3NyMiofJVcw3uxkoIFBBBAAIE6J1CjiP3666/3V/N35syZmp8o9tJp3779/PnzvVbaLxKxdg2WEUAAAQTqlkCNItZ3SeLjTjt27BA32759e3Ufd7KP880337hcrj/96U/2lV7LRKwXCBcRQAABBOqQgB8i1rKsIUOGdOnS5YMf/6688kr7l3Y6duyYmZlpWVZxcfHDDz+cnZ392WefZWVl9erVq3Xr1t9//70PLCLWBw5XIYAAAggEuIB/IvbEiRNjx45t9OPf2LFj7f/0hGEY6enplmWdPn160KBBzZs3Dw0NbdeuXUpKytGjR33rELG+fbgWAQQQQCCQBfwTsYoqJGIVwTIsAggggIADAkSsA8hMgQACCCCgowARq2PXqRkBBBBAwAEBItYBZKZAAAEEENBRgIjVsevUjAACCCDggAAR6wAyUyCAAAII6ChAxOrYdWpGAAEEEHBAgIh1AJkpEEAAAQR0FCBidew6NSOAAAIIOCBAxDqAzBQIIIAAAjoKELE6dp2aEUAAAQQcECBiHUBmCgQQQAABHQWIWB27Ts0IIIAAAg4IELEOIDMFAggggICOAgEasWlpaR6Px+12G4ZhmqaOnaFmBBBAAIE6LhCgEStU+TG7Or53sfkIIICA1gJErNbtp3gEEEAAAXUCRKw6W0ZGAAEEENBagIjVuv0UjwACCCCgToCIVWfLyAgggAACWgsQsVq3n+IRQAABBNQJELHqbBkZAQQQQEBrASJW6/ZTPAIIIICAOgEiVp0tIyOAAAIIaC1AxGrdfopHAAEEEFAnQMSqs2VkBBBAAAGtBYhYrdtP8QgggAAC6gSIWHW2jIwAAgggoLUAEat1+ykeAQQQQECdABGrzpaREUAAAQS0FiBitW4/xSOAAAIIqBMgYtXZMjICCCCAgNYCRKzW7ad4BBBAAAF1AkSsOltGRgABBBDQWoCI1br9FI8AAgggoE4gQCM2LS3N4/G43W7DMEzTVFc/IyOAAAIIIKBIIEAjVlRrmiYRq6jxDIsAAgggoFqAiFUtzPgIIIAAApoKELGaNp6yEUAAAQRUCxCxqoUZHwEEEEBAUwEiVtPGUzYCCCCAgGoBIla1MOMjgAACCGgqQMRq2njKRgABBBBQLUDEqhZmfAQQQAABTQWIWE0bT9kIIIAAAqoFiFjVwoyPAAIIIKCpABGraeMpGwEEEEBAtQARq1qY8RFAAAEENBUgYjVtPGUjgAACCKgWIGJVCzM+AggggICmAkSspo2nbAQQQAAB1QJErGphxkcAAQQQ0FSAiNW08ZSNAAIIIKBagIhVLcz4CCCAAAKaChCxmjaeshFAAAEEVAsEaMSmpaV5PB63220YhmmaqhUYHwEEEEAAAb8LBGjEijpN0yRi/d5yBkQAAQQQcEaAiHXGmVkQQAABBLQTIGK1azkFI4AAAgg4I0DEOuPMLAgggAAC2gkQsdq1nIIRQAABBJwRIGKdcWYWBBBAAAHtBIhY7VpOwQgggAACzggQsc44MwsCCCCAgHYCRKx2LadgBBBAAAFnBIhYZ5yZBQEEEEBAOwEiVruWUzACCCCAgDMCRKwzzsyCAAIIIKCdABGrXcspGAEEEEDAGQEi1hlnZkEAAQQQ0E6AiNWu5RSMAAIIIOCMABHrjDOzIIAAAghoJ0DEatdyCkYAAQQQcEaAiHXGmVkQQAABBLQTIGK1azkFI4AAAgg4I0DEOuPMLAgggAAC2gkEaMSmpaV5PB63220Yhmma2rWFghFAAAEE6r5AgEasgDVNk4it+/sYFSCAAAKaChCxmjaeshFAAAEEVAsQsaqFGR8BBBBAQFMBIlbTxlM2AggggIBqASJWtTDjI4AAAghoKkDEatp4ykYAAQQQUC1AxKoWZnwEEEAAAU0FiFhNG0/ZCCCAAAKqBYhY1cKMjwACCCCgqQARq2njKRsBBBBAQLUAEatamPERQAABBDQVIGI1bTxlI4AAAgioFiBiVQszPgIIIICApgJErKaNp2wEEEAAAdUCRKxqYcZHAAEEENBUgIjVtPGUjQACCCCgWsA/ETtnzpxevXpFRETExMT42OLy8vLU1NS4uLjw8PB+/frt3bvXx40ty+L3Yn37cC0CCCCAQCAL+CdiZ8+evWjRol/96le+I3b+/PmNGjXKyMjIzc0dPXp0XFzc999/70OHiPWBw1UIIIAAAgEu4J+IFUWmp6f7iNjy8vLY2Nj58+eLG5eUlMTExCxbtswHEBHrA4erEEAAAQQCXMC5iD106JBhGLt375Yit9xyy4QJE+RFsVBSUmKe/yssLDQMwzRNr9twEQEEEEAAgcAXcC5it23bZhjGsWPHJMp99903aNAgeVEspKamGv/5R8R6EXERAQQQQKBOCNQoYivHngzBDz/8UNbp+0SxiNjjx4/L20+cOHHw4MHyoljgVawXCBcRQAABBOqoQI0i9uuvv95fzd+ZM2dk5b4jtoYniuVofKLYTsEyAggggECdE6hRxNawKt8RKz7utGDBAjFaaWkpH3eqISw3QwABBBCoiwL+idgjR47k5OQ89dRTUVFROT/+FRcXC46OHTtmZmaK5fnz58fExGRmZubm5o4ZM4Yv7dTFPYZtRgABBBCooYB/IjYlJUW+OysWsrKyxBYYhpGeni6WxT89ERsb63K5+vbtm5ub63sr+dKObx+uRQABBBAIZAH/RKyiColYRbAMiwACCCDggAAR6wAyUyCAAAII6ChAxOrYdWpGAAEEEHBAIKAjtry83DTNindwHYBgCgQQQAABBPwrENAR699SGQ0BBBBAAAEnBYhYJ7WZCwEEEEBAIwEiVqNmUyoCCCCAgJMCRKyT2syFAAIIIKCRABGrUbMpFQEEEEDASQEi1klt5kIAAQQQ0EiAiNWo2ZSKAAIIIOCkABHrpDZzIYAAAghoJPD/AJ4OWUoammEyAAAAAElFTkSuQmCC)\n",
        "\n",
        "</center>"
      ],
      "metadata": {
        "id": "iRHsUOHifhI6"
      }
    },
    {
      "cell_type": "markdown",
      "source": [
        "---"
      ],
      "metadata": {
        "id": "PWh7pX76fxwh"
      }
    },
    {
      "cell_type": "markdown",
      "source": [
        "<div align=\"justify\">\n",
        "\n",
        "También es posible definir un politopo sobre el cuerpo de los números algebraicos.\n",
        "\n",
        "\n",
        "</div>"
      ],
      "metadata": {
        "id": "2_9AlxD1WQd9"
      }
    },
    {
      "cell_type": "markdown",
      "source": [
        "---"
      ],
      "metadata": {
        "id": "AIOE5lW5fynv"
      }
    },
    {
      "cell_type": "markdown",
      "source": [
        "**👨‍💻Implementación👩‍💻**"
      ],
      "metadata": {
        "id": "q2qQi_tRw130"
      }
    },
    {
      "cell_type": "code",
      "source": [
        "\n",
        "sqrt_2 = AA(2)^(1/2)\n",
        "cbrt_2 = AA(2)^(1/3)\n",
        "timeit('Polyhedron(vertices=[[sqrt_2, 0], [0, cbrt_2]])')"
      ],
      "metadata": {
        "id": "GnivOY_dfgjV"
      },
      "execution_count": null,
      "outputs": []
    },
    {
      "cell_type": "markdown",
      "source": [
        "5 loops, best of 3: 43.2 ms per loop"
      ],
      "metadata": {
        "id": "uFVVkgj4gWXf"
      }
    },
    {
      "cell_type": "markdown",
      "source": [
        "**👨‍💻Implementación👩‍💻**"
      ],
      "metadata": {
        "id": "aMFmH-YHw2ko"
      }
    },
    {
      "cell_type": "code",
      "source": [
        "\n",
        "P4 = Polyhedron(vertices=[[sqrt_2, 0], [0, cbrt_2]]); P4"
      ],
      "metadata": {
        "id": "TH3yWs6fgGZ9"
      },
      "execution_count": null,
      "outputs": []
    },
    {
      "cell_type": "markdown",
      "source": [
        "<center>\n",
        "\n",
        "![image.png](data:image/png;base64,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)\n",
        "\n",
        "</center>"
      ],
      "metadata": {
        "id": "wSSJiTlGgIUd"
      }
    },
    {
      "cell_type": "markdown",
      "source": [
        "---"
      ],
      "metadata": {
        "id": "BnmOTdg5gvS4"
      }
    },
    {
      "cell_type": "markdown",
      "source": [
        "<div align=\"justify\">\n",
        "\n",
        "Existe otra manera de construir un politopo sobre el cuerpo de los números algebraicos:\n",
        "\n",
        "\n",
        "</div>"
      ],
      "metadata": {
        "id": "YSq05WdLWRBH"
      }
    },
    {
      "cell_type": "markdown",
      "source": [
        "---"
      ],
      "metadata": {
        "id": "dRh7g1IOgxAx"
      }
    },
    {
      "cell_type": "markdown",
      "source": [
        "**👨‍💻Implementación👩‍💻**"
      ],
      "metadata": {
        "id": "U5ulzQMZw3bU"
      }
    },
    {
      "cell_type": "code",
      "source": [
        "\n",
        "K.<a> = NumberField(x^2 - 2, embedding=AA(2)**(1/2))\n",
        "L.<b> = NumberField(x^3 - 2, embedding=AA(2)**(1/3))\n",
        "timeit('Polyhedron(vertices=[[a, 0], [0, b]])')"
      ],
      "metadata": {
        "id": "lF4dRpP4g0th"
      },
      "execution_count": null,
      "outputs": []
    },
    {
      "cell_type": "markdown",
      "source": [
        "5 loops, best of 3: 11.6 ms per loop"
      ],
      "metadata": {
        "id": "S9XrBbAsg8dZ"
      }
    },
    {
      "cell_type": "markdown",
      "source": [
        "**👨‍💻Implementación👩‍💻**"
      ],
      "metadata": {
        "id": "OIr6KmCcw4Q-"
      }
    },
    {
      "cell_type": "code",
      "source": [
        "\n",
        "P5 = Polyhedron(vertices=[[a, 0], [0, b]]); P5"
      ],
      "metadata": {
        "id": "M-TXEA5bg8z5"
      },
      "execution_count": null,
      "outputs": []
    },
    {
      "cell_type": "markdown",
      "source": [
        "<center>\n",
        "\n",
        "![image.png](data:image/png;base64,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)\n",
        "\n",
        "</center>"
      ],
      "metadata": {
        "id": "HdO3f3bxhTp2"
      }
    },
    {
      "cell_type": "markdown",
      "source": [
        "---"
      ],
      "metadata": {
        "id": "YXuy0L5yh0oK"
      }
    },
    {
      "cell_type": "markdown",
      "source": [
        "<div align=\"justify\">\n",
        "\n",
        "Si se conoce el anillo base, puede ser una buena opción utilizar la función composite_fields() del módulo sage.rings.number_field.number_field.\n",
        "\n",
        "\n",
        "\n",
        "</div>"
      ],
      "metadata": {
        "id": "iMnACEBLf417"
      }
    },
    {
      "cell_type": "markdown",
      "source": [
        "---"
      ],
      "metadata": {
        "id": "ZAWZD6Bah3Cx"
      }
    },
    {
      "cell_type": "markdown",
      "source": [
        "**👨‍💻Implementación👩‍💻**"
      ],
      "metadata": {
        "id": "ZhXaUwKdw5K5"
      }
    },
    {
      "cell_type": "code",
      "source": [
        "\n",
        "J = K.composite_fields(L)[0]\n",
        "timeit('Polyhedron(vertices=[[J(a), 0], [0, J(b)]])')"
      ],
      "metadata": {
        "id": "jnL_5CP-h9KD"
      },
      "execution_count": null,
      "outputs": []
    },
    {
      "cell_type": "markdown",
      "source": [
        "25 loops, best of 3: 9.8 ms per loop"
      ],
      "metadata": {
        "id": "4N-bXgZiiFZF"
      }
    },
    {
      "cell_type": "markdown",
      "source": [
        "**👨‍💻Implementación👩‍💻**"
      ],
      "metadata": {
        "id": "Dxt_9dVvw5yM"
      }
    },
    {
      "cell_type": "code",
      "source": [
        "\n",
        "P5_comp = Polyhedron(vertices=[[J(a), 0], [0, J(b)]]); P5_comp"
      ],
      "metadata": {
        "id": "BTiUkoheiIFG"
      },
      "execution_count": null,
      "outputs": []
    },
    {
      "cell_type": "markdown",
      "source": [
        "<center>\n",
        "\n",
        "![image.png](data:image/png;base64,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)\n",
        "\n",
        "</center>"
      ],
      "metadata": {
        "id": "j9fQ7s2si3yx"
      }
    },
    {
      "cell_type": "markdown",
      "source": [
        "---"
      ],
      "metadata": {
        "id": "M4j9tPfjjDtb"
      }
    },
    {
      "cell_type": "markdown",
      "source": [
        "<div align=\"justify\">\n",
        "\n",
        "Los cálculos poliedrales con el anillo simbólico no están implementados.  \n",
        "No es posible definir un politopo sobre dicho anillo.\n",
        "\n",
        "\n",
        "</div>"
      ],
      "metadata": {
        "id": "DhhDVqC8f5bE"
      }
    },
    {
      "cell_type": "markdown",
      "source": [
        "---"
      ],
      "metadata": {
        "id": "uKRRRZhjjFGv"
      }
    },
    {
      "cell_type": "markdown",
      "source": [
        "**👨‍💻Implementación👩‍💻**"
      ],
      "metadata": {
        "id": "sFuc1rYVw65_"
      }
    },
    {
      "cell_type": "code",
      "source": [
        "\n",
        "sqrt_2s = sqrt(2)\n",
        "cbrt_2s = 2^(1/3)\n",
        "Polyhedron(vertices=[[sqrt_2s, 0], [0, cbrt_2s]])"
      ],
      "metadata": {
        "id": "ncgxBxj2jLKL"
      },
      "execution_count": null,
      "outputs": []
    },
    {
      "cell_type": "markdown",
      "source": [
        "Traceback (most recent call last):\n",
        "\n",
        "ValueError: no default backend for computations with Symbolic Ring"
      ],
      "metadata": {
        "id": "d9smmz_HjYHy"
      }
    },
    {
      "cell_type": "markdown",
      "source": [
        "---"
      ],
      "metadata": {
        "id": "CWwkd6bjjhHl"
      }
    },
    {
      "cell_type": "markdown",
      "source": [
        "<div align=\"justify\">\n",
        "\n",
        "De manera similar, no es posible crear objetos poliedros sobre el anillo RR, independientemente de la cantidad de bits de precisión utilizada.\n",
        "\n",
        "\n",
        "</div>"
      ],
      "metadata": {
        "id": "mO-7eqLuf50g"
      }
    },
    {
      "cell_type": "markdown",
      "source": [
        "---"
      ],
      "metadata": {
        "id": "osoY65HLji_Z"
      }
    },
    {
      "cell_type": "markdown",
      "source": [
        "**👨‍💻Implementación👩‍💻**"
      ],
      "metadata": {
        "id": "lxgRHJYnw7yR"
      }
    },
    {
      "cell_type": "code",
      "source": [
        "\n",
        "F45 = RealField(45)\n",
        "F100 = RealField(100)\n",
        "f = 1.1\n",
        "Polyhedron(vertices=[[F45(f)]])"
      ],
      "metadata": {
        "id": "1ok1CKygjzZc"
      },
      "execution_count": null,
      "outputs": []
    },
    {
      "cell_type": "markdown",
      "source": [
        "Traceback (most recent call last):\n",
        "\n",
        "ValueError: the only allowed inexact ring is 'RDF' with backend 'cdd'"
      ],
      "metadata": {
        "id": "2TZQj0RNj4if"
      }
    },
    {
      "cell_type": "markdown",
      "source": [
        "**👨‍💻Implementación👩‍💻**"
      ],
      "metadata": {
        "id": "dPStXdLow8ZM"
      }
    },
    {
      "cell_type": "code",
      "source": [
        "\n",
        "Polyhedron(vertices=[[F100(f)]])"
      ],
      "metadata": {
        "id": "a4waq-Ddj4Dz"
      },
      "execution_count": null,
      "outputs": []
    },
    {
      "cell_type": "markdown",
      "source": [
        "Traceback (most recent call last):\n",
        "\n",
        "ValueError: the only allowed inexact ring is 'RDF' with backend 'cdd'"
      ],
      "metadata": {
        "id": "3aOf7Hi0j-vJ"
      }
    },
    {
      "cell_type": "markdown",
      "source": [
        "### **H - Representación**"
      ],
      "metadata": {
        "id": "4rN8yDSikLFf"
      }
    },
    {
      "cell_type": "markdown",
      "source": [
        "<center>"
      ],
      "metadata": {
        "id": "JRiwIIg_kY0-"
      }
    },
    {
      "cell_type": "markdown",
      "source": [
        "---"
      ],
      "metadata": {
        "id": "6OH-i6IXk6ZA"
      }
    },
    {
      "cell_type": "markdown",
      "source": [
        "<div align=\"justify\">\n",
        "\n",
        "Si un objeto politopo ha sido construido mediante una representación-$\\mathbf{H}$, Sage puede proporcionar su correspondiente representación-$\\mathbf{V}$.\n",
        "\n",
        "\n",
        "</div>"
      ],
      "metadata": {
        "id": "dgaeh67Yf6No"
      }
    },
    {
      "cell_type": "markdown",
      "source": [
        "---"
      ],
      "metadata": {
        "id": "I49VtsNwk7Uc"
      }
    },
    {
      "cell_type": "markdown",
      "source": [
        "**👨‍💻Implementación👩‍💻**"
      ],
      "metadata": {
        "id": "280oH9qvw9vn"
      }
    },
    {
      "cell_type": "code",
      "source": [
        "\n",
        "for h in P1.Hrepresentation():\n",
        "    print(h)"
      ],
      "metadata": {
        "id": "enBcuhREkmXV"
      },
      "execution_count": null,
      "outputs": []
    },
    {
      "cell_type": "markdown",
      "source": [
        "An inequality (1, 1) x - 1 >= 0\n",
        "\n",
        "An inequality (1, -1) x + 1 >= 0\n",
        "\n",
        "An inequality (-1, 1) x + 1 >= 0"
      ],
      "metadata": {
        "id": "igxicVr7k2GK"
      }
    },
    {
      "cell_type": "markdown",
      "source": [
        "---"
      ],
      "metadata": {
        "id": "g59M8vx5lGgd"
      }
    },
    {
      "cell_type": "markdown",
      "source": [
        "<div align=\"justify\">\n",
        "\n",
        "Cada línea corresponde a una fila de la matriz $A$ y a una entrada del vector $b$.  \n",
        "La variable $x$ es un vector en el espacio ambiente en el que está definido $P_1$.  \n",
        "La representación-$\\mathbf{H}$ puede incluir ecuaciones:\n",
        "\n",
        "\n",
        "\n",
        "</div>"
      ],
      "metadata": {
        "id": "Lx6Dc1M5jlqd"
      }
    },
    {
      "cell_type": "markdown",
      "source": [
        "---"
      ],
      "metadata": {
        "id": "MysEJAYMlHSL"
      }
    },
    {
      "cell_type": "markdown",
      "source": [
        "**👨‍💻Implementación👩‍💻**"
      ],
      "metadata": {
        "id": "urZkJmq4w-w0"
      }
    },
    {
      "cell_type": "code",
      "source": [
        "\n",
        "P3.Hrepresentation()"
      ],
      "metadata": {
        "id": "8K03YtZflNFa"
      },
      "execution_count": null,
      "outputs": []
    },
    {
      "cell_type": "markdown",
      "source": [
        "(An inequality (-2.0, 0.0) x + 1.0 >= 0,\n",
        "\n",
        " An inequality (1.0, 0.0) x + 0.0 >= 0,\n",
        "\n",
        " An equation (1.0, 1.0) x - 0.5 == 0)"
      ],
      "metadata": {
        "id": "s7IZyI4LlWv0"
      }
    },
    {
      "cell_type": "markdown",
      "source": [
        "---"
      ],
      "metadata": {
        "id": "ofdEAa-dljDx"
      }
    },
    {
      "cell_type": "markdown",
      "source": [
        "<div align=\"justify\">\n",
        "\n",
        "La construcción de un objeto politopo mediante su representación-$\\mathbf{H}$ requiere un formato específico. Cada desigualdad $(a_{i1}, \\dots, a_{id}) \\cdot x + b_i \\geq 0$ debe escribirse como  `[b_i, a_i1, ..., a_id]`.\n",
        "\n",
        "\n",
        "</div>"
      ],
      "metadata": {
        "id": "5j8gKCjBjmP5"
      }
    },
    {
      "cell_type": "markdown",
      "source": [
        "---"
      ],
      "metadata": {
        "id": "F50YiwXPlkgA"
      }
    },
    {
      "cell_type": "markdown",
      "source": [
        "**👨‍💻Implementación👩‍💻**"
      ],
      "metadata": {
        "id": "BVvEkG7Lw_vX"
      }
    },
    {
      "cell_type": "code",
      "source": [
        "\n",
        "P3_H = Polyhedron(ieqs = [[1.0, -2, 0], [0, 1, 0]], eqns = [[-0.5, 1, 1]])\n",
        "P3 == P3_H\n"
      ],
      "metadata": {
        "id": "h0AkQNGvlzh7"
      },
      "execution_count": null,
      "outputs": []
    },
    {
      "cell_type": "markdown",
      "source": [
        "True"
      ],
      "metadata": {
        "id": "4mK9OcTgl5bs"
      }
    },
    {
      "cell_type": "markdown",
      "source": [
        "**👨‍💻Implementación👩‍💻**"
      ],
      "metadata": {
        "id": "TgU5CnBgxAl8"
      }
    },
    {
      "cell_type": "code",
      "source": [
        "\n",
        "P3_H.Vrepresentation()"
      ],
      "metadata": {
        "id": "LtLy2xfJl33x"
      },
      "execution_count": null,
      "outputs": []
    },
    {
      "cell_type": "markdown",
      "source": [
        "(A vertex at (0.0, 0.5), A vertex at (0.5, 0.0))"
      ],
      "metadata": {
        "id": "n-CFKMLLl-WU"
      }
    },
    {
      "cell_type": "markdown",
      "source": [
        "---"
      ],
      "metadata": {
        "id": "R5TMNTucmPEk"
      }
    },
    {
      "cell_type": "markdown",
      "source": [
        "<div align=\"justify\">\n",
        "\n",
        "Vale la pena utilizar el parámetro `eqns` para simplificar la construcción del objeto.  \n",
        "En el siguiente ejemplo, las primeras cuatro filas son el negativo del segundo grupo de cuatro filas.\n",
        "\n",
        "\n",
        "</div>"
      ],
      "metadata": {
        "id": "N3O47-nhjmon"
      }
    },
    {
      "cell_type": "markdown",
      "source": [
        "---"
      ],
      "metadata": {
        "id": "ZmN5BkphmQUw"
      }
    },
    {
      "cell_type": "markdown",
      "source": [
        "**👨‍💻Implementación👩‍💻**"
      ],
      "metadata": {
        "id": "d3hmtrrWxBPb"
      }
    },
    {
      "cell_type": "code",
      "source": [
        "\n",
        "H = [[0, 0, 0, 0, 0, 0, 0, 0, 1],\n",
        " [0, 0, 0, 0, 0, 0, 1, 0, 0],\n",
        " [-2, 1, 1, 1, 1, 1, 0, 0, 0],\n",
        " [0, 0, 0, 0, 0, 0, 0, 1, 0],\n",
        " [0, 0, 0, 0, 0, 0, 0, 0, -1],\n",
        " [0, 0, 0, 0, 0, 0, -1, 0, 0],\n",
        " [2, -1, -1, -1, -1, -1, 0, 0, 0],\n",
        " [0, 0, 0, 0, 0, 0, 0, -1, 0],\n",
        " [2, -1, -1, -1, -1, 0, 0, 0, 0],\n",
        " [0, 0, 0, 0, 1, 0, 0, 0, 0],\n",
        " [0, 0, 0, 1, 0, 0, 0, 0, 0],\n",
        " [0, 0, 1, 0, 0, 0, 0, 0, 0],\n",
        " [-1, 1, 1, 1, 1, 0, 0, 0, 0],\n",
        " [1, 0, 0, -1, 0, 0, 0, 0, 0],\n",
        " [0, 1, 0, 0, 0, 0, 0, 0, 0],\n",
        " [1, 0, 0, 0, -1, 0, 0, 0, 0],\n",
        " [1, 0, -1, 0, 0, 0, 0, 0, 0],\n",
        " [1, -1, 0, 0, 0, 0, 0, 0, 0]]\n",
        "timeit('Polyhedron(ieqs = H)')"
      ],
      "metadata": {
        "id": "cEVbGIVamToM"
      },
      "execution_count": null,
      "outputs": []
    },
    {
      "cell_type": "markdown",
      "source": [
        "125 loops, best of 3: 5.99 ms per loop"
      ],
      "metadata": {
        "id": "sxdAxy4_mf8h"
      }
    },
    {
      "cell_type": "markdown",
      "source": [
        "**👨‍💻Implementación👩‍💻**"
      ],
      "metadata": {
        "id": "kW9_j3ULxCEl"
      }
    },
    {
      "cell_type": "code",
      "source": [
        "\n",
        "timeit('Polyhedron(ieqs = H[8:], eqns = H[:4])')"
      ],
      "metadata": {
        "id": "eQkxDzVnma2T"
      },
      "execution_count": null,
      "outputs": []
    },
    {
      "cell_type": "markdown",
      "source": [
        "timeit('Polyhedron(ieqs = H[8:], eqns = H[:4])')"
      ],
      "metadata": {
        "id": "kyeJWx8emkZW"
      }
    },
    {
      "cell_type": "markdown",
      "source": [
        "**👨‍💻Implementación👩‍💻**"
      ],
      "metadata": {
        "id": "Wm0H9AbdxDwc"
      }
    },
    {
      "cell_type": "code",
      "source": [
        "\n",
        "Polyhedron(ieqs = H) == Polyhedron(ieqs = H[8:], eqns = H[:4])"
      ],
      "metadata": {
        "id": "aXcWwabOmeCW"
      },
      "execution_count": null,
      "outputs": []
    },
    {
      "cell_type": "markdown",
      "source": [
        "True"
      ],
      "metadata": {
        "id": "sCtgPcE6moij"
      }
    },
    {
      "cell_type": "markdown",
      "source": [
        "### **Métodos para los poliedros**"
      ],
      "metadata": {
        "id": "TZRQpGfYp3ss"
      }
    },
    {
      "cell_type": "markdown",
      "source": [
        "<center>"
      ],
      "metadata": {
        "id": "5v7cAeMhp7Wd"
      }
    },
    {
      "cell_type": "markdown",
      "source": [
        "---"
      ],
      "metadata": {
        "id": "9bXY0wsYp9My"
      }
    },
    {
      "cell_type": "markdown",
      "source": [
        "<div align=\"justify\">\n",
        "\n",
        "H y V - Representación\n",
        "\n",
        "</div>"
      ],
      "metadata": {
        "id": "dujG9kazjm9t"
      }
    },
    {
      "cell_type": "markdown",
      "source": [
        "---"
      ],
      "metadata": {
        "id": "nyLEzrwMp-oN"
      }
    },
    {
      "cell_type": "markdown",
      "source": [
        "<center>\n",
        "\n",
        "| Método                         | Descripción                                                                 |\n",
        "|-------------------------------|-----------------------------------------------------------------------------|\n",
        "| `base_ring()`                 | Anillo sobre el cual está definido el politopo                            |\n",
        "| `ambient_space()`             | Espacio vectorial ambiente o módulo libre                                  |\n",
        "| `Hrepresentation_space()`     | Espacio vectorial o módulo libre usado para los vectores de la representación-$\\mathbf{H}$ |\n",
        "| `Vrepresentation_space()`     | Espacio vectorial o módulo libre usado para los vectores de la representación-$\\mathbf{V}$ |\n",
        "| `n_Hrepresentation()`         | Número de elementos en la representación-$\\mathbf{H}$ (suma de ecuaciones e inecuaciones) |\n",
        "| `n_Vrepresentation()`         | Número de elementos en la representación-$\\mathbf{V}$ (suma de vértices, rayos y líneas) |\n",
        "| `n_equations()`               | Número de ecuaciones                                                       |\n",
        "| `n_inequalities()`            | Número de inecuaciones                                                     |\n",
        "| `n_vertices()`                | Número de vértices                                                         |\n",
        "| `n_rays()`                    | Número de rayos                                                            |\n",
        "| `n_lines()`                   | Número de líneas                                                           |\n",
        "| `n_facets()`                  | Número de facetas                                                          |\n",
        "\n",
        "\n",
        "</center>"
      ],
      "metadata": {
        "id": "crvdu4e-qLLZ"
      }
    },
    {
      "cell_type": "markdown",
      "source": [
        "---"
      ],
      "metadata": {
        "id": "rGicIueGqgIb"
      }
    },
    {
      "cell_type": "markdown",
      "source": [
        "<div align=\"justify\">\n",
        "\n",
        "Propiedades booleanas de los poliedros\n",
        "\n",
        "</div>"
      ],
      "metadata": {
        "id": "34yrMf_tjnTg"
      }
    },
    {
      "cell_type": "markdown",
      "source": [
        "---"
      ],
      "metadata": {
        "id": "aCXyxkWdqhXb"
      }
    },
    {
      "cell_type": "markdown",
      "source": [
        "<center>\n",
        "\n",
        "| Método                        | Descripción                                                                 |\n",
        "|------------------------------|-----------------------------------------------------------------------------|\n",
        "| `is_empty()`                 | Verifica si el politopo está vacío                                          |\n",
        "| `is_universe()`             | Verifica si el politopo coincide con todo el espacio ambiente               |\n",
        "| `is_full_dimensional()`     | Verifica si el politopo tiene la misma dimensión que el espacio ambiente    |\n",
        "| `is_combinatorially_isomorphic()` | Verifica si dos politopos son isomorfos combinatoriamente         |\n",
        "| `is_compact()`              | Verifica la compacidad o acotación del politopo                             |\n",
        "| `is_lattice_polytope()`     | Verifica si el politopo es un politopo de retículo                          |\n",
        "| `is_inscribed()`            | Verifica si el politopo está inscrito en una esfera                         |\n",
        "| `is_minkowski_summand()`    | Verifica si el politopo puede usarse como sumando de Minkowski              |\n",
        "| `is_neighborly()`           | Verifica si el politopo tiene esqueleto completo hasta la mitad de la dimensión |\n",
        "| `is_reflexive()`            | Verifica si el dual de un politopo de retículo también es de retículo (solo para `Polyhedron` sobre $\\mathbb{Z}$) |\n",
        "| `is_simple()`               | Verifica si el grado de cada vértice coincide con la dimensión del politopo  |\n",
        "| `is_simplex()`              | Verifica si el politopo es un simplex                                       |\n",
        "| `is_simplicial()`           | Verifica si todas las caras del politopo son símplices                      |\n",
        "| `is_lawrence_polytope()`    | Verifica si el politopo es un politopo de Lawrence                          |\n",
        "| `is_self_dual()`            | Verifica si el politopo es autodual                                         |\n",
        "| `is_pyramid()`              | Verifica si el politopo es una pirámide sobre una de sus facetas            |\n",
        "| `is_bipyramid()`            | Verifica si el politopo es combinatoriamente equivalente a una bipirámide   |\n",
        "| `is_prism()`                | Verifica si el politopo es combinatoriamente equivalente a un prisma        |\n",
        "\n",
        "\n",
        "\n",
        "\n",
        "</center>"
      ],
      "metadata": {
        "id": "6nUuSFuxrMR9"
      }
    },
    {
      "cell_type": "markdown",
      "source": [
        "---"
      ],
      "metadata": {
        "id": "cRnKxdb0rjyY"
      }
    },
    {
      "cell_type": "markdown",
      "source": [
        "<div align=\"justify\">\n",
        "\n",
        "Propiedades enumerativas\n",
        "\n",
        "</div>"
      ],
      "metadata": {
        "id": "i6G825yrjnpR"
      }
    },
    {
      "cell_type": "markdown",
      "source": [
        "---"
      ],
      "metadata": {
        "id": "QRs1BTbUrlSb"
      }
    },
    {
      "cell_type": "markdown",
      "source": [
        "<center>\n",
        "\n",
        "| Método                 | Descripción                                                                 |\n",
        "|------------------------|-----------------------------------------------------------------------------|\n",
        "| `ambient_dim()`        | Dimensión del espacio vectorial ambiente                                   |\n",
        "| `dim()`                | Dimensión del politopo                                                     |\n",
        "| `dimension()`          | Sinónimo de `dim()`                                                        |\n",
        "| `f_vector()`           | Vector-$f$ (número de caras por dimensión)                                 |\n",
        "| `flag_f_vector()`      | Vector-$f$ de banderas (número de cadenas de caras)                        |\n",
        "| `neighborliness()`     | Mayor cardinalidad tal que todos los subconjuntos de $k$ vértices son caras del politopo |\n",
        "| `simpliciality()`      | Mayor $k$ tal que todas las $k$-caras son símplices                        |\n",
        "| `simplicity()`         | Mayor $k$ tal que el dual es $k$-simplicial                                |\n",
        "\n",
        "\n",
        "\n",
        "</center>"
      ],
      "metadata": {
        "id": "4zLjQnoKro4H"
      }
    },
    {
      "cell_type": "markdown",
      "source": [
        "---"
      ],
      "metadata": {
        "id": "HTL10QEQr5S4"
      }
    },
    {
      "cell_type": "markdown",
      "source": [
        "<div align=\"justify\">\n",
        "\n",
        "Propiedades de aplicación\n",
        "\n",
        "</div>"
      ],
      "metadata": {
        "id": "T_0Xz1NvjoOB"
      }
    },
    {
      "cell_type": "markdown",
      "source": [
        "---"
      ],
      "metadata": {
        "id": "RC227dBLr6pE"
      }
    },
    {
      "cell_type": "markdown",
      "source": [
        "<center>\n",
        "\n",
        "| Método           | Descripción                                  |\n",
        "|------------------|----------------------------------------------|\n",
        "| `backend()`      | Indica el motor (backend) utilizado          |\n",
        "| `base_ring()`    | Devuelve el anillo base utilizado            |\n",
        "| `change_ring()`  | Cambia el anillo base                        |\n",
        "\n",
        "\n",
        "</center>"
      ],
      "metadata": {
        "id": "V9Q_IWVdsAHA"
      }
    },
    {
      "cell_type": "markdown",
      "source": [
        "<div align=\"justify\">\n",
        "\n",
        "\n",
        "\n",
        "</div>"
      ],
      "metadata": {
        "id": "K54flSEtjonb"
      }
    },
    {
      "cell_type": "markdown",
      "source": [
        "---"
      ],
      "metadata": {
        "id": "wokz2FrasKcH"
      }
    },
    {
      "cell_type": "markdown",
      "source": [
        "<div align=\"justify\">\n",
        "\n",
        "Transformación de poliedros\n",
        "\n",
        "</div>"
      ],
      "metadata": {
        "id": "1NeFltRpjpDw"
      }
    },
    {
      "cell_type": "markdown",
      "source": [
        "---"
      ],
      "metadata": {
        "id": "8nFWr89msLnN"
      }
    },
    {
      "cell_type": "markdown",
      "source": [
        "<center>\n",
        "\n",
        "| Método                        | Descripción                                                                 |\n",
        "|------------------------------|-----------------------------------------------------------------------------|\n",
        "| `minkowski_sum()`            | Suma de Minkowski de dos politopos                                          |\n",
        "| `minkowski_difference()`     | Diferencia de Minkowski entre dos politopos                                 |\n",
        "| `minkowski_decompositions()` | Descomposición de Minkowski (solo para politopos sobre $\\mathbb{Z}$)        |\n",
        "| `product()`                  | Producto cartesiano de dos politopos                                        |\n",
        "| `intersection()`             | Intersección de dos politopos                                               |\n",
        "| `join()`                     | Unión combinatoria de dos politopos                                         |\n",
        "| `convex_hull()`              | Envolvente convexo de la unión de dos politopos                             |\n",
        "| `affine_hull_projection()`   | Construye un politopo afínmente equivalente de dimensión completa           |\n",
        "| `barycentric_subdivision()`  | Construye una realización geométrica de la subdivisión baricéntrica         |\n",
        "| `dilation()`                 | Dilitación escalar (ampliación o contracción)                               |\n",
        "| `face_truncation()`          | Trunca una cara específica del politopo                                     |\n",
        "| `face_split()`               | Devuelve la partición de una cara del politopo                              |\n",
        "| `one_point_suspension()`     | Suspensión en un punto sobre un vértice (división de vértice)              |\n",
        "| `stack()`                    | Apila una cara del politopo                                                 |\n",
        "| `lattice_polytope()`         | Devuelve un politopo de retículo que lo contiene                            |\n",
        "| `polar()`                    | Devuelve el dual polar de un politopo (debe ser compacto)                   |\n",
        "| `prism()`                    | Prisma sobre un politopo (aumenta su dimensión y la del espacio ambiente)   |\n",
        "| `pyramid()`                  | Pirámide sobre un politopo (aumenta su dimensión y la del espacio ambiente) |\n",
        "| `bipyramid()`                | Bipirámide sobre un politopo (aumenta su dimensión y la del ambiente)       |\n",
        "| `translation()`              | Realiza una traslación por un vector dado                                   |\n",
        "| `truncation()`               | Trunca simultáneamente todos los vértices                                   |\n",
        "| `lawrence_extension()`       | Devuelve la extensión de Lawrence sobre un punto dado                       |\n",
        "| `lawrence_polytope()`        | Devuelve el politopo de Lawrence correspondiente                            |\n",
        "| `wedge()`                    | Devuelve el politopo cuña (wedge) sobre una cara                            |\n",
        "\n",
        "\n",
        "</center>"
      ],
      "metadata": {
        "id": "bNFHgYqJsRg2"
      }
    },
    {
      "cell_type": "markdown",
      "source": [
        "---"
      ],
      "metadata": {
        "id": "ZMlqE1BEs2tn"
      }
    },
    {
      "cell_type": "markdown",
      "source": [
        "<div align=\"justify\">\n",
        "\n",
        "Combinatoria\n",
        "\n",
        "</div>"
      ],
      "metadata": {
        "id": "U8rtGmtOjpZ1"
      }
    },
    {
      "cell_type": "markdown",
      "source": [
        "---"
      ],
      "metadata": {
        "id": "Dv4OmtZSs38u"
      }
    },
    {
      "cell_type": "markdown",
      "source": [
        "<center>\n",
        "\n",
        "| Método                                 | Descripción                                                     |\n",
        "|----------------------------------------|-----------------------------------------------------------------|\n",
        "| `combinatorial_polyhedron()`           | El politopo combinatorio                                        |\n",
        "| `face_lattice()`                       | Retículo de caras                                               |\n",
        "| `hasse_diagram()`                      | Diagrama de Hasse                                               |\n",
        "| `combinatorial_automorphism_group()`   | Grupo de automorfismos del politopo combinatorio subyacente     |\n",
        "| `graph()`, `vertex_graph()`            | Grafo subyacente                                                |\n",
        "| `vertex_digraph()`                     | Digráfo (orientación de aristas determinada por una forma lineal) |\n",
        "| `vertex_facet_graph()`                 | Digráfo bipartito con la adyacencia vértice-faceta              |\n",
        "| `adjacency_matrix()`                   | Matriz de adyacencia                                            |\n",
        "| `incidence_matrix()`                   | Matriz de incidencia                                            |\n",
        "| `slack_matrix()`                       | Matriz de holgura (slack)                                       |\n",
        "| `facet_adjacency_matrix()`            | Matriz de adyacencia entre facetas                              |\n",
        "| `vertex_adjacency_matrix()`           | Matriz de adyacencia entre vértices                             |\n",
        "\n",
        "\n",
        "</center>"
      ],
      "metadata": {
        "id": "HwWqJdHms5Nm"
      }
    },
    {
      "cell_type": "markdown",
      "source": [
        "---"
      ],
      "metadata": {
        "id": "7fArTu_wtHRl"
      }
    },
    {
      "cell_type": "markdown",
      "source": [
        "<div align=\"justify\">\n",
        "\n",
        "Puntos enteros\n",
        "\n",
        "</div>"
      ],
      "metadata": {
        "id": "WnxXyU-mf6rg"
      }
    },
    {
      "cell_type": "markdown",
      "source": [
        "---"
      ],
      "metadata": {
        "id": "aAkvrbLbtIi8"
      }
    },
    {
      "cell_type": "markdown",
      "source": [
        "<center>\n",
        "\n",
        "| Método                        | Descripción                                                                 |\n",
        "|------------------------------|-----------------------------------------------------------------------------|\n",
        "| `ehrhart_polynomial()`       | Polinomio de Ehrhart para politopos sobre $\\mathbb{Z}$                      |\n",
        "| `ehrhart_polynomial()`       | Polinomio de Ehrhart para politopos sobre $\\mathbb{Q}$                      |\n",
        "| `ehrhart_quasipolynomial()`  | Cuasipolinomio de Ehrhart para politopos sobre $\\mathbb{Q}$                 |\n",
        "| `h_star_vector()`            | Vector $h^*$ para politopos con vértices integrales                         |\n",
        "| `integral_points()`          | Lista de puntos con coordenadas enteras dentro del politopo                |\n",
        "| `integral_points_count()`    | Número de puntos enteros en el politopo                                     |\n",
        "| `get_integral_point()`       | Obtiene el $i$-ésimo punto entero sin calcular todos los puntos interiores |\n",
        "| `has_IP_property()`          | Verifica si el origen es un punto interior y si el politopo es compacto (solo para politopos sobre $\\mathbb{Z}$) |\n",
        "| `random_integral_point()`    | Genera un punto entero aleatorio dentro del politopo                        |\n",
        "\n",
        "\n",
        "</center>"
      ],
      "metadata": {
        "id": "aFG_URBDtQrM"
      }
    },
    {
      "cell_type": "markdown",
      "source": [
        "<div align=\"justify\">\n",
        "\n",
        "\n",
        "\n",
        "</div>"
      ],
      "metadata": {
        "id": "XAhMOmaWjtOh"
      }
    },
    {
      "cell_type": "markdown",
      "source": [
        "---"
      ],
      "metadata": {
        "id": "9Yf0F98GtihF"
      }
    },
    {
      "cell_type": "markdown",
      "source": [
        "<div align=\"justify\">\n",
        "\n",
        "Obtener objetos geométricos relacionados\n",
        "\n",
        "</div>"
      ],
      "metadata": {
        "id": "a_Vf9ovtjtrz"
      }
    },
    {
      "cell_type": "markdown",
      "source": [
        "---"
      ],
      "metadata": {
        "id": "dTsZ9uWFtjw9"
      }
    },
    {
      "cell_type": "markdown",
      "source": [
        "<center>\n",
        "\n",
        "| Método                                 | Descripción                                                                 |\n",
        "|----------------------------------------|-----------------------------------------------------------------------------|\n",
        "| `affine_hull()`                        | Devuelve el subespacio afín más pequeño que contiene al politopo           |\n",
        "| `boundary_complex()`                   | Devuelve el complejo de frontera de un politopo compacto y simplicial       |\n",
        "| `center()`                             | Devuelve el promedio de los vértices del politopo                           |\n",
        "| `centroid()`                           | Devuelve el centro de masa del politopo                                     |\n",
        "| `representative_point()`               | Devuelve la suma del centro y los rayos                                     |\n",
        "| `a_maximal_chain()`                    | Devuelve una cadena maximal de caras                                        |\n",
        "| `face_fan()`                           | Devuelve el abanico generado por las caras del politopo                     |\n",
        "| `face_generator()`                     | Generador sobre las caras del politopo                                      |\n",
        "| `faces()`                              | Lista de todas las caras                                                    |\n",
        "| `facets()`                             | Lista de todas las facetas                                                  |\n",
        "| `join_of_Vrep()`                       | Cara más pequeña que contiene los representantes-$\\mathbf{V}$ especificados |\n",
        "| `least_common_superface_of_Vrep()`     | Sinónimo de `join_of_Vrep()`                                                |\n",
        "| `meet_of_Hrep()`                       | Cara más grande contenida en los representantes-$\\mathbf{H}$ especificados  |\n",
        "| `greatest_common_subface_of_Hrep()`    | Sinónimo de `meet_of_Hrep()`                                                |\n",
        "| `normal_fan()`                         | Devuelve el abanico generado por los normales de los hiperplanos soporte    |\n",
        "| `gale_transform()`                     | Devuelve la transformada de Gale (afín) de los vértices del politopo        |\n",
        "| `hyperplane_arrangement()`             | Devuelve el arreglo de hiperplanos definido por las facetas del politopo    |\n",
        "| `to_linear_program()`                  | Transforma el politopo en un problema de programación lineal                |\n",
        "| `triangulate()`                        | Devuelve una triangulación del politopo                                     |\n",
        "| `fibration_generator()`                | Devuelve un iterador de las fibraciones del politopo de retículo (solo sobre $\\mathbb{Z}$) |\n",
        "\n",
        "\n",
        "</center>"
      ],
      "metadata": {
        "id": "2jzqFh3BtqJ_"
      }
    },
    {
      "cell_type": "markdown",
      "source": [
        "---"
      ],
      "metadata": {
        "id": "Z4hqewCJuLzv"
      }
    },
    {
      "cell_type": "markdown",
      "source": [
        "<div align=\"justify\">\n",
        "\n",
        "Otros\n",
        "\n",
        "</div>"
      ],
      "metadata": {
        "id": "zFQiaQ7HjuFR"
      }
    },
    {
      "cell_type": "markdown",
      "source": [
        "---"
      ],
      "metadata": {
        "id": "quxkIN9AuceY"
      }
    },
    {
      "cell_type": "markdown",
      "source": [
        "<center>\n",
        "\n",
        "| Método                          | Descripción                                                                 |\n",
        "|---------------------------------|-----------------------------------------------------------------------------|\n",
        "| `bounded_edges()`              | Generador de aristas acotadas                                               |\n",
        "| `bounding_box()`               | Devuelve los vértices de un cubo que encierra al politopo                   |\n",
        "| `contains()`                   | Verifica si el politopo contiene un vector                                  |\n",
        "| `interior_contains()`         | Verifica si el politopo contiene un vector en su interior (topología ambiente) |\n",
        "| `relative_interior_contains()`| Verifica si el politopo contiene un vector en su interior relativo          |\n",
        "| `find_translation()`          | Devuelve el vector de traslación entre dos politopos (solo para politopos sobre $\\mathbb{Z}$) |\n",
        "| `integrate()`                 | Calcula la integral de un polinomio sobre el politopo                       |\n",
        "| `radius()`                    | Devuelve el radio de la esfera mínima que contiene al politopo              |\n",
        "| `radius_square()`             | Devuelve el cuadrado del radio de la esfera mínima que contiene al politopo |\n",
        "| `volume()`                    | Calcula diferentes volúmenes del politopo                                   |\n",
        "| `restricted_automorphism_group()` | Devuelve el grupo de automorfismos restringido                           |\n",
        "| `lattice_automorphism_group()`    | Devuelve el grupo de automorfismos del retículo (solo para *PPL Lattice Polytope*) |\n",
        "\n",
        "\n",
        "</center>"
      ],
      "metadata": {
        "id": "D41lO6jIuh-u"
      }
    },
    {
      "cell_type": "markdown",
      "source": [
        "<div align=\"justify\">\n",
        "\n",
        "\n",
        "\n",
        "</div>"
      ],
      "metadata": {
        "id": "WZVJM1yLjvtM"
      }
    },
    {
      "cell_type": "markdown",
      "source": [
        "# **Referencias Bibliográficas**"
      ],
      "metadata": {
        "id": "ChSa0tr5jvZm"
      }
    },
    {
      "cell_type": "markdown",
      "source": [
        "**Referencias Bibliográficas**\n",
        "\n",
        "- Beck, M., & Robins, S. (2015). *Computing the Continuous Discretely* (2nd ed.). Springer. Undergraduate Texts in Mathematics. https://link.springer.com/book/10.1007/978-1-4939-2969-6"
      ],
      "metadata": {
        "id": "kM9ZKr-Aju4w"
      }
    }
  ]
}